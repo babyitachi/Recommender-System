{
  "cells": [
    {
      "cell_type": "markdown",
      "metadata": {
        "id": "dwLEKz-vvp93"
      },
      "source": [
        "#**Init**"
      ]
    },
    {
      "cell_type": "code",
      "execution_count": 1,
      "metadata": {
        "id": "BuznYKmIUyQD"
      },
      "outputs": [],
      "source": [
        "# get plot summary from OMDb api\n",
        "# tf-idf glove plot vector\n",
        "# get trailer from youtube using pytube\n",
        "# rnn-lstm architecture"
      ]
    },
    {
      "cell_type": "code",
      "execution_count": 2,
      "metadata": {
        "colab": {
          "base_uri": "https://localhost:8080/"
        },
        "id": "ls8912qIU2sS",
        "outputId": "4e25a4e8-1beb-474d-ef7c-9259507556bf"
      },
      "outputs": [
        {
          "output_type": "stream",
          "name": "stdout",
          "text": [
            "Mounted at /content/drive\n"
          ]
        }
      ],
      "source": [
        "# mounting google drive\n",
        "from google.colab import drive\n",
        "drive.mount('/content/drive')"
      ]
    },
    {
      "cell_type": "code",
      "execution_count": 3,
      "metadata": {
        "colab": {
          "base_uri": "https://localhost:8080/"
        },
        "id": "GibG2cN8UyQQ",
        "outputId": "85e97652-d707-443f-9cf2-fa881ccce330"
      },
      "outputs": [
        {
          "output_type": "stream",
          "name": "stdout",
          "text": [
            "Collecting pytube\n",
            "  Downloading pytube-12.0.0-py3-none-any.whl (56 kB)\n",
            "\u001b[?25l\r\u001b[K     |█████▉                          | 10 kB 19.7 MB/s eta 0:00:01\r\u001b[K     |███████████▋                    | 20 kB 12.2 MB/s eta 0:00:01\r\u001b[K     |█████████████████▍              | 30 kB 6.5 MB/s eta 0:00:01\r\u001b[K     |███████████████████████▏        | 40 kB 5.6 MB/s eta 0:00:01\r\u001b[K     |█████████████████████████████   | 51 kB 4.3 MB/s eta 0:00:01\r\u001b[K     |████████████████████████████████| 56 kB 2.3 MB/s \n",
            "\u001b[?25hInstalling collected packages: pytube\n",
            "Successfully installed pytube-12.0.0\n",
            "Collecting omdbapi\n",
            "  Downloading omdbapi-0.6.0.tar.gz (18 kB)\n",
            "Requirement already satisfied: requests in /usr/local/lib/python3.7/dist-packages (from omdbapi) (2.23.0)\n",
            "Requirement already satisfied: certifi>=2017.4.17 in /usr/local/lib/python3.7/dist-packages (from requests->omdbapi) (2021.10.8)\n",
            "Requirement already satisfied: idna<3,>=2.5 in /usr/local/lib/python3.7/dist-packages (from requests->omdbapi) (2.10)\n",
            "Requirement already satisfied: urllib3!=1.25.0,!=1.25.1,<1.26,>=1.21.1 in /usr/local/lib/python3.7/dist-packages (from requests->omdbapi) (1.24.3)\n",
            "Requirement already satisfied: chardet<4,>=3.0.2 in /usr/local/lib/python3.7/dist-packages (from requests->omdbapi) (3.0.4)\n",
            "Building wheels for collected packages: omdbapi\n",
            "  Building wheel for omdbapi (setup.py) ... \u001b[?25l\u001b[?25hdone\n",
            "  Created wheel for omdbapi: filename=omdbapi-0.6.0-py3-none-any.whl size=17780 sha256=cd78b3eaa45d2e5fdfc6a3bf82a330a567bc3d91a8d350474ab123fb9718a2de\n",
            "  Stored in directory: /root/.cache/pip/wheels/70/10/6e/62bd836b5d2ade8bba189f402b8e0251ccee43df75ecd9d2d6\n",
            "Successfully built omdbapi\n",
            "Installing collected packages: omdbapi\n",
            "Successfully installed omdbapi-0.6.0\n",
            "Collecting sentence-transformers\n",
            "  Downloading sentence-transformers-2.2.0.tar.gz (79 kB)\n",
            "\u001b[K     |████████████████████████████████| 79 kB 3.3 MB/s \n",
            "\u001b[?25hCollecting transformers<5.0.0,>=4.6.0\n",
            "  Downloading transformers-4.18.0-py3-none-any.whl (4.0 MB)\n",
            "\u001b[K     |████████████████████████████████| 4.0 MB 32.3 MB/s \n",
            "\u001b[?25hRequirement already satisfied: tqdm in /usr/local/lib/python3.7/dist-packages (from sentence-transformers) (4.64.0)\n",
            "Requirement already satisfied: torch>=1.6.0 in /usr/local/lib/python3.7/dist-packages (from sentence-transformers) (1.10.0+cu111)\n",
            "Requirement already satisfied: torchvision in /usr/local/lib/python3.7/dist-packages (from sentence-transformers) (0.11.1+cu111)\n",
            "Requirement already satisfied: numpy in /usr/local/lib/python3.7/dist-packages (from sentence-transformers) (1.21.5)\n",
            "Requirement already satisfied: scikit-learn in /usr/local/lib/python3.7/dist-packages (from sentence-transformers) (1.0.2)\n",
            "Requirement already satisfied: scipy in /usr/local/lib/python3.7/dist-packages (from sentence-transformers) (1.4.1)\n",
            "Requirement already satisfied: nltk in /usr/local/lib/python3.7/dist-packages (from sentence-transformers) (3.2.5)\n",
            "Collecting sentencepiece\n",
            "  Downloading sentencepiece-0.1.96-cp37-cp37m-manylinux_2_17_x86_64.manylinux2014_x86_64.whl (1.2 MB)\n",
            "\u001b[K     |████████████████████████████████| 1.2 MB 41.2 MB/s \n",
            "\u001b[?25hCollecting huggingface-hub\n",
            "  Downloading huggingface_hub-0.5.1-py3-none-any.whl (77 kB)\n",
            "\u001b[K     |████████████████████████████████| 77 kB 5.8 MB/s \n",
            "\u001b[?25hRequirement already satisfied: typing-extensions in /usr/local/lib/python3.7/dist-packages (from torch>=1.6.0->sentence-transformers) (4.1.1)\n",
            "Requirement already satisfied: packaging>=20.0 in /usr/local/lib/python3.7/dist-packages (from transformers<5.0.0,>=4.6.0->sentence-transformers) (21.3)\n",
            "Requirement already satisfied: regex!=2019.12.17 in /usr/local/lib/python3.7/dist-packages (from transformers<5.0.0,>=4.6.0->sentence-transformers) (2019.12.20)\n",
            "Requirement already satisfied: filelock in /usr/local/lib/python3.7/dist-packages (from transformers<5.0.0,>=4.6.0->sentence-transformers) (3.6.0)\n",
            "Collecting pyyaml>=5.1\n",
            "  Downloading PyYAML-6.0-cp37-cp37m-manylinux_2_5_x86_64.manylinux1_x86_64.manylinux_2_12_x86_64.manylinux2010_x86_64.whl (596 kB)\n",
            "\u001b[K     |████████████████████████████████| 596 kB 37.8 MB/s \n",
            "\u001b[?25hRequirement already satisfied: requests in /usr/local/lib/python3.7/dist-packages (from transformers<5.0.0,>=4.6.0->sentence-transformers) (2.23.0)\n",
            "Collecting sacremoses\n",
            "  Downloading sacremoses-0.0.49-py3-none-any.whl (895 kB)\n",
            "\u001b[K     |████████████████████████████████| 895 kB 38.9 MB/s \n",
            "\u001b[?25hRequirement already satisfied: importlib-metadata in /usr/local/lib/python3.7/dist-packages (from transformers<5.0.0,>=4.6.0->sentence-transformers) (4.11.3)\n",
            "Collecting tokenizers!=0.11.3,<0.13,>=0.11.1\n",
            "  Downloading tokenizers-0.12.1-cp37-cp37m-manylinux_2_12_x86_64.manylinux2010_x86_64.whl (6.6 MB)\n",
            "\u001b[K     |████████████████████████████████| 6.6 MB 35.5 MB/s \n",
            "\u001b[?25hRequirement already satisfied: pyparsing!=3.0.5,>=2.0.2 in /usr/local/lib/python3.7/dist-packages (from packaging>=20.0->transformers<5.0.0,>=4.6.0->sentence-transformers) (3.0.8)\n",
            "Requirement already satisfied: zipp>=0.5 in /usr/local/lib/python3.7/dist-packages (from importlib-metadata->transformers<5.0.0,>=4.6.0->sentence-transformers) (3.8.0)\n",
            "Requirement already satisfied: six in /usr/local/lib/python3.7/dist-packages (from nltk->sentence-transformers) (1.15.0)\n",
            "Requirement already satisfied: urllib3!=1.25.0,!=1.25.1,<1.26,>=1.21.1 in /usr/local/lib/python3.7/dist-packages (from requests->transformers<5.0.0,>=4.6.0->sentence-transformers) (1.24.3)\n",
            "Requirement already satisfied: idna<3,>=2.5 in /usr/local/lib/python3.7/dist-packages (from requests->transformers<5.0.0,>=4.6.0->sentence-transformers) (2.10)\n",
            "Requirement already satisfied: chardet<4,>=3.0.2 in /usr/local/lib/python3.7/dist-packages (from requests->transformers<5.0.0,>=4.6.0->sentence-transformers) (3.0.4)\n",
            "Requirement already satisfied: certifi>=2017.4.17 in /usr/local/lib/python3.7/dist-packages (from requests->transformers<5.0.0,>=4.6.0->sentence-transformers) (2021.10.8)\n",
            "Requirement already satisfied: joblib in /usr/local/lib/python3.7/dist-packages (from sacremoses->transformers<5.0.0,>=4.6.0->sentence-transformers) (1.1.0)\n",
            "Requirement already satisfied: click in /usr/local/lib/python3.7/dist-packages (from sacremoses->transformers<5.0.0,>=4.6.0->sentence-transformers) (7.1.2)\n",
            "Requirement already satisfied: threadpoolctl>=2.0.0 in /usr/local/lib/python3.7/dist-packages (from scikit-learn->sentence-transformers) (3.1.0)\n",
            "Requirement already satisfied: pillow!=8.3.0,>=5.3.0 in /usr/local/lib/python3.7/dist-packages (from torchvision->sentence-transformers) (7.1.2)\n",
            "Building wheels for collected packages: sentence-transformers\n",
            "  Building wheel for sentence-transformers (setup.py) ... \u001b[?25l\u001b[?25hdone\n",
            "  Created wheel for sentence-transformers: filename=sentence_transformers-2.2.0-py3-none-any.whl size=120747 sha256=d59cb502036ff2b5e75faef7411afd23bd6b169315a2a3243e52b9d43059754c\n",
            "  Stored in directory: /root/.cache/pip/wheels/83/c0/df/b6873ab7aac3f2465aa9144b6b4c41c4391cfecc027c8b07e7\n",
            "Successfully built sentence-transformers\n",
            "Installing collected packages: pyyaml, tokenizers, sacremoses, huggingface-hub, transformers, sentencepiece, sentence-transformers\n",
            "  Attempting uninstall: pyyaml\n",
            "    Found existing installation: PyYAML 3.13\n",
            "    Uninstalling PyYAML-3.13:\n",
            "      Successfully uninstalled PyYAML-3.13\n",
            "Successfully installed huggingface-hub-0.5.1 pyyaml-6.0 sacremoses-0.0.49 sentence-transformers-2.2.0 sentencepiece-0.1.96 tokenizers-0.12.1 transformers-4.18.0\n"
          ]
        }
      ],
      "source": [
        "!pip install pytube # pytube for downloading the trailers from youtube\n",
        "!pip install omdbapi # omdbapi for getting movie details from pmdb dataset\n",
        "!pip install -U sentence-transformers # sentence transformer SBERT"
      ]
    },
    {
      "cell_type": "code",
      "execution_count": 143,
      "metadata": {
        "id": "OE67M4VEUyQU"
      },
      "outputs": [],
      "source": [
        "# required imports\n",
        "import numpy as np\n",
        "import pandas as pd\n",
        "import os, cv2, math, torch, torchvision, pathlib\n",
        "import regex as re\n",
        "from omdbapi.movie_search import GetMovie\n",
        "from pytube import YouTube\n",
        "from sklearn.manifold import TSNE\n",
        "import seaborn as sns\n",
        "import plotly.graph_objects as go\n",
        "import urllib.request\n",
        "from PIL import Image\n",
        "from torchvision import transforms\n",
        "import tensorflow as tf\n",
        "from tensorflow import keras\n",
        "from tensorflow.keras.layers import *\n",
        "from tensorflow.keras.models import *\n",
        "from pylab import rcParams\n",
        "import matplotlib.pyplot as plt\n",
        "from tensorflow.keras.preprocessing.image import ImageDataGenerator\n",
        "from sklearn.metrics.pairwise import cosine_similarity\n",
        "from sklearn.model_selection import train_test_split, KFold, StratifiedKFold\n",
        "from sklearn.metrics import average_precision_score, mean_squared_error, precision_score, recall_score \n",
        "from sentence_transformers import SentenceTransformer, util\n",
        "from numpy import linalg as LA\n",
        "import keras\n",
        "import keras.layers as layers\n",
        "from sklearn.neighbors import KNeighborsClassifier"
      ]
    },
    {
      "cell_type": "code",
      "execution_count": 5,
      "metadata": {
        "colab": {
          "base_uri": "https://localhost:8080/",
          "height": 0
        },
        "id": "f2PC35aJwgwB",
        "outputId": "e5b0bc14-68ed-4fc5-a1f0-9fd735885735"
      },
      "outputs": [
        {
          "output_type": "execute_result",
          "data": {
            "text/plain": [
              "'cpu'"
            ],
            "application/vnd.google.colaboratory.intrinsic+json": {
              "type": "string"
            }
          },
          "metadata": {},
          "execution_count": 5
        }
      ],
      "source": [
        "device='cpu'\n",
        "if torch.cuda.is_available(): # checking if gpu(cuda) is available\n",
        "  device='cuda'\n",
        "device"
      ]
    },
    {
      "cell_type": "code",
      "execution_count": 6,
      "metadata": {
        "colab": {
          "base_uri": "https://localhost:8080/"
        },
        "id": "AFuO-V7OVX1D",
        "outputId": "f98ebc49-d7ea-4111-8441-a9325879320f"
      },
      "outputs": [
        {
          "output_type": "stream",
          "name": "stdout",
          "text": [
            "Archive:  /content/drive/MyDrive/ml-100k.zip\n",
            "   creating: ml-100k/\n",
            "  inflating: ml-100k/allbut.pl       \n",
            "  inflating: ml-100k/mku.sh          \n",
            "  inflating: ml-100k/README          \n",
            "  inflating: ml-100k/u.data          \n",
            "  inflating: ml-100k/u.genre         \n",
            "  inflating: ml-100k/u.info          \n",
            "  inflating: ml-100k/u.item          \n",
            "  inflating: ml-100k/u.occupation    \n",
            "  inflating: ml-100k/u.user          \n",
            "  inflating: ml-100k/u1.base         \n",
            "  inflating: ml-100k/u1.test         \n",
            "  inflating: ml-100k/u2.base         \n",
            "  inflating: ml-100k/u2.test         \n",
            "  inflating: ml-100k/u3.base         \n",
            "  inflating: ml-100k/u3.test         \n",
            "  inflating: ml-100k/u4.base         \n",
            "  inflating: ml-100k/u4.test         \n",
            "  inflating: ml-100k/u5.base         \n",
            "  inflating: ml-100k/u5.test         \n",
            "  inflating: ml-100k/ua.base         \n",
            "  inflating: ml-100k/ua.test         \n",
            "  inflating: ml-100k/ub.base         \n",
            "  inflating: ml-100k/ub.test         \n"
          ]
        }
      ],
      "source": [
        "!unzip /content/drive/MyDrive/ml-100k.zip # extracting the MovieLens 100k dataset"
      ]
    },
    {
      "cell_type": "code",
      "execution_count": 7,
      "metadata": {
        "colab": {
          "base_uri": "https://localhost:8080/"
        },
        "id": "7q7vyyiMUyQX",
        "outputId": "603fad32-1031-49b4-e078-2cb1f54e5c48"
      },
      "outputs": [
        {
          "output_type": "stream",
          "name": "stderr",
          "text": [
            "/usr/local/lib/python3.7/dist-packages/pandas/util/_decorators.py:311: ParserWarning: Falling back to the 'python' engine because the 'c' engine does not support regex separators (separators > 1 char and different from '\\s+' are interpreted as regex); you can avoid this warning by specifying engine='python'.\n",
            "  return func(*args, **kwargs)\n"
          ]
        }
      ],
      "source": [
        "data = pd.read_csv('/content/ml-100k/u.data', header=None, delimiter='\\t')\n",
        "data.columns=['userid','itemid','rating','timestamp']\n",
        "users = pd.read_csv('/content/ml-100k/u.user', header=None, delimiter='\\|')\n",
        "users.columns=['userid','age','gender','accupation','zipcode']\n",
        "items = pd.read_csv('/content/ml-100k/u.item', header=None, delimiter='\\|',encoding=\"windows-1252\")\n",
        "items.columns=['movieid', 'movietitle', 'releasedate', 'videoreleasedate', 'imdburl', 'unknown', 'Action', 'Adventure',\\\n",
        "               'Animation', 'Children', 'Comedy', 'Crime', 'Documentary', 'Drama', 'Fantasy','Film-Noir', 'Horror',\\\n",
        "               'Musical', 'Mystery', 'Romance', 'Sci-Fi','Thriller', 'War', 'Western']"
      ]
    },
    {
      "cell_type": "markdown",
      "metadata": {
        "id": "gtifUPr7gD8W"
      },
      "source": [
        "#**Pre-processing**"
      ]
    },
    {
      "cell_type": "markdown",
      "metadata": {
        "id": "_9qR3ElIUyQZ"
      },
      "source": [
        "**Filter Data**"
      ]
    },
    {
      "cell_type": "code",
      "execution_count": 8,
      "metadata": {
        "id": "YZwWiwo6pgZk"
      },
      "outputs": [],
      "source": [
        "# methods for convering vectors saved in pandas dataframe back to np array\n",
        "def convertergenre(instr):\n",
        "    return np.fromstring(instr[1:-1],sep=' ').astype(int)\n",
        "def converter(instr):\n",
        "    return np.fromstring(instr[1:-1],sep=' ')"
      ]
    },
    {
      "cell_type": "code",
      "execution_count": 9,
      "metadata": {
        "id": "a5GBjVd5UyQf"
      },
      "outputs": [],
      "source": [
        "it=data.groupby('itemid')\n",
        "it=pd.DataFrame(it.size())\n",
        "it=it.where(it[0]>=70) # selecting movies which are being rated by atleast 70 users\n",
        "it=it.dropna()\n",
        "# it\n",
        "us=data.groupby('userid')\n",
        "us=pd.DataFrame(us.size())\n",
        "us=us.where(us[0]>=70) # selecting users who rated atleast 70 movies\n",
        "us=us.dropna()\n",
        "# us\n",
        "###############################\n",
        "dropindex=[]\n",
        "for i,row in data.iterrows(): # dropping user-movie interaction which does not satisfy above condition\n",
        "    if (row['userid'] in us[0]) and (row['itemid'] in it[0]):\n",
        "        pass\n",
        "    else:\n",
        "        dropindex.append(i)\n",
        "data.drop(dropindex, inplace = True)\n",
        "data=data.reset_index()\n",
        "###############################\n",
        "dropusersindex=[]\n",
        "for i,row in users.iterrows():\n",
        "    if row['userid'] not in us[0]: # dropping users from users list\n",
        "        dropusersindex.append(i)\n",
        "users.drop(dropusersindex,inplace=True)\n",
        "users=users.reset_index()\n",
        "##############################\n",
        "dropitemsindex=[]\n",
        "for i,row in items.iterrows():\n",
        "    if row['movieid'] not in it[0]: # dropping movies from movies list\n",
        "        dropitemsindex.append(i)\n",
        "items.drop(dropitemsindex,inplace=True)\n",
        "items=items.reset_index()"
      ]
    },
    {
      "cell_type": "code",
      "execution_count": 10,
      "metadata": {
        "id": "ucBOGgCaUyQu"
      },
      "outputs": [],
      "source": [
        "# clearing clutter in movie_title of all the movies \n",
        "movietitleReg='\\([a-zA-Z0-9\\s]*[\\)]*'\n",
        "items['movietitle']=items['movietitle'].apply(lambda x:\",\".join(re.sub(movietitleReg,'',x).strip().split(',')[:-1] if len(re.sub(movietitleReg,'',x).strip().split(','))>=2 else re.sub(movietitleReg,'',x).strip().split(',')))\n",
        "\n",
        "itemswithoutonehot=items"
      ]
    },
    {
      "cell_type": "code",
      "execution_count": 11,
      "metadata": {
        "id": "lB63zb4m8XQc"
      },
      "outputs": [],
      "source": [
        "# reading already calculated movie vectors\n",
        "items1=pd.read_csv('/content/drive/MyDrive/itemsAfterAllProc-actorsAndAllEmbb.csv', delimiter=',',converters={'trailervec':converter,'senPlotEmbb':converter,'actorsEmbb':converter,'directorEmbb':converter,'genre':convertergenre})"
      ]
    },
    {
      "cell_type": "code",
      "execution_count": 12,
      "metadata": {
        "id": "Bo-ajJgxRcOU"
      },
      "outputs": [],
      "source": [
        "# removing duplicate entries in the movie list\n",
        "items1.drop_duplicates(subset =\"movietitle\",\n",
        "                     keep = \"first\", inplace = True)\n",
        "items1=items1.reset_index()\n",
        "items1.drop('level_0', axis=1, inplace=True)\n",
        "items1.drop('Unnamed: 0', axis=1, inplace=True)\n",
        "items=items1"
      ]
    },
    {
      "cell_type": "markdown",
      "metadata": {
        "id": "rkMg-8jvrscg"
      },
      "source": [
        "# **Genre lables**"
      ]
    },
    {
      "cell_type": "code",
      "execution_count": 13,
      "metadata": {
        "colab": {
          "base_uri": "https://localhost:8080/"
        },
        "id": "-USKdpUQMqyR",
        "outputId": "0683ae52-6b56-4fc6-de07-464209bc9177"
      },
      "outputs": [
        {
          "output_type": "execute_result",
          "data": {
            "text/plain": [
              "Index(['unknown', 'Action', 'Adventure', 'Animation', 'Children', 'Comedy',\n",
              "       'Crime', 'Documentary', 'Drama', 'Fantasy', 'Film-Noir', 'Horror',\n",
              "       'Musical', 'Mystery', 'Romance', 'Sci-Fi', 'Thriller', 'War',\n",
              "       'Western'],\n",
              "      dtype='object')"
            ]
          },
          "metadata": {},
          "execution_count": 13
        }
      ],
      "source": [
        "itemswithoutonehotcols=itemswithoutonehot.columns[6:]\n",
        "genre=items['genre'].apply(lambda x:re.sub('[,]+',\" \",\",\".join(itemswithoutonehotcols*x)).strip())\n",
        "items['genredesc']=genre.tolist()\n",
        "itemswithoutonehotcols"
      ]
    },
    {
      "cell_type": "markdown",
      "metadata": {
        "id": "zxVK_pZggRDN"
      },
      "source": [
        "# **Movie details from OMDB**"
      ]
    },
    {
      "cell_type": "markdown",
      "metadata": {
        "id": "szNcn_zsUyQt"
      },
      "source": [
        "**Plot vector build**"
      ]
    },
    {
      "cell_type": "code",
      "execution_count": null,
      "metadata": {
        "id": "woMRJDW8UyQv"
      },
      "outputs": [],
      "source": [
        "movie = GetMovie(api_key='f5391a82') # omdb dataset api setup for data fetch"
      ]
    },
    {
      "cell_type": "code",
      "execution_count": null,
      "metadata": {
        "id": "NXT3AIRDUyQx"
      },
      "outputs": [],
      "source": [
        "moviedata=items['movietitle'].apply(lambda x:movie.get_movie(title=str(x)))\n",
        "plots=moviedata.apply(lambda x: x['plot'] if type(x)==dict else x)\n",
        "actors=moviedata.apply(lambda x: x['actors'] if type(x)==dict else x)\n",
        "director=moviedata.apply(lambda x: x['director'] if type(x)==dict else x)\n",
        "imdbrating=moviedata.apply(lambda x: x['imdbrating'] if type(x)==dict else x)\n",
        "items['plot']=plots # movie plot\n",
        "items['actors']=actors # movie actors\n",
        "items['director']=director # movie directors\n",
        "items['imdbrating']=imdbrating # movie imdb rating\n",
        "items['plot']=items['plot'].apply(lambda x: 'Movie not found!' if x.lower()=='n/a' else x)\n",
        "items['actors']=items['actors'].apply(lambda x: 'Actors not found!' if x.lower()=='n/a' else x)\n",
        "items['director']=items['director'].apply(lambda x: 'Director not found!' if x.lower()=='n/a' else x)\n",
        "items['imdbrating']=items['imdbrating'].apply(lambda x: 'Ratings not found!' if x.lower()=='n/a' else x)"
      ]
    },
    {
      "cell_type": "markdown",
      "metadata": {
        "id": "IXnXE0ccZg29"
      },
      "source": [
        "#**Sentence Bert Embeddings**"
      ]
    },
    {
      "cell_type": "markdown",
      "metadata": {
        "id": "jaIidP8Qdbg1"
      },
      "source": [
        "Language model sentence embeeding for plot"
      ]
    },
    {
      "cell_type": "code",
      "execution_count": 14,
      "metadata": {
        "id": "vzLGeVvqZfDn",
        "colab": {
          "base_uri": "https://localhost:8080/",
          "height": 0,
          "referenced_widgets": [
            "95abfdb9e1a64131908d63a2d46deff8",
            "5b7bca9a6cea4e5ea3e02b8c66c086ac",
            "9db3ac1f565a4fca9017f8494c1fe111",
            "b48246b12fe945b5a9eca9040f7e738c",
            "70a80614664a4b8d9d87a0b502cd9ae7",
            "4438f57b4ba34eb3acb5d5940f51702e",
            "1e22903fbac94aaf89428fd6461fe097",
            "c48ceb048e1b42ab85a9d7b4bc95279a",
            "1da7b640e4f3411d8d2a104522f623d7",
            "40f0bf2869914a8aa3332623a1cc6dcd",
            "8b62980bf84a478a8bbf3733c993b15a",
            "990c70eaa0264c049b6c7236ba67cfa0",
            "ac1d14eb87134a08bc5fb096fb52db3c",
            "13b9d60e04af4ab3a0339888ea1b52db",
            "349ddbd2958d4c8592fb530fb2ab2ed2",
            "dfe95a966b2c46e2823c97fa7b836e73",
            "0cd514b7136a407ba20b560cbc44797b",
            "137f0e41e1df48059615b787622de7f0",
            "1373d3cec2a54d0db8fc229de24a0aa2",
            "5ff1b9545501457abcf9a57a527d7aff",
            "90bac71364d743fcab08d988cf67770d",
            "34a567fd85434716a6da5d5734ff5f24",
            "1d23e7438f3445758dcf3e3d51b64b59",
            "4b99c42120a548279fe7c30240b93e25",
            "395d21f3de0f4be8bc5edb57b8db342f",
            "dfde957b36ef45aea31807278cb6ef78",
            "f119675f50724231836cc83ce85af9dd",
            "d7a3932094034e2fad64af97869debf0",
            "e4d9b81f7d0544e991b5152c4ab904d0",
            "db4132acf0e14f5391b871fa79d5c3f4",
            "3de9987fdf2b467aa7db991fe5c367fe",
            "42f380b4787e4129b03da58f8f1b097d",
            "60f02b1068d4432bb20e77fdfffc7633",
            "8f2df5450b394b5e9c84da98b9f5be65",
            "2ec396ef20e749aa92ca7ffc0a15051e",
            "11fcadc28b6c4c928a78b169d2bb8de8",
            "9d0dc95e9b504f779ae4a9f4d9f43577",
            "e49ad1d6fe4540eeba25f7ed3e075c8d",
            "964d984dc62040b7b4ad5ff89d3a52aa",
            "88bf5a41bec045ac96e1473a9b3322ae",
            "3835c29c8b734ea7b3e21d73464888dd",
            "87cec92080f34b3cbc23729def34784f",
            "cbc1927603184721911adca6ca6b5521",
            "cdb9bb762d0e49e1909b68a5d71f8fc1",
            "71b4eb11082247d9a709c593afd62d32",
            "f89c79762986463bb1c5a059ab7e99db",
            "7f296688c047474a8ef601bc9e5cb5a7",
            "18eab544bb024c0999d91514ea5590b9",
            "671c29c01ca24f4c88eb0e3192bd583c",
            "abd3cfa15f23483eaa11ecded8c20e39",
            "0d0cef940fa041608298e97a85a37957",
            "e8fd73a35bd54d3db4f0e0a49cecf7c7",
            "4a5c3ea347874a7bad3cf9a458525f2d",
            "a4596a8068b9447e987d2a61182fcea1",
            "aa8fba54a78a4dbd8970185fa2896447",
            "2b2d3360d7cd437ca668ad39eb9fc9c9",
            "7250da5873ac46999789c0b5f8751ce4",
            "fdb8f141ec5342a9b0c8870f79451103",
            "695c88cdf87046319209be1e4dc1bf1c",
            "d2b4690da40e49a59b6eeeedfb34fe57",
            "a397f73e1b574fedb0cb590013dc4f45",
            "01267a61ee44478b82f430dd5660aadd",
            "0ed1bbeb2ed34e089f49e0c59763a449",
            "d55c93f787ab4ad3bcd347f93a6e8acf",
            "4fd4605627984363bd753f74db227669",
            "ee6e5defa6f446b1899a50d28c29d589",
            "9321fb3c9c664a83a63cf4a3818da41c",
            "719d8650a2844312a4ad3b4c81b6e7d6",
            "684e9f921af74d4b9cab15207f6288de",
            "166590b80aaa47bb9996feeb97f9e9f8",
            "eaa9fc94fc624ae3907075a7f49d2d15",
            "729ed0ef3bc1473da1db9ae6ed177c25",
            "bc48070b764e4fbaae0061a4dcdf6df1",
            "faa01443859e497da82d91e3727ad1cb",
            "6fcad264ab9c4464abd6877ee628587b",
            "eb4ec4b430cf4bd29ec2d34e0857351c",
            "600fb7f4d5844efc860752b16558605f",
            "5943b1b568c043d4a120b8db1e9628e0",
            "517867ff795f47ccad3ff4027c21c214",
            "81e9ceb2367043f489c6a2656998168a",
            "75c4e9359b67451cabcbfdd1c5aab666",
            "79904c24404848129c62d798aaa3f180",
            "269a470c37264a29b525e7f088ec9d80",
            "36b4864abee4459d990f7fd94ab86f9a",
            "ddc90c85abf8464c8e9867c677c35e27",
            "de06e59c42e8418f937e8755a05dfe85",
            "a2185a93691e4548b5a4923a0bc30ea9",
            "c54fa2fcd14d4006b0f40b3693df703f",
            "2a5c2d588d9149529f5b758b700a3566",
            "64773fd163b448e6a4722b8972151e2d",
            "aff71e7695d8487ba79dc4a576223681",
            "4ec611f6eef14f47a3c8101377771a0d",
            "551e1d1b61364665b30526f2cc792be3",
            "f3ac3bb6a1684a31b12a8266084027e3",
            "9045e1f53f014f0da865514d9162c371",
            "e0e0cb896733444fb0308fa4aae5d334",
            "045413171db64ff69bfc8c7eaa57e270",
            "55f6a1f31917413e8f0e51c31caadb9b",
            "735f672669794236ad6b7dd03ce46137",
            "d31926d32ea940a29d65c86c8deddde7",
            "253d00899b99432e9fbb1f5a3440cca0",
            "dca7f2dfcb1645b3ab005b8e78fc53cd",
            "e6cb6c0a76794d1aa61cf5e7de9ca1fd",
            "0cec4b2f7b1e418ab8577d1c2737c4e2",
            "880a2aef646f4da0a4c02100defaaa69",
            "9bd0b5d7790842cf92e0455780404a1c",
            "fe3cbe59ae094cd4b36d9fd689c6293e",
            "016f0bdb510c49138e155c5c503dc174",
            "a1e4c8974b99463f849e4c1ab6f859f7",
            "d024debb2b0f45c1a0a68b119bd08f9f",
            "3f3bfc287ea04583b1638821586e153a",
            "a574a29f4a7d48bd8001848c5e25229c",
            "4eae785db088436d967cff1d3f91d571",
            "f71e31fe418449098216afa7700993b4",
            "d886e0c6b8df4a6a97ab5b79b0494cc7",
            "4473a0706de54e7288f713c3faf483b5",
            "e35f32d5a4bf4332a0e616273fe3d975",
            "a235ac8053d041849978e1cc5c2cc6d1",
            "676df737e3a94cb59227657581d1b512",
            "43bfe51b5f5040abb688e37dc65d6c5d",
            "cfc742442b6c478d9fa703946fdc255c",
            "333b1d3bfac2467398150d838296b95e",
            "9ab5c8a66ba74012854998c946ade0fb",
            "f44c02dd6d4d4df7b4b947d905bb2fcd",
            "73c7e6658dbc4154b1c803749418fdda",
            "b662add036d9486fb04c64ddb2715213",
            "376460bd28c8462a969007ae739d3a2f",
            "36f19fdf50af4b2d99a6590d6564efb6",
            "55f012d498ac401298b134588a3b611f",
            "cbb4b34078584018889b5c3ec52fb217",
            "67b9751a69874c17bfed95df94e5554a",
            "8cba199a339f4b4ca7a5036ad2256eac",
            "240a4a0d6d0b429faef8b27464e94c2d",
            "8cfd04cf6e8b49f1a46edcfd8e6bd180",
            "0854113613494f6fbe95243f24ed5924",
            "630091b4aff343cdaa00bb44a92d804b",
            "adbc563c7f1147bba9b700092066edea",
            "94e791eff08c4aafa87af3b97ef208db",
            "22bc0f59f2c94de291f7acda621b1c20",
            "f5f8dcb07b6244f8a442922038a42a11",
            "a5c8e969b3ed45978dee635b975d5812",
            "423484621dfa46a2a2919da8763233b8",
            "894a126819504af7960b664c1873777b",
            "0db3eff5db95445e93b2ac136231cc0b",
            "d1eab2ca68cc487ab5d3035104f8362a",
            "8efb34cdda094978b422514515bd8b26",
            "2914a45c1e9647d1ae87da07766459bd",
            "7fd83e3bfa0540b5893f539cb703feac",
            "9de81ddb6ce9400c8e5f525785a9b47f",
            "bd54a7c4bff24d55ac5930ac3d0bece4",
            "6e8f51a2c690427cb1e0a795fd0c919c",
            "e6b424dfce984ed1a2cf025ecabf988d",
            "18a038163bb8459395ebab7697994801",
            "58a3f10ccf124dc2b8715b8a561714a4"
          ]
        },
        "outputId": "ab5e59df-867f-4da2-b852-6cf978fc6af5"
      },
      "outputs": [
        {
          "output_type": "display_data",
          "data": {
            "text/plain": [
              "Downloading:   0%|          | 0.00/1.18k [00:00<?, ?B/s]"
            ],
            "application/vnd.jupyter.widget-view+json": {
              "version_major": 2,
              "version_minor": 0,
              "model_id": "95abfdb9e1a64131908d63a2d46deff8"
            }
          },
          "metadata": {}
        },
        {
          "output_type": "display_data",
          "data": {
            "text/plain": [
              "Downloading:   0%|          | 0.00/190 [00:00<?, ?B/s]"
            ],
            "application/vnd.jupyter.widget-view+json": {
              "version_major": 2,
              "version_minor": 0,
              "model_id": "990c70eaa0264c049b6c7236ba67cfa0"
            }
          },
          "metadata": {}
        },
        {
          "output_type": "display_data",
          "data": {
            "text/plain": [
              "Downloading:   0%|          | 0.00/10.2k [00:00<?, ?B/s]"
            ],
            "application/vnd.jupyter.widget-view+json": {
              "version_major": 2,
              "version_minor": 0,
              "model_id": "1d23e7438f3445758dcf3e3d51b64b59"
            }
          },
          "metadata": {}
        },
        {
          "output_type": "display_data",
          "data": {
            "text/plain": [
              "Downloading:   0%|          | 0.00/612 [00:00<?, ?B/s]"
            ],
            "application/vnd.jupyter.widget-view+json": {
              "version_major": 2,
              "version_minor": 0,
              "model_id": "8f2df5450b394b5e9c84da98b9f5be65"
            }
          },
          "metadata": {}
        },
        {
          "output_type": "display_data",
          "data": {
            "text/plain": [
              "Downloading:   0%|          | 0.00/116 [00:00<?, ?B/s]"
            ],
            "application/vnd.jupyter.widget-view+json": {
              "version_major": 2,
              "version_minor": 0,
              "model_id": "71b4eb11082247d9a709c593afd62d32"
            }
          },
          "metadata": {}
        },
        {
          "output_type": "display_data",
          "data": {
            "text/plain": [
              "Downloading:   0%|          | 0.00/39.3k [00:00<?, ?B/s]"
            ],
            "application/vnd.jupyter.widget-view+json": {
              "version_major": 2,
              "version_minor": 0,
              "model_id": "2b2d3360d7cd437ca668ad39eb9fc9c9"
            }
          },
          "metadata": {}
        },
        {
          "output_type": "display_data",
          "data": {
            "text/plain": [
              "Downloading:   0%|          | 0.00/349 [00:00<?, ?B/s]"
            ],
            "application/vnd.jupyter.widget-view+json": {
              "version_major": 2,
              "version_minor": 0,
              "model_id": "9321fb3c9c664a83a63cf4a3818da41c"
            }
          },
          "metadata": {}
        },
        {
          "output_type": "display_data",
          "data": {
            "text/plain": [
              "Downloading:   0%|          | 0.00/90.9M [00:00<?, ?B/s]"
            ],
            "application/vnd.jupyter.widget-view+json": {
              "version_major": 2,
              "version_minor": 0,
              "model_id": "5943b1b568c043d4a120b8db1e9628e0"
            }
          },
          "metadata": {}
        },
        {
          "output_type": "display_data",
          "data": {
            "text/plain": [
              "Downloading:   0%|          | 0.00/53.0 [00:00<?, ?B/s]"
            ],
            "application/vnd.jupyter.widget-view+json": {
              "version_major": 2,
              "version_minor": 0,
              "model_id": "2a5c2d588d9149529f5b758b700a3566"
            }
          },
          "metadata": {}
        },
        {
          "output_type": "display_data",
          "data": {
            "text/plain": [
              "Downloading:   0%|          | 0.00/112 [00:00<?, ?B/s]"
            ],
            "application/vnd.jupyter.widget-view+json": {
              "version_major": 2,
              "version_minor": 0,
              "model_id": "d31926d32ea940a29d65c86c8deddde7"
            }
          },
          "metadata": {}
        },
        {
          "output_type": "display_data",
          "data": {
            "text/plain": [
              "Downloading:   0%|          | 0.00/466k [00:00<?, ?B/s]"
            ],
            "application/vnd.jupyter.widget-view+json": {
              "version_major": 2,
              "version_minor": 0,
              "model_id": "3f3bfc287ea04583b1638821586e153a"
            }
          },
          "metadata": {}
        },
        {
          "output_type": "display_data",
          "data": {
            "text/plain": [
              "Downloading:   0%|          | 0.00/350 [00:00<?, ?B/s]"
            ],
            "application/vnd.jupyter.widget-view+json": {
              "version_major": 2,
              "version_minor": 0,
              "model_id": "333b1d3bfac2467398150d838296b95e"
            }
          },
          "metadata": {}
        },
        {
          "output_type": "display_data",
          "data": {
            "text/plain": [
              "Downloading:   0%|          | 0.00/13.2k [00:00<?, ?B/s]"
            ],
            "application/vnd.jupyter.widget-view+json": {
              "version_major": 2,
              "version_minor": 0,
              "model_id": "240a4a0d6d0b429faef8b27464e94c2d"
            }
          },
          "metadata": {}
        },
        {
          "output_type": "display_data",
          "data": {
            "text/plain": [
              "Downloading:   0%|          | 0.00/232k [00:00<?, ?B/s]"
            ],
            "application/vnd.jupyter.widget-view+json": {
              "version_major": 2,
              "version_minor": 0,
              "model_id": "0db3eff5db95445e93b2ac136231cc0b"
            }
          },
          "metadata": {}
        }
      ],
      "source": [
        "senmodel = SentenceTransformer('all-MiniLM-L6-v2') #multi-qa-MiniLM-L6-cos-v1"
      ]
    },
    {
      "cell_type": "code",
      "execution_count": 15,
      "metadata": {
        "id": "VHoRlgA2d3SL"
      },
      "outputs": [],
      "source": [
        "def getSentenceEmbb(plot):\n",
        "  return senmodel.encode(plot)"
      ]
    },
    {
      "cell_type": "code",
      "execution_count": 16,
      "metadata": {
        "id": "oHLd5d9qTQsK"
      },
      "outputs": [],
      "source": [
        "# combining movie plot, movie actors and movie director in a single text\n",
        "movieTextInfo = items[['genredesc','plot']].agg('. Plot: '.join, axis=1)\n",
        "items['movieTextInfo']=movieTextInfo\n",
        "movieTextInfo = items[['movieTextInfo','actors']].agg(' Played by: '.join, axis=1)\n",
        "items['movieTextInfo']=movieTextInfo\n",
        "movieTextInfo = items[['movieTextInfo','director']].agg('. Directed by: '.join, axis=1)\n",
        "items['movieTextInfo']=movieTextInfo"
      ]
    },
    {
      "cell_type": "code",
      "execution_count": 17,
      "metadata": {
        "id": "cEEwIAguVghm"
      },
      "outputs": [],
      "source": [
        "movieTextInfoEmbb = items['movieTextInfo'].apply(lambda x:getSentenceEmbb(x))\n",
        "items['movieTextInfoEmbb']=movieTextInfoEmbb\n",
        "# senPlotEmbb = items['plot'].apply(lambda x:getSentenceEmbb(x))\n",
        "# actorsEmbb = items['actors'].apply(lambda x:getSentenceEmbb(x))\n",
        "# directorEmbb = items['director'].apply(lambda x:getSentenceEmbb(x))\n",
        "# items['senPlotEmbb']=senPlotEmbb\n",
        "# items['actorsEmbb']=actorsEmbb\n",
        "# items['directorEmbb']=directorEmbb"
      ]
    },
    {
      "cell_type": "markdown",
      "metadata": {
        "id": "zfDzLg3PgY_B"
      },
      "source": [
        "#**Visual Embeddings**"
      ]
    },
    {
      "cell_type": "code",
      "execution_count": null,
      "metadata": {
        "id": "DEFcnHq-sQvo"
      },
      "outputs": [],
      "source": [
        "device"
      ]
    },
    {
      "cell_type": "markdown",
      "metadata": {
        "id": "k6WWvfuSUyQ7"
      },
      "source": [
        "**Trailer Vector Build**"
      ]
    },
    {
      "cell_type": "code",
      "execution_count": null,
      "metadata": {
        "id": "P7C9vJQiUyQ-"
      },
      "outputs": [],
      "source": [
        "def downloadTrailer(title,path):\n",
        "    t=title\n",
        "    title=title.split(\" \")\n",
        "    title=\"+\".join(title)+\"+trailer\"\n",
        "    if not os.path.exists(path+t+'.mp4'):\n",
        "        print(title)\n",
        "        html = urllib.request.urlopen(\"https://www.youtube.com/results?search_query=\"+title)\n",
        "        video_ids = re.findall(r\"watch\\?v=(\\S{11})\", html.read().decode())\n",
        "        trailerlink=\"https://www.youtube.com/watch?v=\"+video_ids[0]\n",
        "        yt = YouTube(trailerlink)\n",
        "        regex = re.compile('[@_!#$%^&*()<>?/\\|}{~:]')\n",
        "        t=re.sub('[\\*\\$\\%\\@\\&\\/]+', '', t)\n",
        "        yt.streams.filter(progressive=True, file_extension='mp4').order_by('resolution').desc().first().download(path,t+'.mp4',None)"
      ]
    },
    {
      "cell_type": "code",
      "execution_count": null,
      "metadata": {
        "id": "Nefgg97hUyQ_"
      },
      "outputs": [],
      "source": [
        "for i,row in items.iterrows():\n",
        "  downloadTrailer(row['movietitle'],'/content/trailers/')"
      ]
    },
    {
      "cell_type": "code",
      "execution_count": null,
      "metadata": {
        "id": "I-YYQobWUyRA"
      },
      "outputs": [],
      "source": [
        "def convertTrailer2Frames(title,trailerpath,framespath):\n",
        "    if not os.path.exists(framespath +title.rstrip('.')):\n",
        "        print(title)\n",
        "        cam = cv2.VideoCapture(trailerpath + title +\".mp4\")\n",
        "        try:\n",
        "            if not os.path.exists(framespath+title.strip().rstrip('.')):\n",
        "                os.makedirs(framespath+title.strip().rstrip('.'))\n",
        "        except OSError:\n",
        "            print ('Error: Creating directory of data')\n",
        "        currentframe = -10\n",
        "        f=math.ceil(cam.get(cv2.CAP_PROP_FRAME_COUNT)/130)\n",
        "        i=0\n",
        "        while(True):\n",
        "            ret,frame = cam.read()\n",
        "            if ret:\n",
        "                name = framespath +title.strip().rstrip('.') +'/frame' + str(currentframe) + '.jpg'\n",
        "                if i % f == 0:\n",
        "                    cv2.imwrite(name, frame)\n",
        "                    i=0\n",
        "                    if currentframe<0 or currentframe>=110:\n",
        "                        file_to_rem = pathlib.Path(framespath+title.strip().rstrip('.') +'/frame' + str(currentframe) + '.jpg')\n",
        "                        file_to_rem.unlink()\n",
        "                    currentframe += 1\n",
        "                i=i+1\n",
        "            else:\n",
        "                break\n",
        "        cam.release()\n",
        "        cv2.destroyAllWindows()"
      ]
    },
    {
      "cell_type": "code",
      "execution_count": null,
      "metadata": {
        "id": "QRIIm8KnUyRB"
      },
      "outputs": [],
      "source": [
        "for i,row in items.iterrows():\n",
        "    convertTrailer2Frames(re.sub('[\\*\\$\\%\\@\\&\\/\\:]+', '', str(row['movietitle'])),'/content/trailers/','/content/trailersFrames/')"
      ]
    },
    {
      "cell_type": "code",
      "execution_count": null,
      "metadata": {
        "id": "Dl3hhu03zvgO"
      },
      "outputs": [],
      "source": [
        "resnet = torch.hub.load('pytorch/vision:v0.10.0', 'resnet50', pretrained=True) # loading Resnet50 pretrained model to get the trailer frames embeddings"
      ]
    },
    {
      "cell_type": "code",
      "execution_count": null,
      "metadata": {
        "id": "Ol9MTtfygYX1"
      },
      "outputs": [],
      "source": [
        "# getting \n",
        "def getTrailerEmbb(f,l,x,device):\n",
        "  input_per=[]\n",
        "  probs=[]\n",
        "  x=re.sub('[\\*\\$\\%\\@\\&\\/\\:]+', '', x).strip().rstrip('.')\n",
        "  print(x)\n",
        "  k=int(f/l)\n",
        "  a=0\n",
        "  for j in range(l):\n",
        "    input_tensor=[]\n",
        "    for i in range(j*k,(j+1)*k):\n",
        "      if os.path.exists(f'/content/drive/MyDrive/newtrailersframes/{str(x).strip()}/frame{i}.jpg'):\n",
        "        input_image = Image.open(f'/content/drive/MyDrive/newtrailersframes/{str(x).strip()}/frame{i}.jpg')\n",
        "        preprocess = transforms.Compose([\n",
        "          transforms.Resize((256,256)),\n",
        "          transforms.ToTensor(),\n",
        "        ])\n",
        "        input_tensor.append(preprocess(input_image))\n",
        "    if len(input_tensor)!=0:\n",
        "      input_tensor=torch.stack(input_tensor)\n",
        "      input_tensor = input_tensor.to(device)\n",
        "      resnet.to(device)\n",
        "\n",
        "      with torch.no_grad():\n",
        "        output = resnet(input_tensor)\n",
        "      \n",
        "      probabilities = torch.nn.functional.softmax(output[0], dim=0)\n",
        "      probabilities = probabilities.reshape(1,probabilities.shape[0],1)\n",
        "      probs.append(probabilities)\n",
        "  \n",
        "  lstmmodel = keras.Sequential()\n",
        "  lstmmodel.add(keras.layers.Bidirectional(tf.compat.v1.keras.layers.CuDNNLSTM(32, return_sequences=True, input_shape=(1000, 1))))\n",
        "  lstmmodel.add(keras.layers.Bidirectional(tf.compat.v1.keras.layers.CuDNNLSTM(32)))\n",
        "  lstmmodel.add(keras.layers.Dense(300))\n",
        "  lstmmodel.add(keras.layers.Softmax())\n",
        "  for i in probs:\n",
        "    op = lstmmodel(i.detach().cpu().clone().numpy())[0]\n",
        "    input_per.append(op)\n",
        "  if len(input_per)==0:\n",
        "    return np.random.random(300)\n",
        "  return np.average(input_per,axis=0)"
      ]
    },
    {
      "cell_type": "code",
      "execution_count": null,
      "metadata": {
        "id": "vcHRtZkJy9Ex"
      },
      "outputs": [],
      "source": [
        "trailervec=[]\n",
        "for i,row in items.iterrows():\n",
        "  trailervec.append(getTrailerEmbb(110,10,row['movietitle'],device))\n",
        "items['trailervec']=trailervec"
      ]
    },
    {
      "cell_type": "code",
      "execution_count": null,
      "metadata": {
        "id": "c5ZiRJ8n31BI"
      },
      "outputs": [],
      "source": [
        "# items.to_csv('itmesWithVecs.csv')\n",
        "# from google.colab import files\n",
        "# files.download('/content/itmesWithVecs.csv')"
      ]
    },
    {
      "cell_type": "markdown",
      "metadata": {
        "id": "8f5ewOTSTpGo"
      },
      "source": [
        "# **Combined embeddings**"
      ]
    },
    {
      "cell_type": "code",
      "source": [
        "len(items['genre'][0]),len(items['movieTextInfoEmbb'][0]),len(items['trailervec'][0])"
      ],
      "metadata": {
        "colab": {
          "base_uri": "https://localhost:8080/"
        },
        "id": "CWmZZ8SZSbSl",
        "outputId": "5a98862c-273e-4613-8bb4-1cfbd89113f3"
      },
      "execution_count": 106,
      "outputs": [
        {
          "output_type": "execute_result",
          "data": {
            "text/plain": [
              "(19, 384, 300)"
            ]
          },
          "metadata": {},
          "execution_count": 106
        }
      ]
    },
    {
      "cell_type": "code",
      "execution_count": 18,
      "metadata": {
        "id": "xykdSxmFAZZJ"
      },
      "outputs": [],
      "source": [
        "finalvec=[]\n",
        "for i,row in items.iterrows():\n",
        "  finalvec.append(np.concatenate((\n",
        "                                  [0.33*(i/LA.norm(row['genre'])) for i in row['genre']],\n",
        "                                  [0.33*(i/LA.norm(row['movieTextInfoEmbb'])) for i in row['movieTextInfoEmbb']],\n",
        "                                  [0.33*(i/LA.norm(row['trailervec'])) for i in row['trailervec']])))\n",
        "items['finalvec']=finalvec"
      ]
    },
    {
      "cell_type": "markdown",
      "metadata": {
        "id": "GM1zr5uCqw_n"
      },
      "source": [
        "#**Plot Embb**"
      ]
    },
    {
      "cell_type": "code",
      "execution_count": 19,
      "metadata": {
        "id": "_cqymVbKlcFy"
      },
      "outputs": [],
      "source": [
        "Z = np.array(items['finalvec'].tolist())\n",
        "X_embedded = TSNE(n_components=2, learning_rate='auto',init='random').fit_transform(Z)"
      ]
    },
    {
      "cell_type": "code",
      "execution_count": 140,
      "metadata": {
        "id": "r7OshYlklS4E"
      },
      "outputs": [],
      "source": [
        "layout = dict(plot_bgcolor='white',\n",
        "              margin=dict(t=20, l=20, r=20, b=20),\n",
        "              xaxis=dict(title='feature 1',\n",
        "                         showgrid=False,\n",
        "                         mirror=True),\n",
        "              yaxis=dict(title='feature 2',\n",
        "                         showgrid=False,\n",
        "                         mirror=True))\n",
        "data = go.Scatter(x=X_embedded[:,0], y=X_embedded[:,1],\n",
        "                  text=items['movietitle'],\n",
        "                  textposition='top right',\n",
        "                  textfont=dict(color='#E58606'),\n",
        "                  mode='markers+text',\n",
        "                  marker=dict(color='#5D69B1', size=8),\n",
        "                  name='movies')"
      ]
    },
    {
      "cell_type": "code",
      "execution_count": 141,
      "metadata": {
        "colab": {
          "base_uri": "https://localhost:8080/",
          "height": 542
        },
        "id": "WD-Dv9Zrt0fi",
        "outputId": "bdd253c5-1a17-4991-a140-ab71bf35d06d"
      },
      "outputs": [
        {
          "output_type": "display_data",
          "data": {
            "text/html": [
              "<html>\n",
              "<head><meta charset=\"utf-8\" /></head>\n",
              "<body>\n",
              "    <div>            <script src=\"https://cdnjs.cloudflare.com/ajax/libs/mathjax/2.7.5/MathJax.js?config=TeX-AMS-MML_SVG\"></script><script type=\"text/javascript\">if (window.MathJax) {MathJax.Hub.Config({SVG: {font: \"STIX-Web\"}});}</script>                <script type=\"text/javascript\">window.PlotlyConfig = {MathJaxConfig: 'local'};</script>\n",
              "        <script src=\"https://cdn.plot.ly/plotly-2.8.3.min.js\"></script>                <div id=\"331c4c8c-7901-4dfc-ac2f-dbd5f6c610b5\" class=\"plotly-graph-div\" style=\"height:525px; width:100%;\"></div>            <script type=\"text/javascript\">                                    window.PLOTLYENV=window.PLOTLYENV || {};                                    if (document.getElementById(\"331c4c8c-7901-4dfc-ac2f-dbd5f6c610b5\")) {                    Plotly.newPlot(                        \"331c4c8c-7901-4dfc-ac2f-dbd5f6c610b5\",                        [{\"marker\":{\"color\":\"#5D69B1\",\"size\":8},\"mode\":\"markers+text\",\"name\":\"movies\",\"text\":[\"Toy Story\",\"GoldenEye\",\"Four Rooms\",\"Get Shorty\",\"Copycat\",\"Twelve Monkeys\",\"Babe\",\"Dead Man Walking\",\"Richard III\",\"Seven\",\"Usual Suspects\",\"Mighty Aphrodite\",\"Postino\",\"Mr. Holland's Opus\",\"From Dusk Till Dawn\",\"Angels and Insects\",\"Muppet Treasure Island\",\"Braveheart\",\"Taxi Driver\",\"Rumble in the Bronx\",\"Brothers McMullen\",\"Apollo 13\",\"Batman Forever\",\"Crimson Tide\",\"Crumb\",\"Desperado\",\"Net\",\"Strange Days\",\"Clerks\",\"Dolores Claiborne\",\"Eat Drink Man Woman\",\"Ed Wood\",\"Hoop Dreams\",\"I.Q.\",\"Star Wars\",\"Legends of the Fall\",\"Madness of King George\",\"Natural Born Killers\",\"Outbreak\",\"Professional\",\"Pulp Fiction\",\"Quiz Show\",\"Three Colors: Red\",\"Stargate\",\"Santa Clause\",\"Shawshank Redemption\",\"What's Eating Gilbert Grape\",\"While You Were Sleeping\",\"Ace Ventura: Pet Detective\",\"Crow\",\"Forrest Gump\",\"Four Weddings and a Funeral\",\"Lion King\",\"Mask\",\"Maverick\",\"Firm\",\"Fugitive\",\"Hudsucker Proxy\",\"Jurassic Park\",\"Much Ado About Nothing\",\"Remains of the Day\",\"Searching for Bobby Fischer\",\"Sleepless in Seattle\",\"Blade Runner\",\"So I Married an Axe Murderer\",\"Nightmare Before Christmas\",\"True Romance\",\"Welcome to the Dollhouse\",\"Home Alone\",\"Aladdin\",\"Terminator 2: Judgment Day\",\"Dances with Wolves\",\"Silence of the Lambs\",\"Snow White and the Seven Dwarfs\",\"Fargo\",\"Heavy Metal\",\"Sgt. Bilko\",\"Diabolique\",\"Mystery Science Theater 3000: The Movie\",\"Truth About Cats & Dogs\",\"Cold Comfort Farm\",\"Rock\",\"Twister\",\"Independence Day\",\"Cable Guy\",\"Frighteners\",\"Lone Star\",\"Phenomenon\",\"Spitfire Grill\",\"Godfather\",\"Bound\",\"Breakfast at Tiffany's\",\"Wizard of Oz\",\"Gone with the Wind\",\"Citizen Kane\",\"2001: A Space Odyssey\",\"Mr. Smith Goes to Washington\",\"Big Night\",\"20\",\"Die Hard\",\"Long Kiss Goodnight\",\"Ghost and the Darkness\",\"Swingers\",\"Willy Wonka and the Chocolate Factory\",\"Sleeper\",\"Fish Called Wanda\",\"Dirty Dancing\",\"Reservoir Dogs\",\"Platoon\",\"Basic Instinct\",\"Top Gun\",\"On Golden Pond\",\"Return of the Pink Panther\",\"Abyss\",\"Monty Python and the Holy Grail\",\"Wrong Trousers\",\"Cinema Paradiso\",\"Empire Strikes Back\",\"Princess Bride\",\"Raiders of the Lost Ark\",\"Brazil\",\"Aliens\",\"Good, The Bad and The Ugly\",\"12 Angry Men\",\"Clockwork Orange\",\"Apocalypse Now\",\"Return of the Jedi\",\"GoodFellas\",\"Alien\",\"Army of Darkness\",\"Psycho\",\"Blues Brothers\",\"Godfather: Part II\",\"Full Metal Jacket\",\"Henry V\",\"Amadeus\",\"Raging Bull\",\"Right Stuff\",\"Sting\",\"Terminator\",\"Dead Poets Society\",\"Graduate\",\"Nikita\",\"Bridge on the River Kwai\",\"Shining\",\"Evil Dead II\",\"Groundhog Day\",\"Unforgiven\",\"Back to the Future\",\"Patton\",\"Young Frankenstein\",\"This Is Spinal Tap\",\"Indiana Jones and the Last Crusade\",\"M*A*S*H\",\"Unbearable Lightness of Being\",\"Pink Floyd - The Wall\",\"Field of Dreams\",\"When Harry Met Sally...\",\"Bram Stoker's Dracula\",\"Cape Fear\",\"Nightmare on Elm Street\",\"Breaking the Waves\",\"Star Trek: First Contact\",\"Sling Blade\",\"101 Dalmatians\",\"Die Hard 2\",\"Star Trek VI: The Undiscovered Country\",\"Star Trek III: The Search for Spock\",\"Star Trek IV: The Voyage Home\",\"Batman Returns\",\"Young Guns\",\"Under Siege\",\"Jaws\",\"Mars Attacks!\",\"Jerry Maguire\",\"Raising Arizona\",\"Sneakers\",\"Beavis and Butt-head Do America\",\"Last of the Mohicans\",\"Kolya\",\"Devil's Own\",\"Chasing Amy\",\"Grosse Pointe Blank\",\"Austin Powers: International Man of Mystery\",\"Fifth Element\",\"Lost World: Jurassic Park\",\"My Best Friend's Wedding\",\"Men in Black\",\"Contact\",\"George of the Jungle\",\"Event Horizon\",\"Mimic\",\"Hunt for Red October\",\"Full Monty\",\"Gattaca\",\"Starship Troopers\",\"Good Will Hunting\",\"Heat\",\"Sabrina\",\"Sense and Sensibility\",\"Leaving Las Vegas\",\"Restoration\",\"River Wild\",\"Time to Kill\",\"Emma\",\"Tin Cup\",\"Secrets & Lies\",\"English Patient\",\"Marvin's Room\",\"Scream\",\"Evita\",\"Fierce Creatures\",\"Absolute Power\",\"Rosewood\",\"Donnie Brasco\",\"Liar Liar\",\"Breakdown\",\"Face/Off\",\"Hoodlum\",\"Air Force One\",\"In & Out\",\"L.A. Confidential\",\"Ulee's Gold\",\"Fly Away Home\",\"Ice Storm\",\"Mrs. Brown \",\"Devil's Advocate\",\"Rainmaker\",\"Wings of the Dove\",\"Midnight in the Garden of Good and Evil\",\"Titanic\",\"Apt Pupil\",\"As Good As It Gets\",\"In the Name of the Father\",\"Schindler's List\",\"Everyone Says I Love You\",\"Mother\",\"Murder at 1600\",\"Dante's Peak\",\"Lost Highway\",\"Crash\",\"G.I. Jane\",\"Cop Land\",\"Conspiracy Theory\",\"Edge\",\"Kiss the Girls\",\"Game\",\"Bean\",\"Boogie Nights\",\"Alien: Resurrection\",\"Jackie Brown\",\"Wag the Dog\",\"Wedding Singer\",\"Client\",\"One Flew Over the Cuckoo's Nest\",\"Spawn\",\"Clueless\",\"Miracle on 34th Street\",\"Star Trek: Generations\",\"Muriel's Wedding\",\"Adventures of Priscilla, Queen of the Desert\",\"True Lies\",\"Addams Family Values\",\"Mrs. Doubtfire\",\"Three Musketeers\",\"Brady Bunch Movie\",\"Ghost\",\"Batman\",\"Pinocchio\",\"Mission: Impossible\",\"Close Shave\",\"Jack\",\"Kingpin\",\"Nutty Professor\",\"Very Brady Sequel\",\"Cinderella\",\"Mary Poppins\",\"Alice in Wonderland\",\"E.T. the Extra-Terrestrial\",\"Bob Roberts\",\"To Kill a Mockingbird\",\"Harold and Maude\",\"Day the Earth Stood Still\",\"Duck Soup\",\"Highlander\",\"Fantasia\",\"Heathers\",\"Butch Cassidy and the Sundance Kid\",\"American Werewolf in London\",\"Birds\",\"Carrie\",\"Omen\",\"Star Trek: The Motion Picture\",\"Grease\",\"Nixon\",\"Smoke\",\"Like Water For Chocolate\",\"Secret of Roan Inish\",\"Jungle Book\",\"Tombstone\",\"Courage Under Fire\",\"Dragonheart\",\"James and the Giant Peach\",\"Dr. Strangelove or: How I Learned to Stop Worrying and Love the Bomb\",\"Trainspotting\",\"First Wives Club\",\"Matilda\",\"Vertigo\",\"North by Northwest\",\"Some Like It Hot\",\"Casablanca\",\"Maltese Falcon\",\"My Fair Lady\",\"It's a Wonderful Life\",\"Dumbo\",\"Bonnie and Clyde\",\"Rebel Without a Cause\",\"Streetcar Named Desire\",\"People vs. Larry Flynt\",\"My Left Foot\",\"Lawrence of Arabia\",\"Third Man\",\"Annie Hall\",\"Boot\",\"Manhattan\",\"Miller's Crossing\",\"Treasure of the Sierra Madre\",\"Great Escape\",\"Deer Hunter\",\"Cool Hand Luke\",\"Big Sleep\",\"Ben-Hur\",\"Gandhi\",\"Killing Fields\",\"My Life as a Dog\",\"Man Who Would Be King\",\"Shine\",\"Things to Do in Denver when You're Dead\",\"Broken Arrow\",\"Rob Roy\",\"Die Hard: With a Vengeance\",\"Waterworld\",\"Heavenly Creatures\",\"Interview with the Vampire\",\"Clear and Present Danger\",\"Speed\",\"Cliffhanger\",\"Demolition Man\",\"Piano\",\"Secret Garden\",\"Beauty and the Beast\",\"Primal Fear\",\"Hunchback of Notre Dame\",\"Eraser\",\"Rear Window\",\"It Happened One Night\",\"Sword in the Stone\",\"Robin Hood: Prince of Thieves\",\"Sleepers\",\"Victor/Victoria\",\"Crying Game\",\"Escape from New York\",\"Cook the Thief His Wife & Her Lover\",\"Ran\",\"Glory\",\"Chinatown\",\"Stand by Me\",\"Manchurian Candidate\",\"Pump Up the Volume\",\"Arsenic and Old Lace\",\"Fried Green Tomatoes\",\"High Noon\",\"Somewhere in Time\",\"Being There\",\"Alien 3\",\"Crucible\",\"Volcano\",\"Conan the Barbarian\",\"I Know What You Did Last Summer\",\"In the Line of Fire\",\"Executive Decision\",\"Jackal\",\"Seven Years in Tibet\",\"American President\",\"Casino\",\"City Hall\",\"Little Women\",\"Singin' in the Rain\",\"Enchanted April\",\"Sex, Lies\",\"Strictly Ballroom\",\"Better Off Dead...\",\"Othello\",\"To Die For\",\"Juror\",\"First Knight\",\"Circle of Friends\",\"Nell\",\"Dave\",\"Philadelphia\",\"Shadowlands\",\"Pretty Woman\",\"Ransom\",\"Michael Collins\",\"Real Genius\",\"Benny & Joon\",\"Saint\",\"Amistad\",\"Tomorrow Never Dies\",\"Jumanji\",\"Father of the Bride Part II\",\"Beautiful Girls\",\"Happy Gilmore\",\"Don Juan DeMarco\",\"French Kiss\",\"Bullets Over Broadway\",\"One Fine Day\",\"Space Jam\",\"Mulholland Falls\",\"Arrival\",\"Phantom\",\"Escape from L.A.\",\"That Thing You Do!\",\"My Fellow Americans\",\"Michael\",\"Vegas Vacation\",\"Picture Perfect\",\"Peacemaker\",\"Scream 2\",\"City of Lost Children\",\"White Squall\",\"Down Periscope\",\"Craft\",\"Chain Reaction\",\"How to Make an American Quilt\",\"Winnie the Pooh and the Blustery Day\",\"Beautician and the Beast\",\"2 Days in the Valley\",\"Private Parts\",\"Romy and Michele's High School Reunion\",\"Con Air\",\"Grumpier Old Men\",\"Hamlet\",\"Multiplicity\",\"She's the One\",\"Reality Bites\",\"Six Degrees of Separation\"],\"textfont\":{\"color\":\"#E58606\"},\"textposition\":\"top right\",\"x\":[18.440967559814453,3.0115609169006348,-7.622917175292969,0.300231397151947,-15.11357307434082,-15.486275672912598,-0.5326389670372009,-18.110599517822266,-6.908409595489502,-11.79488468170166,-11.591551780700684,18.12451171875,-8.895967483520508,-16.971872329711914,-9.351519584655762,-6.76538610458374,5.864996910095215,-4.474179267883301,-16.74557876586914,5.934466361999512,19.902069091796875,-1.4730628728866577,5.591025352478027,-6.339389324188232,1.817905306816101,-3.142371416091919,-3.216085910797119,0.8729276657104492,21.928096771240234,-17.236263275146484,-2.5780673027038574,-0.4430972635746002,1.802798867225647,9.500636100769043,1.0912138223648071,-5.700021743774414,-21.564958572387695,-0.7909398078918457,-1.4907747507095337,-16.477155685424805,-14.90439510345459,-20.264846801757812,-19.328737258911133,5.269741535186768,18.1530704498291,-20.091773986816406,-0.722732663154602,9.972528457641602,21.530162811279297,-2.944924831390381,11.935969352722168,8.774346351623535,17.111873626708984,14.478849411010742,8.211528778076172,-18.42866325378418,-0.09760162234306335,10.091146469116211,4.856046676635742,7.867799758911133,-17.448211669921875,-22.207908630371094,7.407671928405762,-0.8983519673347473,10.39632511138916,16.56025505065918,-4.7594099044799805,-1.9780522584915161,18.19716453552246,16.779457092285156,0.3249308168888092,4.74049711227417,-18.453296661376953,16.983863830566406,-15.030050277709961,2.825652599334717,22.540531158447266,-17.54578971862793,24.730989456176758,8.299975395202637,18.680696487426758,3.4321281909942627,3.7111730575561523,0.34164732694625854,20.254676818847656,-5.260542869567871,-19.183116912841797,-7.917497158050537,-15.76615047454834,-13.242436408996582,-16.622753143310547,-6.9893670082092285,15.362577438354492,-5.152483940124512,-21.29588508605957,-15.631510734558105,-21.312274932861328,-23.52804946899414,12.629403114318848,0.10099860280752182,-0.6022346019744873,7.528432846069336,-1.2295916080474854,19.170265197753906,24.595293045043945,20.829133987426758,5.891720294952393,-11.436966896057129,-6.677684307098389,-10.306697845458984,-4.168566703796387,-18.511430740356445,23.25478744506836,3.3798155784606934,21.06093406677246,21.324636459350586,3.450859785079956,1.0453904867172241,8.809072494506836,7.039377689361572,-0.2110828161239624,-0.3513960838317871,7.547298431396484,-19.040014266967773,-0.17787912487983704,-6.5555925369262695,1.1030722856521606,-14.716133117675781,-1.3752871751785278,3.725951910018921,-6.5584235191345215,13.923763275146484,-13.401272773742676,-4.680560111999512,-6.986678600311279,-19.315082550048828,-21.425708770751953,-16.726484298706055,14.813255310058594,0.37298181653022766,-17.563459396362305,-7.682806491851807,-7.7710490226745605,-7.088892459869385,-6.134591579437256,3.691817045211792,9.299422264099121,6.33530855178833,24.736188888549805,-6.080459117889404,-5.267842769622803,-0.6700000762939453,7.053934097290039,15.31824779510498,-19.276124954223633,-8.57357406616211,-17.923959732055664,7.031020641326904,-6.2557196617126465,-7.732182502746582,-6.333343982696533,-18.798036575317383,4.033031463623047,-17.882516860961914,18.55736541748047,0.37286806106567383,4.950221061706543,4.8348236083984375,4.844114780426025,5.601592540740967,8.092900276184082,2.3585290908813477,-4.428977012634277,0.2319151610136032,-6.387461185455322,19.945993423461914,-14.527741432189941,21.290842056274414,-3.066115617752075,18.92270851135254,-4.713700294494629,-5.477691650390625,14.821300506591797,19.83477210998535,1.4431705474853516,4.4424262046813965,8.470285415649414,4.200122356414795,-15.044459342956543,18.93547821044922,-1.0887391567230225,-3.154837131500244,1.5293363332748413,20.340246200561523,-16.487102508544922,1.2708405256271362,-18.7895565032959,-10.301506042480469,7.32798433303833,-7.33759069442749,-6.111289978027344,-21.119903564453125,-0.8029348850250244,-20.411977767944336,-6.807876110076904,9.389777183532715,-16.48526954650879,-5.096237659454346,-18.159761428833008,-7.183071136474609,-16.14080047607422,21.236839294433594,-10.74567699432373,-20.673704147338867,-14.641498565673828,19.58759307861328,-0.4223425090312958,0.0381726436316967,-15.271197319030762,1.1353477239608765,18.90237045288086,-11.619514465332031,-17.072158813476562,14.178010940551758,-18.92906379699707,-7.802581310272217,-10.50406265258789,-16.92475128173828,-17.27257537841797,-17.3142032623291,-5.296922206878662,-18.174545288085938,-1.4498755931854248,-20.579946517944336,-6.708711624145508,6.864609718322754,18.28842544555664,-10.50790023803711,0.3984171152114868,-11.8705472946167,-17.148967742919922,-4.391336441040039,-17.025632858276367,-3.95296311378479,4.800647258758545,-15.116995811462402,-9.771123886108398,21.989334106445312,-19.496196746826172,-1.6487823724746704,-15.495295524597168,-1.490060567855835,8.101571083068848,-15.174890518188477,-18.59703826904297,3.02317476272583,16.905170440673828,-22.352245330810547,4.390243053436279,8.762041091918945,-1.6935938596725464,8.806671142578125,18.488943099975586,19.426794052124023,8.60101318359375,18.435672760009766,10.404751777648926,6.146235942840576,18.444137573242188,6.953514099121094,21.03217124938965,-1.1437618732452393,21.358781814575195,11.155960083007812,18.606338500976562,16.681371688842773,16.336685180664062,16.375728607177734,12.964951515197754,22.21675682067871,-18.950580596923828,20.897369384765625,-15.11933708190918,15.362640380859375,8.052226066589355,16.349224090576172,17.72762680053711,8.088248252868652,-5.996536731719971,-6.9722819328308105,-6.545763969421387,-6.818215847015381,4.714620113372803,6.89501428604126,-21.727781295776367,-23.269439697265625,-7.353061199188232,9.499856948852539,14.191913604736328,6.368319988250732,-6.3864426612854,8.800180435180664,17.104324340820312,-0.03900188207626343,-19.743900299072266,18.845556259155273,18.50777244567871,-10.349570274353027,11.0491304397583,14.771397590637207,-5.022083759307861,-12.588384628295898,5.8206634521484375,-22.31187629699707,17.3131046295166,-15.475882530212402,-19.34719467163086,-19.446563720703125,-20.0128173828125,-16.086305618286133,3.3723037242889404,-9.912285804748535,6.946158409118652,-3.861708641052246,3.809295415878296,-20.224458694458008,9.266079902648926,3.372129201889038,-7.842547416687012,-0.6104706525802612,-12.726143836975098,7.344539165496826,-21.021900177001953,-7.3980488777160645,-20.07489585876465,9.248059272766113,-8.227917671203613,-15.344494819641113,0.7463728785514832,-4.568416595458984,0.011360859498381615,7.844933986663818,-19.530290603637695,-13.805469512939453,3.6938259601593018,-3.2722976207733154,5.931661605834961,1.1891483068466187,-8.722524642944336,-0.6609970927238464,16.870441436767578,-18.46103858947754,16.297321319580078,-0.6260012984275818,-10.25739574432373,17.91126823425293,18.451980590820312,-20.10266876220703,-14.802233695983887,14.586165428161621,-3.825131893157959,3.6357271671295166,-22.50251579284668,-7.469311237335205,-4.532066822052002,-11.855531692504883,-1.4817278385162354,-12.165715217590332,-18.23066520690918,11.080236434936523,-17.447223663330078,6.287476062774658,-7.287506580352783,21.251474380493164,-1.6146074533462524,-20.724834442138672,-17.287954330444336,7.604472637176514,-9.644083023071289,1.1065819263458252,0.814211368560791,-1.035054087638855,-7.527623653411865,4.001628875732422,-21.181167602539062,-17.862367630004883,-17.656904220581055,5.814963340759277,-18.300294876098633,-19.070524215698242,9.54625415802002,19.08901596069336,-20.956283569335938,-1.7806024551391602,-17.170562744140625,7.568521499633789,-6.215789794921875,-17.957275390625,10.117685317993164,-19.748138427734375,-7.4796366691589355,9.007622718811035,-18.45928192138672,-6.081658363342285,19.671112060546875,8.7380952835083,-3.0227808952331543,-23.418203353881836,-2.970611095428467,12.2820463180542,19.96553611755371,-17.021167755126953,20.746450424194336,3.551673173904419,8.200665473937988,18.345439910888672,-6.859377861022949,19.46954345703125,-11.877433776855469,-0.6776848435401917,9.29226016998291,3.841252088546753,22.53962516784668,21.381855010986328,8.182544708251953,20.539297103881836,8.703866958618164,-0.7533512711524963,-7.231240272521973,6.88879919052124,4.009512424468994,22.83896827697754,-13.869300842285156,3.697828531265259,-6.554033279418945,18.36894989013672,9.506550788879395,-12.989006042480469,-2.04379940032959,17.84627342224121,3.958503484725952,8.377620697021484,-20.931432723999023,20.574234008789062,7.491086959838867,-2.2739439010620117,-19.191431045532227],\"y\":[-1.1656420230865479,-16.98740005493164,-16.68331527709961,16.12972640991211,-12.920188903808594,-2.8549532890319824,11.648961067199707,1.763074278831482,0.7588027715682983,-13.887948036193848,-14.122852325439453,7.647613525390625,8.870698928833008,0.24879443645477295,-13.97042179107666,7.338132858276367,-16.222810745239258,-0.48844635486602783,-14.857074737548828,-8.189774513244629,10.89633846282959,-22.06303596496582,-6.938082695007324,-1.9902805089950562,5.170236110687256,-19.026565551757812,-14.745966911315918,-12.083334922790527,10.18437385559082,-15.370013236999512,16.566659927368164,16.163049697875977,5.165406703948975,15.24626636505127,-6.309782028198242,2.9422709941864014,2.5435478687286377,-19.00983428955078,-22.102169036865234,-11.734445571899414,-8.250577926635742,-0.6915895342826843,0.24832896888256073,-12.34790325164795,0.5149189233779907,1.0217270851135254,16.094511032104492,15.167734146118164,7.199804782867432,-19.11791229248047,14.207823753356934,15.395880699157715,-2.7951536178588867,6.979050159454346,1.031339406967163,-13.950244903564453,-19.45753288269043,14.92378044128418,-13.190781593322754,14.371987342834473,2.4435648918151855,0.34405428171157837,15.931599617004395,-10.372593879699707,11.214527130126953,-0.3135860860347748,-17.766698837280273,15.80116081237793,0.660570502281189,-1.7808165550231934,-14.747235298156738,0.008609119802713394,-16.465681076049805,-3.800922393798828,-12.929459571838379,-10.39863109588623,8.939949989318848,-14.298864364624023,6.572921276092529,15.333514213562012,9.913810729980469,-16.81620979309082,-17.87929916381836,-8.035072326660156,7.644984722137451,-8.548500061035156,-6.527909278869629,9.231902122497559,4.164066791534424,-8.20252799987793,-11.716552734375,8.651285171508789,-4.743478298187256,2.899076223373413,4.2520246505737305,-17.245576858520508,-0.6974817514419556,0.8769901990890503,-8.161718368530273,-18.872133255004883,-19.518905639648438,-9.541775703430176,16.30636215209961,-0.5700318813323975,6.591531753540039,10.024971008300781,10.735957145690918,-14.088529586791992,-0.29354411363601685,-18.59307098388672,-18.13827896118164,6.142591953277588,9.490188598632812,-14.448158264160156,11.396674156188965,4.342582702636719,14.798047065734863,-6.107149124145508,-6.207884788513184,-9.64885139465332,-10.466172218322754,-13.493067741394043,0.7932463884353638,-0.7218146324157715,-10.490829467773438,-0.5427826642990112,-6.307665824890137,-8.597743034362793,-13.611742973327637,-9.270970344543457,-12.671768188476562,1.6980880498886108,-8.249133110046387,-1.0176159143447876,1.0879251956939697,-6.426629543304443,1.0349215269088745,-0.5203353762626648,6.555819034576416,-14.721750259399414,0.110170379281044,8.367490768432617,-16.669269561767578,0.09025294333696365,-10.688554763793945,-9.124261856079102,16.61744499206543,0.7831949591636658,6.572997570037842,-0.1657095104455948,-8.551974296569824,18.58491325378418,-9.625175476074219,13.231943130493164,4.142472743988037,0.8369051218032837,-1.566918969154358,15.473031997680664,-12.005358695983887,-16.654874801635742,-10.852350234985352,3.8919548988342285,-11.94453239440918,-15.929567337036133,0.4075199365615845,-19.437349319458008,-11.414519309997559,-11.67162799835205,-11.901570320129395,-6.901968955993652,1.001215934753418,-20.290157318115234,-11.136810302734375,-7.860044479370117,9.694197654724121,8.56913948059082,-6.767981052398682,4.3396430015563965,0.9567089080810547,9.202981948852539,-2.282273530960083,8.908245086669922,6.495635032653809,6.75596809387207,-11.827571868896484,-13.848261833190918,14.280805587768555,-10.473967552185059,-3.0532877445220947,1.1673136949539185,-15.121749877929688,-14.713184356689453,-19.52967643737793,10.142763137817383,-16.74455451965332,-7.94959831237793,0.4278612732887268,-14.00321102142334,14.986418724060059,7.015081405639648,9.282245635986328,2.7221415042877197,-18.339937210083008,4.742523670196533,7.931089401245117,14.451894760131836,3.0438952445983887,3.1162853240966797,3.4146249294281006,-13.066692352294922,6.4046502113342285,7.781054973602295,-19.128501892089844,1.388604998588562,-8.241477012634277,10.489874839782715,-20.18523597717285,-14.900474548339844,-9.334211349487305,-18.87447166442871,8.372130393981934,-16.14116096496582,4.017148494720459,-6.25832986831665,1.5958110094070435,7.369485855102539,-15.957058906555176,3.6543338298797607,-12.048792839050293,-7.614827632904053,6.952190399169922,-15.028780937194824,16.699357986450195,1.726691722869873,0.5163864493370056,12.080164909362793,6.918822765350342,-18.568038940429688,-20.79657554626465,-19.217866897583008,-15.248767852783203,-1.0048431158065796,-7.743269443511963,-20.17313575744629,-17.37255096435547,-12.889655113220215,-18.935810089111328,9.477182388305664,2.787515163421631,-12.801494598388672,-8.201444625854492,17.419017791748047,13.731608390808105,-16.7679443359375,1.8281810283660889,-14.997620582580566,9.253189086914062,4.519274711608887,-11.758282661437988,14.151212692260742,17.037925720214844,-6.162226676940918,10.45517349243164,9.2983980178833,-7.3341450691223145,11.480203628540039,11.2147855758667,-7.002131462097168,-2.7824299335479736,-10.550044059753418,4.047568321228027,15.651357650756836,10.566133499145508,16.32448959350586,11.578900337219238,-3.6864311695098877,-0.41315242648124695,-3.5733470916748047,-8.241461753845215,8.103737831115723,-1.1479709148406982,8.413187026977539,-3.018139123916626,13.219112396240234,-9.338783264160156,-3.0261714458465576,8.523731231689453,1.0056713819503784,-10.4896240234375,-10.638245582580566,-10.653943061828613,-9.868429183959961,-11.589174270629883,12.02929401397705,-1.1328048706054688,-0.4030911326408386,8.263723373413086,-11.940019607543945,-6.199102878570557,0.7636914253234863,-0.6731429100036621,-9.217299461364746,-3.442302942276001,-8.130351066589355,1.6484490633010864,10.154897689819336,0.6154757142066956,-18.46591567993164,9.90949821472168,6.607158184051514,3.1439428329467773,-18.179920196533203,10.653141021728516,3.4481325149536133,-2.9621424674987793,-8.355132102966309,1.2220213413238525,4.9283881187438965,-0.3130742609500885,2.561147928237915,-4.549628734588623,-19.631616592407227,13.95097541809082,-1.1190249919891357,15.040610313415527,0.23321707546710968,-11.398433685302734,-4.544079780578613,-0.5438072085380554,17.16325569152832,-18.341827392578125,-7.879116058349609,1.846561312675476,-0.863663375377655,3.7973408699035645,-11.348017692565918,8.26417064666748,-7.306606292724609,-18.686552047729492,2.5540812015533447,-18.52794647216797,-9.975313186645508,-14.642599105834961,0.6658865809440613,-16.857637405395508,-19.816625595092773,-8.22916030883789,-11.87879753112793,7.878027439117432,11.322343826293945,-2.900151491165161,-14.898099899291992,-2.8653197288513184,-18.785470962524414,-18.3900146484375,9.481340408325195,-3.2169814109802246,-1.9128841161727905,-7.876873016357422,1.485565185546875,1.1982877254486084,-15.004215240478516,1.5810446739196777,-0.022601637989282608,-0.7869426608085632,-17.469890594482422,14.542722702026367,-16.771120071411133,0.3888595998287201,9.491744041442871,3.0647714138031006,0.7241947054862976,9.352798461914062,9.214787483215332,-13.121536254882812,0.623623251914978,-15.784466743469238,-9.0595064163208,-17.139667510986328,-18.276851654052734,-19.407739639282227,-19.907255172729492,0.5105748772621155,15.50580883026123,0.47746676206588745,-15.070300102233887,5.040430545806885,10.654030799865723,4.83087158203125,3.3464603424072266,13.956121444702148,8.008529663085938,5.892882823944092,16.155885696411133,-14.68588924407959,-5.788794040679932,8.33551025390625,2.7369296550750732,16.170555114746094,2.2577202320098877,10.016138076782227,13.43362808227539,-15.452448844909668,0.6303353309631348,8.034266471862793,15.948800086975098,-19.05345344543457,2.7825376987457275,-18.99378776550293,-8.245677947998047,9.301671028137207,0.7712502479553223,9.46435546875,14.881649017333984,14.943548202514648,8.21556282043457,8.574286460876465,-1.3863569498062134,-15.698714256286621,-14.430354118347168,-11.698912620544434,-14.699041366577148,11.375113487243652,8.809383392333984,15.980294227600098,12.048483848571777,14.940831184387207,-16.978702545166016,-13.089783668518066,-13.022987365722656,-0.4864652454853058,10.47127914428711,0.7844524383544922,-17.274837493896484,7.512060165405273,-3.39326548576355,15.757798194885254,-10.57524585723877,17.73096466064453,9.708574295043945,-16.5000057220459,16.881345748901367,3.1368789672851562,9.085658073425293,16.633865356445312,15.973289489746094,-6.529538631439209],\"type\":\"scatter\"}],                        {\"margin\":{\"b\":10,\"l\":10,\"r\":10,\"t\":10},\"plot_bgcolor\":\"white\",\"xaxis\":{\"mirror\":true,\"showgrid\":false,\"title\":{\"text\":\"feature 1\"}},\"yaxis\":{\"mirror\":true,\"showgrid\":false,\"title\":{\"text\":\"feature 2\"}},\"template\":{\"data\":{\"bar\":[{\"error_x\":{\"color\":\"#2a3f5f\"},\"error_y\":{\"color\":\"#2a3f5f\"},\"marker\":{\"line\":{\"color\":\"#E5ECF6\",\"width\":0.5},\"pattern\":{\"fillmode\":\"overlay\",\"size\":10,\"solidity\":0.2}},\"type\":\"bar\"}],\"barpolar\":[{\"marker\":{\"line\":{\"color\":\"#E5ECF6\",\"width\":0.5},\"pattern\":{\"fillmode\":\"overlay\",\"size\":10,\"solidity\":0.2}},\"type\":\"barpolar\"}],\"carpet\":[{\"aaxis\":{\"endlinecolor\":\"#2a3f5f\",\"gridcolor\":\"white\",\"linecolor\":\"white\",\"minorgridcolor\":\"white\",\"startlinecolor\":\"#2a3f5f\"},\"baxis\":{\"endlinecolor\":\"#2a3f5f\",\"gridcolor\":\"white\",\"linecolor\":\"white\",\"minorgridcolor\":\"white\",\"startlinecolor\":\"#2a3f5f\"},\"type\":\"carpet\"}],\"choropleth\":[{\"colorbar\":{\"outlinewidth\":0,\"ticks\":\"\"},\"type\":\"choropleth\"}],\"contour\":[{\"colorbar\":{\"outlinewidth\":0,\"ticks\":\"\"},\"colorscale\":[[0.0,\"#0d0887\"],[0.1111111111111111,\"#46039f\"],[0.2222222222222222,\"#7201a8\"],[0.3333333333333333,\"#9c179e\"],[0.4444444444444444,\"#bd3786\"],[0.5555555555555556,\"#d8576b\"],[0.6666666666666666,\"#ed7953\"],[0.7777777777777778,\"#fb9f3a\"],[0.8888888888888888,\"#fdca26\"],[1.0,\"#f0f921\"]],\"type\":\"contour\"}],\"contourcarpet\":[{\"colorbar\":{\"outlinewidth\":0,\"ticks\":\"\"},\"type\":\"contourcarpet\"}],\"heatmap\":[{\"colorbar\":{\"outlinewidth\":0,\"ticks\":\"\"},\"colorscale\":[[0.0,\"#0d0887\"],[0.1111111111111111,\"#46039f\"],[0.2222222222222222,\"#7201a8\"],[0.3333333333333333,\"#9c179e\"],[0.4444444444444444,\"#bd3786\"],[0.5555555555555556,\"#d8576b\"],[0.6666666666666666,\"#ed7953\"],[0.7777777777777778,\"#fb9f3a\"],[0.8888888888888888,\"#fdca26\"],[1.0,\"#f0f921\"]],\"type\":\"heatmap\"}],\"heatmapgl\":[{\"colorbar\":{\"outlinewidth\":0,\"ticks\":\"\"},\"colorscale\":[[0.0,\"#0d0887\"],[0.1111111111111111,\"#46039f\"],[0.2222222222222222,\"#7201a8\"],[0.3333333333333333,\"#9c179e\"],[0.4444444444444444,\"#bd3786\"],[0.5555555555555556,\"#d8576b\"],[0.6666666666666666,\"#ed7953\"],[0.7777777777777778,\"#fb9f3a\"],[0.8888888888888888,\"#fdca26\"],[1.0,\"#f0f921\"]],\"type\":\"heatmapgl\"}],\"histogram\":[{\"marker\":{\"pattern\":{\"fillmode\":\"overlay\",\"size\":10,\"solidity\":0.2}},\"type\":\"histogram\"}],\"histogram2d\":[{\"colorbar\":{\"outlinewidth\":0,\"ticks\":\"\"},\"colorscale\":[[0.0,\"#0d0887\"],[0.1111111111111111,\"#46039f\"],[0.2222222222222222,\"#7201a8\"],[0.3333333333333333,\"#9c179e\"],[0.4444444444444444,\"#bd3786\"],[0.5555555555555556,\"#d8576b\"],[0.6666666666666666,\"#ed7953\"],[0.7777777777777778,\"#fb9f3a\"],[0.8888888888888888,\"#fdca26\"],[1.0,\"#f0f921\"]],\"type\":\"histogram2d\"}],\"histogram2dcontour\":[{\"colorbar\":{\"outlinewidth\":0,\"ticks\":\"\"},\"colorscale\":[[0.0,\"#0d0887\"],[0.1111111111111111,\"#46039f\"],[0.2222222222222222,\"#7201a8\"],[0.3333333333333333,\"#9c179e\"],[0.4444444444444444,\"#bd3786\"],[0.5555555555555556,\"#d8576b\"],[0.6666666666666666,\"#ed7953\"],[0.7777777777777778,\"#fb9f3a\"],[0.8888888888888888,\"#fdca26\"],[1.0,\"#f0f921\"]],\"type\":\"histogram2dcontour\"}],\"mesh3d\":[{\"colorbar\":{\"outlinewidth\":0,\"ticks\":\"\"},\"type\":\"mesh3d\"}],\"parcoords\":[{\"line\":{\"colorbar\":{\"outlinewidth\":0,\"ticks\":\"\"}},\"type\":\"parcoords\"}],\"pie\":[{\"automargin\":true,\"type\":\"pie\"}],\"scatter\":[{\"marker\":{\"colorbar\":{\"outlinewidth\":0,\"ticks\":\"\"}},\"type\":\"scatter\"}],\"scatter3d\":[{\"line\":{\"colorbar\":{\"outlinewidth\":0,\"ticks\":\"\"}},\"marker\":{\"colorbar\":{\"outlinewidth\":0,\"ticks\":\"\"}},\"type\":\"scatter3d\"}],\"scattercarpet\":[{\"marker\":{\"colorbar\":{\"outlinewidth\":0,\"ticks\":\"\"}},\"type\":\"scattercarpet\"}],\"scattergeo\":[{\"marker\":{\"colorbar\":{\"outlinewidth\":0,\"ticks\":\"\"}},\"type\":\"scattergeo\"}],\"scattergl\":[{\"marker\":{\"colorbar\":{\"outlinewidth\":0,\"ticks\":\"\"}},\"type\":\"scattergl\"}],\"scattermapbox\":[{\"marker\":{\"colorbar\":{\"outlinewidth\":0,\"ticks\":\"\"}},\"type\":\"scattermapbox\"}],\"scatterpolar\":[{\"marker\":{\"colorbar\":{\"outlinewidth\":0,\"ticks\":\"\"}},\"type\":\"scatterpolar\"}],\"scatterpolargl\":[{\"marker\":{\"colorbar\":{\"outlinewidth\":0,\"ticks\":\"\"}},\"type\":\"scatterpolargl\"}],\"scatterternary\":[{\"marker\":{\"colorbar\":{\"outlinewidth\":0,\"ticks\":\"\"}},\"type\":\"scatterternary\"}],\"surface\":[{\"colorbar\":{\"outlinewidth\":0,\"ticks\":\"\"},\"colorscale\":[[0.0,\"#0d0887\"],[0.1111111111111111,\"#46039f\"],[0.2222222222222222,\"#7201a8\"],[0.3333333333333333,\"#9c179e\"],[0.4444444444444444,\"#bd3786\"],[0.5555555555555556,\"#d8576b\"],[0.6666666666666666,\"#ed7953\"],[0.7777777777777778,\"#fb9f3a\"],[0.8888888888888888,\"#fdca26\"],[1.0,\"#f0f921\"]],\"type\":\"surface\"}],\"table\":[{\"cells\":{\"fill\":{\"color\":\"#EBF0F8\"},\"line\":{\"color\":\"white\"}},\"header\":{\"fill\":{\"color\":\"#C8D4E3\"},\"line\":{\"color\":\"white\"}},\"type\":\"table\"}]},\"layout\":{\"annotationdefaults\":{\"arrowcolor\":\"#2a3f5f\",\"arrowhead\":0,\"arrowwidth\":1},\"autotypenumbers\":\"strict\",\"coloraxis\":{\"colorbar\":{\"outlinewidth\":0,\"ticks\":\"\"}},\"colorscale\":{\"diverging\":[[0,\"#8e0152\"],[0.1,\"#c51b7d\"],[0.2,\"#de77ae\"],[0.3,\"#f1b6da\"],[0.4,\"#fde0ef\"],[0.5,\"#f7f7f7\"],[0.6,\"#e6f5d0\"],[0.7,\"#b8e186\"],[0.8,\"#7fbc41\"],[0.9,\"#4d9221\"],[1,\"#276419\"]],\"sequential\":[[0.0,\"#0d0887\"],[0.1111111111111111,\"#46039f\"],[0.2222222222222222,\"#7201a8\"],[0.3333333333333333,\"#9c179e\"],[0.4444444444444444,\"#bd3786\"],[0.5555555555555556,\"#d8576b\"],[0.6666666666666666,\"#ed7953\"],[0.7777777777777778,\"#fb9f3a\"],[0.8888888888888888,\"#fdca26\"],[1.0,\"#f0f921\"]],\"sequentialminus\":[[0.0,\"#0d0887\"],[0.1111111111111111,\"#46039f\"],[0.2222222222222222,\"#7201a8\"],[0.3333333333333333,\"#9c179e\"],[0.4444444444444444,\"#bd3786\"],[0.5555555555555556,\"#d8576b\"],[0.6666666666666666,\"#ed7953\"],[0.7777777777777778,\"#fb9f3a\"],[0.8888888888888888,\"#fdca26\"],[1.0,\"#f0f921\"]]},\"colorway\":[\"#636efa\",\"#EF553B\",\"#00cc96\",\"#ab63fa\",\"#FFA15A\",\"#19d3f3\",\"#FF6692\",\"#B6E880\",\"#FF97FF\",\"#FECB52\"],\"font\":{\"color\":\"#2a3f5f\"},\"geo\":{\"bgcolor\":\"white\",\"lakecolor\":\"white\",\"landcolor\":\"#E5ECF6\",\"showlakes\":true,\"showland\":true,\"subunitcolor\":\"white\"},\"hoverlabel\":{\"align\":\"left\"},\"hovermode\":\"closest\",\"mapbox\":{\"style\":\"light\"},\"paper_bgcolor\":\"white\",\"plot_bgcolor\":\"#E5ECF6\",\"polar\":{\"angularaxis\":{\"gridcolor\":\"white\",\"linecolor\":\"white\",\"ticks\":\"\"},\"bgcolor\":\"#E5ECF6\",\"radialaxis\":{\"gridcolor\":\"white\",\"linecolor\":\"white\",\"ticks\":\"\"}},\"scene\":{\"xaxis\":{\"backgroundcolor\":\"#E5ECF6\",\"gridcolor\":\"white\",\"gridwidth\":2,\"linecolor\":\"white\",\"showbackground\":true,\"ticks\":\"\",\"zerolinecolor\":\"white\"},\"yaxis\":{\"backgroundcolor\":\"#E5ECF6\",\"gridcolor\":\"white\",\"gridwidth\":2,\"linecolor\":\"white\",\"showbackground\":true,\"ticks\":\"\",\"zerolinecolor\":\"white\"},\"zaxis\":{\"backgroundcolor\":\"#E5ECF6\",\"gridcolor\":\"white\",\"gridwidth\":2,\"linecolor\":\"white\",\"showbackground\":true,\"ticks\":\"\",\"zerolinecolor\":\"white\"}},\"shapedefaults\":{\"line\":{\"color\":\"#2a3f5f\"}},\"ternary\":{\"aaxis\":{\"gridcolor\":\"white\",\"linecolor\":\"white\",\"ticks\":\"\"},\"baxis\":{\"gridcolor\":\"white\",\"linecolor\":\"white\",\"ticks\":\"\"},\"bgcolor\":\"#E5ECF6\",\"caxis\":{\"gridcolor\":\"white\",\"linecolor\":\"white\",\"ticks\":\"\"}},\"title\":{\"x\":0.05},\"xaxis\":{\"automargin\":true,\"gridcolor\":\"white\",\"linecolor\":\"white\",\"ticks\":\"\",\"title\":{\"standoff\":15},\"zerolinecolor\":\"white\",\"zerolinewidth\":2},\"yaxis\":{\"automargin\":true,\"gridcolor\":\"white\",\"linecolor\":\"white\",\"ticks\":\"\",\"title\":{\"standoff\":15},\"zerolinecolor\":\"white\",\"zerolinewidth\":2}}}},                        {\"responsive\": true}                    ).then(function(){\n",
              "                            \n",
              "var gd = document.getElementById('331c4c8c-7901-4dfc-ac2f-dbd5f6c610b5');\n",
              "var x = new MutationObserver(function (mutations, observer) {{\n",
              "        var display = window.getComputedStyle(gd).display;\n",
              "        if (!display || display === 'none') {{\n",
              "            console.log([gd, 'removed!']);\n",
              "            Plotly.purge(gd);\n",
              "            observer.disconnect();\n",
              "        }}\n",
              "}});\n",
              "\n",
              "// Listen for the removal of the full notebook cells\n",
              "var notebookContainer = gd.closest('#notebook-container');\n",
              "if (notebookContainer) {{\n",
              "    x.observe(notebookContainer, {childList: true});\n",
              "}}\n",
              "\n",
              "// Listen for the clearing of the current output cell\n",
              "var outputEl = gd.closest('.output');\n",
              "if (outputEl) {{\n",
              "    x.observe(outputEl, {childList: true});\n",
              "}}\n",
              "\n",
              "                        })                };                            </script>        </div>\n",
              "</body>\n",
              "</html>"
            ]
          },
          "metadata": {}
        }
      ],
      "source": [
        "fig = go.Figure(data=data, layout=layout)\n",
        "fig.show()\n",
        "fig.write_html('/content/embeddings.html')"
      ]
    },
    {
      "cell_type": "markdown",
      "source": [
        "# **DNN model**"
      ],
      "metadata": {
        "id": "gDqPUrNyCiyZ"
      }
    },
    {
      "cell_type": "code",
      "source": [
        "data = pd.read_csv('/content/ml-100k/u.data', header=None, delimiter='\\t')\n",
        "data.columns=['userid','itemid','rating','timestamp']\n",
        "users = pd.read_csv('/content/ml-100k/u.user', header=None, delimiter='\\|')\n",
        "users.columns=['userid','age','gender','accupation','zipcode']"
      ],
      "metadata": {
        "colab": {
          "base_uri": "https://localhost:8080/"
        },
        "id": "gSCjotEm1v6w",
        "outputId": "e81d1717-fcde-4ea1-bdbb-c3a38c3ef7e6"
      },
      "execution_count": 23,
      "outputs": [
        {
          "output_type": "stream",
          "name": "stderr",
          "text": [
            "/usr/local/lib/python3.7/dist-packages/pandas/util/_decorators.py:311: ParserWarning:\n",
            "\n",
            "Falling back to the 'python' engine because the 'c' engine does not support regex separators (separators > 1 char and different from '\\s+' are interpreted as regex); you can avoid this warning by specifying engine='python'.\n",
            "\n"
          ]
        }
      ]
    },
    {
      "cell_type": "code",
      "source": [
        "dropindex=[]\n",
        "for i,row in data.iterrows():\n",
        "    if (row['userid'] in us[0]) and (row['itemid'] in it[0]):\n",
        "        pass\n",
        "    else:\n",
        "        dropindex.append(i)\n",
        "data.drop(dropindex, inplace = True)\n",
        "data=data.reset_index()\n",
        "# data"
      ],
      "metadata": {
        "id": "RKDNrErW10iG"
      },
      "execution_count": 39,
      "outputs": []
    },
    {
      "cell_type": "code",
      "source": [
        "users=users.reset_index()\n",
        "users=users.rename({'level_0':'newuserid'},axis='columns')"
      ],
      "metadata": {
        "id": "KFozhqnQFMYq"
      },
      "execution_count": 25,
      "outputs": []
    },
    {
      "cell_type": "code",
      "source": [
        "items=items.reset_index()\n",
        "items=items.rename({'level_0':'newmovieid'},axis='columns')"
      ],
      "metadata": {
        "id": "EXYL1IGbDLnA"
      },
      "execution_count": null,
      "outputs": []
    },
    {
      "cell_type": "code",
      "source": [
        "finaldata=pd.merge(pd.merge(data,users, left_on='userid', right_on='userid', how='left'),items,left_on='itemid', right_on='movieid', how='left').drop('itemid', axis=1)\n",
        "finaldata=finaldata.fillna(0)\n",
        "finaldata.columns"
      ],
      "metadata": {
        "id": "p2NfCNwv_Gvd",
        "colab": {
          "base_uri": "https://localhost:8080/"
        },
        "outputId": "e35f5afb-496d-456f-d9b9-313fa410bfb5"
      },
      "execution_count": 46,
      "outputs": [
        {
          "output_type": "execute_result",
          "data": {
            "text/plain": [
              "Index(['level_0', 'index_x', 'userid', 'rating', 'timestamp', 'newuserid',\n",
              "       'index_y', 'age', 'gender', 'accupation', 'zipcode', 'newmovieid',\n",
              "       'index', 'movieid', 'movietitle', 'releasedate', 'videoreleasedate',\n",
              "       'imdburl', 'genre', 'plot', 'trailervec', 'senPlotEmbb', 'actors',\n",
              "       'director', 'imdbrating', 'actorsEmbb', 'directorEmbb', 'finalvec',\n",
              "       'genredesc', 'movieTextInfo', 'movieTextInfoEmbb'],\n",
              "      dtype='object')"
            ]
          },
          "metadata": {},
          "execution_count": 46
        }
      ]
    },
    {
      "cell_type": "code",
      "source": [
        "trainfinaldata, testfinaldata = train_test_split(finaldata, test_size=0.2, random_state=69)"
      ],
      "metadata": {
        "id": "GEMC4VkjBF1A"
      },
      "execution_count": 131,
      "outputs": []
    },
    {
      "cell_type": "code",
      "source": [
        "EMBEDDING_SIZE=len(trainfinaldata['finalvec'][0])\n",
        "NUM_MOVIES=len(items)\n",
        "NUM_USERS=len(users)\n",
        "ROW_COUNT=len(trainfinaldata)"
      ],
      "metadata": {
        "id": "MGAZp-usDcZ1"
      },
      "execution_count": 132,
      "outputs": []
    },
    {
      "cell_type": "code",
      "source": [
        "EMBEDDING_SIZE # size of our calculated final movie vector "
      ],
      "metadata": {
        "colab": {
          "base_uri": "https://localhost:8080/"
        },
        "id": "AjiH8PEEtQOY",
        "outputId": "b7e21061-8fb8-4677-977b-64325b75f78a"
      },
      "execution_count": 133,
      "outputs": [
        {
          "output_type": "execute_result",
          "data": {
            "text/plain": [
              "703"
            ]
          },
          "metadata": {},
          "execution_count": 133
        }
      ]
    },
    {
      "cell_type": "code",
      "source": [
        "def EmbeddingRec(EMBEDDING_SIZE, EMBB_MOVIES, NUM_MOVIES, NUM_USERS, ROW_COUNT):\n",
        "    movie_input = keras.Input(shape=(1,), name='movie_id')\n",
        "    movie_emb = layers.Embedding(output_dim=EMBEDDING_SIZE, input_dim=NUM_MOVIES, input_length=ROW_COUNT, name='movie_emb',embeddings_initializer=tf.constant_initializer(EMBB_MOVIES))(movie_input) # gining our embeddings as imitial weights\n",
        "    movie_vec = layers.Flatten(name='FlattenMovie')(movie_emb)\n",
        "    movie_model = keras.Model(inputs=movie_input, outputs=movie_vec) # movie model\n",
        "    \n",
        "    user_input = keras.Input(shape=(1,), name='user_id')\n",
        "    user_emb = layers.Embedding(output_dim=EMBEDDING_SIZE, input_dim=NUM_USERS, input_length=ROW_COUNT, name='user_emb')(user_input)\n",
        "    user_vec = layers.Flatten(name='FlattenUser')(user_emb)\n",
        "    user_model = keras.Model(inputs=user_input, outputs=user_vec) # user model\n",
        "    \n",
        "    merged = layers.Dot(name = 'dot_product', normalize = True, axes = 2)([movie_emb, user_emb])\n",
        "    merged_dropout = layers.Dropout(0.2)(merged)\n",
        "    \n",
        "    dense_1 = layers.Dense(70,name='FullyConnected-1')(merged)\n",
        "    dropout_1 = layers.Dropout(0.2,name='Dropout_1')(dense_1)\n",
        "\n",
        "    dense_2 = layers.Dense(50,name='FullyConnected-2')(dropout_1)\n",
        "    dropout_2 = layers.Dropout(0.2,name='Dropout_2')(dense_2)\n",
        "\n",
        "    dense_3 = keras.layers.Dense(20,name='FullyConnected-3')(dropout_2)\n",
        "    dropout_3 = keras.layers.Dropout(0.2,name='Dropout_3')(dense_3)\n",
        "\n",
        "    dense_4 = keras.layers.Dense(10,name='FullyConnected-4', activation='relu')(dropout_3)\n",
        "\n",
        "    result = layers.Dense(1, name='result', activation=\"relu\") (dense_4)\n",
        "\n",
        "    adam = tf.keras.optimizers.Adam(learning_rate=0.001)\n",
        "    model = keras.Model([movie_input, user_input], result) # combined model\n",
        "    model.compile(optimizer=adam,loss= 'mean_squared_error') #'mean_absolute_error')\n",
        "    return model, movie_model, user_model"
      ],
      "metadata": {
        "id": "WisqybW2CqA6"
      },
      "execution_count": 110,
      "outputs": []
    },
    {
      "cell_type": "code",
      "source": [
        "def get_model(EMBEDDING_SIZE,NUM_MOVIES, NUM_USERS, ROW_COUNT):\n",
        "  model, movie_model, user_model = EmbeddingRec(EMBEDDING_SIZE,np.array(items['finalvec'].tolist()), NUM_MOVIES, NUM_USERS, ROW_COUNT) \n",
        "  return model, movie_model, user_model "
      ],
      "metadata": {
        "id": "P5N_o6q1GVPA"
      },
      "execution_count": 111,
      "outputs": []
    },
    {
      "cell_type": "code",
      "source": [
        "def get_score(model,traindata,testdata,threshold):\n",
        "  history = model.fit([traindata.newmovieid, traindata.newuserid],traindata.rating, batch_size=100,\n",
        "                              epochs =25, \n",
        "                              verbose = 1)\n",
        "  ypred=[]\n",
        "  for i,row in testdata.iterrows():\n",
        "    if i%100==0:\n",
        "      print(i)\n",
        "    ypred.append(model.predict([np.array([row['newmovieid']]), np.array([row['newuserid']])])[0][0][0])\n",
        "  ygold=testdata['rating'].tolist()\n",
        "\n",
        "  y_gold=[0 if i<=threshold else 1 for i in ygold]\n",
        "  y_pred=[0 if round(i)<=threshold else 1 for i in ypred]\n",
        "\n",
        "  aps=average_precision_score(y_gold, y_pred)\n",
        "  rmse=math.sqrt(mean_squared_error(ygold,ypred))\n",
        "  prec=precision_score(y_gold,y_pred)\n",
        "  rec=recall_score(y_gold,y_pred)\n",
        "\n",
        "  return aps,rmse,prec,rec"
      ],
      "metadata": {
        "id": "EEIuxTeXGjnE"
      },
      "execution_count": 113,
      "outputs": []
    },
    {
      "cell_type": "code",
      "source": [
        "kfold = KFold(n_splits=5, shuffle = True, random_state = 69)\n",
        "kfold"
      ],
      "metadata": {
        "colab": {
          "base_uri": "https://localhost:8080/"
        },
        "id": "iYBnFAayH59d",
        "outputId": "5716210a-ce5b-4b85-b609-825279f40ecd"
      },
      "execution_count": 114,
      "outputs": [
        {
          "output_type": "execute_result",
          "data": {
            "text/plain": [
              "KFold(n_splits=5, random_state=69, shuffle=True)"
            ]
          },
          "metadata": {},
          "execution_count": 114
        }
      ]
    },
    {
      "cell_type": "code",
      "source": [
        "# KFold Cross-Validation style Evaluation:\n",
        "test_aps = []  # stores test average precision score found in each fold\n",
        "test_rmse = []  # stores test rmse found in each fold\n",
        "test_prec = []  # stores test precision found in each fold\n",
        "test_rec = []  # stores test recall found in each fold\n",
        "\n",
        "k = 1\n",
        "for train_index, test_index in kfold.split(finaldata): # here the entire dataset (train+test) is given\n",
        "  print(f\"{k}-th fold:\")\n",
        "  k += 1\n",
        "\n",
        "  # Split the dataset into K-splits:\n",
        "  traindata, testdata = finaldata.iloc[train_index], finaldata.iloc[test_index] \n",
        "\n",
        "  # Model constants\n",
        "  EMBEDDING_SIZE=703\n",
        "  NUM_MOVIES=len(items)\n",
        "  NUM_USERS=len(users)\n",
        "  ROW_COUNT=len(traindata)\n",
        "  THRESHOLD=3\n",
        "\n",
        "  # Train the model and get the test accuracy for current fold: \n",
        "  recSysModel, moviemodel, usermodel = get_model(EMBEDDING_SIZE,NUM_MOVIES, NUM_USERS, ROW_COUNT) \n",
        "  aps,rmse,prec,rec=get_score(recSysModel,traindata,testdata,THRESHOLD)  # threshold = 3, as used in SOTA RecSys Model  \n",
        "  test_aps.append(aps)\n",
        "  test_rmse.append(rmse)\n",
        "  test_prec.append(prec)\n",
        "  test_rec.append(rec)"
      ],
      "metadata": {
        "id": "5NavA7uRH_Wr"
      },
      "execution_count": null,
      "outputs": []
    },
    {
      "cell_type": "code",
      "source": [
        "max(test_aps),min(test_rmse),max(test_prec),max(test_rec)"
      ],
      "metadata": {
        "colab": {
          "base_uri": "https://localhost:8080/"
        },
        "id": "GS9YrSQtRhl0",
        "outputId": "cb14a540-7fcf-4a0f-f86d-8288de753145"
      },
      "execution_count": 121,
      "outputs": [
        {
          "output_type": "execute_result",
          "data": {
            "text/plain": [
              "(0.7114137595896182, 0.937213932655465, 0.7881910045571626, 0.750345590268178)"
            ]
          },
          "metadata": {},
          "execution_count": 121
        }
      ]
    },
    {
      "cell_type": "markdown",
      "source": [
        "test model"
      ],
      "metadata": {
        "id": "mL8ipnDe1UT_"
      }
    },
    {
      "cell_type": "code",
      "source": [
        "model, movie_model, user_model = EmbeddingRec(EMBEDDING_SIZE,np.array(items['finalvec'].tolist()), NUM_MOVIES, NUM_USERS, ROW_COUNT)\n",
        "history = model.fit([trainfinaldata.newmovieid, trainfinaldata.newuserid],trainfinaldata.rating, batch_size=100,\n",
        "                              epochs =25, \n",
        "                              verbose = 1)\n",
        "model.predict([np.array([0]), np.array([3])])[0][0][0]"
      ],
      "metadata": {
        "id": "lktkm8i9Id23",
        "colab": {
          "base_uri": "https://localhost:8080/"
        },
        "outputId": "6bb32939-7912-4029-bec6-d8993a791787"
      },
      "execution_count": 134,
      "outputs": [
        {
          "output_type": "stream",
          "name": "stdout",
          "text": [
            "Epoch 1/25\n",
            "481/481 [==============================] - 9s 17ms/step - loss: 1.7881 - val_loss: 0.9211\n",
            "Epoch 2/25\n",
            "481/481 [==============================] - 7s 15ms/step - loss: 0.7028 - val_loss: 0.9371\n",
            "Epoch 3/25\n",
            "481/481 [==============================] - 8s 16ms/step - loss: 0.4154 - val_loss: 0.8909\n",
            "Epoch 4/25\n",
            "481/481 [==============================] - 8s 16ms/step - loss: 0.2749 - val_loss: 0.8865\n",
            "Epoch 5/25\n",
            "481/481 [==============================] - 7s 15ms/step - loss: 0.1971 - val_loss: 0.9117\n",
            "Epoch 6/25\n",
            "481/481 [==============================] - 7s 15ms/step - loss: 0.1519 - val_loss: 0.8871\n",
            "Epoch 7/25\n",
            "481/481 [==============================] - 7s 15ms/step - loss: 0.1304 - val_loss: 0.8900\n",
            "Epoch 8/25\n",
            "481/481 [==============================] - 7s 15ms/step - loss: 0.1234 - val_loss: 0.9124\n",
            "Epoch 9/25\n",
            "481/481 [==============================] - 7s 15ms/step - loss: 0.1205 - val_loss: 0.9010\n",
            "Epoch 10/25\n",
            "481/481 [==============================] - 7s 15ms/step - loss: 0.1210 - val_loss: 0.9098\n",
            "Epoch 11/25\n",
            "481/481 [==============================] - 8s 17ms/step - loss: 0.1181 - val_loss: 0.9043\n",
            "Epoch 12/25\n",
            "481/481 [==============================] - 7s 15ms/step - loss: 0.1131 - val_loss: 0.9171\n",
            "Epoch 13/25\n",
            "481/481 [==============================] - 7s 15ms/step - loss: 0.1091 - val_loss: 0.8963\n",
            "Epoch 14/25\n",
            "481/481 [==============================] - 7s 15ms/step - loss: 0.1051 - val_loss: 0.8988\n"
          ]
        },
        {
          "output_type": "execute_result",
          "data": {
            "text/plain": [
              "2.9894938"
            ]
          },
          "metadata": {},
          "execution_count": 134
        }
      ]
    },
    {
      "cell_type": "code",
      "source": [
        "ypred=[]\n",
        "for i,row in testfinaldata.iterrows():\n",
        "  ypred.append(model.predict([np.array([row['newmovieid']]), np.array([row['newuserid']])])[0][0][0])"
      ],
      "metadata": {
        "id": "yA2UqVniuUep"
      },
      "execution_count": 135,
      "outputs": []
    },
    {
      "cell_type": "code",
      "source": [
        "ygold=testfinaldata['rating'].tolist()"
      ],
      "metadata": {
        "id": "PQGiot6FvRgE"
      },
      "execution_count": 136,
      "outputs": []
    },
    {
      "cell_type": "code",
      "source": [
        "testfinaldata['rating'].describe()"
      ],
      "metadata": {
        "colab": {
          "base_uri": "https://localhost:8080/"
        },
        "id": "dXZ3-dtpy0oR",
        "outputId": "f51e909a-f185-4a31-8ff3-95a8b82eb01c"
      },
      "execution_count": 137,
      "outputs": [
        {
          "output_type": "execute_result",
          "data": {
            "text/plain": [
              "count    6008.000000\n",
              "mean        3.666778\n",
              "std         1.052389\n",
              "min         1.000000\n",
              "25%         3.000000\n",
              "50%         4.000000\n",
              "75%         4.000000\n",
              "max         5.000000\n",
              "Name: rating, dtype: float64"
            ]
          },
          "metadata": {},
          "execution_count": 137
        }
      ]
    },
    {
      "cell_type": "code",
      "source": [
        "threshold=3\n",
        "y_gold=[0 if i<=threshold else 1 for i in ygold]\n",
        "y_pred=[0 if round(i)<=threshold else 1 for i in ypred]"
      ],
      "metadata": {
        "id": "z9vNDm3UxYB9"
      },
      "execution_count": 138,
      "outputs": []
    },
    {
      "cell_type": "code",
      "source": [
        "aps=average_precision_score(y_gold, y_pred)\n",
        "rmse=math.sqrt(mean_squared_error(ygold,ypred))\n",
        "prec=precision_score(y_gold,y_pred)\n",
        "rec=recall_score(y_gold,y_pred)\n",
        "aps,rmse,prec,rec"
      ],
      "metadata": {
        "colab": {
          "base_uri": "https://localhost:8080/"
        },
        "id": "sGYfmf4P59d9",
        "outputId": "1d5ebd4d-a9b5-4901-ffda-a74e4f727591"
      },
      "execution_count": 139,
      "outputs": [
        {
          "output_type": "execute_result",
          "data": {
            "text/plain": [
              "(0.7162124773660066,\n",
              " 0.9231982618740937,\n",
              " 0.7735728030788968,\n",
              " 0.6685144124168514)"
            ]
          },
          "metadata": {},
          "execution_count": 139
        }
      ]
    },
    {
      "cell_type": "code",
      "source": [
        "model.summary()"
      ],
      "metadata": {
        "id": "OQfAo5aQIH8W",
        "colab": {
          "base_uri": "https://localhost:8080/"
        },
        "outputId": "8ea3e694-328f-4d45-a6c6-40445090c2f5"
      },
      "execution_count": 85,
      "outputs": [
        {
          "output_type": "stream",
          "name": "stdout",
          "text": [
            "Model: \"model_11\"\n",
            "__________________________________________________________________________________________________\n",
            " Layer (type)                   Output Shape         Param #     Connected to                     \n",
            "==================================================================================================\n",
            " movie_id (InputLayer)          [(None, 1)]          0           []                               \n",
            "                                                                                                  \n",
            " user_id (InputLayer)           [(None, 1)]          0           []                               \n",
            "                                                                                                  \n",
            " movie_emb (Embedding)          (None, 1, 703)       314241      ['movie_id[0][0]']               \n",
            "                                                                                                  \n",
            " user_emb (Embedding)           (None, 1, 703)       662929      ['user_id[0][0]']                \n",
            "                                                                                                  \n",
            " dot_product (Dot)              (None, 1, 1)         0           ['movie_emb[0][0]',              \n",
            "                                                                  'user_emb[0][0]']               \n",
            "                                                                                                  \n",
            " FullyConnected-1 (Dense)       (None, 1, 70)        140         ['dot_product[0][0]']            \n",
            "                                                                                                  \n",
            " Dropout_1 (Dropout)            (None, 1, 70)        0           ['FullyConnected-1[0][0]']       \n",
            "                                                                                                  \n",
            " FullyConnected-2 (Dense)       (None, 1, 50)        3550        ['Dropout_1[0][0]']              \n",
            "                                                                                                  \n",
            " Dropout_2 (Dropout)            (None, 1, 50)        0           ['FullyConnected-2[0][0]']       \n",
            "                                                                                                  \n",
            " FullyConnected-3 (Dense)       (None, 1, 20)        1020        ['Dropout_2[0][0]']              \n",
            "                                                                                                  \n",
            " Dropout_3 (Dropout)            (None, 1, 20)        0           ['FullyConnected-3[0][0]']       \n",
            "                                                                                                  \n",
            " FullyConnected-4 (Dense)       (None, 1, 10)        210         ['Dropout_3[0][0]']              \n",
            "                                                                                                  \n",
            " result (Dense)                 (None, 1, 1)         11          ['FullyConnected-4[0][0]']       \n",
            "                                                                                                  \n",
            "==================================================================================================\n",
            "Total params: 982,101\n",
            "Trainable params: 982,101\n",
            "Non-trainable params: 0\n",
            "__________________________________________________________________________________________________\n"
          ]
        }
      ]
    },
    {
      "cell_type": "code",
      "source": [
        "tf.keras.utils.plot_model(model, show_shapes=True)"
      ],
      "metadata": {
        "id": "KsHtUIDyIP3l",
        "colab": {
          "base_uri": "https://localhost:8080/",
          "height": 1000
        },
        "outputId": "690d0fdb-b556-4b22-f6f0-9103e786e701"
      },
      "execution_count": 80,
      "outputs": [
        {
          "output_type": "execute_result",
          "data": {
            "text/plain": [
              "<IPython.core.display.Image object>"
            ],
            "image/png": "[encoded data removed]"
          },
          "metadata": {},
          "execution_count": 80
        }
      ]
    },
    {
      "cell_type": "code",
      "source": [
        "rcParams['figure.figsize'] = 10, 5\n",
        "plt.plot(history.history['loss'] , 'g')\n",
        "plt.title('model loss')\n",
        "plt.ylabel('loss')\n",
        "plt.xlabel('epochs')\n",
        "plt.legend(['train'], loc='upper right')\n",
        "plt.grid(True)\n",
        "plt.show()"
      ],
      "metadata": {
        "id": "YqrWqjlxOKkF",
        "colab": {
          "base_uri": "https://localhost:8080/",
          "height": 350
        },
        "outputId": "a6ab34f1-86c1-4a80-b2e6-6f0bd75eeb36"
      },
      "execution_count": 81,
      "outputs": [
        {
          "output_type": "display_data",
          "data": {
            "text/plain": [
              "<Figure size 720x360 with 1 Axes>"
            ],
            "image/png": "[encoded data removed]"
          },
          "metadata": {
            "needs_background": "light"
          }
        }
      ]
    },
    {
      "cell_type": "markdown",
      "source": [
        "# **Recommend Movies**"
      ],
      "metadata": {
        "id": "k5kMB9oH-bAJ"
      }
    },
    {
      "cell_type": "code",
      "source": [
        "# getting all the train movieid-embedding mapping\n",
        "for _id in trainfinaldata.newmovieid.unique():\n",
        "    emb = movie_model.predict(np.array([_id]))\n",
        "    val = list(emb.reshape(1,-1))[0]\n",
        "    MOVIE_EMBEDDING_LIST.insert(int(_id), val)"
      ],
      "metadata": {
        "id": "OCOmhijqCvBi"
      },
      "execution_count": 174,
      "outputs": []
    },
    {
      "cell_type": "code",
      "source": [
        "TEST_USER_ID = 1\n",
        "#get the embedding of this user\n",
        "user_embedding = user_model.predict([TEST_USER_ID]).reshape(1,-1)[0]\n",
        "MOVIE_EMBEDDING_LIST=[]"
      ],
      "metadata": {
        "id": "bXSusJSJ-aLb"
      },
      "execution_count": 173,
      "outputs": []
    },
    {
      "cell_type": "code",
      "source": [
        "#create the KNN model\n",
        "clf = KNeighborsClassifier(n_neighbors=11)\n",
        "clf.fit(MOVIE_EMBEDDING_LIST, trainfinaldata.newmovieid.unique())"
      ],
      "metadata": {
        "colab": {
          "base_uri": "https://localhost:8080/"
        },
        "id": "6ld0qrt1-kUC",
        "outputId": "33981312-37be-401a-b2d0-d75e27883e02"
      },
      "execution_count": 175,
      "outputs": [
        {
          "output_type": "execute_result",
          "data": {
            "text/plain": [
              "KNeighborsClassifier(n_neighbors=11)"
            ]
          },
          "metadata": {},
          "execution_count": 175
        }
      ]
    },
    {
      "cell_type": "code",
      "source": [
        "def recommend_movies_by_Embb(embedding):\n",
        "    distances, indices = clf.kneighbors(embedding.reshape(1, -1),  n_neighbors=10)\n",
        "    indices = indices.reshape(10,1)\n",
        "    df_indices = pd.DataFrame(indices, columns = ['newmovieid'])\n",
        "    return df_indices.merge(finaldata,on='newmovieid',how='inner',suffixes=['_u', '_m'])['movietitle']"
      ],
      "metadata": {
        "id": "P2nGISWzACcK"
      },
      "execution_count": 176,
      "outputs": []
    },
    {
      "cell_type": "code",
      "source": [
        "# get the recommendation\n",
        "recommend_movies_by_Embb(user_embedding).unique().tolist()"
      ],
      "metadata": {
        "colab": {
          "base_uri": "https://localhost:8080/"
        },
        "id": "JZDE8cRx__LD",
        "outputId": "99d61105-60a7-48e2-c9b2-4c1bac7838e5"
      },
      "execution_count": 177,
      "outputs": [
        {
          "output_type": "execute_result",
          "data": {
            "text/plain": [
              "['Harold and Maude',\n",
              " 'Back to the Future',\n",
              " 'Strange Days',\n",
              " 'Wrong Trousers',\n",
              " 'Stargate',\n",
              " 'Truth About Cats & Dogs',\n",
              " 'Some Like It Hot',\n",
              " 'On Golden Pond',\n",
              " 'Crucible',\n",
              " 'I Know What You Did Last Summer']"
            ]
          },
          "metadata": {},
          "execution_count": 177
        }
      ]
    },
    {
      "cell_type": "markdown",
      "metadata": {
        "id": "eqRNc3VdgVR_"
      },
      "source": [
        "# **User Profile modeling**"
      ]
    },
    {
      "cell_type": "code",
      "execution_count": null,
      "metadata": {
        "id": "Dpat3vwgKK8a"
      },
      "outputs": [],
      "source": [
        "def getUsersAvgRating(df):\n",
        "  return df['rating'].mean()"
      ]
    },
    {
      "cell_type": "markdown",
      "metadata": {
        "id": "96gJTrMmYY1W"
      },
      "source": [
        "item to movie map list"
      ]
    },
    {
      "cell_type": "code",
      "execution_count": null,
      "metadata": {
        "id": "wh9ZqZtlWEoS"
      },
      "outputs": [],
      "source": [
        "itemprofilemodelingitems=data.groupby('itemid')"
      ]
    },
    {
      "cell_type": "code",
      "execution_count": null,
      "metadata": {
        "id": "boPoGQnTWS3-"
      },
      "outputs": [],
      "source": [
        "itemprofilemodelingitems=pd.DataFrame(itemprofilemodelingitems,columns=['itemid','group'])"
      ]
    },
    {
      "cell_type": "code",
      "execution_count": null,
      "metadata": {
        "id": "NhpOVdcKX4z9"
      },
      "outputs": [],
      "source": [
        "itemmoviesids={}\n",
        "for i, row in itemprofilemodelingitems.iterrows():\n",
        "  df=row['group']\n",
        "  itemmoviesids[row['itemid']]=df['userid'].tolist()"
      ]
    },
    {
      "cell_type": "code",
      "execution_count": null,
      "metadata": {
        "colab": {
          "base_uri": "https://localhost:8080/"
        },
        "id": "SqUjw6GHYUFK",
        "outputId": "bd663f1c-f78c-488d-dd41-b2a950d201f4"
      },
      "outputs": [
        {
          "output_type": "execute_result",
          "data": {
            "text/plain": [
              "     itemid                                           userlist\n",
              "0         1  [308, 280, 5, 109, 181, 95, 268, 189, 145, 158...\n",
              "1         2  [5, 268, 276, 217, 87, 250, 201, 64, 13, 95, 2...\n",
              "2         3  [181, 160, 130, 49, 320, 145, 95, 99, 267, 417...\n",
              "3         4  [99, 194, 207, 62, 295, 201, 10, 308, 328, 109...\n",
              "4         5  [293, 43, 311, 109, 344, 145, 314, 308, 280, 4...\n",
              "..      ...                                                ...\n",
              "460    1039  [243, 286, 288, 215, 177, 292, 144, 214, 299, ...\n",
              "461    1047  [117, 56, 299, 57, 342, 87, 92, 216, 130, 59, ...\n",
              "462    1048  [94, 279, 89, 181, 393, 342, 345, 303, 90, 244...\n",
              "463    1074  [125, 299, 94, 87, 151, 244, 62, 85, 336, 361,...\n",
              "464    1101  [119, 85, 305, 83, 293, 90, 82, 246, 271, 354,...\n",
              "\n",
              "[465 rows x 2 columns]"
            ],
            "text/html": [
              "\n",
              "  <div id=\"df-0c457bc5-9e83-4ede-80e4-0bac68776cfe\">\n",
              "    <div class=\"colab-df-container\">\n",
              "      <div>\n",
              "<style scoped>\n",
              "    .dataframe tbody tr th:only-of-type {\n",
              "        vertical-align: middle;\n",
              "    }\n",
              "\n",
              "    .dataframe tbody tr th {\n",
              "        vertical-align: top;\n",
              "    }\n",
              "\n",
              "    .dataframe thead th {\n",
              "        text-align: right;\n",
              "    }\n",
              "</style>\n",
              "<table border=\"1\" class=\"dataframe\">\n",
              "  <thead>\n",
              "    <tr style=\"text-align: right;\">\n",
              "      <th></th>\n",
              "      <th>itemid</th>\n",
              "      <th>userlist</th>\n",
              "    </tr>\n",
              "  </thead>\n",
              "  <tbody>\n",
              "    <tr>\n",
              "      <th>0</th>\n",
              "      <td>1</td>\n",
              "      <td>[308, 280, 5, 109, 181, 95, 268, 189, 145, 158...</td>\n",
              "    </tr>\n",
              "    <tr>\n",
              "      <th>1</th>\n",
              "      <td>2</td>\n",
              "      <td>[5, 268, 276, 217, 87, 250, 201, 64, 13, 95, 2...</td>\n",
              "    </tr>\n",
              "    <tr>\n",
              "      <th>2</th>\n",
              "      <td>3</td>\n",
              "      <td>[181, 160, 130, 49, 320, 145, 95, 99, 267, 417...</td>\n",
              "    </tr>\n",
              "    <tr>\n",
              "      <th>3</th>\n",
              "      <td>4</td>\n",
              "      <td>[99, 194, 207, 62, 295, 201, 10, 308, 328, 109...</td>\n",
              "    </tr>\n",
              "    <tr>\n",
              "      <th>4</th>\n",
              "      <td>5</td>\n",
              "      <td>[293, 43, 311, 109, 344, 145, 314, 308, 280, 4...</td>\n",
              "    </tr>\n",
              "    <tr>\n",
              "      <th>...</th>\n",
              "      <td>...</td>\n",
              "      <td>...</td>\n",
              "    </tr>\n",
              "    <tr>\n",
              "      <th>460</th>\n",
              "      <td>1039</td>\n",
              "      <td>[243, 286, 288, 215, 177, 292, 144, 214, 299, ...</td>\n",
              "    </tr>\n",
              "    <tr>\n",
              "      <th>461</th>\n",
              "      <td>1047</td>\n",
              "      <td>[117, 56, 299, 57, 342, 87, 92, 216, 130, 59, ...</td>\n",
              "    </tr>\n",
              "    <tr>\n",
              "      <th>462</th>\n",
              "      <td>1048</td>\n",
              "      <td>[94, 279, 89, 181, 393, 342, 345, 303, 90, 244...</td>\n",
              "    </tr>\n",
              "    <tr>\n",
              "      <th>463</th>\n",
              "      <td>1074</td>\n",
              "      <td>[125, 299, 94, 87, 151, 244, 62, 85, 336, 361,...</td>\n",
              "    </tr>\n",
              "    <tr>\n",
              "      <th>464</th>\n",
              "      <td>1101</td>\n",
              "      <td>[119, 85, 305, 83, 293, 90, 82, 246, 271, 354,...</td>\n",
              "    </tr>\n",
              "  </tbody>\n",
              "</table>\n",
              "<p>465 rows × 2 columns</p>\n",
              "</div>\n",
              "      <button class=\"colab-df-convert\" onclick=\"convertToInteractive('df-0c457bc5-9e83-4ede-80e4-0bac68776cfe')\"\n",
              "              title=\"Convert this dataframe to an interactive table.\"\n",
              "              style=\"display:none;\">\n",
              "        \n",
              "  <svg xmlns=\"http://www.w3.org/2000/svg\" height=\"24px\"viewBox=\"0 0 24 24\"\n",
              "       width=\"24px\">\n",
              "    <path d=\"M0 0h24v24H0V0z\" fill=\"none\"/>\n",
              "    <path d=\"M18.56 5.44l.94 2.06.94-2.06 2.06-.94-2.06-.94-.94-2.06-.94 2.06-2.06.94zm-11 1L8.5 8.5l.94-2.06 2.06-.94-2.06-.94L8.5 2.5l-.94 2.06-2.06.94zm10 10l.94 2.06.94-2.06 2.06-.94-2.06-.94-.94-2.06-.94 2.06-2.06.94z\"/><path d=\"M17.41 7.96l-1.37-1.37c-.4-.4-.92-.59-1.43-.59-.52 0-1.04.2-1.43.59L10.3 9.45l-7.72 7.72c-.78.78-.78 2.05 0 2.83L4 21.41c.39.39.9.59 1.41.59.51 0 1.02-.2 1.41-.59l7.78-7.78 2.81-2.81c.8-.78.8-2.07 0-2.86zM5.41 20L4 18.59l7.72-7.72 1.47 1.35L5.41 20z\"/>\n",
              "  </svg>\n",
              "      </button>\n",
              "      \n",
              "  <style>\n",
              "    .colab-df-container {\n",
              "      display:flex;\n",
              "      flex-wrap:wrap;\n",
              "      gap: 12px;\n",
              "    }\n",
              "\n",
              "    .colab-df-convert {\n",
              "      background-color: #E8F0FE;\n",
              "      border: none;\n",
              "      border-radius: 50%;\n",
              "      cursor: pointer;\n",
              "      display: none;\n",
              "      fill: #1967D2;\n",
              "      height: 32px;\n",
              "      padding: 0 0 0 0;\n",
              "      width: 32px;\n",
              "    }\n",
              "\n",
              "    .colab-df-convert:hover {\n",
              "      background-color: #E2EBFA;\n",
              "      box-shadow: 0px 1px 2px rgba(60, 64, 67, 0.3), 0px 1px 3px 1px rgba(60, 64, 67, 0.15);\n",
              "      fill: #174EA6;\n",
              "    }\n",
              "\n",
              "    [theme=dark] .colab-df-convert {\n",
              "      background-color: #3B4455;\n",
              "      fill: #D2E3FC;\n",
              "    }\n",
              "\n",
              "    [theme=dark] .colab-df-convert:hover {\n",
              "      background-color: #434B5C;\n",
              "      box-shadow: 0px 1px 3px 1px rgba(0, 0, 0, 0.15);\n",
              "      filter: drop-shadow(0px 1px 2px rgba(0, 0, 0, 0.3));\n",
              "      fill: #FFFFFF;\n",
              "    }\n",
              "  </style>\n",
              "\n",
              "      <script>\n",
              "        const buttonEl =\n",
              "          document.querySelector('#df-0c457bc5-9e83-4ede-80e4-0bac68776cfe button.colab-df-convert');\n",
              "        buttonEl.style.display =\n",
              "          google.colab.kernel.accessAllowed ? 'block' : 'none';\n",
              "\n",
              "        async function convertToInteractive(key) {\n",
              "          const element = document.querySelector('#df-0c457bc5-9e83-4ede-80e4-0bac68776cfe');\n",
              "          const dataTable =\n",
              "            await google.colab.kernel.invokeFunction('convertToInteractive',\n",
              "                                                     [key], {});\n",
              "          if (!dataTable) return;\n",
              "\n",
              "          const docLinkHtml = 'Like what you see? Visit the ' +\n",
              "            '<a target=\"_blank\" href=https://colab.research.google.com/notebooks/data_table.ipynb>data table notebook</a>'\n",
              "            + ' to learn more about interactive tables.';\n",
              "          element.innerHTML = '';\n",
              "          dataTable['output_type'] = 'display_data';\n",
              "          await google.colab.output.renderOutput(dataTable, element);\n",
              "          const docLink = document.createElement('div');\n",
              "          docLink.innerHTML = docLinkHtml;\n",
              "          element.appendChild(docLink);\n",
              "        }\n",
              "      </script>\n",
              "    </div>\n",
              "  </div>\n",
              "  "
            ]
          },
          "metadata": {},
          "execution_count": 79
        }
      ],
      "source": [
        "itemmoviesids=pd.DataFrame(itemmoviesids.items(),columns=['itemid','userlist'])\n",
        "itemmoviesids"
      ]
    },
    {
      "cell_type": "markdown",
      "metadata": {
        "id": "WdIIQhzTYUs2"
      },
      "source": [
        "movie to items map list"
      ]
    },
    {
      "cell_type": "code",
      "execution_count": null,
      "metadata": {
        "id": "p35aVwZxI-9i"
      },
      "outputs": [],
      "source": [
        "dataprofilemodeling=data.groupby('userid')\n",
        "dataavgrating=pd.DataFrame(dataprofilemodeling.apply(lambda x:getUsersAvgRating(x)),columns=['avgrating'])"
      ]
    },
    {
      "cell_type": "code",
      "execution_count": null,
      "metadata": {
        "id": "7IDlK9BsK9m2"
      },
      "outputs": [],
      "source": [
        "dataprofilemodeling=pd.DataFrame(dataprofilemodeling,columns=['userid','group'])"
      ]
    },
    {
      "cell_type": "code",
      "execution_count": null,
      "metadata": {
        "id": "mEivW5tpMlAG"
      },
      "outputs": [],
      "source": [
        "dataprofilemodeling=dataprofilemodeling.join(dataavgrating,on=['userid'])"
      ]
    },
    {
      "cell_type": "code",
      "execution_count": null,
      "metadata": {
        "id": "2vnL_86XNsn3"
      },
      "outputs": [],
      "source": [
        "aboveAvgMoviesid={}\n",
        "for i, row in dataprofilemodeling.iterrows():\n",
        "  df=row['group']\n",
        "  aboveAvgMoviesid[row['userid']]=df[df['rating']>=df['rating'].mean()]['itemid'].tolist()"
      ]
    },
    {
      "cell_type": "code",
      "execution_count": null,
      "metadata": {
        "id": "fkIhBTivSR0y"
      },
      "outputs": [],
      "source": [
        "allmovies={}\n",
        "for i, row in dataprofilemodeling.iterrows():\n",
        "  df=row['group']\n",
        "  allmovies[row['userid']]=df['itemid'].tolist()"
      ]
    },
    {
      "cell_type": "code",
      "execution_count": null,
      "metadata": {
        "colab": {
          "base_uri": "https://localhost:8080/",
          "height": 423
        },
        "id": "LKFpl_NXO5gm",
        "outputId": "c3ea7ec9-2cfe-4d73-b27e-122dd4c9f4d2"
      },
      "outputs": [
        {
          "output_type": "execute_result",
          "data": {
            "text/plain": [
              "     userid                              itemidsAboveAvgRating\n",
              "0         1  [33, 20, 202, 265, 47, 222, 227, 90, 64, 228, ...\n",
              "1         5  [17, 1, 211, 382, 62, 24, 423, 222, 173, 436, ...\n",
              "2         6  [14, 98, 463, 517, 23, 478, 357, 275, 221, 211...\n",
              "3         7  [661, 378, 200, 451, 81, 576, 528, 582, 127, 1...\n",
              "4        10  [100, 285, 504, 655, 124, 22, 200, 223, 135, 4...\n",
              "..      ...                                                ...\n",
              "444     936  [285, 340, 281, 298, 111, 313, 250, 14, 249, 1...\n",
              "445     938  [864, 313, 763, 333, 476, 1012, 181, 1014, 151...\n",
              "446     940  [272, 655, 315, 66, 96, 194, 172, 8, 56, 147, ...\n",
              "447     942  [423, 427, 347, 304, 193, 31, 131, 172, 496, 9...\n",
              "448     943  [58, 111, 11, 232, 356, 186, 215, 210, 685, 12...\n",
              "\n",
              "[449 rows x 2 columns]"
            ],
            "text/html": [
              "\n",
              "  <div id=\"df-7abafa61-797d-407f-be0d-d6f68aa1d5f5\">\n",
              "    <div class=\"colab-df-container\">\n",
              "      <div>\n",
              "<style scoped>\n",
              "    .dataframe tbody tr th:only-of-type {\n",
              "        vertical-align: middle;\n",
              "    }\n",
              "\n",
              "    .dataframe tbody tr th {\n",
              "        vertical-align: top;\n",
              "    }\n",
              "\n",
              "    .dataframe thead th {\n",
              "        text-align: right;\n",
              "    }\n",
              "</style>\n",
              "<table border=\"1\" class=\"dataframe\">\n",
              "  <thead>\n",
              "    <tr style=\"text-align: right;\">\n",
              "      <th></th>\n",
              "      <th>userid</th>\n",
              "      <th>itemidsAboveAvgRating</th>\n",
              "    </tr>\n",
              "  </thead>\n",
              "  <tbody>\n",
              "    <tr>\n",
              "      <th>0</th>\n",
              "      <td>1</td>\n",
              "      <td>[33, 20, 202, 265, 47, 222, 227, 90, 64, 228, ...</td>\n",
              "    </tr>\n",
              "    <tr>\n",
              "      <th>1</th>\n",
              "      <td>5</td>\n",
              "      <td>[17, 1, 211, 382, 62, 24, 423, 222, 173, 436, ...</td>\n",
              "    </tr>\n",
              "    <tr>\n",
              "      <th>2</th>\n",
              "      <td>6</td>\n",
              "      <td>[14, 98, 463, 517, 23, 478, 357, 275, 221, 211...</td>\n",
              "    </tr>\n",
              "    <tr>\n",
              "      <th>3</th>\n",
              "      <td>7</td>\n",
              "      <td>[661, 378, 200, 451, 81, 576, 528, 582, 127, 1...</td>\n",
              "    </tr>\n",
              "    <tr>\n",
              "      <th>4</th>\n",
              "      <td>10</td>\n",
              "      <td>[100, 285, 504, 655, 124, 22, 200, 223, 135, 4...</td>\n",
              "    </tr>\n",
              "    <tr>\n",
              "      <th>...</th>\n",
              "      <td>...</td>\n",
              "      <td>...</td>\n",
              "    </tr>\n",
              "    <tr>\n",
              "      <th>444</th>\n",
              "      <td>936</td>\n",
              "      <td>[285, 340, 281, 298, 111, 313, 250, 14, 249, 1...</td>\n",
              "    </tr>\n",
              "    <tr>\n",
              "      <th>445</th>\n",
              "      <td>938</td>\n",
              "      <td>[864, 313, 763, 333, 476, 1012, 181, 1014, 151...</td>\n",
              "    </tr>\n",
              "    <tr>\n",
              "      <th>446</th>\n",
              "      <td>940</td>\n",
              "      <td>[272, 655, 315, 66, 96, 194, 172, 8, 56, 147, ...</td>\n",
              "    </tr>\n",
              "    <tr>\n",
              "      <th>447</th>\n",
              "      <td>942</td>\n",
              "      <td>[423, 427, 347, 304, 193, 31, 131, 172, 496, 9...</td>\n",
              "    </tr>\n",
              "    <tr>\n",
              "      <th>448</th>\n",
              "      <td>943</td>\n",
              "      <td>[58, 111, 11, 232, 356, 186, 215, 210, 685, 12...</td>\n",
              "    </tr>\n",
              "  </tbody>\n",
              "</table>\n",
              "<p>449 rows × 2 columns</p>\n",
              "</div>\n",
              "      <button class=\"colab-df-convert\" onclick=\"convertToInteractive('df-7abafa61-797d-407f-be0d-d6f68aa1d5f5')\"\n",
              "              title=\"Convert this dataframe to an interactive table.\"\n",
              "              style=\"display:none;\">\n",
              "        \n",
              "  <svg xmlns=\"http://www.w3.org/2000/svg\" height=\"24px\"viewBox=\"0 0 24 24\"\n",
              "       width=\"24px\">\n",
              "    <path d=\"M0 0h24v24H0V0z\" fill=\"none\"/>\n",
              "    <path d=\"M18.56 5.44l.94 2.06.94-2.06 2.06-.94-2.06-.94-.94-2.06-.94 2.06-2.06.94zm-11 1L8.5 8.5l.94-2.06 2.06-.94-2.06-.94L8.5 2.5l-.94 2.06-2.06.94zm10 10l.94 2.06.94-2.06 2.06-.94-2.06-.94-.94-2.06-.94 2.06-2.06.94z\"/><path d=\"M17.41 7.96l-1.37-1.37c-.4-.4-.92-.59-1.43-.59-.52 0-1.04.2-1.43.59L10.3 9.45l-7.72 7.72c-.78.78-.78 2.05 0 2.83L4 21.41c.39.39.9.59 1.41.59.51 0 1.02-.2 1.41-.59l7.78-7.78 2.81-2.81c.8-.78.8-2.07 0-2.86zM5.41 20L4 18.59l7.72-7.72 1.47 1.35L5.41 20z\"/>\n",
              "  </svg>\n",
              "      </button>\n",
              "      \n",
              "  <style>\n",
              "    .colab-df-container {\n",
              "      display:flex;\n",
              "      flex-wrap:wrap;\n",
              "      gap: 12px;\n",
              "    }\n",
              "\n",
              "    .colab-df-convert {\n",
              "      background-color: #E8F0FE;\n",
              "      border: none;\n",
              "      border-radius: 50%;\n",
              "      cursor: pointer;\n",
              "      display: none;\n",
              "      fill: #1967D2;\n",
              "      height: 32px;\n",
              "      padding: 0 0 0 0;\n",
              "      width: 32px;\n",
              "    }\n",
              "\n",
              "    .colab-df-convert:hover {\n",
              "      background-color: #E2EBFA;\n",
              "      box-shadow: 0px 1px 2px rgba(60, 64, 67, 0.3), 0px 1px 3px 1px rgba(60, 64, 67, 0.15);\n",
              "      fill: #174EA6;\n",
              "    }\n",
              "\n",
              "    [theme=dark] .colab-df-convert {\n",
              "      background-color: #3B4455;\n",
              "      fill: #D2E3FC;\n",
              "    }\n",
              "\n",
              "    [theme=dark] .colab-df-convert:hover {\n",
              "      background-color: #434B5C;\n",
              "      box-shadow: 0px 1px 3px 1px rgba(0, 0, 0, 0.15);\n",
              "      filter: drop-shadow(0px 1px 2px rgba(0, 0, 0, 0.3));\n",
              "      fill: #FFFFFF;\n",
              "    }\n",
              "  </style>\n",
              "\n",
              "      <script>\n",
              "        const buttonEl =\n",
              "          document.querySelector('#df-7abafa61-797d-407f-be0d-d6f68aa1d5f5 button.colab-df-convert');\n",
              "        buttonEl.style.display =\n",
              "          google.colab.kernel.accessAllowed ? 'block' : 'none';\n",
              "\n",
              "        async function convertToInteractive(key) {\n",
              "          const element = document.querySelector('#df-7abafa61-797d-407f-be0d-d6f68aa1d5f5');\n",
              "          const dataTable =\n",
              "            await google.colab.kernel.invokeFunction('convertToInteractive',\n",
              "                                                     [key], {});\n",
              "          if (!dataTable) return;\n",
              "\n",
              "          const docLinkHtml = 'Like what you see? Visit the ' +\n",
              "            '<a target=\"_blank\" href=https://colab.research.google.com/notebooks/data_table.ipynb>data table notebook</a>'\n",
              "            + ' to learn more about interactive tables.';\n",
              "          element.innerHTML = '';\n",
              "          dataTable['output_type'] = 'display_data';\n",
              "          await google.colab.output.renderOutput(dataTable, element);\n",
              "          const docLink = document.createElement('div');\n",
              "          docLink.innerHTML = docLinkHtml;\n",
              "          element.appendChild(docLink);\n",
              "        }\n",
              "      </script>\n",
              "    </div>\n",
              "  </div>\n",
              "  "
            ]
          },
          "metadata": {},
          "execution_count": 79
        }
      ],
      "source": [
        "aboveAvgMoviesid=pd.DataFrame(aboveAvgMoviesid.items(),columns=['userid','itemidsAboveAvgRating'])\n",
        "aboveAvgMoviesid"
      ]
    },
    {
      "cell_type": "code",
      "execution_count": null,
      "metadata": {
        "colab": {
          "base_uri": "https://localhost:8080/",
          "height": 423
        },
        "id": "qJa1mXpMSc-M",
        "outputId": "60fba706-6419-4797-c874-dd66a09cea01"
      },
      "outputs": [
        {
          "output_type": "execute_result",
          "data": {
            "text/plain": [
              "     userid                                          allmovies\n",
              "0         1  [33, 20, 202, 265, 155, 117, 47, 222, 227, 17,...\n",
              "1         5  [2, 17, 225, 1, 98, 211, 382, 62, 231, 24, 423...\n",
              "2         6  [86, 14, 98, 463, 301, 258, 69, 517, 23, 478, ...\n",
              "3         7  [32, 479, 455, 382, 163, 430, 661, 378, 200, 5...\n",
              "4        10  [175, 7, 100, 461, 285, 504, 289, 340, 657, 46...\n",
              "..      ...                                                ...\n",
              "444     936  [285, 340, 106, 281, 298, 111, 313, 250, 14, 2...\n",
              "445     938  [864, 122, 313, 240, 125, 988, 477, 763, 333, ...\n",
              "446     940  [193, 568, 14, 205, 272, 655, 315, 66, 873, 28...\n",
              "447     942  [117, 200, 604, 423, 427, 323, 584, 347, 313, ...\n",
              "448     943  [58, 111, 11, 232, 356, 186, 215, 443, 210, 68...\n",
              "\n",
              "[449 rows x 2 columns]"
            ],
            "text/html": [
              "\n",
              "  <div id=\"df-d93a4496-52da-4b6d-b40c-fc9750752f58\">\n",
              "    <div class=\"colab-df-container\">\n",
              "      <div>\n",
              "<style scoped>\n",
              "    .dataframe tbody tr th:only-of-type {\n",
              "        vertical-align: middle;\n",
              "    }\n",
              "\n",
              "    .dataframe tbody tr th {\n",
              "        vertical-align: top;\n",
              "    }\n",
              "\n",
              "    .dataframe thead th {\n",
              "        text-align: right;\n",
              "    }\n",
              "</style>\n",
              "<table border=\"1\" class=\"dataframe\">\n",
              "  <thead>\n",
              "    <tr style=\"text-align: right;\">\n",
              "      <th></th>\n",
              "      <th>userid</th>\n",
              "      <th>allmovies</th>\n",
              "    </tr>\n",
              "  </thead>\n",
              "  <tbody>\n",
              "    <tr>\n",
              "      <th>0</th>\n",
              "      <td>1</td>\n",
              "      <td>[33, 20, 202, 265, 155, 117, 47, 222, 227, 17,...</td>\n",
              "    </tr>\n",
              "    <tr>\n",
              "      <th>1</th>\n",
              "      <td>5</td>\n",
              "      <td>[2, 17, 225, 1, 98, 211, 382, 62, 231, 24, 423...</td>\n",
              "    </tr>\n",
              "    <tr>\n",
              "      <th>2</th>\n",
              "      <td>6</td>\n",
              "      <td>[86, 14, 98, 463, 301, 258, 69, 517, 23, 478, ...</td>\n",
              "    </tr>\n",
              "    <tr>\n",
              "      <th>3</th>\n",
              "      <td>7</td>\n",
              "      <td>[32, 479, 455, 382, 163, 430, 661, 378, 200, 5...</td>\n",
              "    </tr>\n",
              "    <tr>\n",
              "      <th>4</th>\n",
              "      <td>10</td>\n",
              "      <td>[175, 7, 100, 461, 285, 504, 289, 340, 657, 46...</td>\n",
              "    </tr>\n",
              "    <tr>\n",
              "      <th>...</th>\n",
              "      <td>...</td>\n",
              "      <td>...</td>\n",
              "    </tr>\n",
              "    <tr>\n",
              "      <th>444</th>\n",
              "      <td>936</td>\n",
              "      <td>[285, 340, 106, 281, 298, 111, 313, 250, 14, 2...</td>\n",
              "    </tr>\n",
              "    <tr>\n",
              "      <th>445</th>\n",
              "      <td>938</td>\n",
              "      <td>[864, 122, 313, 240, 125, 988, 477, 763, 333, ...</td>\n",
              "    </tr>\n",
              "    <tr>\n",
              "      <th>446</th>\n",
              "      <td>940</td>\n",
              "      <td>[193, 568, 14, 205, 272, 655, 315, 66, 873, 28...</td>\n",
              "    </tr>\n",
              "    <tr>\n",
              "      <th>447</th>\n",
              "      <td>942</td>\n",
              "      <td>[117, 200, 604, 423, 427, 323, 584, 347, 313, ...</td>\n",
              "    </tr>\n",
              "    <tr>\n",
              "      <th>448</th>\n",
              "      <td>943</td>\n",
              "      <td>[58, 111, 11, 232, 356, 186, 215, 443, 210, 68...</td>\n",
              "    </tr>\n",
              "  </tbody>\n",
              "</table>\n",
              "<p>449 rows × 2 columns</p>\n",
              "</div>\n",
              "      <button class=\"colab-df-convert\" onclick=\"convertToInteractive('df-d93a4496-52da-4b6d-b40c-fc9750752f58')\"\n",
              "              title=\"Convert this dataframe to an interactive table.\"\n",
              "              style=\"display:none;\">\n",
              "        \n",
              "  <svg xmlns=\"http://www.w3.org/2000/svg\" height=\"24px\"viewBox=\"0 0 24 24\"\n",
              "       width=\"24px\">\n",
              "    <path d=\"M0 0h24v24H0V0z\" fill=\"none\"/>\n",
              "    <path d=\"M18.56 5.44l.94 2.06.94-2.06 2.06-.94-2.06-.94-.94-2.06-.94 2.06-2.06.94zm-11 1L8.5 8.5l.94-2.06 2.06-.94-2.06-.94L8.5 2.5l-.94 2.06-2.06.94zm10 10l.94 2.06.94-2.06 2.06-.94-2.06-.94-.94-2.06-.94 2.06-2.06.94z\"/><path d=\"M17.41 7.96l-1.37-1.37c-.4-.4-.92-.59-1.43-.59-.52 0-1.04.2-1.43.59L10.3 9.45l-7.72 7.72c-.78.78-.78 2.05 0 2.83L4 21.41c.39.39.9.59 1.41.59.51 0 1.02-.2 1.41-.59l7.78-7.78 2.81-2.81c.8-.78.8-2.07 0-2.86zM5.41 20L4 18.59l7.72-7.72 1.47 1.35L5.41 20z\"/>\n",
              "  </svg>\n",
              "      </button>\n",
              "      \n",
              "  <style>\n",
              "    .colab-df-container {\n",
              "      display:flex;\n",
              "      flex-wrap:wrap;\n",
              "      gap: 12px;\n",
              "    }\n",
              "\n",
              "    .colab-df-convert {\n",
              "      background-color: #E8F0FE;\n",
              "      border: none;\n",
              "      border-radius: 50%;\n",
              "      cursor: pointer;\n",
              "      display: none;\n",
              "      fill: #1967D2;\n",
              "      height: 32px;\n",
              "      padding: 0 0 0 0;\n",
              "      width: 32px;\n",
              "    }\n",
              "\n",
              "    .colab-df-convert:hover {\n",
              "      background-color: #E2EBFA;\n",
              "      box-shadow: 0px 1px 2px rgba(60, 64, 67, 0.3), 0px 1px 3px 1px rgba(60, 64, 67, 0.15);\n",
              "      fill: #174EA6;\n",
              "    }\n",
              "\n",
              "    [theme=dark] .colab-df-convert {\n",
              "      background-color: #3B4455;\n",
              "      fill: #D2E3FC;\n",
              "    }\n",
              "\n",
              "    [theme=dark] .colab-df-convert:hover {\n",
              "      background-color: #434B5C;\n",
              "      box-shadow: 0px 1px 3px 1px rgba(0, 0, 0, 0.15);\n",
              "      filter: drop-shadow(0px 1px 2px rgba(0, 0, 0, 0.3));\n",
              "      fill: #FFFFFF;\n",
              "    }\n",
              "  </style>\n",
              "\n",
              "      <script>\n",
              "        const buttonEl =\n",
              "          document.querySelector('#df-d93a4496-52da-4b6d-b40c-fc9750752f58 button.colab-df-convert');\n",
              "        buttonEl.style.display =\n",
              "          google.colab.kernel.accessAllowed ? 'block' : 'none';\n",
              "\n",
              "        async function convertToInteractive(key) {\n",
              "          const element = document.querySelector('#df-d93a4496-52da-4b6d-b40c-fc9750752f58');\n",
              "          const dataTable =\n",
              "            await google.colab.kernel.invokeFunction('convertToInteractive',\n",
              "                                                     [key], {});\n",
              "          if (!dataTable) return;\n",
              "\n",
              "          const docLinkHtml = 'Like what you see? Visit the ' +\n",
              "            '<a target=\"_blank\" href=https://colab.research.google.com/notebooks/data_table.ipynb>data table notebook</a>'\n",
              "            + ' to learn more about interactive tables.';\n",
              "          element.innerHTML = '';\n",
              "          dataTable['output_type'] = 'display_data';\n",
              "          await google.colab.output.renderOutput(dataTable, element);\n",
              "          const docLink = document.createElement('div');\n",
              "          docLink.innerHTML = docLinkHtml;\n",
              "          element.appendChild(docLink);\n",
              "        }\n",
              "      </script>\n",
              "    </div>\n",
              "  </div>\n",
              "  "
            ]
          },
          "metadata": {},
          "execution_count": 80
        }
      ],
      "source": [
        "allmovies=pd.DataFrame(allmovies.items(),columns=['userid','allmovies'])\n",
        "allmovies"
      ]
    },
    {
      "cell_type": "code",
      "execution_count": null,
      "metadata": {
        "id": "-FGotL1-4f69"
      },
      "outputs": [],
      "source": [
        "trainTestSplit=allmovies['allmovies'].apply(lambda x:train_test_split(x, test_size=0.2, random_state=69))"
      ]
    },
    {
      "cell_type": "code",
      "execution_count": null,
      "metadata": {
        "id": "eNx182FU5Fg2"
      },
      "outputs": [],
      "source": [
        "train=[]\n",
        "test=[]\n",
        "for i in list(trainTestSplit):\n",
        "  train.append(i[0])\n",
        "  test.append(i[1])"
      ]
    },
    {
      "cell_type": "code",
      "execution_count": null,
      "metadata": {
        "colab": {
          "base_uri": "https://localhost:8080/",
          "height": 423
        },
        "id": "a39Y_xB55Zdw",
        "outputId": "fdbe31fc-8a0b-4e99-a6bd-4849edd0af0f"
      },
      "outputs": [
        {
          "output_type": "execute_result",
          "data": {
            "text/plain": [
              "     userid                                          allmovies  \\\n",
              "0         1  [33, 20, 202, 265, 155, 117, 47, 222, 227, 17,...   \n",
              "1         5  [2, 17, 225, 1, 98, 211, 382, 62, 231, 24, 423...   \n",
              "2         6  [86, 14, 98, 463, 301, 258, 69, 517, 23, 478, ...   \n",
              "3         7  [32, 479, 455, 382, 163, 430, 661, 378, 200, 5...   \n",
              "4        10  [175, 7, 100, 461, 285, 504, 289, 340, 657, 46...   \n",
              "..      ...                                                ...   \n",
              "444     936  [285, 340, 106, 281, 298, 111, 313, 250, 14, 2...   \n",
              "445     938  [864, 122, 313, 240, 125, 988, 477, 763, 333, ...   \n",
              "446     940  [193, 568, 14, 205, 272, 655, 315, 66, 873, 28...   \n",
              "447     942  [117, 200, 604, 423, 427, 323, 584, 347, 313, ...   \n",
              "448     943  [58, 111, 11, 232, 356, 186, 215, 443, 210, 68...   \n",
              "\n",
              "                                                 train  \\\n",
              "0    [204, 90, 71, 69, 7, 238, 143, 94, 141, 31, 13...   \n",
              "1    [380, 420, 417, 99, 200, 433, 234, 227, 211, 4...   \n",
              "2    [482, 136, 9, 405, 483, 285, 187, 188, 248, 47...   \n",
              "3    [71, 367, 501, 192, 51, 474, 307, 682, 604, 26...   \n",
              "4    [629, 1, 203, 483, 156, 558, 124, 9, 70, 498, ...   \n",
              "..                                                 ...   \n",
              "444  [258, 313, 259, 301, 988, 340, 255, 319, 118, ...   \n",
              "445  [358, 250, 276, 281, 259, 122, 257, 118, 111, ...   \n",
              "446  [358, 89, 655, 151, 629, 347, 315, 164, 153, 6...   \n",
              "447  [315, 328, 200, 272, 435, 514, 511, 484, 31, 2...   \n",
              "448  [54, 151, 508, 31, 928, 92, 117, 188, 173, 219...   \n",
              "\n",
              "                                                  test  \n",
              "0    [218, 219, 198, 184, 67, 157, 205, 125, 154, 1...  \n",
              "1    [231, 183, 173, 423, 405, 69, 436, 429, 421, 1...  \n",
              "2    [462, 321, 527, 520, 514, 461, 133, 23, 268, 4...  \n",
              "3    [12, 679, 324, 463, 465, 39, 655, 530, 177, 16...  \n",
              "4    [197, 479, 238, 482, 294, 199, 191, 285, 116, ...  \n",
              "..                                                 ...  \n",
              "444  [717, 282, 815, 928, 455, 100, 181, 243, 14, 2...  \n",
              "445  [471, 546, 225, 273, 121, 742, 9, 300, 333, 47...  \n",
              "446  [191, 343, 181, 82, 300, 873, 751, 264, 302, 2...  \n",
              "447  [427, 234, 216, 347, 480, 310, 357, 258, 478, ...  \n",
              "448  [403, 216, 205, 100, 194, 412, 196, 124, 281, ...  \n",
              "\n",
              "[449 rows x 4 columns]"
            ],
            "text/html": [
              "\n",
              "  <div id=\"df-df592759-52be-4beb-b634-609ffb2156ef\">\n",
              "    <div class=\"colab-df-container\">\n",
              "      <div>\n",
              "<style scoped>\n",
              "    .dataframe tbody tr th:only-of-type {\n",
              "        vertical-align: middle;\n",
              "    }\n",
              "\n",
              "    .dataframe tbody tr th {\n",
              "        vertical-align: top;\n",
              "    }\n",
              "\n",
              "    .dataframe thead th {\n",
              "        text-align: right;\n",
              "    }\n",
              "</style>\n",
              "<table border=\"1\" class=\"dataframe\">\n",
              "  <thead>\n",
              "    <tr style=\"text-align: right;\">\n",
              "      <th></th>\n",
              "      <th>userid</th>\n",
              "      <th>allmovies</th>\n",
              "      <th>train</th>\n",
              "      <th>test</th>\n",
              "    </tr>\n",
              "  </thead>\n",
              "  <tbody>\n",
              "    <tr>\n",
              "      <th>0</th>\n",
              "      <td>1</td>\n",
              "      <td>[33, 20, 202, 265, 155, 117, 47, 222, 227, 17,...</td>\n",
              "      <td>[204, 90, 71, 69, 7, 238, 143, 94, 141, 31, 13...</td>\n",
              "      <td>[218, 219, 198, 184, 67, 157, 205, 125, 154, 1...</td>\n",
              "    </tr>\n",
              "    <tr>\n",
              "      <th>1</th>\n",
              "      <td>5</td>\n",
              "      <td>[2, 17, 225, 1, 98, 211, 382, 62, 231, 24, 423...</td>\n",
              "      <td>[380, 420, 417, 99, 200, 433, 234, 227, 211, 4...</td>\n",
              "      <td>[231, 183, 173, 423, 405, 69, 436, 429, 421, 1...</td>\n",
              "    </tr>\n",
              "    <tr>\n",
              "      <th>2</th>\n",
              "      <td>6</td>\n",
              "      <td>[86, 14, 98, 463, 301, 258, 69, 517, 23, 478, ...</td>\n",
              "      <td>[482, 136, 9, 405, 483, 285, 187, 188, 248, 47...</td>\n",
              "      <td>[462, 321, 527, 520, 514, 461, 133, 23, 268, 4...</td>\n",
              "    </tr>\n",
              "    <tr>\n",
              "      <th>3</th>\n",
              "      <td>7</td>\n",
              "      <td>[32, 479, 455, 382, 163, 430, 661, 378, 200, 5...</td>\n",
              "      <td>[71, 367, 501, 192, 51, 474, 307, 682, 604, 26...</td>\n",
              "      <td>[12, 679, 324, 463, 465, 39, 655, 530, 177, 16...</td>\n",
              "    </tr>\n",
              "    <tr>\n",
              "      <th>4</th>\n",
              "      <td>10</td>\n",
              "      <td>[175, 7, 100, 461, 285, 504, 289, 340, 657, 46...</td>\n",
              "      <td>[629, 1, 203, 483, 156, 558, 124, 9, 70, 498, ...</td>\n",
              "      <td>[197, 479, 238, 482, 294, 199, 191, 285, 116, ...</td>\n",
              "    </tr>\n",
              "    <tr>\n",
              "      <th>...</th>\n",
              "      <td>...</td>\n",
              "      <td>...</td>\n",
              "      <td>...</td>\n",
              "      <td>...</td>\n",
              "    </tr>\n",
              "    <tr>\n",
              "      <th>444</th>\n",
              "      <td>936</td>\n",
              "      <td>[285, 340, 106, 281, 298, 111, 313, 250, 14, 2...</td>\n",
              "      <td>[258, 313, 259, 301, 988, 340, 255, 319, 118, ...</td>\n",
              "      <td>[717, 282, 815, 928, 455, 100, 181, 243, 14, 2...</td>\n",
              "    </tr>\n",
              "    <tr>\n",
              "      <th>445</th>\n",
              "      <td>938</td>\n",
              "      <td>[864, 122, 313, 240, 125, 988, 477, 763, 333, ...</td>\n",
              "      <td>[358, 250, 276, 281, 259, 122, 257, 118, 111, ...</td>\n",
              "      <td>[471, 546, 225, 273, 121, 742, 9, 300, 333, 47...</td>\n",
              "    </tr>\n",
              "    <tr>\n",
              "      <th>446</th>\n",
              "      <td>940</td>\n",
              "      <td>[193, 568, 14, 205, 272, 655, 315, 66, 873, 28...</td>\n",
              "      <td>[358, 89, 655, 151, 629, 347, 315, 164, 153, 6...</td>\n",
              "      <td>[191, 343, 181, 82, 300, 873, 751, 264, 302, 2...</td>\n",
              "    </tr>\n",
              "    <tr>\n",
              "      <th>447</th>\n",
              "      <td>942</td>\n",
              "      <td>[117, 200, 604, 423, 427, 323, 584, 347, 313, ...</td>\n",
              "      <td>[315, 328, 200, 272, 435, 514, 511, 484, 31, 2...</td>\n",
              "      <td>[427, 234, 216, 347, 480, 310, 357, 258, 478, ...</td>\n",
              "    </tr>\n",
              "    <tr>\n",
              "      <th>448</th>\n",
              "      <td>943</td>\n",
              "      <td>[58, 111, 11, 232, 356, 186, 215, 443, 210, 68...</td>\n",
              "      <td>[54, 151, 508, 31, 928, 92, 117, 188, 173, 219...</td>\n",
              "      <td>[403, 216, 205, 100, 194, 412, 196, 124, 281, ...</td>\n",
              "    </tr>\n",
              "  </tbody>\n",
              "</table>\n",
              "<p>449 rows × 4 columns</p>\n",
              "</div>\n",
              "      <button class=\"colab-df-convert\" onclick=\"convertToInteractive('df-df592759-52be-4beb-b634-609ffb2156ef')\"\n",
              "              title=\"Convert this dataframe to an interactive table.\"\n",
              "              style=\"display:none;\">\n",
              "        \n",
              "  <svg xmlns=\"http://www.w3.org/2000/svg\" height=\"24px\"viewBox=\"0 0 24 24\"\n",
              "       width=\"24px\">\n",
              "    <path d=\"M0 0h24v24H0V0z\" fill=\"none\"/>\n",
              "    <path d=\"M18.56 5.44l.94 2.06.94-2.06 2.06-.94-2.06-.94-.94-2.06-.94 2.06-2.06.94zm-11 1L8.5 8.5l.94-2.06 2.06-.94-2.06-.94L8.5 2.5l-.94 2.06-2.06.94zm10 10l.94 2.06.94-2.06 2.06-.94-2.06-.94-.94-2.06-.94 2.06-2.06.94z\"/><path d=\"M17.41 7.96l-1.37-1.37c-.4-.4-.92-.59-1.43-.59-.52 0-1.04.2-1.43.59L10.3 9.45l-7.72 7.72c-.78.78-.78 2.05 0 2.83L4 21.41c.39.39.9.59 1.41.59.51 0 1.02-.2 1.41-.59l7.78-7.78 2.81-2.81c.8-.78.8-2.07 0-2.86zM5.41 20L4 18.59l7.72-7.72 1.47 1.35L5.41 20z\"/>\n",
              "  </svg>\n",
              "      </button>\n",
              "      \n",
              "  <style>\n",
              "    .colab-df-container {\n",
              "      display:flex;\n",
              "      flex-wrap:wrap;\n",
              "      gap: 12px;\n",
              "    }\n",
              "\n",
              "    .colab-df-convert {\n",
              "      background-color: #E8F0FE;\n",
              "      border: none;\n",
              "      border-radius: 50%;\n",
              "      cursor: pointer;\n",
              "      display: none;\n",
              "      fill: #1967D2;\n",
              "      height: 32px;\n",
              "      padding: 0 0 0 0;\n",
              "      width: 32px;\n",
              "    }\n",
              "\n",
              "    .colab-df-convert:hover {\n",
              "      background-color: #E2EBFA;\n",
              "      box-shadow: 0px 1px 2px rgba(60, 64, 67, 0.3), 0px 1px 3px 1px rgba(60, 64, 67, 0.15);\n",
              "      fill: #174EA6;\n",
              "    }\n",
              "\n",
              "    [theme=dark] .colab-df-convert {\n",
              "      background-color: #3B4455;\n",
              "      fill: #D2E3FC;\n",
              "    }\n",
              "\n",
              "    [theme=dark] .colab-df-convert:hover {\n",
              "      background-color: #434B5C;\n",
              "      box-shadow: 0px 1px 3px 1px rgba(0, 0, 0, 0.15);\n",
              "      filter: drop-shadow(0px 1px 2px rgba(0, 0, 0, 0.3));\n",
              "      fill: #FFFFFF;\n",
              "    }\n",
              "  </style>\n",
              "\n",
              "      <script>\n",
              "        const buttonEl =\n",
              "          document.querySelector('#df-df592759-52be-4beb-b634-609ffb2156ef button.colab-df-convert');\n",
              "        buttonEl.style.display =\n",
              "          google.colab.kernel.accessAllowed ? 'block' : 'none';\n",
              "\n",
              "        async function convertToInteractive(key) {\n",
              "          const element = document.querySelector('#df-df592759-52be-4beb-b634-609ffb2156ef');\n",
              "          const dataTable =\n",
              "            await google.colab.kernel.invokeFunction('convertToInteractive',\n",
              "                                                     [key], {});\n",
              "          if (!dataTable) return;\n",
              "\n",
              "          const docLinkHtml = 'Like what you see? Visit the ' +\n",
              "            '<a target=\"_blank\" href=https://colab.research.google.com/notebooks/data_table.ipynb>data table notebook</a>'\n",
              "            + ' to learn more about interactive tables.';\n",
              "          element.innerHTML = '';\n",
              "          dataTable['output_type'] = 'display_data';\n",
              "          await google.colab.output.renderOutput(dataTable, element);\n",
              "          const docLink = document.createElement('div');\n",
              "          docLink.innerHTML = docLinkHtml;\n",
              "          element.appendChild(docLink);\n",
              "        }\n",
              "      </script>\n",
              "    </div>\n",
              "  </div>\n",
              "  "
            ]
          },
          "metadata": {},
          "execution_count": 83
        }
      ],
      "source": [
        "allmovies['train']=train\n",
        "allmovies['test']=test\n",
        "allmovies"
      ]
    },
    {
      "cell_type": "code",
      "execution_count": null,
      "metadata": {
        "id": "6DsY-_rk6wZh"
      },
      "outputs": [],
      "source": [
        "aboveavg=allmovies['allmovies'].apply(lambda x:[i for i in x if i>=(sum(x)/len(x))])"
      ]
    },
    {
      "cell_type": "code",
      "execution_count": null,
      "metadata": {
        "colab": {
          "base_uri": "https://localhost:8080/",
          "height": 423
        },
        "id": "DMpMGqGL75SK",
        "outputId": "14de9675-b4af-4dd8-bd9f-34bdae739ee5"
      },
      "outputs": [
        {
          "output_type": "execute_result",
          "data": {
            "text/plain": [
              "     userid                                          allmovies  \\\n",
              "0         1  [33, 20, 202, 265, 155, 117, 47, 222, 227, 17,...   \n",
              "1         5  [2, 17, 225, 1, 98, 211, 382, 62, 231, 24, 423...   \n",
              "2         6  [86, 14, 98, 463, 301, 258, 69, 517, 23, 478, ...   \n",
              "3         7  [32, 479, 455, 382, 163, 430, 661, 378, 200, 5...   \n",
              "4        10  [175, 7, 100, 461, 285, 504, 289, 340, 657, 46...   \n",
              "..      ...                                                ...   \n",
              "444     936  [285, 340, 106, 281, 298, 111, 313, 250, 14, 2...   \n",
              "445     938  [864, 122, 313, 240, 125, 988, 477, 763, 333, ...   \n",
              "446     940  [193, 568, 14, 205, 272, 655, 315, 66, 873, 28...   \n",
              "447     942  [117, 200, 604, 423, 427, 323, 584, 347, 313, ...   \n",
              "448     943  [58, 111, 11, 232, 356, 186, 215, 443, 210, 68...   \n",
              "\n",
              "                                                 train  \\\n",
              "0    [204, 90, 71, 69, 7, 238, 143, 94, 141, 31, 13...   \n",
              "1    [380, 420, 417, 99, 200, 433, 234, 227, 211, 4...   \n",
              "2    [482, 136, 9, 405, 483, 285, 187, 188, 248, 47...   \n",
              "3    [71, 367, 501, 192, 51, 474, 307, 682, 604, 26...   \n",
              "4    [629, 1, 203, 483, 156, 558, 124, 9, 70, 498, ...   \n",
              "..                                                 ...   \n",
              "444  [258, 313, 259, 301, 988, 340, 255, 319, 118, ...   \n",
              "445  [358, 250, 276, 281, 259, 122, 257, 118, 111, ...   \n",
              "446  [358, 89, 655, 151, 629, 347, 315, 164, 153, 6...   \n",
              "447  [315, 328, 200, 272, 435, 514, 511, 484, 31, 2...   \n",
              "448  [54, 151, 508, 31, 928, 92, 117, 188, 173, 219...   \n",
              "\n",
              "                                                  test  \\\n",
              "0    [218, 219, 198, 184, 67, 157, 205, 125, 154, 1...   \n",
              "1    [231, 183, 173, 423, 405, 69, 436, 429, 421, 1...   \n",
              "2    [462, 321, 527, 520, 514, 461, 133, 23, 268, 4...   \n",
              "3    [12, 679, 324, 463, 465, 39, 655, 530, 177, 16...   \n",
              "4    [197, 479, 238, 482, 294, 199, 191, 285, 116, ...   \n",
              "..                                                 ...   \n",
              "444  [717, 282, 815, 928, 455, 100, 181, 243, 14, 2...   \n",
              "445  [471, 546, 225, 273, 121, 742, 9, 300, 333, 47...   \n",
              "446  [191, 343, 181, 82, 300, 873, 751, 264, 302, 2...   \n",
              "447  [427, 234, 216, 347, 480, 310, 357, 258, 478, ...   \n",
              "448  [403, 216, 205, 100, 194, 412, 196, 124, 281, ...   \n",
              "\n",
              "                                              aboveavg  \n",
              "0    [202, 265, 155, 222, 227, 228, 186, 221, 177, ...  \n",
              "1    [382, 423, 403, 436, 411, 402, 417, 418, 429, ...  \n",
              "2    [463, 301, 517, 478, 508, 357, 294, 477, 475, ...  \n",
              "3    [479, 455, 382, 430, 661, 378, 554, 472, 662, ...  \n",
              "4    [461, 504, 340, 657, 463, 655, 321, 651, 705, ...  \n",
              "..                                                 ...  \n",
              "444  [591, 1014, 475, 508, 628, 748, 926, 405, 476,...  \n",
              "445  [864, 988, 477, 763, 476, 1012, 873, 1014, 717...  \n",
              "446  [568, 655, 315, 873, 319, 549, 474, 317, 751, ...  \n",
              "447  [604, 423, 427, 584, 511, 969, 479, 514, 496, ...  \n",
              "448  [356, 443, 685, 471, 1011, 549, 412, 655, 1074...  \n",
              "\n",
              "[449 rows x 5 columns]"
            ],
            "text/html": [
              "\n",
              "  <div id=\"df-5c014a55-21dd-409c-95fa-a17ab6cf989a\">\n",
              "    <div class=\"colab-df-container\">\n",
              "      <div>\n",
              "<style scoped>\n",
              "    .dataframe tbody tr th:only-of-type {\n",
              "        vertical-align: middle;\n",
              "    }\n",
              "\n",
              "    .dataframe tbody tr th {\n",
              "        vertical-align: top;\n",
              "    }\n",
              "\n",
              "    .dataframe thead th {\n",
              "        text-align: right;\n",
              "    }\n",
              "</style>\n",
              "<table border=\"1\" class=\"dataframe\">\n",
              "  <thead>\n",
              "    <tr style=\"text-align: right;\">\n",
              "      <th></th>\n",
              "      <th>userid</th>\n",
              "      <th>allmovies</th>\n",
              "      <th>train</th>\n",
              "      <th>test</th>\n",
              "      <th>aboveavg</th>\n",
              "    </tr>\n",
              "  </thead>\n",
              "  <tbody>\n",
              "    <tr>\n",
              "      <th>0</th>\n",
              "      <td>1</td>\n",
              "      <td>[33, 20, 202, 265, 155, 117, 47, 222, 227, 17,...</td>\n",
              "      <td>[204, 90, 71, 69, 7, 238, 143, 94, 141, 31, 13...</td>\n",
              "      <td>[218, 219, 198, 184, 67, 157, 205, 125, 154, 1...</td>\n",
              "      <td>[202, 265, 155, 222, 227, 228, 186, 221, 177, ...</td>\n",
              "    </tr>\n",
              "    <tr>\n",
              "      <th>1</th>\n",
              "      <td>5</td>\n",
              "      <td>[2, 17, 225, 1, 98, 211, 382, 62, 231, 24, 423...</td>\n",
              "      <td>[380, 420, 417, 99, 200, 433, 234, 227, 211, 4...</td>\n",
              "      <td>[231, 183, 173, 423, 405, 69, 436, 429, 421, 1...</td>\n",
              "      <td>[382, 423, 403, 436, 411, 402, 417, 418, 429, ...</td>\n",
              "    </tr>\n",
              "    <tr>\n",
              "      <th>2</th>\n",
              "      <td>6</td>\n",
              "      <td>[86, 14, 98, 463, 301, 258, 69, 517, 23, 478, ...</td>\n",
              "      <td>[482, 136, 9, 405, 483, 285, 187, 188, 248, 47...</td>\n",
              "      <td>[462, 321, 527, 520, 514, 461, 133, 23, 268, 4...</td>\n",
              "      <td>[463, 301, 517, 478, 508, 357, 294, 477, 475, ...</td>\n",
              "    </tr>\n",
              "    <tr>\n",
              "      <th>3</th>\n",
              "      <td>7</td>\n",
              "      <td>[32, 479, 455, 382, 163, 430, 661, 378, 200, 5...</td>\n",
              "      <td>[71, 367, 501, 192, 51, 474, 307, 682, 604, 26...</td>\n",
              "      <td>[12, 679, 324, 463, 465, 39, 655, 530, 177, 16...</td>\n",
              "      <td>[479, 455, 382, 430, 661, 378, 554, 472, 662, ...</td>\n",
              "    </tr>\n",
              "    <tr>\n",
              "      <th>4</th>\n",
              "      <td>10</td>\n",
              "      <td>[175, 7, 100, 461, 285, 504, 289, 340, 657, 46...</td>\n",
              "      <td>[629, 1, 203, 483, 156, 558, 124, 9, 70, 498, ...</td>\n",
              "      <td>[197, 479, 238, 482, 294, 199, 191, 285, 116, ...</td>\n",
              "      <td>[461, 504, 340, 657, 463, 655, 321, 651, 705, ...</td>\n",
              "    </tr>\n",
              "    <tr>\n",
              "      <th>...</th>\n",
              "      <td>...</td>\n",
              "      <td>...</td>\n",
              "      <td>...</td>\n",
              "      <td>...</td>\n",
              "      <td>...</td>\n",
              "    </tr>\n",
              "    <tr>\n",
              "      <th>444</th>\n",
              "      <td>936</td>\n",
              "      <td>[285, 340, 106, 281, 298, 111, 313, 250, 14, 2...</td>\n",
              "      <td>[258, 313, 259, 301, 988, 340, 255, 319, 118, ...</td>\n",
              "      <td>[717, 282, 815, 928, 455, 100, 181, 243, 14, 2...</td>\n",
              "      <td>[591, 1014, 475, 508, 628, 748, 926, 405, 476,...</td>\n",
              "    </tr>\n",
              "    <tr>\n",
              "      <th>445</th>\n",
              "      <td>938</td>\n",
              "      <td>[864, 122, 313, 240, 125, 988, 477, 763, 333, ...</td>\n",
              "      <td>[358, 250, 276, 281, 259, 122, 257, 118, 111, ...</td>\n",
              "      <td>[471, 546, 225, 273, 121, 742, 9, 300, 333, 47...</td>\n",
              "      <td>[864, 988, 477, 763, 476, 1012, 873, 1014, 717...</td>\n",
              "    </tr>\n",
              "    <tr>\n",
              "      <th>446</th>\n",
              "      <td>940</td>\n",
              "      <td>[193, 568, 14, 205, 272, 655, 315, 66, 873, 28...</td>\n",
              "      <td>[358, 89, 655, 151, 629, 347, 315, 164, 153, 6...</td>\n",
              "      <td>[191, 343, 181, 82, 300, 873, 751, 264, 302, 2...</td>\n",
              "      <td>[568, 655, 315, 873, 319, 549, 474, 317, 751, ...</td>\n",
              "    </tr>\n",
              "    <tr>\n",
              "      <th>447</th>\n",
              "      <td>942</td>\n",
              "      <td>[117, 200, 604, 423, 427, 323, 584, 347, 313, ...</td>\n",
              "      <td>[315, 328, 200, 272, 435, 514, 511, 484, 31, 2...</td>\n",
              "      <td>[427, 234, 216, 347, 480, 310, 357, 258, 478, ...</td>\n",
              "      <td>[604, 423, 427, 584, 511, 969, 479, 514, 496, ...</td>\n",
              "    </tr>\n",
              "    <tr>\n",
              "      <th>448</th>\n",
              "      <td>943</td>\n",
              "      <td>[58, 111, 11, 232, 356, 186, 215, 443, 210, 68...</td>\n",
              "      <td>[54, 151, 508, 31, 928, 92, 117, 188, 173, 219...</td>\n",
              "      <td>[403, 216, 205, 100, 194, 412, 196, 124, 281, ...</td>\n",
              "      <td>[356, 443, 685, 471, 1011, 549, 412, 655, 1074...</td>\n",
              "    </tr>\n",
              "  </tbody>\n",
              "</table>\n",
              "<p>449 rows × 5 columns</p>\n",
              "</div>\n",
              "      <button class=\"colab-df-convert\" onclick=\"convertToInteractive('df-5c014a55-21dd-409c-95fa-a17ab6cf989a')\"\n",
              "              title=\"Convert this dataframe to an interactive table.\"\n",
              "              style=\"display:none;\">\n",
              "        \n",
              "  <svg xmlns=\"http://www.w3.org/2000/svg\" height=\"24px\"viewBox=\"0 0 24 24\"\n",
              "       width=\"24px\">\n",
              "    <path d=\"M0 0h24v24H0V0z\" fill=\"none\"/>\n",
              "    <path d=\"M18.56 5.44l.94 2.06.94-2.06 2.06-.94-2.06-.94-.94-2.06-.94 2.06-2.06.94zm-11 1L8.5 8.5l.94-2.06 2.06-.94-2.06-.94L8.5 2.5l-.94 2.06-2.06.94zm10 10l.94 2.06.94-2.06 2.06-.94-2.06-.94-.94-2.06-.94 2.06-2.06.94z\"/><path d=\"M17.41 7.96l-1.37-1.37c-.4-.4-.92-.59-1.43-.59-.52 0-1.04.2-1.43.59L10.3 9.45l-7.72 7.72c-.78.78-.78 2.05 0 2.83L4 21.41c.39.39.9.59 1.41.59.51 0 1.02-.2 1.41-.59l7.78-7.78 2.81-2.81c.8-.78.8-2.07 0-2.86zM5.41 20L4 18.59l7.72-7.72 1.47 1.35L5.41 20z\"/>\n",
              "  </svg>\n",
              "      </button>\n",
              "      \n",
              "  <style>\n",
              "    .colab-df-container {\n",
              "      display:flex;\n",
              "      flex-wrap:wrap;\n",
              "      gap: 12px;\n",
              "    }\n",
              "\n",
              "    .colab-df-convert {\n",
              "      background-color: #E8F0FE;\n",
              "      border: none;\n",
              "      border-radius: 50%;\n",
              "      cursor: pointer;\n",
              "      display: none;\n",
              "      fill: #1967D2;\n",
              "      height: 32px;\n",
              "      padding: 0 0 0 0;\n",
              "      width: 32px;\n",
              "    }\n",
              "\n",
              "    .colab-df-convert:hover {\n",
              "      background-color: #E2EBFA;\n",
              "      box-shadow: 0px 1px 2px rgba(60, 64, 67, 0.3), 0px 1px 3px 1px rgba(60, 64, 67, 0.15);\n",
              "      fill: #174EA6;\n",
              "    }\n",
              "\n",
              "    [theme=dark] .colab-df-convert {\n",
              "      background-color: #3B4455;\n",
              "      fill: #D2E3FC;\n",
              "    }\n",
              "\n",
              "    [theme=dark] .colab-df-convert:hover {\n",
              "      background-color: #434B5C;\n",
              "      box-shadow: 0px 1px 3px 1px rgba(0, 0, 0, 0.15);\n",
              "      filter: drop-shadow(0px 1px 2px rgba(0, 0, 0, 0.3));\n",
              "      fill: #FFFFFF;\n",
              "    }\n",
              "  </style>\n",
              "\n",
              "      <script>\n",
              "        const buttonEl =\n",
              "          document.querySelector('#df-5c014a55-21dd-409c-95fa-a17ab6cf989a button.colab-df-convert');\n",
              "        buttonEl.style.display =\n",
              "          google.colab.kernel.accessAllowed ? 'block' : 'none';\n",
              "\n",
              "        async function convertToInteractive(key) {\n",
              "          const element = document.querySelector('#df-5c014a55-21dd-409c-95fa-a17ab6cf989a');\n",
              "          const dataTable =\n",
              "            await google.colab.kernel.invokeFunction('convertToInteractive',\n",
              "                                                     [key], {});\n",
              "          if (!dataTable) return;\n",
              "\n",
              "          const docLinkHtml = 'Like what you see? Visit the ' +\n",
              "            '<a target=\"_blank\" href=https://colab.research.google.com/notebooks/data_table.ipynb>data table notebook</a>'\n",
              "            + ' to learn more about interactive tables.';\n",
              "          element.innerHTML = '';\n",
              "          dataTable['output_type'] = 'display_data';\n",
              "          await google.colab.output.renderOutput(dataTable, element);\n",
              "          const docLink = document.createElement('div');\n",
              "          docLink.innerHTML = docLinkHtml;\n",
              "          element.appendChild(docLink);\n",
              "        }\n",
              "      </script>\n",
              "    </div>\n",
              "  </div>\n",
              "  "
            ]
          },
          "metadata": {},
          "execution_count": 85
        }
      ],
      "source": [
        "allmovies['aboveavg']=aboveavg\n",
        "allmovies"
      ]
    },
    {
      "cell_type": "code",
      "execution_count": null,
      "metadata": {
        "id": "17Jxp9HXfVDw"
      },
      "outputs": [],
      "source": [
        "def getUserEmbeddingsOfUserlistDrop(userlist,it):\n",
        "  drops=[]\n",
        "  for i,row in it.iterrows():\n",
        "    if row['movieid'] not in userlist:\n",
        "      drops.append(i)\n",
        "  return drops"
      ]
    },
    {
      "cell_type": "code",
      "execution_count": null,
      "metadata": {
        "id": "HQdoALVO-AlV"
      },
      "outputs": [],
      "source": [
        "aboveavgDrop=allmovies['aboveavg'].apply(lambda x: getUserEmbeddingsOfUserlistDrop(x,items))\n",
        "testDrop=allmovies['test'].apply(lambda x: getUserEmbeddingsOfUserlistDrop(x,items))\n",
        "allmovies['aboveavgDrop']=aboveavgDrop\n",
        "allmovies['testDrop']=testDrop"
      ]
    },
    {
      "cell_type": "code",
      "execution_count": null,
      "metadata": {
        "id": "oHX2y7INJUp8"
      },
      "outputs": [],
      "source": [
        "embbListDrop=aboveAvgMoviesid['itemidsAboveAvgRating'].apply(lambda x:getUserEmbeddingsOfUserlistDrop(x,items))"
      ]
    },
    {
      "cell_type": "code",
      "execution_count": null,
      "metadata": {
        "colab": {
          "base_uri": "https://localhost:8080/"
        },
        "id": "ZoyY_SA9gpTv",
        "outputId": "e34113df-f50f-4d55-9ccf-cb9a475072a8"
      },
      "outputs": [
        {
          "output_type": "execute_result",
          "data": {
            "text/plain": [
              "0      [1, 3, 4, 6, 8, 9, 14, 16, 19, 20, 22, 23, 26,...\n",
              "1      [1, 2, 3, 4, 5, 6, 7, 8, 9, 10, 11, 12, 13, 15...\n",
              "2      [1, 2, 3, 4, 5, 8, 9, 11, 13, 14, 15, 16, 17, ...\n",
              "3      [0, 1, 2, 4, 8, 9, 11, 12, 13, 14, 15, 16, 18,...\n",
              "4      [0, 1, 2, 3, 4, 5, 6, 7, 8, 9, 11, 12, 13, 14,...\n",
              "                             ...                        \n",
              "444    [1, 3, 4, 6, 8, 9, 10, 13, 14, 16, 17, 18, 20,...\n",
              "445    [1, 2, 3, 4, 6, 7, 8, 9, 10, 11, 12, 13, 14, 1...\n",
              "446    [0, 1, 2, 3, 4, 7, 8, 9, 11, 12, 13, 14, 15, 1...\n",
              "447    [0, 1, 2, 3, 4, 5, 6, 7, 8, 9, 10, 11, 12, 13,...\n",
              "448    [0, 2, 3, 4, 5, 6, 7, 8, 11, 12, 13, 14, 15, 1...\n",
              "Name: itemidsAboveAvgRating, Length: 449, dtype: object"
            ]
          },
          "metadata": {},
          "execution_count": 90
        }
      ],
      "source": [
        "embbListDrop"
      ]
    },
    {
      "cell_type": "code",
      "execution_count": null,
      "metadata": {
        "colab": {
          "base_uri": "https://localhost:8080/",
          "height": 423
        },
        "id": "0ocsKXxgf9zJ",
        "outputId": "6c9ba0ff-1880-4f45-c3d0-223740945610"
      },
      "outputs": [
        {
          "output_type": "execute_result",
          "data": {
            "text/plain": [
              "                                                  drop\n",
              "0    [1, 3, 4, 6, 8, 9, 14, 16, 19, 20, 22, 23, 26,...\n",
              "1    [1, 2, 3, 4, 5, 6, 7, 8, 9, 10, 11, 12, 13, 15...\n",
              "2    [1, 2, 3, 4, 5, 8, 9, 11, 13, 14, 15, 16, 17, ...\n",
              "3    [0, 1, 2, 4, 8, 9, 11, 12, 13, 14, 15, 16, 18,...\n",
              "4    [0, 1, 2, 3, 4, 5, 6, 7, 8, 9, 11, 12, 13, 14,...\n",
              "..                                                 ...\n",
              "444  [1, 3, 4, 6, 8, 9, 10, 13, 14, 16, 17, 18, 20,...\n",
              "445  [1, 2, 3, 4, 6, 7, 8, 9, 10, 11, 12, 13, 14, 1...\n",
              "446  [0, 1, 2, 3, 4, 7, 8, 9, 11, 12, 13, 14, 15, 1...\n",
              "447  [0, 1, 2, 3, 4, 5, 6, 7, 8, 9, 10, 11, 12, 13,...\n",
              "448  [0, 2, 3, 4, 5, 6, 7, 8, 11, 12, 13, 14, 15, 1...\n",
              "\n",
              "[449 rows x 1 columns]"
            ],
            "text/html": [
              "\n",
              "  <div id=\"df-7377d609-13d9-474e-a9fe-c9931b38cd6e\">\n",
              "    <div class=\"colab-df-container\">\n",
              "      <div>\n",
              "<style scoped>\n",
              "    .dataframe tbody tr th:only-of-type {\n",
              "        vertical-align: middle;\n",
              "    }\n",
              "\n",
              "    .dataframe tbody tr th {\n",
              "        vertical-align: top;\n",
              "    }\n",
              "\n",
              "    .dataframe thead th {\n",
              "        text-align: right;\n",
              "    }\n",
              "</style>\n",
              "<table border=\"1\" class=\"dataframe\">\n",
              "  <thead>\n",
              "    <tr style=\"text-align: right;\">\n",
              "      <th></th>\n",
              "      <th>drop</th>\n",
              "    </tr>\n",
              "  </thead>\n",
              "  <tbody>\n",
              "    <tr>\n",
              "      <th>0</th>\n",
              "      <td>[1, 3, 4, 6, 8, 9, 14, 16, 19, 20, 22, 23, 26,...</td>\n",
              "    </tr>\n",
              "    <tr>\n",
              "      <th>1</th>\n",
              "      <td>[1, 2, 3, 4, 5, 6, 7, 8, 9, 10, 11, 12, 13, 15...</td>\n",
              "    </tr>\n",
              "    <tr>\n",
              "      <th>2</th>\n",
              "      <td>[1, 2, 3, 4, 5, 8, 9, 11, 13, 14, 15, 16, 17, ...</td>\n",
              "    </tr>\n",
              "    <tr>\n",
              "      <th>3</th>\n",
              "      <td>[0, 1, 2, 4, 8, 9, 11, 12, 13, 14, 15, 16, 18,...</td>\n",
              "    </tr>\n",
              "    <tr>\n",
              "      <th>4</th>\n",
              "      <td>[0, 1, 2, 3, 4, 5, 6, 7, 8, 9, 11, 12, 13, 14,...</td>\n",
              "    </tr>\n",
              "    <tr>\n",
              "      <th>...</th>\n",
              "      <td>...</td>\n",
              "    </tr>\n",
              "    <tr>\n",
              "      <th>444</th>\n",
              "      <td>[1, 3, 4, 6, 8, 9, 10, 13, 14, 16, 17, 18, 20,...</td>\n",
              "    </tr>\n",
              "    <tr>\n",
              "      <th>445</th>\n",
              "      <td>[1, 2, 3, 4, 6, 7, 8, 9, 10, 11, 12, 13, 14, 1...</td>\n",
              "    </tr>\n",
              "    <tr>\n",
              "      <th>446</th>\n",
              "      <td>[0, 1, 2, 3, 4, 7, 8, 9, 11, 12, 13, 14, 15, 1...</td>\n",
              "    </tr>\n",
              "    <tr>\n",
              "      <th>447</th>\n",
              "      <td>[0, 1, 2, 3, 4, 5, 6, 7, 8, 9, 10, 11, 12, 13,...</td>\n",
              "    </tr>\n",
              "    <tr>\n",
              "      <th>448</th>\n",
              "      <td>[0, 2, 3, 4, 5, 6, 7, 8, 11, 12, 13, 14, 15, 1...</td>\n",
              "    </tr>\n",
              "  </tbody>\n",
              "</table>\n",
              "<p>449 rows × 1 columns</p>\n",
              "</div>\n",
              "      <button class=\"colab-df-convert\" onclick=\"convertToInteractive('df-7377d609-13d9-474e-a9fe-c9931b38cd6e')\"\n",
              "              title=\"Convert this dataframe to an interactive table.\"\n",
              "              style=\"display:none;\">\n",
              "        \n",
              "  <svg xmlns=\"http://www.w3.org/2000/svg\" height=\"24px\"viewBox=\"0 0 24 24\"\n",
              "       width=\"24px\">\n",
              "    <path d=\"M0 0h24v24H0V0z\" fill=\"none\"/>\n",
              "    <path d=\"M18.56 5.44l.94 2.06.94-2.06 2.06-.94-2.06-.94-.94-2.06-.94 2.06-2.06.94zm-11 1L8.5 8.5l.94-2.06 2.06-.94-2.06-.94L8.5 2.5l-.94 2.06-2.06.94zm10 10l.94 2.06.94-2.06 2.06-.94-2.06-.94-.94-2.06-.94 2.06-2.06.94z\"/><path d=\"M17.41 7.96l-1.37-1.37c-.4-.4-.92-.59-1.43-.59-.52 0-1.04.2-1.43.59L10.3 9.45l-7.72 7.72c-.78.78-.78 2.05 0 2.83L4 21.41c.39.39.9.59 1.41.59.51 0 1.02-.2 1.41-.59l7.78-7.78 2.81-2.81c.8-.78.8-2.07 0-2.86zM5.41 20L4 18.59l7.72-7.72 1.47 1.35L5.41 20z\"/>\n",
              "  </svg>\n",
              "      </button>\n",
              "      \n",
              "  <style>\n",
              "    .colab-df-container {\n",
              "      display:flex;\n",
              "      flex-wrap:wrap;\n",
              "      gap: 12px;\n",
              "    }\n",
              "\n",
              "    .colab-df-convert {\n",
              "      background-color: #E8F0FE;\n",
              "      border: none;\n",
              "      border-radius: 50%;\n",
              "      cursor: pointer;\n",
              "      display: none;\n",
              "      fill: #1967D2;\n",
              "      height: 32px;\n",
              "      padding: 0 0 0 0;\n",
              "      width: 32px;\n",
              "    }\n",
              "\n",
              "    .colab-df-convert:hover {\n",
              "      background-color: #E2EBFA;\n",
              "      box-shadow: 0px 1px 2px rgba(60, 64, 67, 0.3), 0px 1px 3px 1px rgba(60, 64, 67, 0.15);\n",
              "      fill: #174EA6;\n",
              "    }\n",
              "\n",
              "    [theme=dark] .colab-df-convert {\n",
              "      background-color: #3B4455;\n",
              "      fill: #D2E3FC;\n",
              "    }\n",
              "\n",
              "    [theme=dark] .colab-df-convert:hover {\n",
              "      background-color: #434B5C;\n",
              "      box-shadow: 0px 1px 3px 1px rgba(0, 0, 0, 0.15);\n",
              "      filter: drop-shadow(0px 1px 2px rgba(0, 0, 0, 0.3));\n",
              "      fill: #FFFFFF;\n",
              "    }\n",
              "  </style>\n",
              "\n",
              "      <script>\n",
              "        const buttonEl =\n",
              "          document.querySelector('#df-7377d609-13d9-474e-a9fe-c9931b38cd6e button.colab-df-convert');\n",
              "        buttonEl.style.display =\n",
              "          google.colab.kernel.accessAllowed ? 'block' : 'none';\n",
              "\n",
              "        async function convertToInteractive(key) {\n",
              "          const element = document.querySelector('#df-7377d609-13d9-474e-a9fe-c9931b38cd6e');\n",
              "          const dataTable =\n",
              "            await google.colab.kernel.invokeFunction('convertToInteractive',\n",
              "                                                     [key], {});\n",
              "          if (!dataTable) return;\n",
              "\n",
              "          const docLinkHtml = 'Like what you see? Visit the ' +\n",
              "            '<a target=\"_blank\" href=https://colab.research.google.com/notebooks/data_table.ipynb>data table notebook</a>'\n",
              "            + ' to learn more about interactive tables.';\n",
              "          element.innerHTML = '';\n",
              "          dataTable['output_type'] = 'display_data';\n",
              "          await google.colab.output.renderOutput(dataTable, element);\n",
              "          const docLink = document.createElement('div');\n",
              "          docLink.innerHTML = docLinkHtml;\n",
              "          element.appendChild(docLink);\n",
              "        }\n",
              "      </script>\n",
              "    </div>\n",
              "  </div>\n",
              "  "
            ]
          },
          "metadata": {},
          "execution_count": 92
        }
      ],
      "source": [
        "embbListdf=pd.DataFrame(embbListDrop)\n",
        "embbListdf = embbListdf.rename(columns={'itemidsAboveAvgRating':'drop'})\n",
        "embbListdf"
      ]
    },
    {
      "cell_type": "code",
      "execution_count": null,
      "metadata": {
        "colab": {
          "base_uri": "https://localhost:8080/",
          "height": 423
        },
        "id": "LdcqgHi4ezbU",
        "outputId": "129498a5-4845-427f-f760-c5d59df60040"
      },
      "outputs": [
        {
          "output_type": "execute_result",
          "data": {
            "text/plain": [
              "     userid                              itemidsAboveAvgRating  \\\n",
              "0         1  [33, 20, 202, 265, 47, 222, 227, 90, 64, 228, ...   \n",
              "1         5  [17, 1, 211, 382, 62, 24, 423, 222, 173, 436, ...   \n",
              "2         6  [14, 98, 463, 517, 23, 478, 357, 275, 221, 211...   \n",
              "3         7  [661, 378, 200, 451, 81, 576, 528, 582, 127, 1...   \n",
              "4        10  [100, 285, 504, 655, 124, 22, 200, 223, 135, 4...   \n",
              "..      ...                                                ...   \n",
              "444     936  [285, 340, 281, 298, 111, 313, 250, 14, 249, 1...   \n",
              "445     938  [864, 313, 763, 333, 476, 1012, 181, 1014, 151...   \n",
              "446     940  [272, 655, 315, 66, 96, 194, 172, 8, 56, 147, ...   \n",
              "447     942  [423, 427, 347, 304, 193, 31, 131, 172, 496, 9...   \n",
              "448     943  [58, 111, 11, 232, 356, 186, 215, 210, 685, 12...   \n",
              "\n",
              "                                                  drop  \n",
              "0    [1, 3, 4, 6, 8, 9, 14, 16, 19, 20, 22, 23, 26,...  \n",
              "1    [1, 2, 3, 4, 5, 6, 7, 8, 9, 10, 11, 12, 13, 15...  \n",
              "2    [1, 2, 3, 4, 5, 8, 9, 11, 13, 14, 15, 16, 17, ...  \n",
              "3    [0, 1, 2, 4, 8, 9, 11, 12, 13, 14, 15, 16, 18,...  \n",
              "4    [0, 1, 2, 3, 4, 5, 6, 7, 8, 9, 11, 12, 13, 14,...  \n",
              "..                                                 ...  \n",
              "444  [1, 3, 4, 6, 8, 9, 10, 13, 14, 16, 17, 18, 20,...  \n",
              "445  [1, 2, 3, 4, 6, 7, 8, 9, 10, 11, 12, 13, 14, 1...  \n",
              "446  [0, 1, 2, 3, 4, 7, 8, 9, 11, 12, 13, 14, 15, 1...  \n",
              "447  [0, 1, 2, 3, 4, 5, 6, 7, 8, 9, 10, 11, 12, 13,...  \n",
              "448  [0, 2, 3, 4, 5, 6, 7, 8, 11, 12, 13, 14, 15, 1...  \n",
              "\n",
              "[449 rows x 3 columns]"
            ],
            "text/html": [
              "\n",
              "  <div id=\"df-ccaa399b-e3db-4b1f-8dd8-53c9c2b831ac\">\n",
              "    <div class=\"colab-df-container\">\n",
              "      <div>\n",
              "<style scoped>\n",
              "    .dataframe tbody tr th:only-of-type {\n",
              "        vertical-align: middle;\n",
              "    }\n",
              "\n",
              "    .dataframe tbody tr th {\n",
              "        vertical-align: top;\n",
              "    }\n",
              "\n",
              "    .dataframe thead th {\n",
              "        text-align: right;\n",
              "    }\n",
              "</style>\n",
              "<table border=\"1\" class=\"dataframe\">\n",
              "  <thead>\n",
              "    <tr style=\"text-align: right;\">\n",
              "      <th></th>\n",
              "      <th>userid</th>\n",
              "      <th>itemidsAboveAvgRating</th>\n",
              "      <th>drop</th>\n",
              "    </tr>\n",
              "  </thead>\n",
              "  <tbody>\n",
              "    <tr>\n",
              "      <th>0</th>\n",
              "      <td>1</td>\n",
              "      <td>[33, 20, 202, 265, 47, 222, 227, 90, 64, 228, ...</td>\n",
              "      <td>[1, 3, 4, 6, 8, 9, 14, 16, 19, 20, 22, 23, 26,...</td>\n",
              "    </tr>\n",
              "    <tr>\n",
              "      <th>1</th>\n",
              "      <td>5</td>\n",
              "      <td>[17, 1, 211, 382, 62, 24, 423, 222, 173, 436, ...</td>\n",
              "      <td>[1, 2, 3, 4, 5, 6, 7, 8, 9, 10, 11, 12, 13, 15...</td>\n",
              "    </tr>\n",
              "    <tr>\n",
              "      <th>2</th>\n",
              "      <td>6</td>\n",
              "      <td>[14, 98, 463, 517, 23, 478, 357, 275, 221, 211...</td>\n",
              "      <td>[1, 2, 3, 4, 5, 8, 9, 11, 13, 14, 15, 16, 17, ...</td>\n",
              "    </tr>\n",
              "    <tr>\n",
              "      <th>3</th>\n",
              "      <td>7</td>\n",
              "      <td>[661, 378, 200, 451, 81, 576, 528, 582, 127, 1...</td>\n",
              "      <td>[0, 1, 2, 4, 8, 9, 11, 12, 13, 14, 15, 16, 18,...</td>\n",
              "    </tr>\n",
              "    <tr>\n",
              "      <th>4</th>\n",
              "      <td>10</td>\n",
              "      <td>[100, 285, 504, 655, 124, 22, 200, 223, 135, 4...</td>\n",
              "      <td>[0, 1, 2, 3, 4, 5, 6, 7, 8, 9, 11, 12, 13, 14,...</td>\n",
              "    </tr>\n",
              "    <tr>\n",
              "      <th>...</th>\n",
              "      <td>...</td>\n",
              "      <td>...</td>\n",
              "      <td>...</td>\n",
              "    </tr>\n",
              "    <tr>\n",
              "      <th>444</th>\n",
              "      <td>936</td>\n",
              "      <td>[285, 340, 281, 298, 111, 313, 250, 14, 249, 1...</td>\n",
              "      <td>[1, 3, 4, 6, 8, 9, 10, 13, 14, 16, 17, 18, 20,...</td>\n",
              "    </tr>\n",
              "    <tr>\n",
              "      <th>445</th>\n",
              "      <td>938</td>\n",
              "      <td>[864, 313, 763, 333, 476, 1012, 181, 1014, 151...</td>\n",
              "      <td>[1, 2, 3, 4, 6, 7, 8, 9, 10, 11, 12, 13, 14, 1...</td>\n",
              "    </tr>\n",
              "    <tr>\n",
              "      <th>446</th>\n",
              "      <td>940</td>\n",
              "      <td>[272, 655, 315, 66, 96, 194, 172, 8, 56, 147, ...</td>\n",
              "      <td>[0, 1, 2, 3, 4, 7, 8, 9, 11, 12, 13, 14, 15, 1...</td>\n",
              "    </tr>\n",
              "    <tr>\n",
              "      <th>447</th>\n",
              "      <td>942</td>\n",
              "      <td>[423, 427, 347, 304, 193, 31, 131, 172, 496, 9...</td>\n",
              "      <td>[0, 1, 2, 3, 4, 5, 6, 7, 8, 9, 10, 11, 12, 13,...</td>\n",
              "    </tr>\n",
              "    <tr>\n",
              "      <th>448</th>\n",
              "      <td>943</td>\n",
              "      <td>[58, 111, 11, 232, 356, 186, 215, 210, 685, 12...</td>\n",
              "      <td>[0, 2, 3, 4, 5, 6, 7, 8, 11, 12, 13, 14, 15, 1...</td>\n",
              "    </tr>\n",
              "  </tbody>\n",
              "</table>\n",
              "<p>449 rows × 3 columns</p>\n",
              "</div>\n",
              "      <button class=\"colab-df-convert\" onclick=\"convertToInteractive('df-ccaa399b-e3db-4b1f-8dd8-53c9c2b831ac')\"\n",
              "              title=\"Convert this dataframe to an interactive table.\"\n",
              "              style=\"display:none;\">\n",
              "        \n",
              "  <svg xmlns=\"http://www.w3.org/2000/svg\" height=\"24px\"viewBox=\"0 0 24 24\"\n",
              "       width=\"24px\">\n",
              "    <path d=\"M0 0h24v24H0V0z\" fill=\"none\"/>\n",
              "    <path d=\"M18.56 5.44l.94 2.06.94-2.06 2.06-.94-2.06-.94-.94-2.06-.94 2.06-2.06.94zm-11 1L8.5 8.5l.94-2.06 2.06-.94-2.06-.94L8.5 2.5l-.94 2.06-2.06.94zm10 10l.94 2.06.94-2.06 2.06-.94-2.06-.94-.94-2.06-.94 2.06-2.06.94z\"/><path d=\"M17.41 7.96l-1.37-1.37c-.4-.4-.92-.59-1.43-.59-.52 0-1.04.2-1.43.59L10.3 9.45l-7.72 7.72c-.78.78-.78 2.05 0 2.83L4 21.41c.39.39.9.59 1.41.59.51 0 1.02-.2 1.41-.59l7.78-7.78 2.81-2.81c.8-.78.8-2.07 0-2.86zM5.41 20L4 18.59l7.72-7.72 1.47 1.35L5.41 20z\"/>\n",
              "  </svg>\n",
              "      </button>\n",
              "      \n",
              "  <style>\n",
              "    .colab-df-container {\n",
              "      display:flex;\n",
              "      flex-wrap:wrap;\n",
              "      gap: 12px;\n",
              "    }\n",
              "\n",
              "    .colab-df-convert {\n",
              "      background-color: #E8F0FE;\n",
              "      border: none;\n",
              "      border-radius: 50%;\n",
              "      cursor: pointer;\n",
              "      display: none;\n",
              "      fill: #1967D2;\n",
              "      height: 32px;\n",
              "      padding: 0 0 0 0;\n",
              "      width: 32px;\n",
              "    }\n",
              "\n",
              "    .colab-df-convert:hover {\n",
              "      background-color: #E2EBFA;\n",
              "      box-shadow: 0px 1px 2px rgba(60, 64, 67, 0.3), 0px 1px 3px 1px rgba(60, 64, 67, 0.15);\n",
              "      fill: #174EA6;\n",
              "    }\n",
              "\n",
              "    [theme=dark] .colab-df-convert {\n",
              "      background-color: #3B4455;\n",
              "      fill: #D2E3FC;\n",
              "    }\n",
              "\n",
              "    [theme=dark] .colab-df-convert:hover {\n",
              "      background-color: #434B5C;\n",
              "      box-shadow: 0px 1px 3px 1px rgba(0, 0, 0, 0.15);\n",
              "      filter: drop-shadow(0px 1px 2px rgba(0, 0, 0, 0.3));\n",
              "      fill: #FFFFFF;\n",
              "    }\n",
              "  </style>\n",
              "\n",
              "      <script>\n",
              "        const buttonEl =\n",
              "          document.querySelector('#df-ccaa399b-e3db-4b1f-8dd8-53c9c2b831ac button.colab-df-convert');\n",
              "        buttonEl.style.display =\n",
              "          google.colab.kernel.accessAllowed ? 'block' : 'none';\n",
              "\n",
              "        async function convertToInteractive(key) {\n",
              "          const element = document.querySelector('#df-ccaa399b-e3db-4b1f-8dd8-53c9c2b831ac');\n",
              "          const dataTable =\n",
              "            await google.colab.kernel.invokeFunction('convertToInteractive',\n",
              "                                                     [key], {});\n",
              "          if (!dataTable) return;\n",
              "\n",
              "          const docLinkHtml = 'Like what you see? Visit the ' +\n",
              "            '<a target=\"_blank\" href=https://colab.research.google.com/notebooks/data_table.ipynb>data table notebook</a>'\n",
              "            + ' to learn more about interactive tables.';\n",
              "          element.innerHTML = '';\n",
              "          dataTable['output_type'] = 'display_data';\n",
              "          await google.colab.output.renderOutput(dataTable, element);\n",
              "          const docLink = document.createElement('div');\n",
              "          docLink.innerHTML = docLinkHtml;\n",
              "          element.appendChild(docLink);\n",
              "        }\n",
              "      </script>\n",
              "    </div>\n",
              "  </div>\n",
              "  "
            ]
          },
          "metadata": {},
          "execution_count": 93
        }
      ],
      "source": [
        "aboveAvgMoviesid=aboveAvgMoviesid.join(embbListdf)\n",
        "aboveAvgMoviesid"
      ]
    },
    {
      "cell_type": "code",
      "execution_count": null,
      "metadata": {
        "id": "O7gyjpeSRyP_"
      },
      "outputs": [],
      "source": [
        "index=0\n",
        "maxmov=0\n",
        "for i,row in allmovies.iterrows():\n",
        "  if maxmov<len(row['aboveavg']):\n",
        "    maxmov=len(row['aboveavg'])\n",
        "    index=i"
      ]
    },
    {
      "cell_type": "code",
      "execution_count": null,
      "metadata": {
        "colab": {
          "base_uri": "https://localhost:8080/"
        },
        "id": "inImsQ9dSF10",
        "outputId": "6d0d838b-f10c-439a-db84-927bc95f3f83"
      },
      "outputs": [
        {
          "output_type": "execute_result",
          "data": {
            "text/plain": [
              "(6, 147)"
            ]
          },
          "metadata": {},
          "execution_count": 95
        }
      ],
      "source": [
        "index,maxmov"
      ]
    },
    {
      "cell_type": "markdown",
      "metadata": {
        "id": "KYs9TiJevEc5"
      },
      "source": [
        "K-Means clustering"
      ]
    },
    {
      "cell_type": "code",
      "execution_count": null,
      "metadata": {
        "id": "jFSk08BSgabK"
      },
      "outputs": [],
      "source": [
        "from sklearn.cluster import KMeans"
      ]
    },
    {
      "cell_type": "code",
      "execution_count": null,
      "metadata": {
        "id": "MCgOGb4_nwJ2"
      },
      "outputs": [],
      "source": [
        "twodEmbeddings=TSNE(n_components=2, learning_rate='auto',init='pca0',perplexity=40,n_iter=2500,random_state=69).fit_transform(np.array(items['finalvec'].tolist()))"
      ]
    },
    {
      "cell_type": "code",
      "execution_count": null,
      "metadata": {
        "colab": {
          "base_uri": "https://localhost:8080/",
          "height": 302
        },
        "id": "o8oVTOBc1bzt",
        "outputId": "0c462751-1eda-4cfc-c601-8abc07b58dda"
      },
      "outputs": [
        {
          "output_type": "stream",
          "name": "stdout",
          "text": [
            "138\n",
            "62\n"
          ]
        },
        {
          "output_type": "display_data",
          "data": {
            "text/plain": [
              "<Figure size 432x288 with 1 Axes>"
            ],
            "image/png": "[encoded data removed]"
          },
          "metadata": {
            "needs_background": "light"
          }
        }
      ],
      "source": [
        "twodEmbeddingsdf = pd.DataFrame(data=twodEmbeddings)\n",
        "twodEmbeddingsdf.drop(allmovies['aboveavgDrop'][6], inplace = True)\n",
        "twodEmbeddingsdf = twodEmbeddingsdf.reset_index()\n",
        "twodEmbeddingsdf.drop('index', axis=1, inplace=True)\n",
        "X_embedd = np.array(twodEmbeddingsdf)\n",
        "print(len(X_embedd))\n",
        "kmeans = KMeans(n_clusters=4 if len(X_embedd)>=4 else len(X_embedd), random_state=0).fit(X_embedd)\n",
        "\n",
        "twodEmbeddingsTestdf = pd.DataFrame(data=twodEmbeddings)\n",
        "twodEmbeddingsTestdf.drop(allmovies['testDrop'][6], inplace = True)\n",
        "twodEmbeddingsTestdf = twodEmbeddingsTestdf.reset_index()\n",
        "twodEmbeddingsTestdf.drop('index', axis=1, inplace=True)\n",
        "X_embedd_test = np.array(twodEmbeddingsTestdf)\n",
        "print(len(X_embedd_test))\n",
        "\n",
        "import matplotlib.pyplot as plt\n",
        " \n",
        "plotembb0=[]\n",
        "plotembb1=[]\n",
        "plotembb2=[]\n",
        "plotembb3=[]\n",
        "\n",
        "for i,v in enumerate(list(kmeans.labels_)):\n",
        "  if v == 1:\n",
        "    plotembb1.append(X_embedd[i])\n",
        "  elif v == 2:\n",
        "    plotembb2.append(X_embedd[i])\n",
        "  elif v == 3:\n",
        "    plotembb3.append(X_embedd[i])\n",
        "  else:\n",
        "    plotembb0.append(X_embedd[i])\n",
        "\n",
        "plotembb0=np.array(plotembb0)\n",
        "plotembb1=np.array(plotembb1)\n",
        "plotembb2=np.array(plotembb2)\n",
        "plotembb3=np.array(plotembb3)\n",
        "\n",
        "plt.scatter(plotembb0[:,0] , plotembb0[:,1], color = 'red')\n",
        "plt.scatter(plotembb1[:,0] , plotembb1[:,1], color = 'blue')\n",
        "plt.scatter(plotembb2[:,0] , plotembb2[:,1], color = 'green')\n",
        "plt.scatter(plotembb3[:,0] , plotembb3[:,1], color = 'magenta')\n",
        "for i in kmeans.cluster_centers_:\n",
        "  plt.scatter([i[0]] , [i[1]], color='black')\n",
        "\n",
        "for i in X_embedd_test:\n",
        "  plt.scatter([i[0]],[i[1]],color='cyan')\n",
        "plt.show()"
      ]
    },
    {
      "cell_type": "code",
      "execution_count": null,
      "metadata": {
        "id": "Y7PUGpNxF-iB"
      },
      "outputs": [],
      "source": [
        "def recomendMovie(movievec,userclusters,theta):\n",
        "  for i in userclusters:\n",
        "    c=cosine_similarity([movievec],[i])[0][0]\n",
        "    if  c>=theta:\n",
        "      # print(c)\n",
        "      return True\n",
        "  return False"
      ]
    },
    {
      "cell_type": "markdown",
      "metadata": {
        "id": "8_6EyDhWTQeL"
      },
      "source": [
        "Positive correct classification"
      ]
    },
    {
      "cell_type": "code",
      "execution_count": null,
      "metadata": {
        "id": "JkG8cnaoJP92"
      },
      "outputs": [],
      "source": [
        "# yy"
      ]
    },
    {
      "cell_type": "markdown",
      "metadata": {
        "id": "fB2II5_MTKh_"
      },
      "source": [
        "Negative correct classification"
      ]
    },
    {
      "cell_type": "code",
      "execution_count": null,
      "metadata": {
        "id": "lRgOuN1YJf5O"
      },
      "outputs": [],
      "source": [
        "# nn"
      ]
    },
    {
      "cell_type": "markdown",
      "metadata": {
        "id": "MGhFFVN9TX0C"
      },
      "source": [
        "Pred True actual False"
      ]
    },
    {
      "cell_type": "code",
      "execution_count": null,
      "metadata": {
        "id": "KF3GGuVCTVkl"
      },
      "outputs": [],
      "source": [
        "# ny"
      ]
    },
    {
      "cell_type": "markdown",
      "metadata": {
        "id": "xbjQRzvUTZS_"
      },
      "source": [
        "Pred False actual True"
      ]
    },
    {
      "cell_type": "code",
      "execution_count": null,
      "metadata": {
        "id": "c_093GI3Jgxk"
      },
      "outputs": [],
      "source": [
        "# yn"
      ]
    },
    {
      "cell_type": "code",
      "execution_count": null,
      "metadata": {
        "id": "v8orpZGCVFVi"
      },
      "outputs": [],
      "source": [
        "def getCM(pred,gold):\n",
        "  yy=0\n",
        "  nn=0\n",
        "  yn=0\n",
        "  ny=0\n",
        "  for k in pred:\n",
        "    if pred[k]==gold[k]==True:\n",
        "      yy=yy+1\n",
        "    if pred[k]==gold[k]==False:\n",
        "      nn=nn+1\n",
        "    if gold[k]==True and pred[k]==False:\n",
        "      yn=yn+1\n",
        "    if gold[k]==False and pred[k]==True:\n",
        "      ny=ny+1\n",
        "  return [[nn,ny],[yn,yy]]"
      ]
    },
    {
      "cell_type": "code",
      "execution_count": null,
      "metadata": {
        "id": "F3hn407iV-7j"
      },
      "outputs": [],
      "source": [
        "def getPreRecAcc(cm):\n",
        "  pre = round(cm[1][1]/(cm[1][1]+cm[0][1]) if cm[1][1]+cm[0][1]!=0 else 0, 2)\n",
        "  rec = round(cm[1][1]/(cm[1][1]+cm[1][0]) if (cm[1][1]+cm[1][0])!=0 else 0, 2)\n",
        "  acc = round((cm[1][1]+cm[0][0])/(cm[0][0]+cm[1][0]+cm[1][1]+cm[0][1]) if (cm[0][0]+cm[1][0]+cm[1][1]+cm[0][1])!=0 else 0, 2)\n",
        "  f1 = round(2*(pre*rec)/(pre+rec) if (pre+rec)!=0 else 0, 2)\n",
        "  return pre,rec,f1,acc"
      ]
    },
    {
      "cell_type": "code",
      "execution_count": null,
      "metadata": {
        "id": "D2X-mv8jFU7-"
      },
      "outputs": [],
      "source": [
        "def userProfileRecTest(k, theta, movEmbeddings, aboveAvgMoviesid, userindex):\n",
        "  twodEmbeddingsdf = pd.DataFrame(data=movEmbeddings)\n",
        "  twodEmbeddingsdf.drop(aboveAvgMoviesid['aboveavgDrop'][userindex], inplace = True)\n",
        "  twodEmbeddingsdf = twodEmbeddingsdf.reset_index()\n",
        "  twodEmbeddingsdf.drop('index', axis=1, inplace=True)\n",
        "  X_embedd = np.array(twodEmbeddingsdf)\n",
        "  kmeans = KMeans(n_clusters=k if len(X_embedd)>=k else len(X_embedd), random_state=0).fit(X_embedd)\n",
        "  rec={}\n",
        "  truth={}\n",
        "  twodEmbeddingsTestdf = pd.DataFrame(data=twodEmbeddings)\n",
        "  twodEmbeddingsTestdf.drop(aboveAvgMoviesid['testDrop'][userindex], inplace = True)\n",
        "  twodEmbeddingsTestdf = twodEmbeddingsTestdf.reset_index()\n",
        "  twodEmbeddingsTestdf.drop('index', axis=1, inplace=True)\n",
        "  X_embedd_test = np.array(twodEmbeddingsTestdf)\n",
        "  for i, row in items.iterrows():\n",
        "    if row['movieid'] in aboveAvgMoviesid['test']:\n",
        "      rec[row['movieid']] = recomendMovie(movEmbeddings[i],kmeans.cluster_centers_.tolist(),theta)\n",
        "      if row['movieid'] in allmovies['test'][userindex]:\n",
        "        truth[row['movieid']] = True\n",
        "      else:\n",
        "        truth[row['movieid']] = False\n",
        "  print(len(X_embedd),len(X_embedd_test))\n",
        "  print(len(rec),rec)\n",
        "  print(len(truth),truth)\n",
        "  cm=getCM(rec,truth)\n",
        "  return getPreRecAcc(cm)"
      ]
    },
    {
      "cell_type": "code",
      "execution_count": null,
      "metadata": {
        "id": "f_AfnNfQA4On"
      },
      "outputs": [],
      "source": [
        "def userProfileRec(k, theta, movEmbeddings, aboveAvgMoviesid, userindex):\n",
        "  twodEmbeddingsdf = pd.DataFrame(data=movEmbeddings)\n",
        "  twodEmbeddingsdf.drop(aboveAvgMoviesid['drop'][userindex], inplace = True)\n",
        "  twodEmbeddingsdf = twodEmbeddingsdf.reset_index()\n",
        "  twodEmbeddingsdf.drop('index', axis=1, inplace=True)\n",
        "  X_embedd = np.array(twodEmbeddingsdf)\n",
        "  kmeans = KMeans(n_clusters=k if len(X_embedd)>=k else len(X_embedd), random_state=0).fit(X_embedd)\n",
        "  rec={}\n",
        "  truth={}\n",
        "  for i, row in testItems.iterrows():\n",
        "    rec[row['movieid']] = recomendMovie(movEmbeddings[i],kmeans.cluster_centers_.tolist(),theta)\n",
        "    if row['movieid'] in allmovies['allmovies'][userindex]:\n",
        "      truth[row['movieid']] = True\n",
        "    else:\n",
        "      truth[row['movieid']] = False\n",
        "  cm=getCM(rec,truth)\n",
        "  return getPreRecAcc(cm)"
      ]
    },
    {
      "cell_type": "code",
      "execution_count": null,
      "metadata": {
        "id": "gaS6L7NzaFZW"
      },
      "outputs": [],
      "source": [
        "def getKmeansCentres(k, theta, movEmbeddings, aboveAvgMoviesid, userindex):\n",
        "  twodEmbeddingsdf = pd.DataFrame(data=twodEmbeddings)\n",
        "  twodEmbeddingsdf.drop(aboveAvgMoviesid['drop'][userindex], inplace = True)\n",
        "  twodEmbeddingsdf = twodEmbeddingsdf.reset_index()\n",
        "  twodEmbeddingsdf.drop('index', axis=1, inplace=True)\n",
        "  X_embedd = np.array(twodEmbeddingsdf)\n",
        "  kmeans = KMeans(n_clusters=k if len(X_embedd)>=k else len(X_embedd), random_state=0).fit(X_embedd)\n",
        "  return kmeans.cluster_centers_.tolist()"
      ]
    },
    {
      "cell_type": "code",
      "execution_count": null,
      "metadata": {
        "id": "nBdT61uwD8T0"
      },
      "outputs": [],
      "source": [
        "uprof=[]\n",
        "for i, row in allmovies.iterrows():\n",
        "  print(i)\n",
        "  uprof.append(userProfileRecTest(3,0.9,twodEmbeddings,allmovies,i))"
      ]
    },
    {
      "cell_type": "code",
      "execution_count": null,
      "metadata": {
        "id": "CUoZlELTHSgp"
      },
      "outputs": [],
      "source": [
        "# uprof=[]\n",
        "# for i, row in aboveAvgMoviesid.iterrows():\n",
        "#   print(i)\n",
        "#   uprof.append(userProfileRec(4,0.7,twodEmbeddings,aboveAvgMoviesid,i))"
      ]
    },
    {
      "cell_type": "code",
      "execution_count": null,
      "metadata": {
        "id": "vlYYL9gK_P-p"
      },
      "outputs": [],
      "source": [
        "# centres=[]\n",
        "# for i, row in aboveAvgMoviesid.iterrows():\n",
        "#   print(i)\n",
        "#   centres.append(getKmeansCentres(3,0.7,twodEmbeddings,aboveAvgMoviesid,i))"
      ]
    },
    {
      "cell_type": "code",
      "execution_count": null,
      "metadata": {
        "id": "wB89pDEMY0fv"
      },
      "outputs": [],
      "source": [
        "# centres=[]\n",
        "# for i, row in aboveAvgMoviesid.iterrows():\n",
        "#   print(i)\n",
        "#   centres.append(getKmeansCentres(3,0.7,twodEmbeddings,aboveAvgMoviesid,i))"
      ]
    },
    {
      "cell_type": "code",
      "execution_count": null,
      "metadata": {
        "id": "3kHKrXroIPF0"
      },
      "outputs": [],
      "source": [
        "bkuprof=uprof"
      ]
    },
    {
      "cell_type": "code",
      "execution_count": null,
      "metadata": {
        "id": "xPziTP_KIRUC"
      },
      "outputs": [],
      "source": [
        "bkuprof=np.array(bkuprof)"
      ]
    },
    {
      "cell_type": "code",
      "execution_count": null,
      "metadata": {
        "id": "6nX_YwXpc-qu"
      },
      "outputs": [],
      "source": [
        "np.shape(bkuprof)"
      ]
    },
    {
      "cell_type": "code",
      "execution_count": null,
      "metadata": {
        "id": "eGT3aO5ZcrRt"
      },
      "outputs": [],
      "source": [
        "bkuprof.max(axis=0)"
      ]
    },
    {
      "cell_type": "code",
      "execution_count": null,
      "metadata": {
        "id": "cBuoKn1wc61Y"
      },
      "outputs": [],
      "source": [
        "bkuprof.mean(axis=0)"
      ]
    },
    {
      "cell_type": "code",
      "execution_count": null,
      "metadata": {
        "id": "zgLSGjBlTv73"
      },
      "outputs": [],
      "source": [
        "bkuprof.min(axis=0)"
      ]
    },
    {
      "cell_type": "markdown",
      "metadata": {
        "id": "te_Tu0Pr_XCG"
      },
      "source": [
        "# **Plotting MAP@K comparisons**"
      ]
    },
    {
      "cell_type": "code",
      "execution_count": null,
      "metadata": {
        "id": "jayyvF2mfb9J"
      },
      "outputs": [],
      "source": [
        "results=[]\n",
        "for i in range(2,8):\n",
        "  resultsRow=[]\n",
        "  for j in range(50,101,10):\n",
        "    if j==100:\n",
        "      j=j-1\n",
        "    print(i,j)\n",
        "    uprof=[]\n",
        "    for k, row in aboveAvgMoviesid.iterrows():\n",
        "      uprof.append(userProfileRec(i,round(j/100,2),twodEmbeddings,aboveAvgMoviesid,k))\n",
        "    uprof=np.array(uprof)\n",
        "    resultsRow.append([uprof.max(axis=0),uprof.mean(axis=0),uprof.min(axis=0)])\n",
        "  results.append(resultsRow)"
      ]
    },
    {
      "cell_type": "markdown",
      "metadata": {
        "id": "YUB5wVboIDuj"
      },
      "source": [
        "Accuracies"
      ]
    },
    {
      "cell_type": "code",
      "execution_count": null,
      "metadata": {
        "colab": {
          "base_uri": "https://localhost:8080/",
          "height": 542
        },
        "id": "RjhVcqjT9B1t",
        "outputId": "d9792686-d0a4-487d-8d15-680f7b2374e0"
      },
      "outputs": [
        {
          "data": {
            "text/html": [
              "<html>\n",
              "<head><meta charset=\"utf-8\" /></head>\n",
              "<body>\n",
              "    <div>            <script src=\"https://cdnjs.cloudflare.com/ajax/libs/mathjax/2.7.5/MathJax.js?config=TeX-AMS-MML_SVG\"></script><script type=\"text/javascript\">if (window.MathJax) {MathJax.Hub.Config({SVG: {font: \"STIX-Web\"}});}</script>                <script type=\"text/javascript\">window.PlotlyConfig = {MathJaxConfig: 'local'};</script>\n",
              "        <script src=\"https://cdn.plot.ly/plotly-2.8.3.min.js\"></script>                <div id=\"34ba1792-86dc-4edd-95fe-6a62192ca951\" class=\"plotly-graph-div\" style=\"height:525px; width:100%;\"></div>            <script type=\"text/javascript\">                                    window.PLOTLYENV=window.PLOTLYENV || {};                                    if (document.getElementById(\"34ba1792-86dc-4edd-95fe-6a62192ca951\")) {                    Plotly.newPlot(                        \"34ba1792-86dc-4edd-95fe-6a62192ca951\",                        [{\"name\":\"Max K:2\",\"x\":[0.5,0.6,0.7,0.8,0.9,0.99],\"y\":[0.76,0.73,0.74,0.82,0.86,0.92],\"type\":\"scatter\"},{\"name\":\"Mean K:2\",\"x\":[0.5,0.6,0.7,0.8,0.9,0.99],\"y\":[0.3967483296213812,0.4153006681514479,0.444053452115813,0.487505567928731,0.5537639198218263,0.6521826280623604],\"type\":\"scatter\"},{\"name\":\"Min K:2\",\"x\":[0.5,0.6,0.7,0.8,0.9,0.99],\"y\":[0.18,0.2,0.22,0.29,0.34,0.27],\"type\":\"scatter\"},{\"name\":\"Max K:3\",\"x\":[0.5,0.6,0.7,0.8,0.9,0.99],\"y\":[0.77,0.77,0.74,0.78,0.82,0.91],\"type\":\"scatter\"},{\"name\":\"Mean K:3\",\"x\":[0.5,0.6,0.7,0.8,0.9,0.99],\"y\":[0.3676837416481073,0.3793763919821826,0.4002004454342989,0.4345434298440981,0.5025167037861916,0.638351893095768],\"type\":\"scatter\"},{\"name\":\"Min K:3\",\"x\":[0.5,0.6,0.7,0.8,0.9,0.99],\"y\":[0.12,0.14,0.17,0.18,0.3,0.34],\"type\":\"scatter\"},{\"name\":\"Max K:4\",\"x\":[0.5,0.6,0.7,0.8,0.9,0.99],\"y\":[0.76,0.76,0.76,0.78,0.82,0.92],\"type\":\"scatter\"},{\"name\":\"Mean K:4\",\"x\":[0.5,0.6,0.7,0.8,0.9,0.99],\"y\":[0.35661469933184836,0.3663028953229401,0.38189309576837416,0.40766146993318514,0.47481069042316265,0.628017817371938],\"type\":\"scatter\"},{\"name\":\"Min K:4\",\"x\":[0.5,0.6,0.7,0.8,0.9,0.99],\"y\":[0.1,0.11,0.12,0.17,0.27,0.34],\"type\":\"scatter\"},{\"name\":\"Max K:5\",\"x\":[0.5,0.6,0.7,0.8,0.9,0.99],\"y\":[0.77,0.77,0.77,0.78,0.82,0.93],\"type\":\"scatter\"},{\"name\":\"Mean K:5\",\"x\":[0.5,0.6,0.7,0.8,0.9,0.99],\"y\":[0.34783964365256115,0.35752783964365276,0.3724944320712696,0.3955456570155907,0.4534743875278394,0.6202672605790646],\"type\":\"scatter\"},{\"name\":\"Min K:5\",\"x\":[0.5,0.6,0.7,0.8,0.9,0.99],\"y\":[0.1,0.11,0.11,0.12,0.21,0.38],\"type\":\"scatter\"},{\"name\":\"Max K:6\",\"x\":[0.5,0.6,0.7,0.8,0.9,0.99],\"y\":[0.77,0.77,0.77,0.78,0.82,0.92],\"type\":\"scatter\"},{\"name\":\"Mean K:6\",\"x\":[0.5,0.6,0.7,0.8,0.9,0.99],\"y\":[0.3437639198218264,0.3539643652561249,0.36601336302895343,0.38543429844098054,0.4344988864142542,0.6116035634743876],\"type\":\"scatter\"},{\"name\":\"Min K:6\",\"x\":[0.5,0.6,0.7,0.8,0.9,0.99],\"y\":[0.1,0.11,0.11,0.12,0.21,0.41],\"type\":\"scatter\"},{\"name\":\"Max K:7\",\"x\":[0.5,0.6,0.7,0.8,0.9,0.99],\"y\":[0.77,0.77,0.77,0.78,0.82,0.92],\"type\":\"scatter\"},{\"name\":\"Mean K:7\",\"x\":[0.5,0.6,0.7,0.8,0.9,0.99],\"y\":[0.34077951002227197,0.35082405345211615,0.3617817371937641,0.37939866369710523,0.4239420935412032,0.6053674832962138],\"type\":\"scatter\"},{\"name\":\"Min K:7\",\"x\":[0.5,0.6,0.7,0.8,0.9,0.99],\"y\":[0.1,0.11,0.11,0.12,0.19,0.42],\"type\":\"scatter\"}],                        {\"template\":{\"data\":{\"bar\":[{\"error_x\":{\"color\":\"#2a3f5f\"},\"error_y\":{\"color\":\"#2a3f5f\"},\"marker\":{\"line\":{\"color\":\"#E5ECF6\",\"width\":0.5},\"pattern\":{\"fillmode\":\"overlay\",\"size\":10,\"solidity\":0.2}},\"type\":\"bar\"}],\"barpolar\":[{\"marker\":{\"line\":{\"color\":\"#E5ECF6\",\"width\":0.5},\"pattern\":{\"fillmode\":\"overlay\",\"size\":10,\"solidity\":0.2}},\"type\":\"barpolar\"}],\"carpet\":[{\"aaxis\":{\"endlinecolor\":\"#2a3f5f\",\"gridcolor\":\"white\",\"linecolor\":\"white\",\"minorgridcolor\":\"white\",\"startlinecolor\":\"#2a3f5f\"},\"baxis\":{\"endlinecolor\":\"#2a3f5f\",\"gridcolor\":\"white\",\"linecolor\":\"white\",\"minorgridcolor\":\"white\",\"startlinecolor\":\"#2a3f5f\"},\"type\":\"carpet\"}],\"choropleth\":[{\"colorbar\":{\"outlinewidth\":0,\"ticks\":\"\"},\"type\":\"choropleth\"}],\"contour\":[{\"colorbar\":{\"outlinewidth\":0,\"ticks\":\"\"},\"colorscale\":[[0.0,\"#0d0887\"],[0.1111111111111111,\"#46039f\"],[0.2222222222222222,\"#7201a8\"],[0.3333333333333333,\"#9c179e\"],[0.4444444444444444,\"#bd3786\"],[0.5555555555555556,\"#d8576b\"],[0.6666666666666666,\"#ed7953\"],[0.7777777777777778,\"#fb9f3a\"],[0.8888888888888888,\"#fdca26\"],[1.0,\"#f0f921\"]],\"type\":\"contour\"}],\"contourcarpet\":[{\"colorbar\":{\"outlinewidth\":0,\"ticks\":\"\"},\"type\":\"contourcarpet\"}],\"heatmap\":[{\"colorbar\":{\"outlinewidth\":0,\"ticks\":\"\"},\"colorscale\":[[0.0,\"#0d0887\"],[0.1111111111111111,\"#46039f\"],[0.2222222222222222,\"#7201a8\"],[0.3333333333333333,\"#9c179e\"],[0.4444444444444444,\"#bd3786\"],[0.5555555555555556,\"#d8576b\"],[0.6666666666666666,\"#ed7953\"],[0.7777777777777778,\"#fb9f3a\"],[0.8888888888888888,\"#fdca26\"],[1.0,\"#f0f921\"]],\"type\":\"heatmap\"}],\"heatmapgl\":[{\"colorbar\":{\"outlinewidth\":0,\"ticks\":\"\"},\"colorscale\":[[0.0,\"#0d0887\"],[0.1111111111111111,\"#46039f\"],[0.2222222222222222,\"#7201a8\"],[0.3333333333333333,\"#9c179e\"],[0.4444444444444444,\"#bd3786\"],[0.5555555555555556,\"#d8576b\"],[0.6666666666666666,\"#ed7953\"],[0.7777777777777778,\"#fb9f3a\"],[0.8888888888888888,\"#fdca26\"],[1.0,\"#f0f921\"]],\"type\":\"heatmapgl\"}],\"histogram\":[{\"marker\":{\"pattern\":{\"fillmode\":\"overlay\",\"size\":10,\"solidity\":0.2}},\"type\":\"histogram\"}],\"histogram2d\":[{\"colorbar\":{\"outlinewidth\":0,\"ticks\":\"\"},\"colorscale\":[[0.0,\"#0d0887\"],[0.1111111111111111,\"#46039f\"],[0.2222222222222222,\"#7201a8\"],[0.3333333333333333,\"#9c179e\"],[0.4444444444444444,\"#bd3786\"],[0.5555555555555556,\"#d8576b\"],[0.6666666666666666,\"#ed7953\"],[0.7777777777777778,\"#fb9f3a\"],[0.8888888888888888,\"#fdca26\"],[1.0,\"#f0f921\"]],\"type\":\"histogram2d\"}],\"histogram2dcontour\":[{\"colorbar\":{\"outlinewidth\":0,\"ticks\":\"\"},\"colorscale\":[[0.0,\"#0d0887\"],[0.1111111111111111,\"#46039f\"],[0.2222222222222222,\"#7201a8\"],[0.3333333333333333,\"#9c179e\"],[0.4444444444444444,\"#bd3786\"],[0.5555555555555556,\"#d8576b\"],[0.6666666666666666,\"#ed7953\"],[0.7777777777777778,\"#fb9f3a\"],[0.8888888888888888,\"#fdca26\"],[1.0,\"#f0f921\"]],\"type\":\"histogram2dcontour\"}],\"mesh3d\":[{\"colorbar\":{\"outlinewidth\":0,\"ticks\":\"\"},\"type\":\"mesh3d\"}],\"parcoords\":[{\"line\":{\"colorbar\":{\"outlinewidth\":0,\"ticks\":\"\"}},\"type\":\"parcoords\"}],\"pie\":[{\"automargin\":true,\"type\":\"pie\"}],\"scatter\":[{\"marker\":{\"colorbar\":{\"outlinewidth\":0,\"ticks\":\"\"}},\"type\":\"scatter\"}],\"scatter3d\":[{\"line\":{\"colorbar\":{\"outlinewidth\":0,\"ticks\":\"\"}},\"marker\":{\"colorbar\":{\"outlinewidth\":0,\"ticks\":\"\"}},\"type\":\"scatter3d\"}],\"scattercarpet\":[{\"marker\":{\"colorbar\":{\"outlinewidth\":0,\"ticks\":\"\"}},\"type\":\"scattercarpet\"}],\"scattergeo\":[{\"marker\":{\"colorbar\":{\"outlinewidth\":0,\"ticks\":\"\"}},\"type\":\"scattergeo\"}],\"scattergl\":[{\"marker\":{\"colorbar\":{\"outlinewidth\":0,\"ticks\":\"\"}},\"type\":\"scattergl\"}],\"scattermapbox\":[{\"marker\":{\"colorbar\":{\"outlinewidth\":0,\"ticks\":\"\"}},\"type\":\"scattermapbox\"}],\"scatterpolar\":[{\"marker\":{\"colorbar\":{\"outlinewidth\":0,\"ticks\":\"\"}},\"type\":\"scatterpolar\"}],\"scatterpolargl\":[{\"marker\":{\"colorbar\":{\"outlinewidth\":0,\"ticks\":\"\"}},\"type\":\"scatterpolargl\"}],\"scatterternary\":[{\"marker\":{\"colorbar\":{\"outlinewidth\":0,\"ticks\":\"\"}},\"type\":\"scatterternary\"}],\"surface\":[{\"colorbar\":{\"outlinewidth\":0,\"ticks\":\"\"},\"colorscale\":[[0.0,\"#0d0887\"],[0.1111111111111111,\"#46039f\"],[0.2222222222222222,\"#7201a8\"],[0.3333333333333333,\"#9c179e\"],[0.4444444444444444,\"#bd3786\"],[0.5555555555555556,\"#d8576b\"],[0.6666666666666666,\"#ed7953\"],[0.7777777777777778,\"#fb9f3a\"],[0.8888888888888888,\"#fdca26\"],[1.0,\"#f0f921\"]],\"type\":\"surface\"}],\"table\":[{\"cells\":{\"fill\":{\"color\":\"#EBF0F8\"},\"line\":{\"color\":\"white\"}},\"header\":{\"fill\":{\"color\":\"#C8D4E3\"},\"line\":{\"color\":\"white\"}},\"type\":\"table\"}]},\"layout\":{\"annotationdefaults\":{\"arrowcolor\":\"#2a3f5f\",\"arrowhead\":0,\"arrowwidth\":1},\"autotypenumbers\":\"strict\",\"coloraxis\":{\"colorbar\":{\"outlinewidth\":0,\"ticks\":\"\"}},\"colorscale\":{\"diverging\":[[0,\"#8e0152\"],[0.1,\"#c51b7d\"],[0.2,\"#de77ae\"],[0.3,\"#f1b6da\"],[0.4,\"#fde0ef\"],[0.5,\"#f7f7f7\"],[0.6,\"#e6f5d0\"],[0.7,\"#b8e186\"],[0.8,\"#7fbc41\"],[0.9,\"#4d9221\"],[1,\"#276419\"]],\"sequential\":[[0.0,\"#0d0887\"],[0.1111111111111111,\"#46039f\"],[0.2222222222222222,\"#7201a8\"],[0.3333333333333333,\"#9c179e\"],[0.4444444444444444,\"#bd3786\"],[0.5555555555555556,\"#d8576b\"],[0.6666666666666666,\"#ed7953\"],[0.7777777777777778,\"#fb9f3a\"],[0.8888888888888888,\"#fdca26\"],[1.0,\"#f0f921\"]],\"sequentialminus\":[[0.0,\"#0d0887\"],[0.1111111111111111,\"#46039f\"],[0.2222222222222222,\"#7201a8\"],[0.3333333333333333,\"#9c179e\"],[0.4444444444444444,\"#bd3786\"],[0.5555555555555556,\"#d8576b\"],[0.6666666666666666,\"#ed7953\"],[0.7777777777777778,\"#fb9f3a\"],[0.8888888888888888,\"#fdca26\"],[1.0,\"#f0f921\"]]},\"colorway\":[\"#636efa\",\"#EF553B\",\"#00cc96\",\"#ab63fa\",\"#FFA15A\",\"#19d3f3\",\"#FF6692\",\"#B6E880\",\"#FF97FF\",\"#FECB52\"],\"font\":{\"color\":\"#2a3f5f\"},\"geo\":{\"bgcolor\":\"white\",\"lakecolor\":\"white\",\"landcolor\":\"#E5ECF6\",\"showlakes\":true,\"showland\":true,\"subunitcolor\":\"white\"},\"hoverlabel\":{\"align\":\"left\"},\"hovermode\":\"closest\",\"mapbox\":{\"style\":\"light\"},\"paper_bgcolor\":\"white\",\"plot_bgcolor\":\"#E5ECF6\",\"polar\":{\"angularaxis\":{\"gridcolor\":\"white\",\"linecolor\":\"white\",\"ticks\":\"\"},\"bgcolor\":\"#E5ECF6\",\"radialaxis\":{\"gridcolor\":\"white\",\"linecolor\":\"white\",\"ticks\":\"\"}},\"scene\":{\"xaxis\":{\"backgroundcolor\":\"#E5ECF6\",\"gridcolor\":\"white\",\"gridwidth\":2,\"linecolor\":\"white\",\"showbackground\":true,\"ticks\":\"\",\"zerolinecolor\":\"white\"},\"yaxis\":{\"backgroundcolor\":\"#E5ECF6\",\"gridcolor\":\"white\",\"gridwidth\":2,\"linecolor\":\"white\",\"showbackground\":true,\"ticks\":\"\",\"zerolinecolor\":\"white\"},\"zaxis\":{\"backgroundcolor\":\"#E5ECF6\",\"gridcolor\":\"white\",\"gridwidth\":2,\"linecolor\":\"white\",\"showbackground\":true,\"ticks\":\"\",\"zerolinecolor\":\"white\"}},\"shapedefaults\":{\"line\":{\"color\":\"#2a3f5f\"}},\"ternary\":{\"aaxis\":{\"gridcolor\":\"white\",\"linecolor\":\"white\",\"ticks\":\"\"},\"baxis\":{\"gridcolor\":\"white\",\"linecolor\":\"white\",\"ticks\":\"\"},\"bgcolor\":\"#E5ECF6\",\"caxis\":{\"gridcolor\":\"white\",\"linecolor\":\"white\",\"ticks\":\"\"}},\"title\":{\"x\":0.05},\"xaxis\":{\"automargin\":true,\"gridcolor\":\"white\",\"linecolor\":\"white\",\"ticks\":\"\",\"title\":{\"standoff\":15},\"zerolinecolor\":\"white\",\"zerolinewidth\":2},\"yaxis\":{\"automargin\":true,\"gridcolor\":\"white\",\"linecolor\":\"white\",\"ticks\":\"\",\"title\":{\"standoff\":15},\"zerolinecolor\":\"white\",\"zerolinewidth\":2}}},\"title\":{\"text\":\"Max,Mean and Min Accuracies\"},\"xaxis\":{\"title\":{\"text\":\"theta\"}},\"yaxis\":{\"title\":{\"text\":\"Accuracy\"}}},                        {\"responsive\": true}                    ).then(function(){\n",
              "                            \n",
              "var gd = document.getElementById('34ba1792-86dc-4edd-95fe-6a62192ca951');\n",
              "var x = new MutationObserver(function (mutations, observer) {{\n",
              "        var display = window.getComputedStyle(gd).display;\n",
              "        if (!display || display === 'none') {{\n",
              "            console.log([gd, 'removed!']);\n",
              "            Plotly.purge(gd);\n",
              "            observer.disconnect();\n",
              "        }}\n",
              "}});\n",
              "\n",
              "// Listen for the removal of the full notebook cells\n",
              "var notebookContainer = gd.closest('#notebook-container');\n",
              "if (notebookContainer) {{\n",
              "    x.observe(notebookContainer, {childList: true});\n",
              "}}\n",
              "\n",
              "// Listen for the clearing of the current output cell\n",
              "var outputEl = gd.closest('.output');\n",
              "if (outputEl) {{\n",
              "    x.observe(outputEl, {childList: true});\n",
              "}}\n",
              "\n",
              "                        })                };                            </script>        </div>\n",
              "</body>\n",
              "</html>"
            ]
          },
          "metadata": {},
          "output_type": "display_data"
        }
      ],
      "source": [
        "fig = go.Figure()\n",
        "for i in range(8-2):\n",
        "  max=[]\n",
        "  mean=[]\n",
        "  min=[]\n",
        "  for j in range(11-5):\n",
        "    max.append(results[i][j][0][3])\n",
        "    mean.append(results[i][j][1][3])\n",
        "    min.append(results[i][j][2][3])\n",
        "  fig.add_trace(go.Scatter(x=[t/10 if t!=10 else 99/100 for t in list(range(5,11))], y=max, name=f'Max K:{i+2}'))\n",
        "  fig.add_trace(go.Scatter(x=[t/10 if t!=10 else 99/100 for t in list(range(5,11))], y=mean, name=f'Mean K:{i+2}'))\n",
        "  fig.add_trace(go.Scatter(x=[t/10 if t!=10 else 99/100 for t in list(range(5,11))], y=min, name=f'Min K:{i+2}'))\n",
        "fig.update_layout(title='Max,Mean and Min Accuracies',\n",
        "                   xaxis_title='theta',\n",
        "                   yaxis_title='Accuracy')\n",
        "fig.show()"
      ]
    },
    {
      "cell_type": "markdown",
      "metadata": {
        "id": "YEql4EqlIGwk"
      },
      "source": [
        "F1"
      ]
    },
    {
      "cell_type": "code",
      "execution_count": null,
      "metadata": {
        "colab": {
          "base_uri": "https://localhost:8080/",
          "height": 542
        },
        "id": "JfrFf9wXIC9H",
        "outputId": "730789f2-7d22-48fd-d863-e67bc7b0176e"
      },
      "outputs": [
        {
          "data": {
            "text/html": [
              "<html>\n",
              "<head><meta charset=\"utf-8\" /></head>\n",
              "<body>\n",
              "    <div>            <script src=\"https://cdnjs.cloudflare.com/ajax/libs/mathjax/2.7.5/MathJax.js?config=TeX-AMS-MML_SVG\"></script><script type=\"text/javascript\">if (window.MathJax) {MathJax.Hub.Config({SVG: {font: \"STIX-Web\"}});}</script>                <script type=\"text/javascript\">window.PlotlyConfig = {MathJaxConfig: 'local'};</script>\n",
              "        <script src=\"https://cdn.plot.ly/plotly-2.8.3.min.js\"></script>                <div id=\"9274939a-f1cb-4644-b0c6-bc81effd63a1\" class=\"plotly-graph-div\" style=\"height:525px; width:100%;\"></div>            <script type=\"text/javascript\">                                    window.PLOTLYENV=window.PLOTLYENV || {};                                    if (document.getElementById(\"9274939a-f1cb-4644-b0c6-bc81effd63a1\")) {                    Plotly.newPlot(                        \"9274939a-f1cb-4644-b0c6-bc81effd63a1\",                        [{\"name\":\"Max K:2\",\"x\":[0.5,0.6,0.7,0.8,0.9,0.99],\"y\":[0.84,0.83,0.81,0.76,0.69,0.59],\"type\":\"scatter\"},{\"name\":\"Mean K:2\",\"x\":[0.5,0.6,0.7,0.8,0.9,0.99],\"y\":[0.44955456570155833,0.44866369710467724,0.44561247216035643,0.4366592427616926,0.4077060133630296,0.2476169265033408],\"type\":\"scatter\"},{\"name\":\"Min K:2\",\"x\":[0.5,0.6,0.7,0.8,0.9,0.99],\"y\":[0.11,0.13,0.14,0.11,0.12,0.0],\"type\":\"scatter\"},{\"name\":\"Max K:3\",\"x\":[0.5,0.6,0.7,0.8,0.9,0.99],\"y\":[0.86,0.86,0.84,0.84,0.77,0.56],\"type\":\"scatter\"},{\"name\":\"Mean K:3\",\"x\":[0.5,0.6,0.7,0.8,0.9,0.99],\"y\":[0.4571937639198218,0.4579287305122495,0.4589309576837416,0.4605567928730515,0.45256124721603563,0.31763919821826264],\"type\":\"scatter\"},{\"name\":\"Min K:3\",\"x\":[0.5,0.6,0.7,0.8,0.9,0.99],\"y\":[0.11,0.13,0.15,0.11,0.14,0.06],\"type\":\"scatter\"},{\"name\":\"Max K:4\",\"x\":[0.5,0.6,0.7,0.8,0.9,0.99],\"y\":[0.86,0.86,0.85,0.86,0.84,0.65],\"type\":\"scatter\"},{\"name\":\"Mean K:4\",\"x\":[0.5,0.6,0.7,0.8,0.9,0.99],\"y\":[0.4607795100222716,0.4614253897550107,0.462895322939866,0.46463251670378625,0.4652338530066813,0.3640311804008911],\"type\":\"scatter\"},{\"name\":\"Min K:4\",\"x\":[0.5,0.6,0.7,0.8,0.9,0.99],\"y\":[0.11,0.13,0.15,0.11,0.14,0.09],\"type\":\"scatter\"},{\"name\":\"Max K:5\",\"x\":[0.5,0.6,0.7,0.8,0.9,0.99],\"y\":[0.87,0.87,0.87,0.86,0.84,0.7],\"type\":\"scatter\"},{\"name\":\"Mean K:5\",\"x\":[0.5,0.6,0.7,0.8,0.9,0.99],\"y\":[0.46129175946547896,0.4621158129175944,0.4648106904231624,0.4667260579064586,0.47093541202672595,0.40525612472160344],\"type\":\"scatter\"},{\"name\":\"Min K:5\",\"x\":[0.5,0.6,0.7,0.8,0.9,0.99],\"y\":[0.11,0.13,0.15,0.11,0.14,0.16],\"type\":\"scatter\"},{\"name\":\"Max K:6\",\"x\":[0.5,0.6,0.7,0.8,0.9,0.99],\"y\":[0.87,0.87,0.87,0.86,0.85,0.67],\"type\":\"scatter\"},{\"name\":\"Mean K:6\",\"x\":[0.5,0.6,0.7,0.8,0.9,0.99],\"y\":[0.46111358574610245,0.46242761692650325,0.46432071269487774,0.4663697104677065,0.47091314031180387,0.4353897550111362],\"type\":\"scatter\"},{\"name\":\"Min K:6\",\"x\":[0.5,0.6,0.7,0.8,0.9,0.99],\"y\":[0.11,0.13,0.15,0.11,0.14,0.22],\"type\":\"scatter\"},{\"name\":\"Max K:7\",\"x\":[0.5,0.6,0.7,0.8,0.9,0.99],\"y\":[0.87,0.87,0.87,0.86,0.87,0.68],\"type\":\"scatter\"},{\"name\":\"Mean K:7\",\"x\":[0.5,0.6,0.7,0.8,0.9,0.99],\"y\":[0.4606681514476614,0.46209354120267265,0.4640534521158133,0.4655679287305128,0.47037861915367507,0.4602895322939866],\"type\":\"scatter\"},{\"name\":\"Min K:7\",\"x\":[0.5,0.6,0.7,0.8,0.9,0.99],\"y\":[0.11,0.13,0.15,0.11,0.14,0.22],\"type\":\"scatter\"}],                        {\"template\":{\"data\":{\"bar\":[{\"error_x\":{\"color\":\"#2a3f5f\"},\"error_y\":{\"color\":\"#2a3f5f\"},\"marker\":{\"line\":{\"color\":\"#E5ECF6\",\"width\":0.5},\"pattern\":{\"fillmode\":\"overlay\",\"size\":10,\"solidity\":0.2}},\"type\":\"bar\"}],\"barpolar\":[{\"marker\":{\"line\":{\"color\":\"#E5ECF6\",\"width\":0.5},\"pattern\":{\"fillmode\":\"overlay\",\"size\":10,\"solidity\":0.2}},\"type\":\"barpolar\"}],\"carpet\":[{\"aaxis\":{\"endlinecolor\":\"#2a3f5f\",\"gridcolor\":\"white\",\"linecolor\":\"white\",\"minorgridcolor\":\"white\",\"startlinecolor\":\"#2a3f5f\"},\"baxis\":{\"endlinecolor\":\"#2a3f5f\",\"gridcolor\":\"white\",\"linecolor\":\"white\",\"minorgridcolor\":\"white\",\"startlinecolor\":\"#2a3f5f\"},\"type\":\"carpet\"}],\"choropleth\":[{\"colorbar\":{\"outlinewidth\":0,\"ticks\":\"\"},\"type\":\"choropleth\"}],\"contour\":[{\"colorbar\":{\"outlinewidth\":0,\"ticks\":\"\"},\"colorscale\":[[0.0,\"#0d0887\"],[0.1111111111111111,\"#46039f\"],[0.2222222222222222,\"#7201a8\"],[0.3333333333333333,\"#9c179e\"],[0.4444444444444444,\"#bd3786\"],[0.5555555555555556,\"#d8576b\"],[0.6666666666666666,\"#ed7953\"],[0.7777777777777778,\"#fb9f3a\"],[0.8888888888888888,\"#fdca26\"],[1.0,\"#f0f921\"]],\"type\":\"contour\"}],\"contourcarpet\":[{\"colorbar\":{\"outlinewidth\":0,\"ticks\":\"\"},\"type\":\"contourcarpet\"}],\"heatmap\":[{\"colorbar\":{\"outlinewidth\":0,\"ticks\":\"\"},\"colorscale\":[[0.0,\"#0d0887\"],[0.1111111111111111,\"#46039f\"],[0.2222222222222222,\"#7201a8\"],[0.3333333333333333,\"#9c179e\"],[0.4444444444444444,\"#bd3786\"],[0.5555555555555556,\"#d8576b\"],[0.6666666666666666,\"#ed7953\"],[0.7777777777777778,\"#fb9f3a\"],[0.8888888888888888,\"#fdca26\"],[1.0,\"#f0f921\"]],\"type\":\"heatmap\"}],\"heatmapgl\":[{\"colorbar\":{\"outlinewidth\":0,\"ticks\":\"\"},\"colorscale\":[[0.0,\"#0d0887\"],[0.1111111111111111,\"#46039f\"],[0.2222222222222222,\"#7201a8\"],[0.3333333333333333,\"#9c179e\"],[0.4444444444444444,\"#bd3786\"],[0.5555555555555556,\"#d8576b\"],[0.6666666666666666,\"#ed7953\"],[0.7777777777777778,\"#fb9f3a\"],[0.8888888888888888,\"#fdca26\"],[1.0,\"#f0f921\"]],\"type\":\"heatmapgl\"}],\"histogram\":[{\"marker\":{\"pattern\":{\"fillmode\":\"overlay\",\"size\":10,\"solidity\":0.2}},\"type\":\"histogram\"}],\"histogram2d\":[{\"colorbar\":{\"outlinewidth\":0,\"ticks\":\"\"},\"colorscale\":[[0.0,\"#0d0887\"],[0.1111111111111111,\"#46039f\"],[0.2222222222222222,\"#7201a8\"],[0.3333333333333333,\"#9c179e\"],[0.4444444444444444,\"#bd3786\"],[0.5555555555555556,\"#d8576b\"],[0.6666666666666666,\"#ed7953\"],[0.7777777777777778,\"#fb9f3a\"],[0.8888888888888888,\"#fdca26\"],[1.0,\"#f0f921\"]],\"type\":\"histogram2d\"}],\"histogram2dcontour\":[{\"colorbar\":{\"outlinewidth\":0,\"ticks\":\"\"},\"colorscale\":[[0.0,\"#0d0887\"],[0.1111111111111111,\"#46039f\"],[0.2222222222222222,\"#7201a8\"],[0.3333333333333333,\"#9c179e\"],[0.4444444444444444,\"#bd3786\"],[0.5555555555555556,\"#d8576b\"],[0.6666666666666666,\"#ed7953\"],[0.7777777777777778,\"#fb9f3a\"],[0.8888888888888888,\"#fdca26\"],[1.0,\"#f0f921\"]],\"type\":\"histogram2dcontour\"}],\"mesh3d\":[{\"colorbar\":{\"outlinewidth\":0,\"ticks\":\"\"},\"type\":\"mesh3d\"}],\"parcoords\":[{\"line\":{\"colorbar\":{\"outlinewidth\":0,\"ticks\":\"\"}},\"type\":\"parcoords\"}],\"pie\":[{\"automargin\":true,\"type\":\"pie\"}],\"scatter\":[{\"marker\":{\"colorbar\":{\"outlinewidth\":0,\"ticks\":\"\"}},\"type\":\"scatter\"}],\"scatter3d\":[{\"line\":{\"colorbar\":{\"outlinewidth\":0,\"ticks\":\"\"}},\"marker\":{\"colorbar\":{\"outlinewidth\":0,\"ticks\":\"\"}},\"type\":\"scatter3d\"}],\"scattercarpet\":[{\"marker\":{\"colorbar\":{\"outlinewidth\":0,\"ticks\":\"\"}},\"type\":\"scattercarpet\"}],\"scattergeo\":[{\"marker\":{\"colorbar\":{\"outlinewidth\":0,\"ticks\":\"\"}},\"type\":\"scattergeo\"}],\"scattergl\":[{\"marker\":{\"colorbar\":{\"outlinewidth\":0,\"ticks\":\"\"}},\"type\":\"scattergl\"}],\"scattermapbox\":[{\"marker\":{\"colorbar\":{\"outlinewidth\":0,\"ticks\":\"\"}},\"type\":\"scattermapbox\"}],\"scatterpolar\":[{\"marker\":{\"colorbar\":{\"outlinewidth\":0,\"ticks\":\"\"}},\"type\":\"scatterpolar\"}],\"scatterpolargl\":[{\"marker\":{\"colorbar\":{\"outlinewidth\":0,\"ticks\":\"\"}},\"type\":\"scatterpolargl\"}],\"scatterternary\":[{\"marker\":{\"colorbar\":{\"outlinewidth\":0,\"ticks\":\"\"}},\"type\":\"scatterternary\"}],\"surface\":[{\"colorbar\":{\"outlinewidth\":0,\"ticks\":\"\"},\"colorscale\":[[0.0,\"#0d0887\"],[0.1111111111111111,\"#46039f\"],[0.2222222222222222,\"#7201a8\"],[0.3333333333333333,\"#9c179e\"],[0.4444444444444444,\"#bd3786\"],[0.5555555555555556,\"#d8576b\"],[0.6666666666666666,\"#ed7953\"],[0.7777777777777778,\"#fb9f3a\"],[0.8888888888888888,\"#fdca26\"],[1.0,\"#f0f921\"]],\"type\":\"surface\"}],\"table\":[{\"cells\":{\"fill\":{\"color\":\"#EBF0F8\"},\"line\":{\"color\":\"white\"}},\"header\":{\"fill\":{\"color\":\"#C8D4E3\"},\"line\":{\"color\":\"white\"}},\"type\":\"table\"}]},\"layout\":{\"annotationdefaults\":{\"arrowcolor\":\"#2a3f5f\",\"arrowhead\":0,\"arrowwidth\":1},\"autotypenumbers\":\"strict\",\"coloraxis\":{\"colorbar\":{\"outlinewidth\":0,\"ticks\":\"\"}},\"colorscale\":{\"diverging\":[[0,\"#8e0152\"],[0.1,\"#c51b7d\"],[0.2,\"#de77ae\"],[0.3,\"#f1b6da\"],[0.4,\"#fde0ef\"],[0.5,\"#f7f7f7\"],[0.6,\"#e6f5d0\"],[0.7,\"#b8e186\"],[0.8,\"#7fbc41\"],[0.9,\"#4d9221\"],[1,\"#276419\"]],\"sequential\":[[0.0,\"#0d0887\"],[0.1111111111111111,\"#46039f\"],[0.2222222222222222,\"#7201a8\"],[0.3333333333333333,\"#9c179e\"],[0.4444444444444444,\"#bd3786\"],[0.5555555555555556,\"#d8576b\"],[0.6666666666666666,\"#ed7953\"],[0.7777777777777778,\"#fb9f3a\"],[0.8888888888888888,\"#fdca26\"],[1.0,\"#f0f921\"]],\"sequentialminus\":[[0.0,\"#0d0887\"],[0.1111111111111111,\"#46039f\"],[0.2222222222222222,\"#7201a8\"],[0.3333333333333333,\"#9c179e\"],[0.4444444444444444,\"#bd3786\"],[0.5555555555555556,\"#d8576b\"],[0.6666666666666666,\"#ed7953\"],[0.7777777777777778,\"#fb9f3a\"],[0.8888888888888888,\"#fdca26\"],[1.0,\"#f0f921\"]]},\"colorway\":[\"#636efa\",\"#EF553B\",\"#00cc96\",\"#ab63fa\",\"#FFA15A\",\"#19d3f3\",\"#FF6692\",\"#B6E880\",\"#FF97FF\",\"#FECB52\"],\"font\":{\"color\":\"#2a3f5f\"},\"geo\":{\"bgcolor\":\"white\",\"lakecolor\":\"white\",\"landcolor\":\"#E5ECF6\",\"showlakes\":true,\"showland\":true,\"subunitcolor\":\"white\"},\"hoverlabel\":{\"align\":\"left\"},\"hovermode\":\"closest\",\"mapbox\":{\"style\":\"light\"},\"paper_bgcolor\":\"white\",\"plot_bgcolor\":\"#E5ECF6\",\"polar\":{\"angularaxis\":{\"gridcolor\":\"white\",\"linecolor\":\"white\",\"ticks\":\"\"},\"bgcolor\":\"#E5ECF6\",\"radialaxis\":{\"gridcolor\":\"white\",\"linecolor\":\"white\",\"ticks\":\"\"}},\"scene\":{\"xaxis\":{\"backgroundcolor\":\"#E5ECF6\",\"gridcolor\":\"white\",\"gridwidth\":2,\"linecolor\":\"white\",\"showbackground\":true,\"ticks\":\"\",\"zerolinecolor\":\"white\"},\"yaxis\":{\"backgroundcolor\":\"#E5ECF6\",\"gridcolor\":\"white\",\"gridwidth\":2,\"linecolor\":\"white\",\"showbackground\":true,\"ticks\":\"\",\"zerolinecolor\":\"white\"},\"zaxis\":{\"backgroundcolor\":\"#E5ECF6\",\"gridcolor\":\"white\",\"gridwidth\":2,\"linecolor\":\"white\",\"showbackground\":true,\"ticks\":\"\",\"zerolinecolor\":\"white\"}},\"shapedefaults\":{\"line\":{\"color\":\"#2a3f5f\"}},\"ternary\":{\"aaxis\":{\"gridcolor\":\"white\",\"linecolor\":\"white\",\"ticks\":\"\"},\"baxis\":{\"gridcolor\":\"white\",\"linecolor\":\"white\",\"ticks\":\"\"},\"bgcolor\":\"#E5ECF6\",\"caxis\":{\"gridcolor\":\"white\",\"linecolor\":\"white\",\"ticks\":\"\"}},\"title\":{\"x\":0.05},\"xaxis\":{\"automargin\":true,\"gridcolor\":\"white\",\"linecolor\":\"white\",\"ticks\":\"\",\"title\":{\"standoff\":15},\"zerolinecolor\":\"white\",\"zerolinewidth\":2},\"yaxis\":{\"automargin\":true,\"gridcolor\":\"white\",\"linecolor\":\"white\",\"ticks\":\"\",\"title\":{\"standoff\":15},\"zerolinecolor\":\"white\",\"zerolinewidth\":2}}},\"title\":{\"text\":\"Max,Mean and Min F1\"},\"xaxis\":{\"title\":{\"text\":\"theta\"}},\"yaxis\":{\"title\":{\"text\":\"F1\"}}},                        {\"responsive\": true}                    ).then(function(){\n",
              "                            \n",
              "var gd = document.getElementById('9274939a-f1cb-4644-b0c6-bc81effd63a1');\n",
              "var x = new MutationObserver(function (mutations, observer) {{\n",
              "        var display = window.getComputedStyle(gd).display;\n",
              "        if (!display || display === 'none') {{\n",
              "            console.log([gd, 'removed!']);\n",
              "            Plotly.purge(gd);\n",
              "            observer.disconnect();\n",
              "        }}\n",
              "}});\n",
              "\n",
              "// Listen for the removal of the full notebook cells\n",
              "var notebookContainer = gd.closest('#notebook-container');\n",
              "if (notebookContainer) {{\n",
              "    x.observe(notebookContainer, {childList: true});\n",
              "}}\n",
              "\n",
              "// Listen for the clearing of the current output cell\n",
              "var outputEl = gd.closest('.output');\n",
              "if (outputEl) {{\n",
              "    x.observe(outputEl, {childList: true});\n",
              "}}\n",
              "\n",
              "                        })                };                            </script>        </div>\n",
              "</body>\n",
              "</html>"
            ]
          },
          "metadata": {},
          "output_type": "display_data"
        }
      ],
      "source": [
        "fig = go.Figure()\n",
        "for i in range(8-2):\n",
        "  max=[]\n",
        "  mean=[]\n",
        "  min=[]\n",
        "  for j in range(11-5):\n",
        "    max.append(results[i][j][0][2])\n",
        "    mean.append(results[i][j][1][2])\n",
        "    min.append(results[i][j][2][2])\n",
        "  fig.add_trace(go.Scatter(x=[t/10 if t!=10 else 99/100 for t in list(range(5,11))], y=max, name=f'Max K:{i+2}'))\n",
        "  fig.add_trace(go.Scatter(x=[t/10 if t!=10 else 99/100 for t in list(range(5,11))], y=mean, name=f'Mean K:{i+2}'))\n",
        "  fig.add_trace(go.Scatter(x=[t/10 if t!=10 else 99/100 for t in list(range(5,11))], y=min, name=f'Min K:{i+2}'))\n",
        "fig.update_layout(title='Max,Mean and Min F1',\n",
        "                   xaxis_title='theta',\n",
        "                   yaxis_title='F1')\n",
        "fig.show()"
      ]
    },
    {
      "cell_type": "markdown",
      "metadata": {
        "id": "hIqVpP2zISyj"
      },
      "source": [
        "Recall"
      ]
    },
    {
      "cell_type": "code",
      "execution_count": null,
      "metadata": {
        "colab": {
          "base_uri": "https://localhost:8080/",
          "height": 542
        },
        "id": "CRLaTkFwIT1v",
        "outputId": "f38b9b88-3ecb-43d7-d525-14f8e2ae8e72"
      },
      "outputs": [
        {
          "data": {
            "text/html": [
              "<html>\n",
              "<head><meta charset=\"utf-8\" /></head>\n",
              "<body>\n",
              "    <div>            <script src=\"https://cdnjs.cloudflare.com/ajax/libs/mathjax/2.7.5/MathJax.js?config=TeX-AMS-MML_SVG\"></script><script type=\"text/javascript\">if (window.MathJax) {MathJax.Hub.Config({SVG: {font: \"STIX-Web\"}});}</script>                <script type=\"text/javascript\">window.PlotlyConfig = {MathJaxConfig: 'local'};</script>\n",
              "        <script src=\"https://cdn.plot.ly/plotly-2.8.3.min.js\"></script>                <div id=\"8aaf7c22-fe1b-4dd2-ad52-0ad4a6699b97\" class=\"plotly-graph-div\" style=\"height:525px; width:100%;\"></div>            <script type=\"text/javascript\">                                    window.PLOTLYENV=window.PLOTLYENV || {};                                    if (document.getElementById(\"8aaf7c22-fe1b-4dd2-ad52-0ad4a6699b97\")) {                    Plotly.newPlot(                        \"8aaf7c22-fe1b-4dd2-ad52-0ad4a6699b97\",                        [{\"name\":\"Max K:2\",\"x\":[0.5,0.6,0.7,0.8,0.9,0.99],\"y\":[1.0,1.0,1.0,1.0,1.0,0.86],\"type\":\"scatter\"},{\"name\":\"Mean K:2\",\"x\":[0.5,0.6,0.7,0.8,0.9,0.99],\"y\":[0.8622494432071262,0.8340757238307345,0.786213808463252,0.7019153674832966,0.5465701559020043,0.20247216035634738],\"type\":\"scatter\"},{\"name\":\"Min K:2\",\"x\":[0.5,0.6,0.7,0.8,0.9,0.99],\"y\":[0.5,0.42,0.37,0.37,0.18,0.0],\"type\":\"scatter\"},{\"name\":\"Max K:3\",\"x\":[0.5,0.6,0.7,0.8,0.9,0.99],\"y\":[1.0,1.0,1.0,1.0,1.0,0.86],\"type\":\"scatter\"},{\"name\":\"Mean K:3\",\"x\":[0.5,0.6,0.7,0.8,0.9,0.99],\"y\":[0.9277505567928731,0.9133184855233849,0.888685968819599,0.8477951002227169,0.7271714922048998,0.29982182628062354],\"type\":\"scatter\"},{\"name\":\"Min K:3\",\"x\":[0.5,0.6,0.7,0.8,0.9,0.99],\"y\":[0.64,0.62,0.5,0.5,0.38,0.08],\"type\":\"scatter\"},{\"name\":\"Max K:4\",\"x\":[0.5,0.6,0.7,0.8,0.9,0.99],\"y\":[1.0,1.0,1.0,1.0,1.0,0.86],\"type\":\"scatter\"},{\"name\":\"Mean K:4\",\"x\":[0.5,0.6,0.7,0.8,0.9,0.99],\"y\":[0.9558129175946548,0.9450556792873056,0.928953229398664,0.8988864142538975,0.80815144766147,0.38256124721603546],\"type\":\"scatter\"},{\"name\":\"Min K:4\",\"x\":[0.5,0.6,0.7,0.8,0.9,0.99],\"y\":[0.75,0.62,0.5,0.5,0.38,0.07],\"type\":\"scatter\"},{\"name\":\"Max K:5\",\"x\":[0.5,0.6,0.7,0.8,0.9,0.99],\"y\":[1.0,1.0,1.0,1.0,1.0,1.0],\"type\":\"scatter\"},{\"name\":\"Mean K:5\",\"x\":[0.5,0.6,0.7,0.8,0.9,0.99],\"y\":[0.9682182628062362,0.9602449888641429,0.9489977728285077,0.9251002227171493,0.8576837416481073,0.4668596881959911],\"type\":\"scatter\"},{\"name\":\"Min K:5\",\"x\":[0.5,0.6,0.7,0.8,0.9,0.99],\"y\":[0.75,0.62,0.5,0.5,0.38,0.15],\"type\":\"scatter\"},{\"name\":\"Max K:6\",\"x\":[0.5,0.6,0.7,0.8,0.9,0.99],\"y\":[1.0,1.0,1.0,1.0,1.0,1.0],\"type\":\"scatter\"},{\"name\":\"Mean K:6\",\"x\":[0.5,0.6,0.7,0.8,0.9,0.99],\"y\":[0.9735189309576839,0.9663251670378623,0.9560801781737195,0.9370601336302891,0.8843207126948779,0.5372383073496658],\"type\":\"scatter\"},{\"name\":\"Min K:6\",\"x\":[0.5,0.6,0.7,0.8,0.9,0.99],\"y\":[0.75,0.62,0.5,0.5,0.38,0.2],\"type\":\"scatter\"},{\"name\":\"Max K:7\",\"x\":[0.5,0.6,0.7,0.8,0.9,0.99],\"y\":[1.0,1.0,1.0,1.0,1.0,1.0],\"type\":\"scatter\"},{\"name\":\"Mean K:7\",\"x\":[0.5,0.6,0.7,0.8,0.9,0.99],\"y\":[0.9761915367483299,0.969933184855234,0.9612694877505564,0.9434743875278393,0.8985746102449889,0.6026726057906453],\"type\":\"scatter\"},{\"name\":\"Min K:7\",\"x\":[0.5,0.6,0.7,0.8,0.9,0.99],\"y\":[0.75,0.62,0.5,0.5,0.38,0.2],\"type\":\"scatter\"}],                        {\"template\":{\"data\":{\"bar\":[{\"error_x\":{\"color\":\"#2a3f5f\"},\"error_y\":{\"color\":\"#2a3f5f\"},\"marker\":{\"line\":{\"color\":\"#E5ECF6\",\"width\":0.5},\"pattern\":{\"fillmode\":\"overlay\",\"size\":10,\"solidity\":0.2}},\"type\":\"bar\"}],\"barpolar\":[{\"marker\":{\"line\":{\"color\":\"#E5ECF6\",\"width\":0.5},\"pattern\":{\"fillmode\":\"overlay\",\"size\":10,\"solidity\":0.2}},\"type\":\"barpolar\"}],\"carpet\":[{\"aaxis\":{\"endlinecolor\":\"#2a3f5f\",\"gridcolor\":\"white\",\"linecolor\":\"white\",\"minorgridcolor\":\"white\",\"startlinecolor\":\"#2a3f5f\"},\"baxis\":{\"endlinecolor\":\"#2a3f5f\",\"gridcolor\":\"white\",\"linecolor\":\"white\",\"minorgridcolor\":\"white\",\"startlinecolor\":\"#2a3f5f\"},\"type\":\"carpet\"}],\"choropleth\":[{\"colorbar\":{\"outlinewidth\":0,\"ticks\":\"\"},\"type\":\"choropleth\"}],\"contour\":[{\"colorbar\":{\"outlinewidth\":0,\"ticks\":\"\"},\"colorscale\":[[0.0,\"#0d0887\"],[0.1111111111111111,\"#46039f\"],[0.2222222222222222,\"#7201a8\"],[0.3333333333333333,\"#9c179e\"],[0.4444444444444444,\"#bd3786\"],[0.5555555555555556,\"#d8576b\"],[0.6666666666666666,\"#ed7953\"],[0.7777777777777778,\"#fb9f3a\"],[0.8888888888888888,\"#fdca26\"],[1.0,\"#f0f921\"]],\"type\":\"contour\"}],\"contourcarpet\":[{\"colorbar\":{\"outlinewidth\":0,\"ticks\":\"\"},\"type\":\"contourcarpet\"}],\"heatmap\":[{\"colorbar\":{\"outlinewidth\":0,\"ticks\":\"\"},\"colorscale\":[[0.0,\"#0d0887\"],[0.1111111111111111,\"#46039f\"],[0.2222222222222222,\"#7201a8\"],[0.3333333333333333,\"#9c179e\"],[0.4444444444444444,\"#bd3786\"],[0.5555555555555556,\"#d8576b\"],[0.6666666666666666,\"#ed7953\"],[0.7777777777777778,\"#fb9f3a\"],[0.8888888888888888,\"#fdca26\"],[1.0,\"#f0f921\"]],\"type\":\"heatmap\"}],\"heatmapgl\":[{\"colorbar\":{\"outlinewidth\":0,\"ticks\":\"\"},\"colorscale\":[[0.0,\"#0d0887\"],[0.1111111111111111,\"#46039f\"],[0.2222222222222222,\"#7201a8\"],[0.3333333333333333,\"#9c179e\"],[0.4444444444444444,\"#bd3786\"],[0.5555555555555556,\"#d8576b\"],[0.6666666666666666,\"#ed7953\"],[0.7777777777777778,\"#fb9f3a\"],[0.8888888888888888,\"#fdca26\"],[1.0,\"#f0f921\"]],\"type\":\"heatmapgl\"}],\"histogram\":[{\"marker\":{\"pattern\":{\"fillmode\":\"overlay\",\"size\":10,\"solidity\":0.2}},\"type\":\"histogram\"}],\"histogram2d\":[{\"colorbar\":{\"outlinewidth\":0,\"ticks\":\"\"},\"colorscale\":[[0.0,\"#0d0887\"],[0.1111111111111111,\"#46039f\"],[0.2222222222222222,\"#7201a8\"],[0.3333333333333333,\"#9c179e\"],[0.4444444444444444,\"#bd3786\"],[0.5555555555555556,\"#d8576b\"],[0.6666666666666666,\"#ed7953\"],[0.7777777777777778,\"#fb9f3a\"],[0.8888888888888888,\"#fdca26\"],[1.0,\"#f0f921\"]],\"type\":\"histogram2d\"}],\"histogram2dcontour\":[{\"colorbar\":{\"outlinewidth\":0,\"ticks\":\"\"},\"colorscale\":[[0.0,\"#0d0887\"],[0.1111111111111111,\"#46039f\"],[0.2222222222222222,\"#7201a8\"],[0.3333333333333333,\"#9c179e\"],[0.4444444444444444,\"#bd3786\"],[0.5555555555555556,\"#d8576b\"],[0.6666666666666666,\"#ed7953\"],[0.7777777777777778,\"#fb9f3a\"],[0.8888888888888888,\"#fdca26\"],[1.0,\"#f0f921\"]],\"type\":\"histogram2dcontour\"}],\"mesh3d\":[{\"colorbar\":{\"outlinewidth\":0,\"ticks\":\"\"},\"type\":\"mesh3d\"}],\"parcoords\":[{\"line\":{\"colorbar\":{\"outlinewidth\":0,\"ticks\":\"\"}},\"type\":\"parcoords\"}],\"pie\":[{\"automargin\":true,\"type\":\"pie\"}],\"scatter\":[{\"marker\":{\"colorbar\":{\"outlinewidth\":0,\"ticks\":\"\"}},\"type\":\"scatter\"}],\"scatter3d\":[{\"line\":{\"colorbar\":{\"outlinewidth\":0,\"ticks\":\"\"}},\"marker\":{\"colorbar\":{\"outlinewidth\":0,\"ticks\":\"\"}},\"type\":\"scatter3d\"}],\"scattercarpet\":[{\"marker\":{\"colorbar\":{\"outlinewidth\":0,\"ticks\":\"\"}},\"type\":\"scattercarpet\"}],\"scattergeo\":[{\"marker\":{\"colorbar\":{\"outlinewidth\":0,\"ticks\":\"\"}},\"type\":\"scattergeo\"}],\"scattergl\":[{\"marker\":{\"colorbar\":{\"outlinewidth\":0,\"ticks\":\"\"}},\"type\":\"scattergl\"}],\"scattermapbox\":[{\"marker\":{\"colorbar\":{\"outlinewidth\":0,\"ticks\":\"\"}},\"type\":\"scattermapbox\"}],\"scatterpolar\":[{\"marker\":{\"colorbar\":{\"outlinewidth\":0,\"ticks\":\"\"}},\"type\":\"scatterpolar\"}],\"scatterpolargl\":[{\"marker\":{\"colorbar\":{\"outlinewidth\":0,\"ticks\":\"\"}},\"type\":\"scatterpolargl\"}],\"scatterternary\":[{\"marker\":{\"colorbar\":{\"outlinewidth\":0,\"ticks\":\"\"}},\"type\":\"scatterternary\"}],\"surface\":[{\"colorbar\":{\"outlinewidth\":0,\"ticks\":\"\"},\"colorscale\":[[0.0,\"#0d0887\"],[0.1111111111111111,\"#46039f\"],[0.2222222222222222,\"#7201a8\"],[0.3333333333333333,\"#9c179e\"],[0.4444444444444444,\"#bd3786\"],[0.5555555555555556,\"#d8576b\"],[0.6666666666666666,\"#ed7953\"],[0.7777777777777778,\"#fb9f3a\"],[0.8888888888888888,\"#fdca26\"],[1.0,\"#f0f921\"]],\"type\":\"surface\"}],\"table\":[{\"cells\":{\"fill\":{\"color\":\"#EBF0F8\"},\"line\":{\"color\":\"white\"}},\"header\":{\"fill\":{\"color\":\"#C8D4E3\"},\"line\":{\"color\":\"white\"}},\"type\":\"table\"}]},\"layout\":{\"annotationdefaults\":{\"arrowcolor\":\"#2a3f5f\",\"arrowhead\":0,\"arrowwidth\":1},\"autotypenumbers\":\"strict\",\"coloraxis\":{\"colorbar\":{\"outlinewidth\":0,\"ticks\":\"\"}},\"colorscale\":{\"diverging\":[[0,\"#8e0152\"],[0.1,\"#c51b7d\"],[0.2,\"#de77ae\"],[0.3,\"#f1b6da\"],[0.4,\"#fde0ef\"],[0.5,\"#f7f7f7\"],[0.6,\"#e6f5d0\"],[0.7,\"#b8e186\"],[0.8,\"#7fbc41\"],[0.9,\"#4d9221\"],[1,\"#276419\"]],\"sequential\":[[0.0,\"#0d0887\"],[0.1111111111111111,\"#46039f\"],[0.2222222222222222,\"#7201a8\"],[0.3333333333333333,\"#9c179e\"],[0.4444444444444444,\"#bd3786\"],[0.5555555555555556,\"#d8576b\"],[0.6666666666666666,\"#ed7953\"],[0.7777777777777778,\"#fb9f3a\"],[0.8888888888888888,\"#fdca26\"],[1.0,\"#f0f921\"]],\"sequentialminus\":[[0.0,\"#0d0887\"],[0.1111111111111111,\"#46039f\"],[0.2222222222222222,\"#7201a8\"],[0.3333333333333333,\"#9c179e\"],[0.4444444444444444,\"#bd3786\"],[0.5555555555555556,\"#d8576b\"],[0.6666666666666666,\"#ed7953\"],[0.7777777777777778,\"#fb9f3a\"],[0.8888888888888888,\"#fdca26\"],[1.0,\"#f0f921\"]]},\"colorway\":[\"#636efa\",\"#EF553B\",\"#00cc96\",\"#ab63fa\",\"#FFA15A\",\"#19d3f3\",\"#FF6692\",\"#B6E880\",\"#FF97FF\",\"#FECB52\"],\"font\":{\"color\":\"#2a3f5f\"},\"geo\":{\"bgcolor\":\"white\",\"lakecolor\":\"white\",\"landcolor\":\"#E5ECF6\",\"showlakes\":true,\"showland\":true,\"subunitcolor\":\"white\"},\"hoverlabel\":{\"align\":\"left\"},\"hovermode\":\"closest\",\"mapbox\":{\"style\":\"light\"},\"paper_bgcolor\":\"white\",\"plot_bgcolor\":\"#E5ECF6\",\"polar\":{\"angularaxis\":{\"gridcolor\":\"white\",\"linecolor\":\"white\",\"ticks\":\"\"},\"bgcolor\":\"#E5ECF6\",\"radialaxis\":{\"gridcolor\":\"white\",\"linecolor\":\"white\",\"ticks\":\"\"}},\"scene\":{\"xaxis\":{\"backgroundcolor\":\"#E5ECF6\",\"gridcolor\":\"white\",\"gridwidth\":2,\"linecolor\":\"white\",\"showbackground\":true,\"ticks\":\"\",\"zerolinecolor\":\"white\"},\"yaxis\":{\"backgroundcolor\":\"#E5ECF6\",\"gridcolor\":\"white\",\"gridwidth\":2,\"linecolor\":\"white\",\"showbackground\":true,\"ticks\":\"\",\"zerolinecolor\":\"white\"},\"zaxis\":{\"backgroundcolor\":\"#E5ECF6\",\"gridcolor\":\"white\",\"gridwidth\":2,\"linecolor\":\"white\",\"showbackground\":true,\"ticks\":\"\",\"zerolinecolor\":\"white\"}},\"shapedefaults\":{\"line\":{\"color\":\"#2a3f5f\"}},\"ternary\":{\"aaxis\":{\"gridcolor\":\"white\",\"linecolor\":\"white\",\"ticks\":\"\"},\"baxis\":{\"gridcolor\":\"white\",\"linecolor\":\"white\",\"ticks\":\"\"},\"bgcolor\":\"#E5ECF6\",\"caxis\":{\"gridcolor\":\"white\",\"linecolor\":\"white\",\"ticks\":\"\"}},\"title\":{\"x\":0.05},\"xaxis\":{\"automargin\":true,\"gridcolor\":\"white\",\"linecolor\":\"white\",\"ticks\":\"\",\"title\":{\"standoff\":15},\"zerolinecolor\":\"white\",\"zerolinewidth\":2},\"yaxis\":{\"automargin\":true,\"gridcolor\":\"white\",\"linecolor\":\"white\",\"ticks\":\"\",\"title\":{\"standoff\":15},\"zerolinecolor\":\"white\",\"zerolinewidth\":2}}},\"title\":{\"text\":\"Max,Mean and Min Recall\"},\"xaxis\":{\"title\":{\"text\":\"theta\"}},\"yaxis\":{\"title\":{\"text\":\"Recall\"}}},                        {\"responsive\": true}                    ).then(function(){\n",
              "                            \n",
              "var gd = document.getElementById('8aaf7c22-fe1b-4dd2-ad52-0ad4a6699b97');\n",
              "var x = new MutationObserver(function (mutations, observer) {{\n",
              "        var display = window.getComputedStyle(gd).display;\n",
              "        if (!display || display === 'none') {{\n",
              "            console.log([gd, 'removed!']);\n",
              "            Plotly.purge(gd);\n",
              "            observer.disconnect();\n",
              "        }}\n",
              "}});\n",
              "\n",
              "// Listen for the removal of the full notebook cells\n",
              "var notebookContainer = gd.closest('#notebook-container');\n",
              "if (notebookContainer) {{\n",
              "    x.observe(notebookContainer, {childList: true});\n",
              "}}\n",
              "\n",
              "// Listen for the clearing of the current output cell\n",
              "var outputEl = gd.closest('.output');\n",
              "if (outputEl) {{\n",
              "    x.observe(outputEl, {childList: true});\n",
              "}}\n",
              "\n",
              "                        })                };                            </script>        </div>\n",
              "</body>\n",
              "</html>"
            ]
          },
          "metadata": {},
          "output_type": "display_data"
        }
      ],
      "source": [
        "fig = go.Figure()\n",
        "for i in range(8-2):\n",
        "  max=[]\n",
        "  mean=[]\n",
        "  min=[]\n",
        "  for j in range(11-5):\n",
        "    max.append(results[i][j][0][1])\n",
        "    mean.append(results[i][j][1][1])\n",
        "    min.append(results[i][j][2][1])\n",
        "  fig.add_trace(go.Scatter(x=[t/10 if t!=10 else 99/100 for t in list(range(5,11))], y=max, name=f'Max K:{i+2}'))\n",
        "  fig.add_trace(go.Scatter(x=[t/10 if t!=10 else 99/100 for t in list(range(5,11))], y=mean, name=f'Mean K:{i+2}'))\n",
        "  fig.add_trace(go.Scatter(x=[t/10 if t!=10 else 99/100 for t in list(range(5,11))], y=min, name=f'Min K:{i+2}'))\n",
        "fig.update_layout(title='Max,Mean and Min Recall',\n",
        "                   xaxis_title='theta',\n",
        "                   yaxis_title='Recall')\n",
        "fig.show()"
      ]
    },
    {
      "cell_type": "markdown",
      "metadata": {
        "id": "KBQd2Q-YIUKq"
      },
      "source": [
        "Precision"
      ]
    },
    {
      "cell_type": "code",
      "execution_count": null,
      "metadata": {
        "colab": {
          "base_uri": "https://localhost:8080/",
          "height": 542
        },
        "id": "0lGESdrAIVzT",
        "outputId": "6da3e54f-00dd-48b6-9f35-21347d17b260"
      },
      "outputs": [
        {
          "data": {
            "text/html": [
              "<html>\n",
              "<head><meta charset=\"utf-8\" /></head>\n",
              "<body>\n",
              "    <div>            <script src=\"https://cdnjs.cloudflare.com/ajax/libs/mathjax/2.7.5/MathJax.js?config=TeX-AMS-MML_SVG\"></script><script type=\"text/javascript\">if (window.MathJax) {MathJax.Hub.Config({SVG: {font: \"STIX-Web\"}});}</script>                <script type=\"text/javascript\">window.PlotlyConfig = {MathJaxConfig: 'local'};</script>\n",
              "        <script src=\"https://cdn.plot.ly/plotly-2.8.3.min.js\"></script>                <div id=\"8e6baf16-d037-44d0-b485-02edf0d8028e\" class=\"plotly-graph-div\" style=\"height:525px; width:100%;\"></div>            <script type=\"text/javascript\">                                    window.PLOTLYENV=window.PLOTLYENV || {};                                    if (document.getElementById(\"8e6baf16-d037-44d0-b485-02edf0d8028e\")) {                    Plotly.newPlot(                        \"8e6baf16-d037-44d0-b485-02edf0d8028e\",                        [{\"name\":\"Max K:2\",\"x\":[0.5,0.6,0.7,0.8,0.9,0.99],\"y\":[0.78,0.78,0.78,0.79,0.83,0.92],\"type\":\"scatter\"},{\"name\":\"Mean K:2\",\"x\":[0.5,0.6,0.7,0.8,0.9,0.99],\"y\":[0.32046770601336266,0.32376391982182634,0.3287973273942093,0.337193763919822,0.35162583518930973,0.3818930957683742],\"type\":\"scatter\"},{\"name\":\"Min K:2\",\"x\":[0.5,0.6,0.7,0.8,0.9,0.99],\"y\":[0.06,0.07,0.08,0.06,0.08,0.0],\"type\":\"scatter\"},{\"name\":\"Max K:3\",\"x\":[0.5,0.6,0.7,0.8,0.9,0.99],\"y\":[0.77,0.78,0.78,0.78,0.77,0.9],\"type\":\"scatter\"},{\"name\":\"Mean K:3\",\"x\":[0.5,0.6,0.7,0.8,0.9,0.99],\"y\":[0.3183741648106905,0.3206681514476612,0.3248775055679288,0.3322717149220489,0.3480400890868594,0.3887750556792871],\"type\":\"scatter\"},{\"name\":\"Min K:3\",\"x\":[0.5,0.6,0.7,0.8,0.9,0.99],\"y\":[0.06,0.07,0.08,0.06,0.08,0.05],\"type\":\"scatter\"},{\"name\":\"Max K:4\",\"x\":[0.5,0.6,0.7,0.8,0.9,0.99],\"y\":[0.78,0.77,0.77,0.77,0.78,0.84],\"type\":\"scatter\"},{\"name\":\"Mean K:4\",\"x\":[0.5,0.6,0.7,0.8,0.9,0.99],\"y\":[0.3182850779510024,0.3198663697104674,0.32298440979955445,0.3284632516703789,0.34385300668151453,0.39325167037861913],\"type\":\"scatter\"},{\"name\":\"Min K:4\",\"x\":[0.5,0.6,0.7,0.8,0.9,0.99],\"y\":[0.06,0.07,0.08,0.06,0.08,0.11],\"type\":\"scatter\"},{\"name\":\"Max K:5\",\"x\":[0.5,0.6,0.7,0.8,0.9,0.99],\"y\":[0.78,0.78,0.78,0.77,0.78,0.85],\"type\":\"scatter\"},{\"name\":\"Mean K:5\",\"x\":[0.5,0.6,0.7,0.8,0.9,0.99],\"y\":[0.3173051224944322,0.31873051224944327,0.3220712694877506,0.3268596881959912,0.34093541202672606,0.397639198218263],\"type\":\"scatter\"},{\"name\":\"Min K:5\",\"x\":[0.5,0.6,0.7,0.8,0.9,0.99],\"y\":[0.06,0.07,0.08,0.06,0.08,0.14],\"type\":\"scatter\"},{\"name\":\"Max K:6\",\"x\":[0.5,0.6,0.7,0.8,0.9,0.99],\"y\":[0.78,0.78,0.78,0.77,0.77,0.86],\"type\":\"scatter\"},{\"name\":\"Mean K:6\",\"x\":[0.5,0.6,0.7,0.8,0.9,0.99],\"y\":[0.3162360801781738,0.3180400890868596,0.3206236080178173,0.32474387527839643,0.33610244988864124,0.400044543429844],\"type\":\"scatter\"},{\"name\":\"Min K:6\",\"x\":[0.5,0.6,0.7,0.8,0.9,0.99],\"y\":[0.06,0.07,0.08,0.06,0.08,0.14],\"type\":\"scatter\"},{\"name\":\"Max K:7\",\"x\":[0.5,0.6,0.7,0.8,0.9,0.99],\"y\":[0.78,0.78,0.78,0.77,0.79,0.84],\"type\":\"scatter\"},{\"name\":\"Mean K:7\",\"x\":[0.5,0.6,0.7,0.8,0.9,0.99],\"y\":[0.3154120267260581,0.3172383073496658,0.31968819599109144,0.32309576837416487,0.333207126948775,0.40149220489977716],\"type\":\"scatter\"},{\"name\":\"Min K:7\",\"x\":[0.5,0.6,0.7,0.8,0.9,0.99],\"y\":[0.06,0.07,0.08,0.06,0.08,0.14],\"type\":\"scatter\"}],                        {\"template\":{\"data\":{\"bar\":[{\"error_x\":{\"color\":\"#2a3f5f\"},\"error_y\":{\"color\":\"#2a3f5f\"},\"marker\":{\"line\":{\"color\":\"#E5ECF6\",\"width\":0.5},\"pattern\":{\"fillmode\":\"overlay\",\"size\":10,\"solidity\":0.2}},\"type\":\"bar\"}],\"barpolar\":[{\"marker\":{\"line\":{\"color\":\"#E5ECF6\",\"width\":0.5},\"pattern\":{\"fillmode\":\"overlay\",\"size\":10,\"solidity\":0.2}},\"type\":\"barpolar\"}],\"carpet\":[{\"aaxis\":{\"endlinecolor\":\"#2a3f5f\",\"gridcolor\":\"white\",\"linecolor\":\"white\",\"minorgridcolor\":\"white\",\"startlinecolor\":\"#2a3f5f\"},\"baxis\":{\"endlinecolor\":\"#2a3f5f\",\"gridcolor\":\"white\",\"linecolor\":\"white\",\"minorgridcolor\":\"white\",\"startlinecolor\":\"#2a3f5f\"},\"type\":\"carpet\"}],\"choropleth\":[{\"colorbar\":{\"outlinewidth\":0,\"ticks\":\"\"},\"type\":\"choropleth\"}],\"contour\":[{\"colorbar\":{\"outlinewidth\":0,\"ticks\":\"\"},\"colorscale\":[[0.0,\"#0d0887\"],[0.1111111111111111,\"#46039f\"],[0.2222222222222222,\"#7201a8\"],[0.3333333333333333,\"#9c179e\"],[0.4444444444444444,\"#bd3786\"],[0.5555555555555556,\"#d8576b\"],[0.6666666666666666,\"#ed7953\"],[0.7777777777777778,\"#fb9f3a\"],[0.8888888888888888,\"#fdca26\"],[1.0,\"#f0f921\"]],\"type\":\"contour\"}],\"contourcarpet\":[{\"colorbar\":{\"outlinewidth\":0,\"ticks\":\"\"},\"type\":\"contourcarpet\"}],\"heatmap\":[{\"colorbar\":{\"outlinewidth\":0,\"ticks\":\"\"},\"colorscale\":[[0.0,\"#0d0887\"],[0.1111111111111111,\"#46039f\"],[0.2222222222222222,\"#7201a8\"],[0.3333333333333333,\"#9c179e\"],[0.4444444444444444,\"#bd3786\"],[0.5555555555555556,\"#d8576b\"],[0.6666666666666666,\"#ed7953\"],[0.7777777777777778,\"#fb9f3a\"],[0.8888888888888888,\"#fdca26\"],[1.0,\"#f0f921\"]],\"type\":\"heatmap\"}],\"heatmapgl\":[{\"colorbar\":{\"outlinewidth\":0,\"ticks\":\"\"},\"colorscale\":[[0.0,\"#0d0887\"],[0.1111111111111111,\"#46039f\"],[0.2222222222222222,\"#7201a8\"],[0.3333333333333333,\"#9c179e\"],[0.4444444444444444,\"#bd3786\"],[0.5555555555555556,\"#d8576b\"],[0.6666666666666666,\"#ed7953\"],[0.7777777777777778,\"#fb9f3a\"],[0.8888888888888888,\"#fdca26\"],[1.0,\"#f0f921\"]],\"type\":\"heatmapgl\"}],\"histogram\":[{\"marker\":{\"pattern\":{\"fillmode\":\"overlay\",\"size\":10,\"solidity\":0.2}},\"type\":\"histogram\"}],\"histogram2d\":[{\"colorbar\":{\"outlinewidth\":0,\"ticks\":\"\"},\"colorscale\":[[0.0,\"#0d0887\"],[0.1111111111111111,\"#46039f\"],[0.2222222222222222,\"#7201a8\"],[0.3333333333333333,\"#9c179e\"],[0.4444444444444444,\"#bd3786\"],[0.5555555555555556,\"#d8576b\"],[0.6666666666666666,\"#ed7953\"],[0.7777777777777778,\"#fb9f3a\"],[0.8888888888888888,\"#fdca26\"],[1.0,\"#f0f921\"]],\"type\":\"histogram2d\"}],\"histogram2dcontour\":[{\"colorbar\":{\"outlinewidth\":0,\"ticks\":\"\"},\"colorscale\":[[0.0,\"#0d0887\"],[0.1111111111111111,\"#46039f\"],[0.2222222222222222,\"#7201a8\"],[0.3333333333333333,\"#9c179e\"],[0.4444444444444444,\"#bd3786\"],[0.5555555555555556,\"#d8576b\"],[0.6666666666666666,\"#ed7953\"],[0.7777777777777778,\"#fb9f3a\"],[0.8888888888888888,\"#fdca26\"],[1.0,\"#f0f921\"]],\"type\":\"histogram2dcontour\"}],\"mesh3d\":[{\"colorbar\":{\"outlinewidth\":0,\"ticks\":\"\"},\"type\":\"mesh3d\"}],\"parcoords\":[{\"line\":{\"colorbar\":{\"outlinewidth\":0,\"ticks\":\"\"}},\"type\":\"parcoords\"}],\"pie\":[{\"automargin\":true,\"type\":\"pie\"}],\"scatter\":[{\"marker\":{\"colorbar\":{\"outlinewidth\":0,\"ticks\":\"\"}},\"type\":\"scatter\"}],\"scatter3d\":[{\"line\":{\"colorbar\":{\"outlinewidth\":0,\"ticks\":\"\"}},\"marker\":{\"colorbar\":{\"outlinewidth\":0,\"ticks\":\"\"}},\"type\":\"scatter3d\"}],\"scattercarpet\":[{\"marker\":{\"colorbar\":{\"outlinewidth\":0,\"ticks\":\"\"}},\"type\":\"scattercarpet\"}],\"scattergeo\":[{\"marker\":{\"colorbar\":{\"outlinewidth\":0,\"ticks\":\"\"}},\"type\":\"scattergeo\"}],\"scattergl\":[{\"marker\":{\"colorbar\":{\"outlinewidth\":0,\"ticks\":\"\"}},\"type\":\"scattergl\"}],\"scattermapbox\":[{\"marker\":{\"colorbar\":{\"outlinewidth\":0,\"ticks\":\"\"}},\"type\":\"scattermapbox\"}],\"scatterpolar\":[{\"marker\":{\"colorbar\":{\"outlinewidth\":0,\"ticks\":\"\"}},\"type\":\"scatterpolar\"}],\"scatterpolargl\":[{\"marker\":{\"colorbar\":{\"outlinewidth\":0,\"ticks\":\"\"}},\"type\":\"scatterpolargl\"}],\"scatterternary\":[{\"marker\":{\"colorbar\":{\"outlinewidth\":0,\"ticks\":\"\"}},\"type\":\"scatterternary\"}],\"surface\":[{\"colorbar\":{\"outlinewidth\":0,\"ticks\":\"\"},\"colorscale\":[[0.0,\"#0d0887\"],[0.1111111111111111,\"#46039f\"],[0.2222222222222222,\"#7201a8\"],[0.3333333333333333,\"#9c179e\"],[0.4444444444444444,\"#bd3786\"],[0.5555555555555556,\"#d8576b\"],[0.6666666666666666,\"#ed7953\"],[0.7777777777777778,\"#fb9f3a\"],[0.8888888888888888,\"#fdca26\"],[1.0,\"#f0f921\"]],\"type\":\"surface\"}],\"table\":[{\"cells\":{\"fill\":{\"color\":\"#EBF0F8\"},\"line\":{\"color\":\"white\"}},\"header\":{\"fill\":{\"color\":\"#C8D4E3\"},\"line\":{\"color\":\"white\"}},\"type\":\"table\"}]},\"layout\":{\"annotationdefaults\":{\"arrowcolor\":\"#2a3f5f\",\"arrowhead\":0,\"arrowwidth\":1},\"autotypenumbers\":\"strict\",\"coloraxis\":{\"colorbar\":{\"outlinewidth\":0,\"ticks\":\"\"}},\"colorscale\":{\"diverging\":[[0,\"#8e0152\"],[0.1,\"#c51b7d\"],[0.2,\"#de77ae\"],[0.3,\"#f1b6da\"],[0.4,\"#fde0ef\"],[0.5,\"#f7f7f7\"],[0.6,\"#e6f5d0\"],[0.7,\"#b8e186\"],[0.8,\"#7fbc41\"],[0.9,\"#4d9221\"],[1,\"#276419\"]],\"sequential\":[[0.0,\"#0d0887\"],[0.1111111111111111,\"#46039f\"],[0.2222222222222222,\"#7201a8\"],[0.3333333333333333,\"#9c179e\"],[0.4444444444444444,\"#bd3786\"],[0.5555555555555556,\"#d8576b\"],[0.6666666666666666,\"#ed7953\"],[0.7777777777777778,\"#fb9f3a\"],[0.8888888888888888,\"#fdca26\"],[1.0,\"#f0f921\"]],\"sequentialminus\":[[0.0,\"#0d0887\"],[0.1111111111111111,\"#46039f\"],[0.2222222222222222,\"#7201a8\"],[0.3333333333333333,\"#9c179e\"],[0.4444444444444444,\"#bd3786\"],[0.5555555555555556,\"#d8576b\"],[0.6666666666666666,\"#ed7953\"],[0.7777777777777778,\"#fb9f3a\"],[0.8888888888888888,\"#fdca26\"],[1.0,\"#f0f921\"]]},\"colorway\":[\"#636efa\",\"#EF553B\",\"#00cc96\",\"#ab63fa\",\"#FFA15A\",\"#19d3f3\",\"#FF6692\",\"#B6E880\",\"#FF97FF\",\"#FECB52\"],\"font\":{\"color\":\"#2a3f5f\"},\"geo\":{\"bgcolor\":\"white\",\"lakecolor\":\"white\",\"landcolor\":\"#E5ECF6\",\"showlakes\":true,\"showland\":true,\"subunitcolor\":\"white\"},\"hoverlabel\":{\"align\":\"left\"},\"hovermode\":\"closest\",\"mapbox\":{\"style\":\"light\"},\"paper_bgcolor\":\"white\",\"plot_bgcolor\":\"#E5ECF6\",\"polar\":{\"angularaxis\":{\"gridcolor\":\"white\",\"linecolor\":\"white\",\"ticks\":\"\"},\"bgcolor\":\"#E5ECF6\",\"radialaxis\":{\"gridcolor\":\"white\",\"linecolor\":\"white\",\"ticks\":\"\"}},\"scene\":{\"xaxis\":{\"backgroundcolor\":\"#E5ECF6\",\"gridcolor\":\"white\",\"gridwidth\":2,\"linecolor\":\"white\",\"showbackground\":true,\"ticks\":\"\",\"zerolinecolor\":\"white\"},\"yaxis\":{\"backgroundcolor\":\"#E5ECF6\",\"gridcolor\":\"white\",\"gridwidth\":2,\"linecolor\":\"white\",\"showbackground\":true,\"ticks\":\"\",\"zerolinecolor\":\"white\"},\"zaxis\":{\"backgroundcolor\":\"#E5ECF6\",\"gridcolor\":\"white\",\"gridwidth\":2,\"linecolor\":\"white\",\"showbackground\":true,\"ticks\":\"\",\"zerolinecolor\":\"white\"}},\"shapedefaults\":{\"line\":{\"color\":\"#2a3f5f\"}},\"ternary\":{\"aaxis\":{\"gridcolor\":\"white\",\"linecolor\":\"white\",\"ticks\":\"\"},\"baxis\":{\"gridcolor\":\"white\",\"linecolor\":\"white\",\"ticks\":\"\"},\"bgcolor\":\"#E5ECF6\",\"caxis\":{\"gridcolor\":\"white\",\"linecolor\":\"white\",\"ticks\":\"\"}},\"title\":{\"x\":0.05},\"xaxis\":{\"automargin\":true,\"gridcolor\":\"white\",\"linecolor\":\"white\",\"ticks\":\"\",\"title\":{\"standoff\":15},\"zerolinecolor\":\"white\",\"zerolinewidth\":2},\"yaxis\":{\"automargin\":true,\"gridcolor\":\"white\",\"linecolor\":\"white\",\"ticks\":\"\",\"title\":{\"standoff\":15},\"zerolinecolor\":\"white\",\"zerolinewidth\":2}}},\"title\":{\"text\":\"Max,Mean and Min Precision\"},\"xaxis\":{\"title\":{\"text\":\"theta\"}},\"yaxis\":{\"title\":{\"text\":\"Precision\"}}},                        {\"responsive\": true}                    ).then(function(){\n",
              "                            \n",
              "var gd = document.getElementById('8e6baf16-d037-44d0-b485-02edf0d8028e');\n",
              "var x = new MutationObserver(function (mutations, observer) {{\n",
              "        var display = window.getComputedStyle(gd).display;\n",
              "        if (!display || display === 'none') {{\n",
              "            console.log([gd, 'removed!']);\n",
              "            Plotly.purge(gd);\n",
              "            observer.disconnect();\n",
              "        }}\n",
              "}});\n",
              "\n",
              "// Listen for the removal of the full notebook cells\n",
              "var notebookContainer = gd.closest('#notebook-container');\n",
              "if (notebookContainer) {{\n",
              "    x.observe(notebookContainer, {childList: true});\n",
              "}}\n",
              "\n",
              "// Listen for the clearing of the current output cell\n",
              "var outputEl = gd.closest('.output');\n",
              "if (outputEl) {{\n",
              "    x.observe(outputEl, {childList: true});\n",
              "}}\n",
              "\n",
              "                        })                };                            </script>        </div>\n",
              "</body>\n",
              "</html>"
            ]
          },
          "metadata": {},
          "output_type": "display_data"
        }
      ],
      "source": [
        "fig = go.Figure()\n",
        "for i in range(8-2):\n",
        "  max=[]\n",
        "  mean=[]\n",
        "  min=[]\n",
        "  for j in range(11-5):\n",
        "    max.append(results[i][j][0][0])\n",
        "    mean.append(results[i][j][1][0])\n",
        "    min.append(results[i][j][2][0])\n",
        "  fig.add_trace(go.Scatter(x=[t/10 if t!=10 else 99/100 for t in list(range(5,11))], y=max, name=f'Max K:{i+2}'))\n",
        "  fig.add_trace(go.Scatter(x=[t/10 if t!=10 else 99/100 for t in list(range(5,11))], y=mean, name=f'Mean K:{i+2}'))\n",
        "  fig.add_trace(go.Scatter(x=[t/10 if t!=10 else 99/100 for t in list(range(5,11))], y=min, name=f'Min K:{i+2}'))\n",
        "fig.update_layout(title='Max,Mean and Min Precision',\n",
        "                   xaxis_title='theta',\n",
        "                   yaxis_title='Precision')\n",
        "fig.show()"
      ]
    }
  ],
  "metadata": {
    "colab": {
      "collapsed_sections": [
        "dwLEKz-vvp93",
        "gtifUPr7gD8W",
        "rkMg-8jvrscg",
        "zxVK_pZggRDN",
        "IXnXE0ccZg29",
        "zfDzLg3PgY_B",
        "8f5ewOTSTpGo",
        "k5kMB9oH-bAJ",
        "eqRNc3VdgVR_",
        "te_Tu0Pr_XCG"
      ],
      "name": "final_item_cold_start.ipynb",
      "provenance": []
    },
    "kernelspec": {
      "display_name": "Python 3",
      "language": "python",
      "name": "python3"
    },
    "language_info": {
      "codemirror_mode": {
        "name": "ipython",
        "version": 3
      },
      "file_extension": ".py",
      "mimetype": "text/x-python",
      "name": "python",
      "nbconvert_exporter": "python",
      "pygments_lexer": "ipython3",
      "version": "3.7.12"
    },
    "widgets": {
      "application/vnd.jupyter.widget-state+json": {
        "95abfdb9e1a64131908d63a2d46deff8": {
          "model_module": "@jupyter-widgets/controls",
          "model_name": "HBoxModel",
          "model_module_version": "1.5.0",
          "state": {
            "_dom_classes": [],
            "_model_module": "@jupyter-widgets/controls",
            "_model_module_version": "1.5.0",
            "_model_name": "HBoxModel",
            "_view_count": null,
            "_view_module": "@jupyter-widgets/controls",
            "_view_module_version": "1.5.0",
            "_view_name": "HBoxView",
            "box_style": "",
            "children": [
              "IPY_MODEL_5b7bca9a6cea4e5ea3e02b8c66c086ac",
              "IPY_MODEL_9db3ac1f565a4fca9017f8494c1fe111",
              "IPY_MODEL_b48246b12fe945b5a9eca9040f7e738c"
            ],
            "layout": "IPY_MODEL_70a80614664a4b8d9d87a0b502cd9ae7"
          }
        },
        "5b7bca9a6cea4e5ea3e02b8c66c086ac": {
          "model_module": "@jupyter-widgets/controls",
          "model_name": "HTMLModel",
          "model_module_version": "1.5.0",
          "state": {
            "_dom_classes": [],
            "_model_module": "@jupyter-widgets/controls",
            "_model_module_version": "1.5.0",
            "_model_name": "HTMLModel",
            "_view_count": null,
            "_view_module": "@jupyter-widgets/controls",
            "_view_module_version": "1.5.0",
            "_view_name": "HTMLView",
            "description": "",
            "description_tooltip": null,
            "layout": "IPY_MODEL_4438f57b4ba34eb3acb5d5940f51702e",
            "placeholder": "​",
            "style": "IPY_MODEL_1e22903fbac94aaf89428fd6461fe097",
            "value": "Downloading: 100%"
          }
        },
        "9db3ac1f565a4fca9017f8494c1fe111": {
          "model_module": "@jupyter-widgets/controls",
          "model_name": "FloatProgressModel",
          "model_module_version": "1.5.0",
          "state": {
            "_dom_classes": [],
            "_model_module": "@jupyter-widgets/controls",
            "_model_module_version": "1.5.0",
            "_model_name": "FloatProgressModel",
            "_view_count": null,
            "_view_module": "@jupyter-widgets/controls",
            "_view_module_version": "1.5.0",
            "_view_name": "ProgressView",
            "bar_style": "success",
            "description": "",
            "description_tooltip": null,
            "layout": "IPY_MODEL_c48ceb048e1b42ab85a9d7b4bc95279a",
            "max": 1175,
            "min": 0,
            "orientation": "horizontal",
            "style": "IPY_MODEL_1da7b640e4f3411d8d2a104522f623d7",
            "value": 1175
          }
        },
        "b48246b12fe945b5a9eca9040f7e738c": {
          "model_module": "@jupyter-widgets/controls",
          "model_name": "HTMLModel",
          "model_module_version": "1.5.0",
          "state": {
            "_dom_classes": [],
            "_model_module": "@jupyter-widgets/controls",
            "_model_module_version": "1.5.0",
            "_model_name": "HTMLModel",
            "_view_count": null,
            "_view_module": "@jupyter-widgets/controls",
            "_view_module_version": "1.5.0",
            "_view_name": "HTMLView",
            "description": "",
            "description_tooltip": null,
            "layout": "IPY_MODEL_40f0bf2869914a8aa3332623a1cc6dcd",
            "placeholder": "​",
            "style": "IPY_MODEL_8b62980bf84a478a8bbf3733c993b15a",
            "value": " 1.18k/1.18k [00:00&lt;00:00, 5.26kB/s]"
          }
        },
        "70a80614664a4b8d9d87a0b502cd9ae7": {
          "model_module": "@jupyter-widgets/base",
          "model_name": "LayoutModel",
          "model_module_version": "1.2.0",
          "state": {
            "_model_module": "@jupyter-widgets/base",
            "_model_module_version": "1.2.0",
            "_model_name": "LayoutModel",
            "_view_count": null,
            "_view_module": "@jupyter-widgets/base",
            "_view_module_version": "1.2.0",
            "_view_name": "LayoutView",
            "align_content": null,
            "align_items": null,
            "align_self": null,
            "border": null,
            "bottom": null,
            "display": null,
            "flex": null,
            "flex_flow": null,
            "grid_area": null,
            "grid_auto_columns": null,
            "grid_auto_flow": null,
            "grid_auto_rows": null,
            "grid_column": null,
            "grid_gap": null,
            "grid_row": null,
            "grid_template_areas": null,
            "grid_template_columns": null,
            "grid_template_rows": null,
            "height": null,
            "justify_content": null,
            "justify_items": null,
            "left": null,
            "margin": null,
            "max_height": null,
            "max_width": null,
            "min_height": null,
            "min_width": null,
            "object_fit": null,
            "object_position": null,
            "order": null,
            "overflow": null,
            "overflow_x": null,
            "overflow_y": null,
            "padding": null,
            "right": null,
            "top": null,
            "visibility": null,
            "width": null
          }
        },
        "4438f57b4ba34eb3acb5d5940f51702e": {
          "model_module": "@jupyter-widgets/base",
          "model_name": "LayoutModel",
          "model_module_version": "1.2.0",
          "state": {
            "_model_module": "@jupyter-widgets/base",
            "_model_module_version": "1.2.0",
            "_model_name": "LayoutModel",
            "_view_count": null,
            "_view_module": "@jupyter-widgets/base",
            "_view_module_version": "1.2.0",
            "_view_name": "LayoutView",
            "align_content": null,
            "align_items": null,
            "align_self": null,
            "border": null,
            "bottom": null,
            "display": null,
            "flex": null,
            "flex_flow": null,
            "grid_area": null,
            "grid_auto_columns": null,
            "grid_auto_flow": null,
            "grid_auto_rows": null,
            "grid_column": null,
            "grid_gap": null,
            "grid_row": null,
            "grid_template_areas": null,
            "grid_template_columns": null,
            "grid_template_rows": null,
            "height": null,
            "justify_content": null,
            "justify_items": null,
            "left": null,
            "margin": null,
            "max_height": null,
            "max_width": null,
            "min_height": null,
            "min_width": null,
            "object_fit": null,
            "object_position": null,
            "order": null,
            "overflow": null,
            "overflow_x": null,
            "overflow_y": null,
            "padding": null,
            "right": null,
            "top": null,
            "visibility": null,
            "width": null
          }
        },
        "1e22903fbac94aaf89428fd6461fe097": {
          "model_module": "@jupyter-widgets/controls",
          "model_name": "DescriptionStyleModel",
          "model_module_version": "1.5.0",
          "state": {
            "_model_module": "@jupyter-widgets/controls",
            "_model_module_version": "1.5.0",
            "_model_name": "DescriptionStyleModel",
            "_view_count": null,
            "_view_module": "@jupyter-widgets/base",
            "_view_module_version": "1.2.0",
            "_view_name": "StyleView",
            "description_width": ""
          }
        },
        "c48ceb048e1b42ab85a9d7b4bc95279a": {
          "model_module": "@jupyter-widgets/base",
          "model_name": "LayoutModel",
          "model_module_version": "1.2.0",
          "state": {
            "_model_module": "@jupyter-widgets/base",
            "_model_module_version": "1.2.0",
            "_model_name": "LayoutModel",
            "_view_count": null,
            "_view_module": "@jupyter-widgets/base",
            "_view_module_version": "1.2.0",
            "_view_name": "LayoutView",
            "align_content": null,
            "align_items": null,
            "align_self": null,
            "border": null,
            "bottom": null,
            "display": null,
            "flex": null,
            "flex_flow": null,
            "grid_area": null,
            "grid_auto_columns": null,
            "grid_auto_flow": null,
            "grid_auto_rows": null,
            "grid_column": null,
            "grid_gap": null,
            "grid_row": null,
            "grid_template_areas": null,
            "grid_template_columns": null,
            "grid_template_rows": null,
            "height": null,
            "justify_content": null,
            "justify_items": null,
            "left": null,
            "margin": null,
            "max_height": null,
            "max_width": null,
            "min_height": null,
            "min_width": null,
            "object_fit": null,
            "object_position": null,
            "order": null,
            "overflow": null,
            "overflow_x": null,
            "overflow_y": null,
            "padding": null,
            "right": null,
            "top": null,
            "visibility": null,
            "width": null
          }
        },
        "1da7b640e4f3411d8d2a104522f623d7": {
          "model_module": "@jupyter-widgets/controls",
          "model_name": "ProgressStyleModel",
          "model_module_version": "1.5.0",
          "state": {
            "_model_module": "@jupyter-widgets/controls",
            "_model_module_version": "1.5.0",
            "_model_name": "ProgressStyleModel",
            "_view_count": null,
            "_view_module": "@jupyter-widgets/base",
            "_view_module_version": "1.2.0",
            "_view_name": "StyleView",
            "bar_color": null,
            "description_width": ""
          }
        },
        "40f0bf2869914a8aa3332623a1cc6dcd": {
          "model_module": "@jupyter-widgets/base",
          "model_name": "LayoutModel",
          "model_module_version": "1.2.0",
          "state": {
            "_model_module": "@jupyter-widgets/base",
            "_model_module_version": "1.2.0",
            "_model_name": "LayoutModel",
            "_view_count": null,
            "_view_module": "@jupyter-widgets/base",
            "_view_module_version": "1.2.0",
            "_view_name": "LayoutView",
            "align_content": null,
            "align_items": null,
            "align_self": null,
            "border": null,
            "bottom": null,
            "display": null,
            "flex": null,
            "flex_flow": null,
            "grid_area": null,
            "grid_auto_columns": null,
            "grid_auto_flow": null,
            "grid_auto_rows": null,
            "grid_column": null,
            "grid_gap": null,
            "grid_row": null,
            "grid_template_areas": null,
            "grid_template_columns": null,
            "grid_template_rows": null,
            "height": null,
            "justify_content": null,
            "justify_items": null,
            "left": null,
            "margin": null,
            "max_height": null,
            "max_width": null,
            "min_height": null,
            "min_width": null,
            "object_fit": null,
            "object_position": null,
            "order": null,
            "overflow": null,
            "overflow_x": null,
            "overflow_y": null,
            "padding": null,
            "right": null,
            "top": null,
            "visibility": null,
            "width": null
          }
        },
        "8b62980bf84a478a8bbf3733c993b15a": {
          "model_module": "@jupyter-widgets/controls",
          "model_name": "DescriptionStyleModel",
          "model_module_version": "1.5.0",
          "state": {
            "_model_module": "@jupyter-widgets/controls",
            "_model_module_version": "1.5.0",
            "_model_name": "DescriptionStyleModel",
            "_view_count": null,
            "_view_module": "@jupyter-widgets/base",
            "_view_module_version": "1.2.0",
            "_view_name": "StyleView",
            "description_width": ""
          }
        },
        "990c70eaa0264c049b6c7236ba67cfa0": {
          "model_module": "@jupyter-widgets/controls",
          "model_name": "HBoxModel",
          "model_module_version": "1.5.0",
          "state": {
            "_dom_classes": [],
            "_model_module": "@jupyter-widgets/controls",
            "_model_module_version": "1.5.0",
            "_model_name": "HBoxModel",
            "_view_count": null,
            "_view_module": "@jupyter-widgets/controls",
            "_view_module_version": "1.5.0",
            "_view_name": "HBoxView",
            "box_style": "",
            "children": [
              "IPY_MODEL_ac1d14eb87134a08bc5fb096fb52db3c",
              "IPY_MODEL_13b9d60e04af4ab3a0339888ea1b52db",
              "IPY_MODEL_349ddbd2958d4c8592fb530fb2ab2ed2"
            ],
            "layout": "IPY_MODEL_dfe95a966b2c46e2823c97fa7b836e73"
          }
        },
        "ac1d14eb87134a08bc5fb096fb52db3c": {
          "model_module": "@jupyter-widgets/controls",
          "model_name": "HTMLModel",
          "model_module_version": "1.5.0",
          "state": {
            "_dom_classes": [],
            "_model_module": "@jupyter-widgets/controls",
            "_model_module_version": "1.5.0",
            "_model_name": "HTMLModel",
            "_view_count": null,
            "_view_module": "@jupyter-widgets/controls",
            "_view_module_version": "1.5.0",
            "_view_name": "HTMLView",
            "description": "",
            "description_tooltip": null,
            "layout": "IPY_MODEL_0cd514b7136a407ba20b560cbc44797b",
            "placeholder": "​",
            "style": "IPY_MODEL_137f0e41e1df48059615b787622de7f0",
            "value": "Downloading: 100%"
          }
        },
        "13b9d60e04af4ab3a0339888ea1b52db": {
          "model_module": "@jupyter-widgets/controls",
          "model_name": "FloatProgressModel",
          "model_module_version": "1.5.0",
          "state": {
            "_dom_classes": [],
            "_model_module": "@jupyter-widgets/controls",
            "_model_module_version": "1.5.0",
            "_model_name": "FloatProgressModel",
            "_view_count": null,
            "_view_module": "@jupyter-widgets/controls",
            "_view_module_version": "1.5.0",
            "_view_name": "ProgressView",
            "bar_style": "success",
            "description": "",
            "description_tooltip": null,
            "layout": "IPY_MODEL_1373d3cec2a54d0db8fc229de24a0aa2",
            "max": 190,
            "min": 0,
            "orientation": "horizontal",
            "style": "IPY_MODEL_5ff1b9545501457abcf9a57a527d7aff",
            "value": 190
          }
        },
        "349ddbd2958d4c8592fb530fb2ab2ed2": {
          "model_module": "@jupyter-widgets/controls",
          "model_name": "HTMLModel",
          "model_module_version": "1.5.0",
          "state": {
            "_dom_classes": [],
            "_model_module": "@jupyter-widgets/controls",
            "_model_module_version": "1.5.0",
            "_model_name": "HTMLModel",
            "_view_count": null,
            "_view_module": "@jupyter-widgets/controls",
            "_view_module_version": "1.5.0",
            "_view_name": "HTMLView",
            "description": "",
            "description_tooltip": null,
            "layout": "IPY_MODEL_90bac71364d743fcab08d988cf67770d",
            "placeholder": "​",
            "style": "IPY_MODEL_34a567fd85434716a6da5d5734ff5f24",
            "value": " 190/190 [00:00&lt;00:00, 757B/s]"
          }
        },
        "dfe95a966b2c46e2823c97fa7b836e73": {
          "model_module": "@jupyter-widgets/base",
          "model_name": "LayoutModel",
          "model_module_version": "1.2.0",
          "state": {
            "_model_module": "@jupyter-widgets/base",
            "_model_module_version": "1.2.0",
            "_model_name": "LayoutModel",
            "_view_count": null,
            "_view_module": "@jupyter-widgets/base",
            "_view_module_version": "1.2.0",
            "_view_name": "LayoutView",
            "align_content": null,
            "align_items": null,
            "align_self": null,
            "border": null,
            "bottom": null,
            "display": null,
            "flex": null,
            "flex_flow": null,
            "grid_area": null,
            "grid_auto_columns": null,
            "grid_auto_flow": null,
            "grid_auto_rows": null,
            "grid_column": null,
            "grid_gap": null,
            "grid_row": null,
            "grid_template_areas": null,
            "grid_template_columns": null,
            "grid_template_rows": null,
            "height": null,
            "justify_content": null,
            "justify_items": null,
            "left": null,
            "margin": null,
            "max_height": null,
            "max_width": null,
            "min_height": null,
            "min_width": null,
            "object_fit": null,
            "object_position": null,
            "order": null,
            "overflow": null,
            "overflow_x": null,
            "overflow_y": null,
            "padding": null,
            "right": null,
            "top": null,
            "visibility": null,
            "width": null
          }
        },
        "0cd514b7136a407ba20b560cbc44797b": {
          "model_module": "@jupyter-widgets/base",
          "model_name": "LayoutModel",
          "model_module_version": "1.2.0",
          "state": {
            "_model_module": "@jupyter-widgets/base",
            "_model_module_version": "1.2.0",
            "_model_name": "LayoutModel",
            "_view_count": null,
            "_view_module": "@jupyter-widgets/base",
            "_view_module_version": "1.2.0",
            "_view_name": "LayoutView",
            "align_content": null,
            "align_items": null,
            "align_self": null,
            "border": null,
            "bottom": null,
            "display": null,
            "flex": null,
            "flex_flow": null,
            "grid_area": null,
            "grid_auto_columns": null,
            "grid_auto_flow": null,
            "grid_auto_rows": null,
            "grid_column": null,
            "grid_gap": null,
            "grid_row": null,
            "grid_template_areas": null,
            "grid_template_columns": null,
            "grid_template_rows": null,
            "height": null,
            "justify_content": null,
            "justify_items": null,
            "left": null,
            "margin": null,
            "max_height": null,
            "max_width": null,
            "min_height": null,
            "min_width": null,
            "object_fit": null,
            "object_position": null,
            "order": null,
            "overflow": null,
            "overflow_x": null,
            "overflow_y": null,
            "padding": null,
            "right": null,
            "top": null,
            "visibility": null,
            "width": null
          }
        },
        "137f0e41e1df48059615b787622de7f0": {
          "model_module": "@jupyter-widgets/controls",
          "model_name": "DescriptionStyleModel",
          "model_module_version": "1.5.0",
          "state": {
            "_model_module": "@jupyter-widgets/controls",
            "_model_module_version": "1.5.0",
            "_model_name": "DescriptionStyleModel",
            "_view_count": null,
            "_view_module": "@jupyter-widgets/base",
            "_view_module_version": "1.2.0",
            "_view_name": "StyleView",
            "description_width": ""
          }
        },
        "1373d3cec2a54d0db8fc229de24a0aa2": {
          "model_module": "@jupyter-widgets/base",
          "model_name": "LayoutModel",
          "model_module_version": "1.2.0",
          "state": {
            "_model_module": "@jupyter-widgets/base",
            "_model_module_version": "1.2.0",
            "_model_name": "LayoutModel",
            "_view_count": null,
            "_view_module": "@jupyter-widgets/base",
            "_view_module_version": "1.2.0",
            "_view_name": "LayoutView",
            "align_content": null,
            "align_items": null,
            "align_self": null,
            "border": null,
            "bottom": null,
            "display": null,
            "flex": null,
            "flex_flow": null,
            "grid_area": null,
            "grid_auto_columns": null,
            "grid_auto_flow": null,
            "grid_auto_rows": null,
            "grid_column": null,
            "grid_gap": null,
            "grid_row": null,
            "grid_template_areas": null,
            "grid_template_columns": null,
            "grid_template_rows": null,
            "height": null,
            "justify_content": null,
            "justify_items": null,
            "left": null,
            "margin": null,
            "max_height": null,
            "max_width": null,
            "min_height": null,
            "min_width": null,
            "object_fit": null,
            "object_position": null,
            "order": null,
            "overflow": null,
            "overflow_x": null,
            "overflow_y": null,
            "padding": null,
            "right": null,
            "top": null,
            "visibility": null,
            "width": null
          }
        },
        "5ff1b9545501457abcf9a57a527d7aff": {
          "model_module": "@jupyter-widgets/controls",
          "model_name": "ProgressStyleModel",
          "model_module_version": "1.5.0",
          "state": {
            "_model_module": "@jupyter-widgets/controls",
            "_model_module_version": "1.5.0",
            "_model_name": "ProgressStyleModel",
            "_view_count": null,
            "_view_module": "@jupyter-widgets/base",
            "_view_module_version": "1.2.0",
            "_view_name": "StyleView",
            "bar_color": null,
            "description_width": ""
          }
        },
        "90bac71364d743fcab08d988cf67770d": {
          "model_module": "@jupyter-widgets/base",
          "model_name": "LayoutModel",
          "model_module_version": "1.2.0",
          "state": {
            "_model_module": "@jupyter-widgets/base",
            "_model_module_version": "1.2.0",
            "_model_name": "LayoutModel",
            "_view_count": null,
            "_view_module": "@jupyter-widgets/base",
            "_view_module_version": "1.2.0",
            "_view_name": "LayoutView",
            "align_content": null,
            "align_items": null,
            "align_self": null,
            "border": null,
            "bottom": null,
            "display": null,
            "flex": null,
            "flex_flow": null,
            "grid_area": null,
            "grid_auto_columns": null,
            "grid_auto_flow": null,
            "grid_auto_rows": null,
            "grid_column": null,
            "grid_gap": null,
            "grid_row": null,
            "grid_template_areas": null,
            "grid_template_columns": null,
            "grid_template_rows": null,
            "height": null,
            "justify_content": null,
            "justify_items": null,
            "left": null,
            "margin": null,
            "max_height": null,
            "max_width": null,
            "min_height": null,
            "min_width": null,
            "object_fit": null,
            "object_position": null,
            "order": null,
            "overflow": null,
            "overflow_x": null,
            "overflow_y": null,
            "padding": null,
            "right": null,
            "top": null,
            "visibility": null,
            "width": null
          }
        },
        "34a567fd85434716a6da5d5734ff5f24": {
          "model_module": "@jupyter-widgets/controls",
          "model_name": "DescriptionStyleModel",
          "model_module_version": "1.5.0",
          "state": {
            "_model_module": "@jupyter-widgets/controls",
            "_model_module_version": "1.5.0",
            "_model_name": "DescriptionStyleModel",
            "_view_count": null,
            "_view_module": "@jupyter-widgets/base",
            "_view_module_version": "1.2.0",
            "_view_name": "StyleView",
            "description_width": ""
          }
        },
        "1d23e7438f3445758dcf3e3d51b64b59": {
          "model_module": "@jupyter-widgets/controls",
          "model_name": "HBoxModel",
          "model_module_version": "1.5.0",
          "state": {
            "_dom_classes": [],
            "_model_module": "@jupyter-widgets/controls",
            "_model_module_version": "1.5.0",
            "_model_name": "HBoxModel",
            "_view_count": null,
            "_view_module": "@jupyter-widgets/controls",
            "_view_module_version": "1.5.0",
            "_view_name": "HBoxView",
            "box_style": "",
            "children": [
              "IPY_MODEL_4b99c42120a548279fe7c30240b93e25",
              "IPY_MODEL_395d21f3de0f4be8bc5edb57b8db342f",
              "IPY_MODEL_dfde957b36ef45aea31807278cb6ef78"
            ],
            "layout": "IPY_MODEL_f119675f50724231836cc83ce85af9dd"
          }
        },
        "4b99c42120a548279fe7c30240b93e25": {
          "model_module": "@jupyter-widgets/controls",
          "model_name": "HTMLModel",
          "model_module_version": "1.5.0",
          "state": {
            "_dom_classes": [],
            "_model_module": "@jupyter-widgets/controls",
            "_model_module_version": "1.5.0",
            "_model_name": "HTMLModel",
            "_view_count": null,
            "_view_module": "@jupyter-widgets/controls",
            "_view_module_version": "1.5.0",
            "_view_name": "HTMLView",
            "description": "",
            "description_tooltip": null,
            "layout": "IPY_MODEL_d7a3932094034e2fad64af97869debf0",
            "placeholder": "​",
            "style": "IPY_MODEL_e4d9b81f7d0544e991b5152c4ab904d0",
            "value": "Downloading: 100%"
          }
        },
        "395d21f3de0f4be8bc5edb57b8db342f": {
          "model_module": "@jupyter-widgets/controls",
          "model_name": "FloatProgressModel",
          "model_module_version": "1.5.0",
          "state": {
            "_dom_classes": [],
            "_model_module": "@jupyter-widgets/controls",
            "_model_module_version": "1.5.0",
            "_model_name": "FloatProgressModel",
            "_view_count": null,
            "_view_module": "@jupyter-widgets/controls",
            "_view_module_version": "1.5.0",
            "_view_name": "ProgressView",
            "bar_style": "success",
            "description": "",
            "description_tooltip": null,
            "layout": "IPY_MODEL_db4132acf0e14f5391b871fa79d5c3f4",
            "max": 10177,
            "min": 0,
            "orientation": "horizontal",
            "style": "IPY_MODEL_3de9987fdf2b467aa7db991fe5c367fe",
            "value": 10177
          }
        },
        "dfde957b36ef45aea31807278cb6ef78": {
          "model_module": "@jupyter-widgets/controls",
          "model_name": "HTMLModel",
          "model_module_version": "1.5.0",
          "state": {
            "_dom_classes": [],
            "_model_module": "@jupyter-widgets/controls",
            "_model_module_version": "1.5.0",
            "_model_name": "HTMLModel",
            "_view_count": null,
            "_view_module": "@jupyter-widgets/controls",
            "_view_module_version": "1.5.0",
            "_view_name": "HTMLView",
            "description": "",
            "description_tooltip": null,
            "layout": "IPY_MODEL_42f380b4787e4129b03da58f8f1b097d",
            "placeholder": "​",
            "style": "IPY_MODEL_60f02b1068d4432bb20e77fdfffc7633",
            "value": " 10.2k/10.2k [00:00&lt;00:00, 5.66kB/s]"
          }
        },
        "f119675f50724231836cc83ce85af9dd": {
          "model_module": "@jupyter-widgets/base",
          "model_name": "LayoutModel",
          "model_module_version": "1.2.0",
          "state": {
            "_model_module": "@jupyter-widgets/base",
            "_model_module_version": "1.2.0",
            "_model_name": "LayoutModel",
            "_view_count": null,
            "_view_module": "@jupyter-widgets/base",
            "_view_module_version": "1.2.0",
            "_view_name": "LayoutView",
            "align_content": null,
            "align_items": null,
            "align_self": null,
            "border": null,
            "bottom": null,
            "display": null,
            "flex": null,
            "flex_flow": null,
            "grid_area": null,
            "grid_auto_columns": null,
            "grid_auto_flow": null,
            "grid_auto_rows": null,
            "grid_column": null,
            "grid_gap": null,
            "grid_row": null,
            "grid_template_areas": null,
            "grid_template_columns": null,
            "grid_template_rows": null,
            "height": null,
            "justify_content": null,
            "justify_items": null,
            "left": null,
            "margin": null,
            "max_height": null,
            "max_width": null,
            "min_height": null,
            "min_width": null,
            "object_fit": null,
            "object_position": null,
            "order": null,
            "overflow": null,
            "overflow_x": null,
            "overflow_y": null,
            "padding": null,
            "right": null,
            "top": null,
            "visibility": null,
            "width": null
          }
        },
        "d7a3932094034e2fad64af97869debf0": {
          "model_module": "@jupyter-widgets/base",
          "model_name": "LayoutModel",
          "model_module_version": "1.2.0",
          "state": {
            "_model_module": "@jupyter-widgets/base",
            "_model_module_version": "1.2.0",
            "_model_name": "LayoutModel",
            "_view_count": null,
            "_view_module": "@jupyter-widgets/base",
            "_view_module_version": "1.2.0",
            "_view_name": "LayoutView",
            "align_content": null,
            "align_items": null,
            "align_self": null,
            "border": null,
            "bottom": null,
            "display": null,
            "flex": null,
            "flex_flow": null,
            "grid_area": null,
            "grid_auto_columns": null,
            "grid_auto_flow": null,
            "grid_auto_rows": null,
            "grid_column": null,
            "grid_gap": null,
            "grid_row": null,
            "grid_template_areas": null,
            "grid_template_columns": null,
            "grid_template_rows": null,
            "height": null,
            "justify_content": null,
            "justify_items": null,
            "left": null,
            "margin": null,
            "max_height": null,
            "max_width": null,
            "min_height": null,
            "min_width": null,
            "object_fit": null,
            "object_position": null,
            "order": null,
            "overflow": null,
            "overflow_x": null,
            "overflow_y": null,
            "padding": null,
            "right": null,
            "top": null,
            "visibility": null,
            "width": null
          }
        },
        "e4d9b81f7d0544e991b5152c4ab904d0": {
          "model_module": "@jupyter-widgets/controls",
          "model_name": "DescriptionStyleModel",
          "model_module_version": "1.5.0",
          "state": {
            "_model_module": "@jupyter-widgets/controls",
            "_model_module_version": "1.5.0",
            "_model_name": "DescriptionStyleModel",
            "_view_count": null,
            "_view_module": "@jupyter-widgets/base",
            "_view_module_version": "1.2.0",
            "_view_name": "StyleView",
            "description_width": ""
          }
        },
        "db4132acf0e14f5391b871fa79d5c3f4": {
          "model_module": "@jupyter-widgets/base",
          "model_name": "LayoutModel",
          "model_module_version": "1.2.0",
          "state": {
            "_model_module": "@jupyter-widgets/base",
            "_model_module_version": "1.2.0",
            "_model_name": "LayoutModel",
            "_view_count": null,
            "_view_module": "@jupyter-widgets/base",
            "_view_module_version": "1.2.0",
            "_view_name": "LayoutView",
            "align_content": null,
            "align_items": null,
            "align_self": null,
            "border": null,
            "bottom": null,
            "display": null,
            "flex": null,
            "flex_flow": null,
            "grid_area": null,
            "grid_auto_columns": null,
            "grid_auto_flow": null,
            "grid_auto_rows": null,
            "grid_column": null,
            "grid_gap": null,
            "grid_row": null,
            "grid_template_areas": null,
            "grid_template_columns": null,
            "grid_template_rows": null,
            "height": null,
            "justify_content": null,
            "justify_items": null,
            "left": null,
            "margin": null,
            "max_height": null,
            "max_width": null,
            "min_height": null,
            "min_width": null,
            "object_fit": null,
            "object_position": null,
            "order": null,
            "overflow": null,
            "overflow_x": null,
            "overflow_y": null,
            "padding": null,
            "right": null,
            "top": null,
            "visibility": null,
            "width": null
          }
        },
        "3de9987fdf2b467aa7db991fe5c367fe": {
          "model_module": "@jupyter-widgets/controls",
          "model_name": "ProgressStyleModel",
          "model_module_version": "1.5.0",
          "state": {
            "_model_module": "@jupyter-widgets/controls",
            "_model_module_version": "1.5.0",
            "_model_name": "ProgressStyleModel",
            "_view_count": null,
            "_view_module": "@jupyter-widgets/base",
            "_view_module_version": "1.2.0",
            "_view_name": "StyleView",
            "bar_color": null,
            "description_width": ""
          }
        },
        "42f380b4787e4129b03da58f8f1b097d": {
          "model_module": "@jupyter-widgets/base",
          "model_name": "LayoutModel",
          "model_module_version": "1.2.0",
          "state": {
            "_model_module": "@jupyter-widgets/base",
            "_model_module_version": "1.2.0",
            "_model_name": "LayoutModel",
            "_view_count": null,
            "_view_module": "@jupyter-widgets/base",
            "_view_module_version": "1.2.0",
            "_view_name": "LayoutView",
            "align_content": null,
            "align_items": null,
            "align_self": null,
            "border": null,
            "bottom": null,
            "display": null,
            "flex": null,
            "flex_flow": null,
            "grid_area": null,
            "grid_auto_columns": null,
            "grid_auto_flow": null,
            "grid_auto_rows": null,
            "grid_column": null,
            "grid_gap": null,
            "grid_row": null,
            "grid_template_areas": null,
            "grid_template_columns": null,
            "grid_template_rows": null,
            "height": null,
            "justify_content": null,
            "justify_items": null,
            "left": null,
            "margin": null,
            "max_height": null,
            "max_width": null,
            "min_height": null,
            "min_width": null,
            "object_fit": null,
            "object_position": null,
            "order": null,
            "overflow": null,
            "overflow_x": null,
            "overflow_y": null,
            "padding": null,
            "right": null,
            "top": null,
            "visibility": null,
            "width": null
          }
        },
        "60f02b1068d4432bb20e77fdfffc7633": {
          "model_module": "@jupyter-widgets/controls",
          "model_name": "DescriptionStyleModel",
          "model_module_version": "1.5.0",
          "state": {
            "_model_module": "@jupyter-widgets/controls",
            "_model_module_version": "1.5.0",
            "_model_name": "DescriptionStyleModel",
            "_view_count": null,
            "_view_module": "@jupyter-widgets/base",
            "_view_module_version": "1.2.0",
            "_view_name": "StyleView",
            "description_width": ""
          }
        },
        "8f2df5450b394b5e9c84da98b9f5be65": {
          "model_module": "@jupyter-widgets/controls",
          "model_name": "HBoxModel",
          "model_module_version": "1.5.0",
          "state": {
            "_dom_classes": [],
            "_model_module": "@jupyter-widgets/controls",
            "_model_module_version": "1.5.0",
            "_model_name": "HBoxModel",
            "_view_count": null,
            "_view_module": "@jupyter-widgets/controls",
            "_view_module_version": "1.5.0",
            "_view_name": "HBoxView",
            "box_style": "",
            "children": [
              "IPY_MODEL_2ec396ef20e749aa92ca7ffc0a15051e",
              "IPY_MODEL_11fcadc28b6c4c928a78b169d2bb8de8",
              "IPY_MODEL_9d0dc95e9b504f779ae4a9f4d9f43577"
            ],
            "layout": "IPY_MODEL_e49ad1d6fe4540eeba25f7ed3e075c8d"
          }
        },
        "2ec396ef20e749aa92ca7ffc0a15051e": {
          "model_module": "@jupyter-widgets/controls",
          "model_name": "HTMLModel",
          "model_module_version": "1.5.0",
          "state": {
            "_dom_classes": [],
            "_model_module": "@jupyter-widgets/controls",
            "_model_module_version": "1.5.0",
            "_model_name": "HTMLModel",
            "_view_count": null,
            "_view_module": "@jupyter-widgets/controls",
            "_view_module_version": "1.5.0",
            "_view_name": "HTMLView",
            "description": "",
            "description_tooltip": null,
            "layout": "IPY_MODEL_964d984dc62040b7b4ad5ff89d3a52aa",
            "placeholder": "​",
            "style": "IPY_MODEL_88bf5a41bec045ac96e1473a9b3322ae",
            "value": "Downloading: 100%"
          }
        },
        "11fcadc28b6c4c928a78b169d2bb8de8": {
          "model_module": "@jupyter-widgets/controls",
          "model_name": "FloatProgressModel",
          "model_module_version": "1.5.0",
          "state": {
            "_dom_classes": [],
            "_model_module": "@jupyter-widgets/controls",
            "_model_module_version": "1.5.0",
            "_model_name": "FloatProgressModel",
            "_view_count": null,
            "_view_module": "@jupyter-widgets/controls",
            "_view_module_version": "1.5.0",
            "_view_name": "ProgressView",
            "bar_style": "success",
            "description": "",
            "description_tooltip": null,
            "layout": "IPY_MODEL_3835c29c8b734ea7b3e21d73464888dd",
            "max": 612,
            "min": 0,
            "orientation": "horizontal",
            "style": "IPY_MODEL_87cec92080f34b3cbc23729def34784f",
            "value": 612
          }
        },
        "9d0dc95e9b504f779ae4a9f4d9f43577": {
          "model_module": "@jupyter-widgets/controls",
          "model_name": "HTMLModel",
          "model_module_version": "1.5.0",
          "state": {
            "_dom_classes": [],
            "_model_module": "@jupyter-widgets/controls",
            "_model_module_version": "1.5.0",
            "_model_name": "HTMLModel",
            "_view_count": null,
            "_view_module": "@jupyter-widgets/controls",
            "_view_module_version": "1.5.0",
            "_view_name": "HTMLView",
            "description": "",
            "description_tooltip": null,
            "layout": "IPY_MODEL_cbc1927603184721911adca6ca6b5521",
            "placeholder": "​",
            "style": "IPY_MODEL_cdb9bb762d0e49e1909b68a5d71f8fc1",
            "value": " 612/612 [00:00&lt;00:00, 2.80kB/s]"
          }
        },
        "e49ad1d6fe4540eeba25f7ed3e075c8d": {
          "model_module": "@jupyter-widgets/base",
          "model_name": "LayoutModel",
          "model_module_version": "1.2.0",
          "state": {
            "_model_module": "@jupyter-widgets/base",
            "_model_module_version": "1.2.0",
            "_model_name": "LayoutModel",
            "_view_count": null,
            "_view_module": "@jupyter-widgets/base",
            "_view_module_version": "1.2.0",
            "_view_name": "LayoutView",
            "align_content": null,
            "align_items": null,
            "align_self": null,
            "border": null,
            "bottom": null,
            "display": null,
            "flex": null,
            "flex_flow": null,
            "grid_area": null,
            "grid_auto_columns": null,
            "grid_auto_flow": null,
            "grid_auto_rows": null,
            "grid_column": null,
            "grid_gap": null,
            "grid_row": null,
            "grid_template_areas": null,
            "grid_template_columns": null,
            "grid_template_rows": null,
            "height": null,
            "justify_content": null,
            "justify_items": null,
            "left": null,
            "margin": null,
            "max_height": null,
            "max_width": null,
            "min_height": null,
            "min_width": null,
            "object_fit": null,
            "object_position": null,
            "order": null,
            "overflow": null,
            "overflow_x": null,
            "overflow_y": null,
            "padding": null,
            "right": null,
            "top": null,
            "visibility": null,
            "width": null
          }
        },
        "964d984dc62040b7b4ad5ff89d3a52aa": {
          "model_module": "@jupyter-widgets/base",
          "model_name": "LayoutModel",
          "model_module_version": "1.2.0",
          "state": {
            "_model_module": "@jupyter-widgets/base",
            "_model_module_version": "1.2.0",
            "_model_name": "LayoutModel",
            "_view_count": null,
            "_view_module": "@jupyter-widgets/base",
            "_view_module_version": "1.2.0",
            "_view_name": "LayoutView",
            "align_content": null,
            "align_items": null,
            "align_self": null,
            "border": null,
            "bottom": null,
            "display": null,
            "flex": null,
            "flex_flow": null,
            "grid_area": null,
            "grid_auto_columns": null,
            "grid_auto_flow": null,
            "grid_auto_rows": null,
            "grid_column": null,
            "grid_gap": null,
            "grid_row": null,
            "grid_template_areas": null,
            "grid_template_columns": null,
            "grid_template_rows": null,
            "height": null,
            "justify_content": null,
            "justify_items": null,
            "left": null,
            "margin": null,
            "max_height": null,
            "max_width": null,
            "min_height": null,
            "min_width": null,
            "object_fit": null,
            "object_position": null,
            "order": null,
            "overflow": null,
            "overflow_x": null,
            "overflow_y": null,
            "padding": null,
            "right": null,
            "top": null,
            "visibility": null,
            "width": null
          }
        },
        "88bf5a41bec045ac96e1473a9b3322ae": {
          "model_module": "@jupyter-widgets/controls",
          "model_name": "DescriptionStyleModel",
          "model_module_version": "1.5.0",
          "state": {
            "_model_module": "@jupyter-widgets/controls",
            "_model_module_version": "1.5.0",
            "_model_name": "DescriptionStyleModel",
            "_view_count": null,
            "_view_module": "@jupyter-widgets/base",
            "_view_module_version": "1.2.0",
            "_view_name": "StyleView",
            "description_width": ""
          }
        },
        "3835c29c8b734ea7b3e21d73464888dd": {
          "model_module": "@jupyter-widgets/base",
          "model_name": "LayoutModel",
          "model_module_version": "1.2.0",
          "state": {
            "_model_module": "@jupyter-widgets/base",
            "_model_module_version": "1.2.0",
            "_model_name": "LayoutModel",
            "_view_count": null,
            "_view_module": "@jupyter-widgets/base",
            "_view_module_version": "1.2.0",
            "_view_name": "LayoutView",
            "align_content": null,
            "align_items": null,
            "align_self": null,
            "border": null,
            "bottom": null,
            "display": null,
            "flex": null,
            "flex_flow": null,
            "grid_area": null,
            "grid_auto_columns": null,
            "grid_auto_flow": null,
            "grid_auto_rows": null,
            "grid_column": null,
            "grid_gap": null,
            "grid_row": null,
            "grid_template_areas": null,
            "grid_template_columns": null,
            "grid_template_rows": null,
            "height": null,
            "justify_content": null,
            "justify_items": null,
            "left": null,
            "margin": null,
            "max_height": null,
            "max_width": null,
            "min_height": null,
            "min_width": null,
            "object_fit": null,
            "object_position": null,
            "order": null,
            "overflow": null,
            "overflow_x": null,
            "overflow_y": null,
            "padding": null,
            "right": null,
            "top": null,
            "visibility": null,
            "width": null
          }
        },
        "87cec92080f34b3cbc23729def34784f": {
          "model_module": "@jupyter-widgets/controls",
          "model_name": "ProgressStyleModel",
          "model_module_version": "1.5.0",
          "state": {
            "_model_module": "@jupyter-widgets/controls",
            "_model_module_version": "1.5.0",
            "_model_name": "ProgressStyleModel",
            "_view_count": null,
            "_view_module": "@jupyter-widgets/base",
            "_view_module_version": "1.2.0",
            "_view_name": "StyleView",
            "bar_color": null,
            "description_width": ""
          }
        },
        "cbc1927603184721911adca6ca6b5521": {
          "model_module": "@jupyter-widgets/base",
          "model_name": "LayoutModel",
          "model_module_version": "1.2.0",
          "state": {
            "_model_module": "@jupyter-widgets/base",
            "_model_module_version": "1.2.0",
            "_model_name": "LayoutModel",
            "_view_count": null,
            "_view_module": "@jupyter-widgets/base",
            "_view_module_version": "1.2.0",
            "_view_name": "LayoutView",
            "align_content": null,
            "align_items": null,
            "align_self": null,
            "border": null,
            "bottom": null,
            "display": null,
            "flex": null,
            "flex_flow": null,
            "grid_area": null,
            "grid_auto_columns": null,
            "grid_auto_flow": null,
            "grid_auto_rows": null,
            "grid_column": null,
            "grid_gap": null,
            "grid_row": null,
            "grid_template_areas": null,
            "grid_template_columns": null,
            "grid_template_rows": null,
            "height": null,
            "justify_content": null,
            "justify_items": null,
            "left": null,
            "margin": null,
            "max_height": null,
            "max_width": null,
            "min_height": null,
            "min_width": null,
            "object_fit": null,
            "object_position": null,
            "order": null,
            "overflow": null,
            "overflow_x": null,
            "overflow_y": null,
            "padding": null,
            "right": null,
            "top": null,
            "visibility": null,
            "width": null
          }
        },
        "cdb9bb762d0e49e1909b68a5d71f8fc1": {
          "model_module": "@jupyter-widgets/controls",
          "model_name": "DescriptionStyleModel",
          "model_module_version": "1.5.0",
          "state": {
            "_model_module": "@jupyter-widgets/controls",
            "_model_module_version": "1.5.0",
            "_model_name": "DescriptionStyleModel",
            "_view_count": null,
            "_view_module": "@jupyter-widgets/base",
            "_view_module_version": "1.2.0",
            "_view_name": "StyleView",
            "description_width": ""
          }
        },
        "71b4eb11082247d9a709c593afd62d32": {
          "model_module": "@jupyter-widgets/controls",
          "model_name": "HBoxModel",
          "model_module_version": "1.5.0",
          "state": {
            "_dom_classes": [],
            "_model_module": "@jupyter-widgets/controls",
            "_model_module_version": "1.5.0",
            "_model_name": "HBoxModel",
            "_view_count": null,
            "_view_module": "@jupyter-widgets/controls",
            "_view_module_version": "1.5.0",
            "_view_name": "HBoxView",
            "box_style": "",
            "children": [
              "IPY_MODEL_f89c79762986463bb1c5a059ab7e99db",
              "IPY_MODEL_7f296688c047474a8ef601bc9e5cb5a7",
              "IPY_MODEL_18eab544bb024c0999d91514ea5590b9"
            ],
            "layout": "IPY_MODEL_671c29c01ca24f4c88eb0e3192bd583c"
          }
        },
        "f89c79762986463bb1c5a059ab7e99db": {
          "model_module": "@jupyter-widgets/controls",
          "model_name": "HTMLModel",
          "model_module_version": "1.5.0",
          "state": {
            "_dom_classes": [],
            "_model_module": "@jupyter-widgets/controls",
            "_model_module_version": "1.5.0",
            "_model_name": "HTMLModel",
            "_view_count": null,
            "_view_module": "@jupyter-widgets/controls",
            "_view_module_version": "1.5.0",
            "_view_name": "HTMLView",
            "description": "",
            "description_tooltip": null,
            "layout": "IPY_MODEL_abd3cfa15f23483eaa11ecded8c20e39",
            "placeholder": "​",
            "style": "IPY_MODEL_0d0cef940fa041608298e97a85a37957",
            "value": "Downloading: 100%"
          }
        },
        "7f296688c047474a8ef601bc9e5cb5a7": {
          "model_module": "@jupyter-widgets/controls",
          "model_name": "FloatProgressModel",
          "model_module_version": "1.5.0",
          "state": {
            "_dom_classes": [],
            "_model_module": "@jupyter-widgets/controls",
            "_model_module_version": "1.5.0",
            "_model_name": "FloatProgressModel",
            "_view_count": null,
            "_view_module": "@jupyter-widgets/controls",
            "_view_module_version": "1.5.0",
            "_view_name": "ProgressView",
            "bar_style": "success",
            "description": "",
            "description_tooltip": null,
            "layout": "IPY_MODEL_e8fd73a35bd54d3db4f0e0a49cecf7c7",
            "max": 116,
            "min": 0,
            "orientation": "horizontal",
            "style": "IPY_MODEL_4a5c3ea347874a7bad3cf9a458525f2d",
            "value": 116
          }
        },
        "18eab544bb024c0999d91514ea5590b9": {
          "model_module": "@jupyter-widgets/controls",
          "model_name": "HTMLModel",
          "model_module_version": "1.5.0",
          "state": {
            "_dom_classes": [],
            "_model_module": "@jupyter-widgets/controls",
            "_model_module_version": "1.5.0",
            "_model_name": "HTMLModel",
            "_view_count": null,
            "_view_module": "@jupyter-widgets/controls",
            "_view_module_version": "1.5.0",
            "_view_name": "HTMLView",
            "description": "",
            "description_tooltip": null,
            "layout": "IPY_MODEL_a4596a8068b9447e987d2a61182fcea1",
            "placeholder": "​",
            "style": "IPY_MODEL_aa8fba54a78a4dbd8970185fa2896447",
            "value": " 116/116 [00:00&lt;00:00, 516B/s]"
          }
        },
        "671c29c01ca24f4c88eb0e3192bd583c": {
          "model_module": "@jupyter-widgets/base",
          "model_name": "LayoutModel",
          "model_module_version": "1.2.0",
          "state": {
            "_model_module": "@jupyter-widgets/base",
            "_model_module_version": "1.2.0",
            "_model_name": "LayoutModel",
            "_view_count": null,
            "_view_module": "@jupyter-widgets/base",
            "_view_module_version": "1.2.0",
            "_view_name": "LayoutView",
            "align_content": null,
            "align_items": null,
            "align_self": null,
            "border": null,
            "bottom": null,
            "display": null,
            "flex": null,
            "flex_flow": null,
            "grid_area": null,
            "grid_auto_columns": null,
            "grid_auto_flow": null,
            "grid_auto_rows": null,
            "grid_column": null,
            "grid_gap": null,
            "grid_row": null,
            "grid_template_areas": null,
            "grid_template_columns": null,
            "grid_template_rows": null,
            "height": null,
            "justify_content": null,
            "justify_items": null,
            "left": null,
            "margin": null,
            "max_height": null,
            "max_width": null,
            "min_height": null,
            "min_width": null,
            "object_fit": null,
            "object_position": null,
            "order": null,
            "overflow": null,
            "overflow_x": null,
            "overflow_y": null,
            "padding": null,
            "right": null,
            "top": null,
            "visibility": null,
            "width": null
          }
        },
        "abd3cfa15f23483eaa11ecded8c20e39": {
          "model_module": "@jupyter-widgets/base",
          "model_name": "LayoutModel",
          "model_module_version": "1.2.0",
          "state": {
            "_model_module": "@jupyter-widgets/base",
            "_model_module_version": "1.2.0",
            "_model_name": "LayoutModel",
            "_view_count": null,
            "_view_module": "@jupyter-widgets/base",
            "_view_module_version": "1.2.0",
            "_view_name": "LayoutView",
            "align_content": null,
            "align_items": null,
            "align_self": null,
            "border": null,
            "bottom": null,
            "display": null,
            "flex": null,
            "flex_flow": null,
            "grid_area": null,
            "grid_auto_columns": null,
            "grid_auto_flow": null,
            "grid_auto_rows": null,
            "grid_column": null,
            "grid_gap": null,
            "grid_row": null,
            "grid_template_areas": null,
            "grid_template_columns": null,
            "grid_template_rows": null,
            "height": null,
            "justify_content": null,
            "justify_items": null,
            "left": null,
            "margin": null,
            "max_height": null,
            "max_width": null,
            "min_height": null,
            "min_width": null,
            "object_fit": null,
            "object_position": null,
            "order": null,
            "overflow": null,
            "overflow_x": null,
            "overflow_y": null,
            "padding": null,
            "right": null,
            "top": null,
            "visibility": null,
            "width": null
          }
        },
        "0d0cef940fa041608298e97a85a37957": {
          "model_module": "@jupyter-widgets/controls",
          "model_name": "DescriptionStyleModel",
          "model_module_version": "1.5.0",
          "state": {
            "_model_module": "@jupyter-widgets/controls",
            "_model_module_version": "1.5.0",
            "_model_name": "DescriptionStyleModel",
            "_view_count": null,
            "_view_module": "@jupyter-widgets/base",
            "_view_module_version": "1.2.0",
            "_view_name": "StyleView",
            "description_width": ""
          }
        },
        "e8fd73a35bd54d3db4f0e0a49cecf7c7": {
          "model_module": "@jupyter-widgets/base",
          "model_name": "LayoutModel",
          "model_module_version": "1.2.0",
          "state": {
            "_model_module": "@jupyter-widgets/base",
            "_model_module_version": "1.2.0",
            "_model_name": "LayoutModel",
            "_view_count": null,
            "_view_module": "@jupyter-widgets/base",
            "_view_module_version": "1.2.0",
            "_view_name": "LayoutView",
            "align_content": null,
            "align_items": null,
            "align_self": null,
            "border": null,
            "bottom": null,
            "display": null,
            "flex": null,
            "flex_flow": null,
            "grid_area": null,
            "grid_auto_columns": null,
            "grid_auto_flow": null,
            "grid_auto_rows": null,
            "grid_column": null,
            "grid_gap": null,
            "grid_row": null,
            "grid_template_areas": null,
            "grid_template_columns": null,
            "grid_template_rows": null,
            "height": null,
            "justify_content": null,
            "justify_items": null,
            "left": null,
            "margin": null,
            "max_height": null,
            "max_width": null,
            "min_height": null,
            "min_width": null,
            "object_fit": null,
            "object_position": null,
            "order": null,
            "overflow": null,
            "overflow_x": null,
            "overflow_y": null,
            "padding": null,
            "right": null,
            "top": null,
            "visibility": null,
            "width": null
          }
        },
        "4a5c3ea347874a7bad3cf9a458525f2d": {
          "model_module": "@jupyter-widgets/controls",
          "model_name": "ProgressStyleModel",
          "model_module_version": "1.5.0",
          "state": {
            "_model_module": "@jupyter-widgets/controls",
            "_model_module_version": "1.5.0",
            "_model_name": "ProgressStyleModel",
            "_view_count": null,
            "_view_module": "@jupyter-widgets/base",
            "_view_module_version": "1.2.0",
            "_view_name": "StyleView",
            "bar_color": null,
            "description_width": ""
          }
        },
        "a4596a8068b9447e987d2a61182fcea1": {
          "model_module": "@jupyter-widgets/base",
          "model_name": "LayoutModel",
          "model_module_version": "1.2.0",
          "state": {
            "_model_module": "@jupyter-widgets/base",
            "_model_module_version": "1.2.0",
            "_model_name": "LayoutModel",
            "_view_count": null,
            "_view_module": "@jupyter-widgets/base",
            "_view_module_version": "1.2.0",
            "_view_name": "LayoutView",
            "align_content": null,
            "align_items": null,
            "align_self": null,
            "border": null,
            "bottom": null,
            "display": null,
            "flex": null,
            "flex_flow": null,
            "grid_area": null,
            "grid_auto_columns": null,
            "grid_auto_flow": null,
            "grid_auto_rows": null,
            "grid_column": null,
            "grid_gap": null,
            "grid_row": null,
            "grid_template_areas": null,
            "grid_template_columns": null,
            "grid_template_rows": null,
            "height": null,
            "justify_content": null,
            "justify_items": null,
            "left": null,
            "margin": null,
            "max_height": null,
            "max_width": null,
            "min_height": null,
            "min_width": null,
            "object_fit": null,
            "object_position": null,
            "order": null,
            "overflow": null,
            "overflow_x": null,
            "overflow_y": null,
            "padding": null,
            "right": null,
            "top": null,
            "visibility": null,
            "width": null
          }
        },
        "aa8fba54a78a4dbd8970185fa2896447": {
          "model_module": "@jupyter-widgets/controls",
          "model_name": "DescriptionStyleModel",
          "model_module_version": "1.5.0",
          "state": {
            "_model_module": "@jupyter-widgets/controls",
            "_model_module_version": "1.5.0",
            "_model_name": "DescriptionStyleModel",
            "_view_count": null,
            "_view_module": "@jupyter-widgets/base",
            "_view_module_version": "1.2.0",
            "_view_name": "StyleView",
            "description_width": ""
          }
        },
        "2b2d3360d7cd437ca668ad39eb9fc9c9": {
          "model_module": "@jupyter-widgets/controls",
          "model_name": "HBoxModel",
          "model_module_version": "1.5.0",
          "state": {
            "_dom_classes": [],
            "_model_module": "@jupyter-widgets/controls",
            "_model_module_version": "1.5.0",
            "_model_name": "HBoxModel",
            "_view_count": null,
            "_view_module": "@jupyter-widgets/controls",
            "_view_module_version": "1.5.0",
            "_view_name": "HBoxView",
            "box_style": "",
            "children": [
              "IPY_MODEL_7250da5873ac46999789c0b5f8751ce4",
              "IPY_MODEL_fdb8f141ec5342a9b0c8870f79451103",
              "IPY_MODEL_695c88cdf87046319209be1e4dc1bf1c"
            ],
            "layout": "IPY_MODEL_d2b4690da40e49a59b6eeeedfb34fe57"
          }
        },
        "7250da5873ac46999789c0b5f8751ce4": {
          "model_module": "@jupyter-widgets/controls",
          "model_name": "HTMLModel",
          "model_module_version": "1.5.0",
          "state": {
            "_dom_classes": [],
            "_model_module": "@jupyter-widgets/controls",
            "_model_module_version": "1.5.0",
            "_model_name": "HTMLModel",
            "_view_count": null,
            "_view_module": "@jupyter-widgets/controls",
            "_view_module_version": "1.5.0",
            "_view_name": "HTMLView",
            "description": "",
            "description_tooltip": null,
            "layout": "IPY_MODEL_a397f73e1b574fedb0cb590013dc4f45",
            "placeholder": "​",
            "style": "IPY_MODEL_01267a61ee44478b82f430dd5660aadd",
            "value": "Downloading: 100%"
          }
        },
        "fdb8f141ec5342a9b0c8870f79451103": {
          "model_module": "@jupyter-widgets/controls",
          "model_name": "FloatProgressModel",
          "model_module_version": "1.5.0",
          "state": {
            "_dom_classes": [],
            "_model_module": "@jupyter-widgets/controls",
            "_model_module_version": "1.5.0",
            "_model_name": "FloatProgressModel",
            "_view_count": null,
            "_view_module": "@jupyter-widgets/controls",
            "_view_module_version": "1.5.0",
            "_view_name": "ProgressView",
            "bar_style": "success",
            "description": "",
            "description_tooltip": null,
            "layout": "IPY_MODEL_0ed1bbeb2ed34e089f49e0c59763a449",
            "max": 39265,
            "min": 0,
            "orientation": "horizontal",
            "style": "IPY_MODEL_d55c93f787ab4ad3bcd347f93a6e8acf",
            "value": 39265
          }
        },
        "695c88cdf87046319209be1e4dc1bf1c": {
          "model_module": "@jupyter-widgets/controls",
          "model_name": "HTMLModel",
          "model_module_version": "1.5.0",
          "state": {
            "_dom_classes": [],
            "_model_module": "@jupyter-widgets/controls",
            "_model_module_version": "1.5.0",
            "_model_name": "HTMLModel",
            "_view_count": null,
            "_view_module": "@jupyter-widgets/controls",
            "_view_module_version": "1.5.0",
            "_view_name": "HTMLView",
            "description": "",
            "description_tooltip": null,
            "layout": "IPY_MODEL_4fd4605627984363bd753f74db227669",
            "placeholder": "​",
            "style": "IPY_MODEL_ee6e5defa6f446b1899a50d28c29d589",
            "value": " 39.3k/39.3k [00:00&lt;00:00, 5.54kB/s]"
          }
        },
        "d2b4690da40e49a59b6eeeedfb34fe57": {
          "model_module": "@jupyter-widgets/base",
          "model_name": "LayoutModel",
          "model_module_version": "1.2.0",
          "state": {
            "_model_module": "@jupyter-widgets/base",
            "_model_module_version": "1.2.0",
            "_model_name": "LayoutModel",
            "_view_count": null,
            "_view_module": "@jupyter-widgets/base",
            "_view_module_version": "1.2.0",
            "_view_name": "LayoutView",
            "align_content": null,
            "align_items": null,
            "align_self": null,
            "border": null,
            "bottom": null,
            "display": null,
            "flex": null,
            "flex_flow": null,
            "grid_area": null,
            "grid_auto_columns": null,
            "grid_auto_flow": null,
            "grid_auto_rows": null,
            "grid_column": null,
            "grid_gap": null,
            "grid_row": null,
            "grid_template_areas": null,
            "grid_template_columns": null,
            "grid_template_rows": null,
            "height": null,
            "justify_content": null,
            "justify_items": null,
            "left": null,
            "margin": null,
            "max_height": null,
            "max_width": null,
            "min_height": null,
            "min_width": null,
            "object_fit": null,
            "object_position": null,
            "order": null,
            "overflow": null,
            "overflow_x": null,
            "overflow_y": null,
            "padding": null,
            "right": null,
            "top": null,
            "visibility": null,
            "width": null
          }
        },
        "a397f73e1b574fedb0cb590013dc4f45": {
          "model_module": "@jupyter-widgets/base",
          "model_name": "LayoutModel",
          "model_module_version": "1.2.0",
          "state": {
            "_model_module": "@jupyter-widgets/base",
            "_model_module_version": "1.2.0",
            "_model_name": "LayoutModel",
            "_view_count": null,
            "_view_module": "@jupyter-widgets/base",
            "_view_module_version": "1.2.0",
            "_view_name": "LayoutView",
            "align_content": null,
            "align_items": null,
            "align_self": null,
            "border": null,
            "bottom": null,
            "display": null,
            "flex": null,
            "flex_flow": null,
            "grid_area": null,
            "grid_auto_columns": null,
            "grid_auto_flow": null,
            "grid_auto_rows": null,
            "grid_column": null,
            "grid_gap": null,
            "grid_row": null,
            "grid_template_areas": null,
            "grid_template_columns": null,
            "grid_template_rows": null,
            "height": null,
            "justify_content": null,
            "justify_items": null,
            "left": null,
            "margin": null,
            "max_height": null,
            "max_width": null,
            "min_height": null,
            "min_width": null,
            "object_fit": null,
            "object_position": null,
            "order": null,
            "overflow": null,
            "overflow_x": null,
            "overflow_y": null,
            "padding": null,
            "right": null,
            "top": null,
            "visibility": null,
            "width": null
          }
        },
        "01267a61ee44478b82f430dd5660aadd": {
          "model_module": "@jupyter-widgets/controls",
          "model_name": "DescriptionStyleModel",
          "model_module_version": "1.5.0",
          "state": {
            "_model_module": "@jupyter-widgets/controls",
            "_model_module_version": "1.5.0",
            "_model_name": "DescriptionStyleModel",
            "_view_count": null,
            "_view_module": "@jupyter-widgets/base",
            "_view_module_version": "1.2.0",
            "_view_name": "StyleView",
            "description_width": ""
          }
        },
        "0ed1bbeb2ed34e089f49e0c59763a449": {
          "model_module": "@jupyter-widgets/base",
          "model_name": "LayoutModel",
          "model_module_version": "1.2.0",
          "state": {
            "_model_module": "@jupyter-widgets/base",
            "_model_module_version": "1.2.0",
            "_model_name": "LayoutModel",
            "_view_count": null,
            "_view_module": "@jupyter-widgets/base",
            "_view_module_version": "1.2.0",
            "_view_name": "LayoutView",
            "align_content": null,
            "align_items": null,
            "align_self": null,
            "border": null,
            "bottom": null,
            "display": null,
            "flex": null,
            "flex_flow": null,
            "grid_area": null,
            "grid_auto_columns": null,
            "grid_auto_flow": null,
            "grid_auto_rows": null,
            "grid_column": null,
            "grid_gap": null,
            "grid_row": null,
            "grid_template_areas": null,
            "grid_template_columns": null,
            "grid_template_rows": null,
            "height": null,
            "justify_content": null,
            "justify_items": null,
            "left": null,
            "margin": null,
            "max_height": null,
            "max_width": null,
            "min_height": null,
            "min_width": null,
            "object_fit": null,
            "object_position": null,
            "order": null,
            "overflow": null,
            "overflow_x": null,
            "overflow_y": null,
            "padding": null,
            "right": null,
            "top": null,
            "visibility": null,
            "width": null
          }
        },
        "d55c93f787ab4ad3bcd347f93a6e8acf": {
          "model_module": "@jupyter-widgets/controls",
          "model_name": "ProgressStyleModel",
          "model_module_version": "1.5.0",
          "state": {
            "_model_module": "@jupyter-widgets/controls",
            "_model_module_version": "1.5.0",
            "_model_name": "ProgressStyleModel",
            "_view_count": null,
            "_view_module": "@jupyter-widgets/base",
            "_view_module_version": "1.2.0",
            "_view_name": "StyleView",
            "bar_color": null,
            "description_width": ""
          }
        },
        "4fd4605627984363bd753f74db227669": {
          "model_module": "@jupyter-widgets/base",
          "model_name": "LayoutModel",
          "model_module_version": "1.2.0",
          "state": {
            "_model_module": "@jupyter-widgets/base",
            "_model_module_version": "1.2.0",
            "_model_name": "LayoutModel",
            "_view_count": null,
            "_view_module": "@jupyter-widgets/base",
            "_view_module_version": "1.2.0",
            "_view_name": "LayoutView",
            "align_content": null,
            "align_items": null,
            "align_self": null,
            "border": null,
            "bottom": null,
            "display": null,
            "flex": null,
            "flex_flow": null,
            "grid_area": null,
            "grid_auto_columns": null,
            "grid_auto_flow": null,
            "grid_auto_rows": null,
            "grid_column": null,
            "grid_gap": null,
            "grid_row": null,
            "grid_template_areas": null,
            "grid_template_columns": null,
            "grid_template_rows": null,
            "height": null,
            "justify_content": null,
            "justify_items": null,
            "left": null,
            "margin": null,
            "max_height": null,
            "max_width": null,
            "min_height": null,
            "min_width": null,
            "object_fit": null,
            "object_position": null,
            "order": null,
            "overflow": null,
            "overflow_x": null,
            "overflow_y": null,
            "padding": null,
            "right": null,
            "top": null,
            "visibility": null,
            "width": null
          }
        },
        "ee6e5defa6f446b1899a50d28c29d589": {
          "model_module": "@jupyter-widgets/controls",
          "model_name": "DescriptionStyleModel",
          "model_module_version": "1.5.0",
          "state": {
            "_model_module": "@jupyter-widgets/controls",
            "_model_module_version": "1.5.0",
            "_model_name": "DescriptionStyleModel",
            "_view_count": null,
            "_view_module": "@jupyter-widgets/base",
            "_view_module_version": "1.2.0",
            "_view_name": "StyleView",
            "description_width": ""
          }
        },
        "9321fb3c9c664a83a63cf4a3818da41c": {
          "model_module": "@jupyter-widgets/controls",
          "model_name": "HBoxModel",
          "model_module_version": "1.5.0",
          "state": {
            "_dom_classes": [],
            "_model_module": "@jupyter-widgets/controls",
            "_model_module_version": "1.5.0",
            "_model_name": "HBoxModel",
            "_view_count": null,
            "_view_module": "@jupyter-widgets/controls",
            "_view_module_version": "1.5.0",
            "_view_name": "HBoxView",
            "box_style": "",
            "children": [
              "IPY_MODEL_719d8650a2844312a4ad3b4c81b6e7d6",
              "IPY_MODEL_684e9f921af74d4b9cab15207f6288de",
              "IPY_MODEL_166590b80aaa47bb9996feeb97f9e9f8"
            ],
            "layout": "IPY_MODEL_eaa9fc94fc624ae3907075a7f49d2d15"
          }
        },
        "719d8650a2844312a4ad3b4c81b6e7d6": {
          "model_module": "@jupyter-widgets/controls",
          "model_name": "HTMLModel",
          "model_module_version": "1.5.0",
          "state": {
            "_dom_classes": [],
            "_model_module": "@jupyter-widgets/controls",
            "_model_module_version": "1.5.0",
            "_model_name": "HTMLModel",
            "_view_count": null,
            "_view_module": "@jupyter-widgets/controls",
            "_view_module_version": "1.5.0",
            "_view_name": "HTMLView",
            "description": "",
            "description_tooltip": null,
            "layout": "IPY_MODEL_729ed0ef3bc1473da1db9ae6ed177c25",
            "placeholder": "​",
            "style": "IPY_MODEL_bc48070b764e4fbaae0061a4dcdf6df1",
            "value": "Downloading: 100%"
          }
        },
        "684e9f921af74d4b9cab15207f6288de": {
          "model_module": "@jupyter-widgets/controls",
          "model_name": "FloatProgressModel",
          "model_module_version": "1.5.0",
          "state": {
            "_dom_classes": [],
            "_model_module": "@jupyter-widgets/controls",
            "_model_module_version": "1.5.0",
            "_model_name": "FloatProgressModel",
            "_view_count": null,
            "_view_module": "@jupyter-widgets/controls",
            "_view_module_version": "1.5.0",
            "_view_name": "ProgressView",
            "bar_style": "success",
            "description": "",
            "description_tooltip": null,
            "layout": "IPY_MODEL_faa01443859e497da82d91e3727ad1cb",
            "max": 349,
            "min": 0,
            "orientation": "horizontal",
            "style": "IPY_MODEL_6fcad264ab9c4464abd6877ee628587b",
            "value": 349
          }
        },
        "166590b80aaa47bb9996feeb97f9e9f8": {
          "model_module": "@jupyter-widgets/controls",
          "model_name": "HTMLModel",
          "model_module_version": "1.5.0",
          "state": {
            "_dom_classes": [],
            "_model_module": "@jupyter-widgets/controls",
            "_model_module_version": "1.5.0",
            "_model_name": "HTMLModel",
            "_view_count": null,
            "_view_module": "@jupyter-widgets/controls",
            "_view_module_version": "1.5.0",
            "_view_name": "HTMLView",
            "description": "",
            "description_tooltip": null,
            "layout": "IPY_MODEL_eb4ec4b430cf4bd29ec2d34e0857351c",
            "placeholder": "​",
            "style": "IPY_MODEL_600fb7f4d5844efc860752b16558605f",
            "value": " 349/349 [00:00&lt;00:00, 1.99kB/s]"
          }
        },
        "eaa9fc94fc624ae3907075a7f49d2d15": {
          "model_module": "@jupyter-widgets/base",
          "model_name": "LayoutModel",
          "model_module_version": "1.2.0",
          "state": {
            "_model_module": "@jupyter-widgets/base",
            "_model_module_version": "1.2.0",
            "_model_name": "LayoutModel",
            "_view_count": null,
            "_view_module": "@jupyter-widgets/base",
            "_view_module_version": "1.2.0",
            "_view_name": "LayoutView",
            "align_content": null,
            "align_items": null,
            "align_self": null,
            "border": null,
            "bottom": null,
            "display": null,
            "flex": null,
            "flex_flow": null,
            "grid_area": null,
            "grid_auto_columns": null,
            "grid_auto_flow": null,
            "grid_auto_rows": null,
            "grid_column": null,
            "grid_gap": null,
            "grid_row": null,
            "grid_template_areas": null,
            "grid_template_columns": null,
            "grid_template_rows": null,
            "height": null,
            "justify_content": null,
            "justify_items": null,
            "left": null,
            "margin": null,
            "max_height": null,
            "max_width": null,
            "min_height": null,
            "min_width": null,
            "object_fit": null,
            "object_position": null,
            "order": null,
            "overflow": null,
            "overflow_x": null,
            "overflow_y": null,
            "padding": null,
            "right": null,
            "top": null,
            "visibility": null,
            "width": null
          }
        },
        "729ed0ef3bc1473da1db9ae6ed177c25": {
          "model_module": "@jupyter-widgets/base",
          "model_name": "LayoutModel",
          "model_module_version": "1.2.0",
          "state": {
            "_model_module": "@jupyter-widgets/base",
            "_model_module_version": "1.2.0",
            "_model_name": "LayoutModel",
            "_view_count": null,
            "_view_module": "@jupyter-widgets/base",
            "_view_module_version": "1.2.0",
            "_view_name": "LayoutView",
            "align_content": null,
            "align_items": null,
            "align_self": null,
            "border": null,
            "bottom": null,
            "display": null,
            "flex": null,
            "flex_flow": null,
            "grid_area": null,
            "grid_auto_columns": null,
            "grid_auto_flow": null,
            "grid_auto_rows": null,
            "grid_column": null,
            "grid_gap": null,
            "grid_row": null,
            "grid_template_areas": null,
            "grid_template_columns": null,
            "grid_template_rows": null,
            "height": null,
            "justify_content": null,
            "justify_items": null,
            "left": null,
            "margin": null,
            "max_height": null,
            "max_width": null,
            "min_height": null,
            "min_width": null,
            "object_fit": null,
            "object_position": null,
            "order": null,
            "overflow": null,
            "overflow_x": null,
            "overflow_y": null,
            "padding": null,
            "right": null,
            "top": null,
            "visibility": null,
            "width": null
          }
        },
        "bc48070b764e4fbaae0061a4dcdf6df1": {
          "model_module": "@jupyter-widgets/controls",
          "model_name": "DescriptionStyleModel",
          "model_module_version": "1.5.0",
          "state": {
            "_model_module": "@jupyter-widgets/controls",
            "_model_module_version": "1.5.0",
            "_model_name": "DescriptionStyleModel",
            "_view_count": null,
            "_view_module": "@jupyter-widgets/base",
            "_view_module_version": "1.2.0",
            "_view_name": "StyleView",
            "description_width": ""
          }
        },
        "faa01443859e497da82d91e3727ad1cb": {
          "model_module": "@jupyter-widgets/base",
          "model_name": "LayoutModel",
          "model_module_version": "1.2.0",
          "state": {
            "_model_module": "@jupyter-widgets/base",
            "_model_module_version": "1.2.0",
            "_model_name": "LayoutModel",
            "_view_count": null,
            "_view_module": "@jupyter-widgets/base",
            "_view_module_version": "1.2.0",
            "_view_name": "LayoutView",
            "align_content": null,
            "align_items": null,
            "align_self": null,
            "border": null,
            "bottom": null,
            "display": null,
            "flex": null,
            "flex_flow": null,
            "grid_area": null,
            "grid_auto_columns": null,
            "grid_auto_flow": null,
            "grid_auto_rows": null,
            "grid_column": null,
            "grid_gap": null,
            "grid_row": null,
            "grid_template_areas": null,
            "grid_template_columns": null,
            "grid_template_rows": null,
            "height": null,
            "justify_content": null,
            "justify_items": null,
            "left": null,
            "margin": null,
            "max_height": null,
            "max_width": null,
            "min_height": null,
            "min_width": null,
            "object_fit": null,
            "object_position": null,
            "order": null,
            "overflow": null,
            "overflow_x": null,
            "overflow_y": null,
            "padding": null,
            "right": null,
            "top": null,
            "visibility": null,
            "width": null
          }
        },
        "6fcad264ab9c4464abd6877ee628587b": {
          "model_module": "@jupyter-widgets/controls",
          "model_name": "ProgressStyleModel",
          "model_module_version": "1.5.0",
          "state": {
            "_model_module": "@jupyter-widgets/controls",
            "_model_module_version": "1.5.0",
            "_model_name": "ProgressStyleModel",
            "_view_count": null,
            "_view_module": "@jupyter-widgets/base",
            "_view_module_version": "1.2.0",
            "_view_name": "StyleView",
            "bar_color": null,
            "description_width": ""
          }
        },
        "eb4ec4b430cf4bd29ec2d34e0857351c": {
          "model_module": "@jupyter-widgets/base",
          "model_name": "LayoutModel",
          "model_module_version": "1.2.0",
          "state": {
            "_model_module": "@jupyter-widgets/base",
            "_model_module_version": "1.2.0",
            "_model_name": "LayoutModel",
            "_view_count": null,
            "_view_module": "@jupyter-widgets/base",
            "_view_module_version": "1.2.0",
            "_view_name": "LayoutView",
            "align_content": null,
            "align_items": null,
            "align_self": null,
            "border": null,
            "bottom": null,
            "display": null,
            "flex": null,
            "flex_flow": null,
            "grid_area": null,
            "grid_auto_columns": null,
            "grid_auto_flow": null,
            "grid_auto_rows": null,
            "grid_column": null,
            "grid_gap": null,
            "grid_row": null,
            "grid_template_areas": null,
            "grid_template_columns": null,
            "grid_template_rows": null,
            "height": null,
            "justify_content": null,
            "justify_items": null,
            "left": null,
            "margin": null,
            "max_height": null,
            "max_width": null,
            "min_height": null,
            "min_width": null,
            "object_fit": null,
            "object_position": null,
            "order": null,
            "overflow": null,
            "overflow_x": null,
            "overflow_y": null,
            "padding": null,
            "right": null,
            "top": null,
            "visibility": null,
            "width": null
          }
        },
        "600fb7f4d5844efc860752b16558605f": {
          "model_module": "@jupyter-widgets/controls",
          "model_name": "DescriptionStyleModel",
          "model_module_version": "1.5.0",
          "state": {
            "_model_module": "@jupyter-widgets/controls",
            "_model_module_version": "1.5.0",
            "_model_name": "DescriptionStyleModel",
            "_view_count": null,
            "_view_module": "@jupyter-widgets/base",
            "_view_module_version": "1.2.0",
            "_view_name": "StyleView",
            "description_width": ""
          }
        },
        "5943b1b568c043d4a120b8db1e9628e0": {
          "model_module": "@jupyter-widgets/controls",
          "model_name": "HBoxModel",
          "model_module_version": "1.5.0",
          "state": {
            "_dom_classes": [],
            "_model_module": "@jupyter-widgets/controls",
            "_model_module_version": "1.5.0",
            "_model_name": "HBoxModel",
            "_view_count": null,
            "_view_module": "@jupyter-widgets/controls",
            "_view_module_version": "1.5.0",
            "_view_name": "HBoxView",
            "box_style": "",
            "children": [
              "IPY_MODEL_517867ff795f47ccad3ff4027c21c214",
              "IPY_MODEL_81e9ceb2367043f489c6a2656998168a",
              "IPY_MODEL_75c4e9359b67451cabcbfdd1c5aab666"
            ],
            "layout": "IPY_MODEL_79904c24404848129c62d798aaa3f180"
          }
        },
        "517867ff795f47ccad3ff4027c21c214": {
          "model_module": "@jupyter-widgets/controls",
          "model_name": "HTMLModel",
          "model_module_version": "1.5.0",
          "state": {
            "_dom_classes": [],
            "_model_module": "@jupyter-widgets/controls",
            "_model_module_version": "1.5.0",
            "_model_name": "HTMLModel",
            "_view_count": null,
            "_view_module": "@jupyter-widgets/controls",
            "_view_module_version": "1.5.0",
            "_view_name": "HTMLView",
            "description": "",
            "description_tooltip": null,
            "layout": "IPY_MODEL_269a470c37264a29b525e7f088ec9d80",
            "placeholder": "​",
            "style": "IPY_MODEL_36b4864abee4459d990f7fd94ab86f9a",
            "value": "Downloading: 100%"
          }
        },
        "81e9ceb2367043f489c6a2656998168a": {
          "model_module": "@jupyter-widgets/controls",
          "model_name": "FloatProgressModel",
          "model_module_version": "1.5.0",
          "state": {
            "_dom_classes": [],
            "_model_module": "@jupyter-widgets/controls",
            "_model_module_version": "1.5.0",
            "_model_name": "FloatProgressModel",
            "_view_count": null,
            "_view_module": "@jupyter-widgets/controls",
            "_view_module_version": "1.5.0",
            "_view_name": "ProgressView",
            "bar_style": "success",
            "description": "",
            "description_tooltip": null,
            "layout": "IPY_MODEL_ddc90c85abf8464c8e9867c677c35e27",
            "max": 90888945,
            "min": 0,
            "orientation": "horizontal",
            "style": "IPY_MODEL_de06e59c42e8418f937e8755a05dfe85",
            "value": 90888945
          }
        },
        "75c4e9359b67451cabcbfdd1c5aab666": {
          "model_module": "@jupyter-widgets/controls",
          "model_name": "HTMLModel",
          "model_module_version": "1.5.0",
          "state": {
            "_dom_classes": [],
            "_model_module": "@jupyter-widgets/controls",
            "_model_module_version": "1.5.0",
            "_model_name": "HTMLModel",
            "_view_count": null,
            "_view_module": "@jupyter-widgets/controls",
            "_view_module_version": "1.5.0",
            "_view_name": "HTMLView",
            "description": "",
            "description_tooltip": null,
            "layout": "IPY_MODEL_a2185a93691e4548b5a4923a0bc30ea9",
            "placeholder": "​",
            "style": "IPY_MODEL_c54fa2fcd14d4006b0f40b3693df703f",
            "value": " 90.9M/90.9M [00:12&lt;00:00, 11.0MB/s]"
          }
        },
        "79904c24404848129c62d798aaa3f180": {
          "model_module": "@jupyter-widgets/base",
          "model_name": "LayoutModel",
          "model_module_version": "1.2.0",
          "state": {
            "_model_module": "@jupyter-widgets/base",
            "_model_module_version": "1.2.0",
            "_model_name": "LayoutModel",
            "_view_count": null,
            "_view_module": "@jupyter-widgets/base",
            "_view_module_version": "1.2.0",
            "_view_name": "LayoutView",
            "align_content": null,
            "align_items": null,
            "align_self": null,
            "border": null,
            "bottom": null,
            "display": null,
            "flex": null,
            "flex_flow": null,
            "grid_area": null,
            "grid_auto_columns": null,
            "grid_auto_flow": null,
            "grid_auto_rows": null,
            "grid_column": null,
            "grid_gap": null,
            "grid_row": null,
            "grid_template_areas": null,
            "grid_template_columns": null,
            "grid_template_rows": null,
            "height": null,
            "justify_content": null,
            "justify_items": null,
            "left": null,
            "margin": null,
            "max_height": null,
            "max_width": null,
            "min_height": null,
            "min_width": null,
            "object_fit": null,
            "object_position": null,
            "order": null,
            "overflow": null,
            "overflow_x": null,
            "overflow_y": null,
            "padding": null,
            "right": null,
            "top": null,
            "visibility": null,
            "width": null
          }
        },
        "269a470c37264a29b525e7f088ec9d80": {
          "model_module": "@jupyter-widgets/base",
          "model_name": "LayoutModel",
          "model_module_version": "1.2.0",
          "state": {
            "_model_module": "@jupyter-widgets/base",
            "_model_module_version": "1.2.0",
            "_model_name": "LayoutModel",
            "_view_count": null,
            "_view_module": "@jupyter-widgets/base",
            "_view_module_version": "1.2.0",
            "_view_name": "LayoutView",
            "align_content": null,
            "align_items": null,
            "align_self": null,
            "border": null,
            "bottom": null,
            "display": null,
            "flex": null,
            "flex_flow": null,
            "grid_area": null,
            "grid_auto_columns": null,
            "grid_auto_flow": null,
            "grid_auto_rows": null,
            "grid_column": null,
            "grid_gap": null,
            "grid_row": null,
            "grid_template_areas": null,
            "grid_template_columns": null,
            "grid_template_rows": null,
            "height": null,
            "justify_content": null,
            "justify_items": null,
            "left": null,
            "margin": null,
            "max_height": null,
            "max_width": null,
            "min_height": null,
            "min_width": null,
            "object_fit": null,
            "object_position": null,
            "order": null,
            "overflow": null,
            "overflow_x": null,
            "overflow_y": null,
            "padding": null,
            "right": null,
            "top": null,
            "visibility": null,
            "width": null
          }
        },
        "36b4864abee4459d990f7fd94ab86f9a": {
          "model_module": "@jupyter-widgets/controls",
          "model_name": "DescriptionStyleModel",
          "model_module_version": "1.5.0",
          "state": {
            "_model_module": "@jupyter-widgets/controls",
            "_model_module_version": "1.5.0",
            "_model_name": "DescriptionStyleModel",
            "_view_count": null,
            "_view_module": "@jupyter-widgets/base",
            "_view_module_version": "1.2.0",
            "_view_name": "StyleView",
            "description_width": ""
          }
        },
        "ddc90c85abf8464c8e9867c677c35e27": {
          "model_module": "@jupyter-widgets/base",
          "model_name": "LayoutModel",
          "model_module_version": "1.2.0",
          "state": {
            "_model_module": "@jupyter-widgets/base",
            "_model_module_version": "1.2.0",
            "_model_name": "LayoutModel",
            "_view_count": null,
            "_view_module": "@jupyter-widgets/base",
            "_view_module_version": "1.2.0",
            "_view_name": "LayoutView",
            "align_content": null,
            "align_items": null,
            "align_self": null,
            "border": null,
            "bottom": null,
            "display": null,
            "flex": null,
            "flex_flow": null,
            "grid_area": null,
            "grid_auto_columns": null,
            "grid_auto_flow": null,
            "grid_auto_rows": null,
            "grid_column": null,
            "grid_gap": null,
            "grid_row": null,
            "grid_template_areas": null,
            "grid_template_columns": null,
            "grid_template_rows": null,
            "height": null,
            "justify_content": null,
            "justify_items": null,
            "left": null,
            "margin": null,
            "max_height": null,
            "max_width": null,
            "min_height": null,
            "min_width": null,
            "object_fit": null,
            "object_position": null,
            "order": null,
            "overflow": null,
            "overflow_x": null,
            "overflow_y": null,
            "padding": null,
            "right": null,
            "top": null,
            "visibility": null,
            "width": null
          }
        },
        "de06e59c42e8418f937e8755a05dfe85": {
          "model_module": "@jupyter-widgets/controls",
          "model_name": "ProgressStyleModel",
          "model_module_version": "1.5.0",
          "state": {
            "_model_module": "@jupyter-widgets/controls",
            "_model_module_version": "1.5.0",
            "_model_name": "ProgressStyleModel",
            "_view_count": null,
            "_view_module": "@jupyter-widgets/base",
            "_view_module_version": "1.2.0",
            "_view_name": "StyleView",
            "bar_color": null,
            "description_width": ""
          }
        },
        "a2185a93691e4548b5a4923a0bc30ea9": {
          "model_module": "@jupyter-widgets/base",
          "model_name": "LayoutModel",
          "model_module_version": "1.2.0",
          "state": {
            "_model_module": "@jupyter-widgets/base",
            "_model_module_version": "1.2.0",
            "_model_name": "LayoutModel",
            "_view_count": null,
            "_view_module": "@jupyter-widgets/base",
            "_view_module_version": "1.2.0",
            "_view_name": "LayoutView",
            "align_content": null,
            "align_items": null,
            "align_self": null,
            "border": null,
            "bottom": null,
            "display": null,
            "flex": null,
            "flex_flow": null,
            "grid_area": null,
            "grid_auto_columns": null,
            "grid_auto_flow": null,
            "grid_auto_rows": null,
            "grid_column": null,
            "grid_gap": null,
            "grid_row": null,
            "grid_template_areas": null,
            "grid_template_columns": null,
            "grid_template_rows": null,
            "height": null,
            "justify_content": null,
            "justify_items": null,
            "left": null,
            "margin": null,
            "max_height": null,
            "max_width": null,
            "min_height": null,
            "min_width": null,
            "object_fit": null,
            "object_position": null,
            "order": null,
            "overflow": null,
            "overflow_x": null,
            "overflow_y": null,
            "padding": null,
            "right": null,
            "top": null,
            "visibility": null,
            "width": null
          }
        },
        "c54fa2fcd14d4006b0f40b3693df703f": {
          "model_module": "@jupyter-widgets/controls",
          "model_name": "DescriptionStyleModel",
          "model_module_version": "1.5.0",
          "state": {
            "_model_module": "@jupyter-widgets/controls",
            "_model_module_version": "1.5.0",
            "_model_name": "DescriptionStyleModel",
            "_view_count": null,
            "_view_module": "@jupyter-widgets/base",
            "_view_module_version": "1.2.0",
            "_view_name": "StyleView",
            "description_width": ""
          }
        },
        "2a5c2d588d9149529f5b758b700a3566": {
          "model_module": "@jupyter-widgets/controls",
          "model_name": "HBoxModel",
          "model_module_version": "1.5.0",
          "state": {
            "_dom_classes": [],
            "_model_module": "@jupyter-widgets/controls",
            "_model_module_version": "1.5.0",
            "_model_name": "HBoxModel",
            "_view_count": null,
            "_view_module": "@jupyter-widgets/controls",
            "_view_module_version": "1.5.0",
            "_view_name": "HBoxView",
            "box_style": "",
            "children": [
              "IPY_MODEL_64773fd163b448e6a4722b8972151e2d",
              "IPY_MODEL_aff71e7695d8487ba79dc4a576223681",
              "IPY_MODEL_4ec611f6eef14f47a3c8101377771a0d"
            ],
            "layout": "IPY_MODEL_551e1d1b61364665b30526f2cc792be3"
          }
        },
        "64773fd163b448e6a4722b8972151e2d": {
          "model_module": "@jupyter-widgets/controls",
          "model_name": "HTMLModel",
          "model_module_version": "1.5.0",
          "state": {
            "_dom_classes": [],
            "_model_module": "@jupyter-widgets/controls",
            "_model_module_version": "1.5.0",
            "_model_name": "HTMLModel",
            "_view_count": null,
            "_view_module": "@jupyter-widgets/controls",
            "_view_module_version": "1.5.0",
            "_view_name": "HTMLView",
            "description": "",
            "description_tooltip": null,
            "layout": "IPY_MODEL_f3ac3bb6a1684a31b12a8266084027e3",
            "placeholder": "​",
            "style": "IPY_MODEL_9045e1f53f014f0da865514d9162c371",
            "value": "Downloading: 100%"
          }
        },
        "aff71e7695d8487ba79dc4a576223681": {
          "model_module": "@jupyter-widgets/controls",
          "model_name": "FloatProgressModel",
          "model_module_version": "1.5.0",
          "state": {
            "_dom_classes": [],
            "_model_module": "@jupyter-widgets/controls",
            "_model_module_version": "1.5.0",
            "_model_name": "FloatProgressModel",
            "_view_count": null,
            "_view_module": "@jupyter-widgets/controls",
            "_view_module_version": "1.5.0",
            "_view_name": "ProgressView",
            "bar_style": "success",
            "description": "",
            "description_tooltip": null,
            "layout": "IPY_MODEL_e0e0cb896733444fb0308fa4aae5d334",
            "max": 53,
            "min": 0,
            "orientation": "horizontal",
            "style": "IPY_MODEL_045413171db64ff69bfc8c7eaa57e270",
            "value": 53
          }
        },
        "4ec611f6eef14f47a3c8101377771a0d": {
          "model_module": "@jupyter-widgets/controls",
          "model_name": "HTMLModel",
          "model_module_version": "1.5.0",
          "state": {
            "_dom_classes": [],
            "_model_module": "@jupyter-widgets/controls",
            "_model_module_version": "1.5.0",
            "_model_name": "HTMLModel",
            "_view_count": null,
            "_view_module": "@jupyter-widgets/controls",
            "_view_module_version": "1.5.0",
            "_view_name": "HTMLView",
            "description": "",
            "description_tooltip": null,
            "layout": "IPY_MODEL_55f6a1f31917413e8f0e51c31caadb9b",
            "placeholder": "​",
            "style": "IPY_MODEL_735f672669794236ad6b7dd03ce46137",
            "value": " 53.0/53.0 [00:00&lt;00:00, 408B/s]"
          }
        },
        "551e1d1b61364665b30526f2cc792be3": {
          "model_module": "@jupyter-widgets/base",
          "model_name": "LayoutModel",
          "model_module_version": "1.2.0",
          "state": {
            "_model_module": "@jupyter-widgets/base",
            "_model_module_version": "1.2.0",
            "_model_name": "LayoutModel",
            "_view_count": null,
            "_view_module": "@jupyter-widgets/base",
            "_view_module_version": "1.2.0",
            "_view_name": "LayoutView",
            "align_content": null,
            "align_items": null,
            "align_self": null,
            "border": null,
            "bottom": null,
            "display": null,
            "flex": null,
            "flex_flow": null,
            "grid_area": null,
            "grid_auto_columns": null,
            "grid_auto_flow": null,
            "grid_auto_rows": null,
            "grid_column": null,
            "grid_gap": null,
            "grid_row": null,
            "grid_template_areas": null,
            "grid_template_columns": null,
            "grid_template_rows": null,
            "height": null,
            "justify_content": null,
            "justify_items": null,
            "left": null,
            "margin": null,
            "max_height": null,
            "max_width": null,
            "min_height": null,
            "min_width": null,
            "object_fit": null,
            "object_position": null,
            "order": null,
            "overflow": null,
            "overflow_x": null,
            "overflow_y": null,
            "padding": null,
            "right": null,
            "top": null,
            "visibility": null,
            "width": null
          }
        },
        "f3ac3bb6a1684a31b12a8266084027e3": {
          "model_module": "@jupyter-widgets/base",
          "model_name": "LayoutModel",
          "model_module_version": "1.2.0",
          "state": {
            "_model_module": "@jupyter-widgets/base",
            "_model_module_version": "1.2.0",
            "_model_name": "LayoutModel",
            "_view_count": null,
            "_view_module": "@jupyter-widgets/base",
            "_view_module_version": "1.2.0",
            "_view_name": "LayoutView",
            "align_content": null,
            "align_items": null,
            "align_self": null,
            "border": null,
            "bottom": null,
            "display": null,
            "flex": null,
            "flex_flow": null,
            "grid_area": null,
            "grid_auto_columns": null,
            "grid_auto_flow": null,
            "grid_auto_rows": null,
            "grid_column": null,
            "grid_gap": null,
            "grid_row": null,
            "grid_template_areas": null,
            "grid_template_columns": null,
            "grid_template_rows": null,
            "height": null,
            "justify_content": null,
            "justify_items": null,
            "left": null,
            "margin": null,
            "max_height": null,
            "max_width": null,
            "min_height": null,
            "min_width": null,
            "object_fit": null,
            "object_position": null,
            "order": null,
            "overflow": null,
            "overflow_x": null,
            "overflow_y": null,
            "padding": null,
            "right": null,
            "top": null,
            "visibility": null,
            "width": null
          }
        },
        "9045e1f53f014f0da865514d9162c371": {
          "model_module": "@jupyter-widgets/controls",
          "model_name": "DescriptionStyleModel",
          "model_module_version": "1.5.0",
          "state": {
            "_model_module": "@jupyter-widgets/controls",
            "_model_module_version": "1.5.0",
            "_model_name": "DescriptionStyleModel",
            "_view_count": null,
            "_view_module": "@jupyter-widgets/base",
            "_view_module_version": "1.2.0",
            "_view_name": "StyleView",
            "description_width": ""
          }
        },
        "e0e0cb896733444fb0308fa4aae5d334": {
          "model_module": "@jupyter-widgets/base",
          "model_name": "LayoutModel",
          "model_module_version": "1.2.0",
          "state": {
            "_model_module": "@jupyter-widgets/base",
            "_model_module_version": "1.2.0",
            "_model_name": "LayoutModel",
            "_view_count": null,
            "_view_module": "@jupyter-widgets/base",
            "_view_module_version": "1.2.0",
            "_view_name": "LayoutView",
            "align_content": null,
            "align_items": null,
            "align_self": null,
            "border": null,
            "bottom": null,
            "display": null,
            "flex": null,
            "flex_flow": null,
            "grid_area": null,
            "grid_auto_columns": null,
            "grid_auto_flow": null,
            "grid_auto_rows": null,
            "grid_column": null,
            "grid_gap": null,
            "grid_row": null,
            "grid_template_areas": null,
            "grid_template_columns": null,
            "grid_template_rows": null,
            "height": null,
            "justify_content": null,
            "justify_items": null,
            "left": null,
            "margin": null,
            "max_height": null,
            "max_width": null,
            "min_height": null,
            "min_width": null,
            "object_fit": null,
            "object_position": null,
            "order": null,
            "overflow": null,
            "overflow_x": null,
            "overflow_y": null,
            "padding": null,
            "right": null,
            "top": null,
            "visibility": null,
            "width": null
          }
        },
        "045413171db64ff69bfc8c7eaa57e270": {
          "model_module": "@jupyter-widgets/controls",
          "model_name": "ProgressStyleModel",
          "model_module_version": "1.5.0",
          "state": {
            "_model_module": "@jupyter-widgets/controls",
            "_model_module_version": "1.5.0",
            "_model_name": "ProgressStyleModel",
            "_view_count": null,
            "_view_module": "@jupyter-widgets/base",
            "_view_module_version": "1.2.0",
            "_view_name": "StyleView",
            "bar_color": null,
            "description_width": ""
          }
        },
        "55f6a1f31917413e8f0e51c31caadb9b": {
          "model_module": "@jupyter-widgets/base",
          "model_name": "LayoutModel",
          "model_module_version": "1.2.0",
          "state": {
            "_model_module": "@jupyter-widgets/base",
            "_model_module_version": "1.2.0",
            "_model_name": "LayoutModel",
            "_view_count": null,
            "_view_module": "@jupyter-widgets/base",
            "_view_module_version": "1.2.0",
            "_view_name": "LayoutView",
            "align_content": null,
            "align_items": null,
            "align_self": null,
            "border": null,
            "bottom": null,
            "display": null,
            "flex": null,
            "flex_flow": null,
            "grid_area": null,
            "grid_auto_columns": null,
            "grid_auto_flow": null,
            "grid_auto_rows": null,
            "grid_column": null,
            "grid_gap": null,
            "grid_row": null,
            "grid_template_areas": null,
            "grid_template_columns": null,
            "grid_template_rows": null,
            "height": null,
            "justify_content": null,
            "justify_items": null,
            "left": null,
            "margin": null,
            "max_height": null,
            "max_width": null,
            "min_height": null,
            "min_width": null,
            "object_fit": null,
            "object_position": null,
            "order": null,
            "overflow": null,
            "overflow_x": null,
            "overflow_y": null,
            "padding": null,
            "right": null,
            "top": null,
            "visibility": null,
            "width": null
          }
        },
        "735f672669794236ad6b7dd03ce46137": {
          "model_module": "@jupyter-widgets/controls",
          "model_name": "DescriptionStyleModel",
          "model_module_version": "1.5.0",
          "state": {
            "_model_module": "@jupyter-widgets/controls",
            "_model_module_version": "1.5.0",
            "_model_name": "DescriptionStyleModel",
            "_view_count": null,
            "_view_module": "@jupyter-widgets/base",
            "_view_module_version": "1.2.0",
            "_view_name": "StyleView",
            "description_width": ""
          }
        },
        "d31926d32ea940a29d65c86c8deddde7": {
          "model_module": "@jupyter-widgets/controls",
          "model_name": "HBoxModel",
          "model_module_version": "1.5.0",
          "state": {
            "_dom_classes": [],
            "_model_module": "@jupyter-widgets/controls",
            "_model_module_version": "1.5.0",
            "_model_name": "HBoxModel",
            "_view_count": null,
            "_view_module": "@jupyter-widgets/controls",
            "_view_module_version": "1.5.0",
            "_view_name": "HBoxView",
            "box_style": "",
            "children": [
              "IPY_MODEL_253d00899b99432e9fbb1f5a3440cca0",
              "IPY_MODEL_dca7f2dfcb1645b3ab005b8e78fc53cd",
              "IPY_MODEL_e6cb6c0a76794d1aa61cf5e7de9ca1fd"
            ],
            "layout": "IPY_MODEL_0cec4b2f7b1e418ab8577d1c2737c4e2"
          }
        },
        "253d00899b99432e9fbb1f5a3440cca0": {
          "model_module": "@jupyter-widgets/controls",
          "model_name": "HTMLModel",
          "model_module_version": "1.5.0",
          "state": {
            "_dom_classes": [],
            "_model_module": "@jupyter-widgets/controls",
            "_model_module_version": "1.5.0",
            "_model_name": "HTMLModel",
            "_view_count": null,
            "_view_module": "@jupyter-widgets/controls",
            "_view_module_version": "1.5.0",
            "_view_name": "HTMLView",
            "description": "",
            "description_tooltip": null,
            "layout": "IPY_MODEL_880a2aef646f4da0a4c02100defaaa69",
            "placeholder": "​",
            "style": "IPY_MODEL_9bd0b5d7790842cf92e0455780404a1c",
            "value": "Downloading: 100%"
          }
        },
        "dca7f2dfcb1645b3ab005b8e78fc53cd": {
          "model_module": "@jupyter-widgets/controls",
          "model_name": "FloatProgressModel",
          "model_module_version": "1.5.0",
          "state": {
            "_dom_classes": [],
            "_model_module": "@jupyter-widgets/controls",
            "_model_module_version": "1.5.0",
            "_model_name": "FloatProgressModel",
            "_view_count": null,
            "_view_module": "@jupyter-widgets/controls",
            "_view_module_version": "1.5.0",
            "_view_name": "ProgressView",
            "bar_style": "success",
            "description": "",
            "description_tooltip": null,
            "layout": "IPY_MODEL_fe3cbe59ae094cd4b36d9fd689c6293e",
            "max": 112,
            "min": 0,
            "orientation": "horizontal",
            "style": "IPY_MODEL_016f0bdb510c49138e155c5c503dc174",
            "value": 112
          }
        },
        "e6cb6c0a76794d1aa61cf5e7de9ca1fd": {
          "model_module": "@jupyter-widgets/controls",
          "model_name": "HTMLModel",
          "model_module_version": "1.5.0",
          "state": {
            "_dom_classes": [],
            "_model_module": "@jupyter-widgets/controls",
            "_model_module_version": "1.5.0",
            "_model_name": "HTMLModel",
            "_view_count": null,
            "_view_module": "@jupyter-widgets/controls",
            "_view_module_version": "1.5.0",
            "_view_name": "HTMLView",
            "description": "",
            "description_tooltip": null,
            "layout": "IPY_MODEL_a1e4c8974b99463f849e4c1ab6f859f7",
            "placeholder": "​",
            "style": "IPY_MODEL_d024debb2b0f45c1a0a68b119bd08f9f",
            "value": " 112/112 [00:00&lt;00:00, 1.05kB/s]"
          }
        },
        "0cec4b2f7b1e418ab8577d1c2737c4e2": {
          "model_module": "@jupyter-widgets/base",
          "model_name": "LayoutModel",
          "model_module_version": "1.2.0",
          "state": {
            "_model_module": "@jupyter-widgets/base",
            "_model_module_version": "1.2.0",
            "_model_name": "LayoutModel",
            "_view_count": null,
            "_view_module": "@jupyter-widgets/base",
            "_view_module_version": "1.2.0",
            "_view_name": "LayoutView",
            "align_content": null,
            "align_items": null,
            "align_self": null,
            "border": null,
            "bottom": null,
            "display": null,
            "flex": null,
            "flex_flow": null,
            "grid_area": null,
            "grid_auto_columns": null,
            "grid_auto_flow": null,
            "grid_auto_rows": null,
            "grid_column": null,
            "grid_gap": null,
            "grid_row": null,
            "grid_template_areas": null,
            "grid_template_columns": null,
            "grid_template_rows": null,
            "height": null,
            "justify_content": null,
            "justify_items": null,
            "left": null,
            "margin": null,
            "max_height": null,
            "max_width": null,
            "min_height": null,
            "min_width": null,
            "object_fit": null,
            "object_position": null,
            "order": null,
            "overflow": null,
            "overflow_x": null,
            "overflow_y": null,
            "padding": null,
            "right": null,
            "top": null,
            "visibility": null,
            "width": null
          }
        },
        "880a2aef646f4da0a4c02100defaaa69": {
          "model_module": "@jupyter-widgets/base",
          "model_name": "LayoutModel",
          "model_module_version": "1.2.0",
          "state": {
            "_model_module": "@jupyter-widgets/base",
            "_model_module_version": "1.2.0",
            "_model_name": "LayoutModel",
            "_view_count": null,
            "_view_module": "@jupyter-widgets/base",
            "_view_module_version": "1.2.0",
            "_view_name": "LayoutView",
            "align_content": null,
            "align_items": null,
            "align_self": null,
            "border": null,
            "bottom": null,
            "display": null,
            "flex": null,
            "flex_flow": null,
            "grid_area": null,
            "grid_auto_columns": null,
            "grid_auto_flow": null,
            "grid_auto_rows": null,
            "grid_column": null,
            "grid_gap": null,
            "grid_row": null,
            "grid_template_areas": null,
            "grid_template_columns": null,
            "grid_template_rows": null,
            "height": null,
            "justify_content": null,
            "justify_items": null,
            "left": null,
            "margin": null,
            "max_height": null,
            "max_width": null,
            "min_height": null,
            "min_width": null,
            "object_fit": null,
            "object_position": null,
            "order": null,
            "overflow": null,
            "overflow_x": null,
            "overflow_y": null,
            "padding": null,
            "right": null,
            "top": null,
            "visibility": null,
            "width": null
          }
        },
        "9bd0b5d7790842cf92e0455780404a1c": {
          "model_module": "@jupyter-widgets/controls",
          "model_name": "DescriptionStyleModel",
          "model_module_version": "1.5.0",
          "state": {
            "_model_module": "@jupyter-widgets/controls",
            "_model_module_version": "1.5.0",
            "_model_name": "DescriptionStyleModel",
            "_view_count": null,
            "_view_module": "@jupyter-widgets/base",
            "_view_module_version": "1.2.0",
            "_view_name": "StyleView",
            "description_width": ""
          }
        },
        "fe3cbe59ae094cd4b36d9fd689c6293e": {
          "model_module": "@jupyter-widgets/base",
          "model_name": "LayoutModel",
          "model_module_version": "1.2.0",
          "state": {
            "_model_module": "@jupyter-widgets/base",
            "_model_module_version": "1.2.0",
            "_model_name": "LayoutModel",
            "_view_count": null,
            "_view_module": "@jupyter-widgets/base",
            "_view_module_version": "1.2.0",
            "_view_name": "LayoutView",
            "align_content": null,
            "align_items": null,
            "align_self": null,
            "border": null,
            "bottom": null,
            "display": null,
            "flex": null,
            "flex_flow": null,
            "grid_area": null,
            "grid_auto_columns": null,
            "grid_auto_flow": null,
            "grid_auto_rows": null,
            "grid_column": null,
            "grid_gap": null,
            "grid_row": null,
            "grid_template_areas": null,
            "grid_template_columns": null,
            "grid_template_rows": null,
            "height": null,
            "justify_content": null,
            "justify_items": null,
            "left": null,
            "margin": null,
            "max_height": null,
            "max_width": null,
            "min_height": null,
            "min_width": null,
            "object_fit": null,
            "object_position": null,
            "order": null,
            "overflow": null,
            "overflow_x": null,
            "overflow_y": null,
            "padding": null,
            "right": null,
            "top": null,
            "visibility": null,
            "width": null
          }
        },
        "016f0bdb510c49138e155c5c503dc174": {
          "model_module": "@jupyter-widgets/controls",
          "model_name": "ProgressStyleModel",
          "model_module_version": "1.5.0",
          "state": {
            "_model_module": "@jupyter-widgets/controls",
            "_model_module_version": "1.5.0",
            "_model_name": "ProgressStyleModel",
            "_view_count": null,
            "_view_module": "@jupyter-widgets/base",
            "_view_module_version": "1.2.0",
            "_view_name": "StyleView",
            "bar_color": null,
            "description_width": ""
          }
        },
        "a1e4c8974b99463f849e4c1ab6f859f7": {
          "model_module": "@jupyter-widgets/base",
          "model_name": "LayoutModel",
          "model_module_version": "1.2.0",
          "state": {
            "_model_module": "@jupyter-widgets/base",
            "_model_module_version": "1.2.0",
            "_model_name": "LayoutModel",
            "_view_count": null,
            "_view_module": "@jupyter-widgets/base",
            "_view_module_version": "1.2.0",
            "_view_name": "LayoutView",
            "align_content": null,
            "align_items": null,
            "align_self": null,
            "border": null,
            "bottom": null,
            "display": null,
            "flex": null,
            "flex_flow": null,
            "grid_area": null,
            "grid_auto_columns": null,
            "grid_auto_flow": null,
            "grid_auto_rows": null,
            "grid_column": null,
            "grid_gap": null,
            "grid_row": null,
            "grid_template_areas": null,
            "grid_template_columns": null,
            "grid_template_rows": null,
            "height": null,
            "justify_content": null,
            "justify_items": null,
            "left": null,
            "margin": null,
            "max_height": null,
            "max_width": null,
            "min_height": null,
            "min_width": null,
            "object_fit": null,
            "object_position": null,
            "order": null,
            "overflow": null,
            "overflow_x": null,
            "overflow_y": null,
            "padding": null,
            "right": null,
            "top": null,
            "visibility": null,
            "width": null
          }
        },
        "d024debb2b0f45c1a0a68b119bd08f9f": {
          "model_module": "@jupyter-widgets/controls",
          "model_name": "DescriptionStyleModel",
          "model_module_version": "1.5.0",
          "state": {
            "_model_module": "@jupyter-widgets/controls",
            "_model_module_version": "1.5.0",
            "_model_name": "DescriptionStyleModel",
            "_view_count": null,
            "_view_module": "@jupyter-widgets/base",
            "_view_module_version": "1.2.0",
            "_view_name": "StyleView",
            "description_width": ""
          }
        },
        "3f3bfc287ea04583b1638821586e153a": {
          "model_module": "@jupyter-widgets/controls",
          "model_name": "HBoxModel",
          "model_module_version": "1.5.0",
          "state": {
            "_dom_classes": [],
            "_model_module": "@jupyter-widgets/controls",
            "_model_module_version": "1.5.0",
            "_model_name": "HBoxModel",
            "_view_count": null,
            "_view_module": "@jupyter-widgets/controls",
            "_view_module_version": "1.5.0",
            "_view_name": "HBoxView",
            "box_style": "",
            "children": [
              "IPY_MODEL_a574a29f4a7d48bd8001848c5e25229c",
              "IPY_MODEL_4eae785db088436d967cff1d3f91d571",
              "IPY_MODEL_f71e31fe418449098216afa7700993b4"
            ],
            "layout": "IPY_MODEL_d886e0c6b8df4a6a97ab5b79b0494cc7"
          }
        },
        "a574a29f4a7d48bd8001848c5e25229c": {
          "model_module": "@jupyter-widgets/controls",
          "model_name": "HTMLModel",
          "model_module_version": "1.5.0",
          "state": {
            "_dom_classes": [],
            "_model_module": "@jupyter-widgets/controls",
            "_model_module_version": "1.5.0",
            "_model_name": "HTMLModel",
            "_view_count": null,
            "_view_module": "@jupyter-widgets/controls",
            "_view_module_version": "1.5.0",
            "_view_name": "HTMLView",
            "description": "",
            "description_tooltip": null,
            "layout": "IPY_MODEL_4473a0706de54e7288f713c3faf483b5",
            "placeholder": "​",
            "style": "IPY_MODEL_e35f32d5a4bf4332a0e616273fe3d975",
            "value": "Downloading: 100%"
          }
        },
        "4eae785db088436d967cff1d3f91d571": {
          "model_module": "@jupyter-widgets/controls",
          "model_name": "FloatProgressModel",
          "model_module_version": "1.5.0",
          "state": {
            "_dom_classes": [],
            "_model_module": "@jupyter-widgets/controls",
            "_model_module_version": "1.5.0",
            "_model_name": "FloatProgressModel",
            "_view_count": null,
            "_view_module": "@jupyter-widgets/controls",
            "_view_module_version": "1.5.0",
            "_view_name": "ProgressView",
            "bar_style": "success",
            "description": "",
            "description_tooltip": null,
            "layout": "IPY_MODEL_a235ac8053d041849978e1cc5c2cc6d1",
            "max": 466247,
            "min": 0,
            "orientation": "horizontal",
            "style": "IPY_MODEL_676df737e3a94cb59227657581d1b512",
            "value": 466247
          }
        },
        "f71e31fe418449098216afa7700993b4": {
          "model_module": "@jupyter-widgets/controls",
          "model_name": "HTMLModel",
          "model_module_version": "1.5.0",
          "state": {
            "_dom_classes": [],
            "_model_module": "@jupyter-widgets/controls",
            "_model_module_version": "1.5.0",
            "_model_name": "HTMLModel",
            "_view_count": null,
            "_view_module": "@jupyter-widgets/controls",
            "_view_module_version": "1.5.0",
            "_view_name": "HTMLView",
            "description": "",
            "description_tooltip": null,
            "layout": "IPY_MODEL_43bfe51b5f5040abb688e37dc65d6c5d",
            "placeholder": "​",
            "style": "IPY_MODEL_cfc742442b6c478d9fa703946fdc255c",
            "value": " 466k/466k [00:00&lt;00:00, 383kB/s]"
          }
        },
        "d886e0c6b8df4a6a97ab5b79b0494cc7": {
          "model_module": "@jupyter-widgets/base",
          "model_name": "LayoutModel",
          "model_module_version": "1.2.0",
          "state": {
            "_model_module": "@jupyter-widgets/base",
            "_model_module_version": "1.2.0",
            "_model_name": "LayoutModel",
            "_view_count": null,
            "_view_module": "@jupyter-widgets/base",
            "_view_module_version": "1.2.0",
            "_view_name": "LayoutView",
            "align_content": null,
            "align_items": null,
            "align_self": null,
            "border": null,
            "bottom": null,
            "display": null,
            "flex": null,
            "flex_flow": null,
            "grid_area": null,
            "grid_auto_columns": null,
            "grid_auto_flow": null,
            "grid_auto_rows": null,
            "grid_column": null,
            "grid_gap": null,
            "grid_row": null,
            "grid_template_areas": null,
            "grid_template_columns": null,
            "grid_template_rows": null,
            "height": null,
            "justify_content": null,
            "justify_items": null,
            "left": null,
            "margin": null,
            "max_height": null,
            "max_width": null,
            "min_height": null,
            "min_width": null,
            "object_fit": null,
            "object_position": null,
            "order": null,
            "overflow": null,
            "overflow_x": null,
            "overflow_y": null,
            "padding": null,
            "right": null,
            "top": null,
            "visibility": null,
            "width": null
          }
        },
        "4473a0706de54e7288f713c3faf483b5": {
          "model_module": "@jupyter-widgets/base",
          "model_name": "LayoutModel",
          "model_module_version": "1.2.0",
          "state": {
            "_model_module": "@jupyter-widgets/base",
            "_model_module_version": "1.2.0",
            "_model_name": "LayoutModel",
            "_view_count": null,
            "_view_module": "@jupyter-widgets/base",
            "_view_module_version": "1.2.0",
            "_view_name": "LayoutView",
            "align_content": null,
            "align_items": null,
            "align_self": null,
            "border": null,
            "bottom": null,
            "display": null,
            "flex": null,
            "flex_flow": null,
            "grid_area": null,
            "grid_auto_columns": null,
            "grid_auto_flow": null,
            "grid_auto_rows": null,
            "grid_column": null,
            "grid_gap": null,
            "grid_row": null,
            "grid_template_areas": null,
            "grid_template_columns": null,
            "grid_template_rows": null,
            "height": null,
            "justify_content": null,
            "justify_items": null,
            "left": null,
            "margin": null,
            "max_height": null,
            "max_width": null,
            "min_height": null,
            "min_width": null,
            "object_fit": null,
            "object_position": null,
            "order": null,
            "overflow": null,
            "overflow_x": null,
            "overflow_y": null,
            "padding": null,
            "right": null,
            "top": null,
            "visibility": null,
            "width": null
          }
        },
        "e35f32d5a4bf4332a0e616273fe3d975": {
          "model_module": "@jupyter-widgets/controls",
          "model_name": "DescriptionStyleModel",
          "model_module_version": "1.5.0",
          "state": {
            "_model_module": "@jupyter-widgets/controls",
            "_model_module_version": "1.5.0",
            "_model_name": "DescriptionStyleModel",
            "_view_count": null,
            "_view_module": "@jupyter-widgets/base",
            "_view_module_version": "1.2.0",
            "_view_name": "StyleView",
            "description_width": ""
          }
        },
        "a235ac8053d041849978e1cc5c2cc6d1": {
          "model_module": "@jupyter-widgets/base",
          "model_name": "LayoutModel",
          "model_module_version": "1.2.0",
          "state": {
            "_model_module": "@jupyter-widgets/base",
            "_model_module_version": "1.2.0",
            "_model_name": "LayoutModel",
            "_view_count": null,
            "_view_module": "@jupyter-widgets/base",
            "_view_module_version": "1.2.0",
            "_view_name": "LayoutView",
            "align_content": null,
            "align_items": null,
            "align_self": null,
            "border": null,
            "bottom": null,
            "display": null,
            "flex": null,
            "flex_flow": null,
            "grid_area": null,
            "grid_auto_columns": null,
            "grid_auto_flow": null,
            "grid_auto_rows": null,
            "grid_column": null,
            "grid_gap": null,
            "grid_row": null,
            "grid_template_areas": null,
            "grid_template_columns": null,
            "grid_template_rows": null,
            "height": null,
            "justify_content": null,
            "justify_items": null,
            "left": null,
            "margin": null,
            "max_height": null,
            "max_width": null,
            "min_height": null,
            "min_width": null,
            "object_fit": null,
            "object_position": null,
            "order": null,
            "overflow": null,
            "overflow_x": null,
            "overflow_y": null,
            "padding": null,
            "right": null,
            "top": null,
            "visibility": null,
            "width": null
          }
        },
        "676df737e3a94cb59227657581d1b512": {
          "model_module": "@jupyter-widgets/controls",
          "model_name": "ProgressStyleModel",
          "model_module_version": "1.5.0",
          "state": {
            "_model_module": "@jupyter-widgets/controls",
            "_model_module_version": "1.5.0",
            "_model_name": "ProgressStyleModel",
            "_view_count": null,
            "_view_module": "@jupyter-widgets/base",
            "_view_module_version": "1.2.0",
            "_view_name": "StyleView",
            "bar_color": null,
            "description_width": ""
          }
        },
        "43bfe51b5f5040abb688e37dc65d6c5d": {
          "model_module": "@jupyter-widgets/base",
          "model_name": "LayoutModel",
          "model_module_version": "1.2.0",
          "state": {
            "_model_module": "@jupyter-widgets/base",
            "_model_module_version": "1.2.0",
            "_model_name": "LayoutModel",
            "_view_count": null,
            "_view_module": "@jupyter-widgets/base",
            "_view_module_version": "1.2.0",
            "_view_name": "LayoutView",
            "align_content": null,
            "align_items": null,
            "align_self": null,
            "border": null,
            "bottom": null,
            "display": null,
            "flex": null,
            "flex_flow": null,
            "grid_area": null,
            "grid_auto_columns": null,
            "grid_auto_flow": null,
            "grid_auto_rows": null,
            "grid_column": null,
            "grid_gap": null,
            "grid_row": null,
            "grid_template_areas": null,
            "grid_template_columns": null,
            "grid_template_rows": null,
            "height": null,
            "justify_content": null,
            "justify_items": null,
            "left": null,
            "margin": null,
            "max_height": null,
            "max_width": null,
            "min_height": null,
            "min_width": null,
            "object_fit": null,
            "object_position": null,
            "order": null,
            "overflow": null,
            "overflow_x": null,
            "overflow_y": null,
            "padding": null,
            "right": null,
            "top": null,
            "visibility": null,
            "width": null
          }
        },
        "cfc742442b6c478d9fa703946fdc255c": {
          "model_module": "@jupyter-widgets/controls",
          "model_name": "DescriptionStyleModel",
          "model_module_version": "1.5.0",
          "state": {
            "_model_module": "@jupyter-widgets/controls",
            "_model_module_version": "1.5.0",
            "_model_name": "DescriptionStyleModel",
            "_view_count": null,
            "_view_module": "@jupyter-widgets/base",
            "_view_module_version": "1.2.0",
            "_view_name": "StyleView",
            "description_width": ""
          }
        },
        "333b1d3bfac2467398150d838296b95e": {
          "model_module": "@jupyter-widgets/controls",
          "model_name": "HBoxModel",
          "model_module_version": "1.5.0",
          "state": {
            "_dom_classes": [],
            "_model_module": "@jupyter-widgets/controls",
            "_model_module_version": "1.5.0",
            "_model_name": "HBoxModel",
            "_view_count": null,
            "_view_module": "@jupyter-widgets/controls",
            "_view_module_version": "1.5.0",
            "_view_name": "HBoxView",
            "box_style": "",
            "children": [
              "IPY_MODEL_9ab5c8a66ba74012854998c946ade0fb",
              "IPY_MODEL_f44c02dd6d4d4df7b4b947d905bb2fcd",
              "IPY_MODEL_73c7e6658dbc4154b1c803749418fdda"
            ],
            "layout": "IPY_MODEL_b662add036d9486fb04c64ddb2715213"
          }
        },
        "9ab5c8a66ba74012854998c946ade0fb": {
          "model_module": "@jupyter-widgets/controls",
          "model_name": "HTMLModel",
          "model_module_version": "1.5.0",
          "state": {
            "_dom_classes": [],
            "_model_module": "@jupyter-widgets/controls",
            "_model_module_version": "1.5.0",
            "_model_name": "HTMLModel",
            "_view_count": null,
            "_view_module": "@jupyter-widgets/controls",
            "_view_module_version": "1.5.0",
            "_view_name": "HTMLView",
            "description": "",
            "description_tooltip": null,
            "layout": "IPY_MODEL_376460bd28c8462a969007ae739d3a2f",
            "placeholder": "​",
            "style": "IPY_MODEL_36f19fdf50af4b2d99a6590d6564efb6",
            "value": "Downloading: 100%"
          }
        },
        "f44c02dd6d4d4df7b4b947d905bb2fcd": {
          "model_module": "@jupyter-widgets/controls",
          "model_name": "FloatProgressModel",
          "model_module_version": "1.5.0",
          "state": {
            "_dom_classes": [],
            "_model_module": "@jupyter-widgets/controls",
            "_model_module_version": "1.5.0",
            "_model_name": "FloatProgressModel",
            "_view_count": null,
            "_view_module": "@jupyter-widgets/controls",
            "_view_module_version": "1.5.0",
            "_view_name": "ProgressView",
            "bar_style": "success",
            "description": "",
            "description_tooltip": null,
            "layout": "IPY_MODEL_55f012d498ac401298b134588a3b611f",
            "max": 350,
            "min": 0,
            "orientation": "horizontal",
            "style": "IPY_MODEL_cbb4b34078584018889b5c3ec52fb217",
            "value": 350
          }
        },
        "73c7e6658dbc4154b1c803749418fdda": {
          "model_module": "@jupyter-widgets/controls",
          "model_name": "HTMLModel",
          "model_module_version": "1.5.0",
          "state": {
            "_dom_classes": [],
            "_model_module": "@jupyter-widgets/controls",
            "_model_module_version": "1.5.0",
            "_model_name": "HTMLModel",
            "_view_count": null,
            "_view_module": "@jupyter-widgets/controls",
            "_view_module_version": "1.5.0",
            "_view_name": "HTMLView",
            "description": "",
            "description_tooltip": null,
            "layout": "IPY_MODEL_67b9751a69874c17bfed95df94e5554a",
            "placeholder": "​",
            "style": "IPY_MODEL_8cba199a339f4b4ca7a5036ad2256eac",
            "value": " 350/350 [00:00&lt;00:00, 2.51kB/s]"
          }
        },
        "b662add036d9486fb04c64ddb2715213": {
          "model_module": "@jupyter-widgets/base",
          "model_name": "LayoutModel",
          "model_module_version": "1.2.0",
          "state": {
            "_model_module": "@jupyter-widgets/base",
            "_model_module_version": "1.2.0",
            "_model_name": "LayoutModel",
            "_view_count": null,
            "_view_module": "@jupyter-widgets/base",
            "_view_module_version": "1.2.0",
            "_view_name": "LayoutView",
            "align_content": null,
            "align_items": null,
            "align_self": null,
            "border": null,
            "bottom": null,
            "display": null,
            "flex": null,
            "flex_flow": null,
            "grid_area": null,
            "grid_auto_columns": null,
            "grid_auto_flow": null,
            "grid_auto_rows": null,
            "grid_column": null,
            "grid_gap": null,
            "grid_row": null,
            "grid_template_areas": null,
            "grid_template_columns": null,
            "grid_template_rows": null,
            "height": null,
            "justify_content": null,
            "justify_items": null,
            "left": null,
            "margin": null,
            "max_height": null,
            "max_width": null,
            "min_height": null,
            "min_width": null,
            "object_fit": null,
            "object_position": null,
            "order": null,
            "overflow": null,
            "overflow_x": null,
            "overflow_y": null,
            "padding": null,
            "right": null,
            "top": null,
            "visibility": null,
            "width": null
          }
        },
        "376460bd28c8462a969007ae739d3a2f": {
          "model_module": "@jupyter-widgets/base",
          "model_name": "LayoutModel",
          "model_module_version": "1.2.0",
          "state": {
            "_model_module": "@jupyter-widgets/base",
            "_model_module_version": "1.2.0",
            "_model_name": "LayoutModel",
            "_view_count": null,
            "_view_module": "@jupyter-widgets/base",
            "_view_module_version": "1.2.0",
            "_view_name": "LayoutView",
            "align_content": null,
            "align_items": null,
            "align_self": null,
            "border": null,
            "bottom": null,
            "display": null,
            "flex": null,
            "flex_flow": null,
            "grid_area": null,
            "grid_auto_columns": null,
            "grid_auto_flow": null,
            "grid_auto_rows": null,
            "grid_column": null,
            "grid_gap": null,
            "grid_row": null,
            "grid_template_areas": null,
            "grid_template_columns": null,
            "grid_template_rows": null,
            "height": null,
            "justify_content": null,
            "justify_items": null,
            "left": null,
            "margin": null,
            "max_height": null,
            "max_width": null,
            "min_height": null,
            "min_width": null,
            "object_fit": null,
            "object_position": null,
            "order": null,
            "overflow": null,
            "overflow_x": null,
            "overflow_y": null,
            "padding": null,
            "right": null,
            "top": null,
            "visibility": null,
            "width": null
          }
        },
        "36f19fdf50af4b2d99a6590d6564efb6": {
          "model_module": "@jupyter-widgets/controls",
          "model_name": "DescriptionStyleModel",
          "model_module_version": "1.5.0",
          "state": {
            "_model_module": "@jupyter-widgets/controls",
            "_model_module_version": "1.5.0",
            "_model_name": "DescriptionStyleModel",
            "_view_count": null,
            "_view_module": "@jupyter-widgets/base",
            "_view_module_version": "1.2.0",
            "_view_name": "StyleView",
            "description_width": ""
          }
        },
        "55f012d498ac401298b134588a3b611f": {
          "model_module": "@jupyter-widgets/base",
          "model_name": "LayoutModel",
          "model_module_version": "1.2.0",
          "state": {
            "_model_module": "@jupyter-widgets/base",
            "_model_module_version": "1.2.0",
            "_model_name": "LayoutModel",
            "_view_count": null,
            "_view_module": "@jupyter-widgets/base",
            "_view_module_version": "1.2.0",
            "_view_name": "LayoutView",
            "align_content": null,
            "align_items": null,
            "align_self": null,
            "border": null,
            "bottom": null,
            "display": null,
            "flex": null,
            "flex_flow": null,
            "grid_area": null,
            "grid_auto_columns": null,
            "grid_auto_flow": null,
            "grid_auto_rows": null,
            "grid_column": null,
            "grid_gap": null,
            "grid_row": null,
            "grid_template_areas": null,
            "grid_template_columns": null,
            "grid_template_rows": null,
            "height": null,
            "justify_content": null,
            "justify_items": null,
            "left": null,
            "margin": null,
            "max_height": null,
            "max_width": null,
            "min_height": null,
            "min_width": null,
            "object_fit": null,
            "object_position": null,
            "order": null,
            "overflow": null,
            "overflow_x": null,
            "overflow_y": null,
            "padding": null,
            "right": null,
            "top": null,
            "visibility": null,
            "width": null
          }
        },
        "cbb4b34078584018889b5c3ec52fb217": {
          "model_module": "@jupyter-widgets/controls",
          "model_name": "ProgressStyleModel",
          "model_module_version": "1.5.0",
          "state": {
            "_model_module": "@jupyter-widgets/controls",
            "_model_module_version": "1.5.0",
            "_model_name": "ProgressStyleModel",
            "_view_count": null,
            "_view_module": "@jupyter-widgets/base",
            "_view_module_version": "1.2.0",
            "_view_name": "StyleView",
            "bar_color": null,
            "description_width": ""
          }
        },
        "67b9751a69874c17bfed95df94e5554a": {
          "model_module": "@jupyter-widgets/base",
          "model_name": "LayoutModel",
          "model_module_version": "1.2.0",
          "state": {
            "_model_module": "@jupyter-widgets/base",
            "_model_module_version": "1.2.0",
            "_model_name": "LayoutModel",
            "_view_count": null,
            "_view_module": "@jupyter-widgets/base",
            "_view_module_version": "1.2.0",
            "_view_name": "LayoutView",
            "align_content": null,
            "align_items": null,
            "align_self": null,
            "border": null,
            "bottom": null,
            "display": null,
            "flex": null,
            "flex_flow": null,
            "grid_area": null,
            "grid_auto_columns": null,
            "grid_auto_flow": null,
            "grid_auto_rows": null,
            "grid_column": null,
            "grid_gap": null,
            "grid_row": null,
            "grid_template_areas": null,
            "grid_template_columns": null,
            "grid_template_rows": null,
            "height": null,
            "justify_content": null,
            "justify_items": null,
            "left": null,
            "margin": null,
            "max_height": null,
            "max_width": null,
            "min_height": null,
            "min_width": null,
            "object_fit": null,
            "object_position": null,
            "order": null,
            "overflow": null,
            "overflow_x": null,
            "overflow_y": null,
            "padding": null,
            "right": null,
            "top": null,
            "visibility": null,
            "width": null
          }
        },
        "8cba199a339f4b4ca7a5036ad2256eac": {
          "model_module": "@jupyter-widgets/controls",
          "model_name": "DescriptionStyleModel",
          "model_module_version": "1.5.0",
          "state": {
            "_model_module": "@jupyter-widgets/controls",
            "_model_module_version": "1.5.0",
            "_model_name": "DescriptionStyleModel",
            "_view_count": null,
            "_view_module": "@jupyter-widgets/base",
            "_view_module_version": "1.2.0",
            "_view_name": "StyleView",
            "description_width": ""
          }
        },
        "240a4a0d6d0b429faef8b27464e94c2d": {
          "model_module": "@jupyter-widgets/controls",
          "model_name": "HBoxModel",
          "model_module_version": "1.5.0",
          "state": {
            "_dom_classes": [],
            "_model_module": "@jupyter-widgets/controls",
            "_model_module_version": "1.5.0",
            "_model_name": "HBoxModel",
            "_view_count": null,
            "_view_module": "@jupyter-widgets/controls",
            "_view_module_version": "1.5.0",
            "_view_name": "HBoxView",
            "box_style": "",
            "children": [
              "IPY_MODEL_8cfd04cf6e8b49f1a46edcfd8e6bd180",
              "IPY_MODEL_0854113613494f6fbe95243f24ed5924",
              "IPY_MODEL_630091b4aff343cdaa00bb44a92d804b"
            ],
            "layout": "IPY_MODEL_adbc563c7f1147bba9b700092066edea"
          }
        },
        "8cfd04cf6e8b49f1a46edcfd8e6bd180": {
          "model_module": "@jupyter-widgets/controls",
          "model_name": "HTMLModel",
          "model_module_version": "1.5.0",
          "state": {
            "_dom_classes": [],
            "_model_module": "@jupyter-widgets/controls",
            "_model_module_version": "1.5.0",
            "_model_name": "HTMLModel",
            "_view_count": null,
            "_view_module": "@jupyter-widgets/controls",
            "_view_module_version": "1.5.0",
            "_view_name": "HTMLView",
            "description": "",
            "description_tooltip": null,
            "layout": "IPY_MODEL_94e791eff08c4aafa87af3b97ef208db",
            "placeholder": "​",
            "style": "IPY_MODEL_22bc0f59f2c94de291f7acda621b1c20",
            "value": "Downloading: 100%"
          }
        },
        "0854113613494f6fbe95243f24ed5924": {
          "model_module": "@jupyter-widgets/controls",
          "model_name": "FloatProgressModel",
          "model_module_version": "1.5.0",
          "state": {
            "_dom_classes": [],
            "_model_module": "@jupyter-widgets/controls",
            "_model_module_version": "1.5.0",
            "_model_name": "FloatProgressModel",
            "_view_count": null,
            "_view_module": "@jupyter-widgets/controls",
            "_view_module_version": "1.5.0",
            "_view_name": "ProgressView",
            "bar_style": "success",
            "description": "",
            "description_tooltip": null,
            "layout": "IPY_MODEL_f5f8dcb07b6244f8a442922038a42a11",
            "max": 13156,
            "min": 0,
            "orientation": "horizontal",
            "style": "IPY_MODEL_a5c8e969b3ed45978dee635b975d5812",
            "value": 13156
          }
        },
        "630091b4aff343cdaa00bb44a92d804b": {
          "model_module": "@jupyter-widgets/controls",
          "model_name": "HTMLModel",
          "model_module_version": "1.5.0",
          "state": {
            "_dom_classes": [],
            "_model_module": "@jupyter-widgets/controls",
            "_model_module_version": "1.5.0",
            "_model_name": "HTMLModel",
            "_view_count": null,
            "_view_module": "@jupyter-widgets/controls",
            "_view_module_version": "1.5.0",
            "_view_name": "HTMLView",
            "description": "",
            "description_tooltip": null,
            "layout": "IPY_MODEL_423484621dfa46a2a2919da8763233b8",
            "placeholder": "​",
            "style": "IPY_MODEL_894a126819504af7960b664c1873777b",
            "value": " 13.2k/13.2k [00:00&lt;00:00, 7.39kB/s]"
          }
        },
        "adbc563c7f1147bba9b700092066edea": {
          "model_module": "@jupyter-widgets/base",
          "model_name": "LayoutModel",
          "model_module_version": "1.2.0",
          "state": {
            "_model_module": "@jupyter-widgets/base",
            "_model_module_version": "1.2.0",
            "_model_name": "LayoutModel",
            "_view_count": null,
            "_view_module": "@jupyter-widgets/base",
            "_view_module_version": "1.2.0",
            "_view_name": "LayoutView",
            "align_content": null,
            "align_items": null,
            "align_self": null,
            "border": null,
            "bottom": null,
            "display": null,
            "flex": null,
            "flex_flow": null,
            "grid_area": null,
            "grid_auto_columns": null,
            "grid_auto_flow": null,
            "grid_auto_rows": null,
            "grid_column": null,
            "grid_gap": null,
            "grid_row": null,
            "grid_template_areas": null,
            "grid_template_columns": null,
            "grid_template_rows": null,
            "height": null,
            "justify_content": null,
            "justify_items": null,
            "left": null,
            "margin": null,
            "max_height": null,
            "max_width": null,
            "min_height": null,
            "min_width": null,
            "object_fit": null,
            "object_position": null,
            "order": null,
            "overflow": null,
            "overflow_x": null,
            "overflow_y": null,
            "padding": null,
            "right": null,
            "top": null,
            "visibility": null,
            "width": null
          }
        },
        "94e791eff08c4aafa87af3b97ef208db": {
          "model_module": "@jupyter-widgets/base",
          "model_name": "LayoutModel",
          "model_module_version": "1.2.0",
          "state": {
            "_model_module": "@jupyter-widgets/base",
            "_model_module_version": "1.2.0",
            "_model_name": "LayoutModel",
            "_view_count": null,
            "_view_module": "@jupyter-widgets/base",
            "_view_module_version": "1.2.0",
            "_view_name": "LayoutView",
            "align_content": null,
            "align_items": null,
            "align_self": null,
            "border": null,
            "bottom": null,
            "display": null,
            "flex": null,
            "flex_flow": null,
            "grid_area": null,
            "grid_auto_columns": null,
            "grid_auto_flow": null,
            "grid_auto_rows": null,
            "grid_column": null,
            "grid_gap": null,
            "grid_row": null,
            "grid_template_areas": null,
            "grid_template_columns": null,
            "grid_template_rows": null,
            "height": null,
            "justify_content": null,
            "justify_items": null,
            "left": null,
            "margin": null,
            "max_height": null,
            "max_width": null,
            "min_height": null,
            "min_width": null,
            "object_fit": null,
            "object_position": null,
            "order": null,
            "overflow": null,
            "overflow_x": null,
            "overflow_y": null,
            "padding": null,
            "right": null,
            "top": null,
            "visibility": null,
            "width": null
          }
        },
        "22bc0f59f2c94de291f7acda621b1c20": {
          "model_module": "@jupyter-widgets/controls",
          "model_name": "DescriptionStyleModel",
          "model_module_version": "1.5.0",
          "state": {
            "_model_module": "@jupyter-widgets/controls",
            "_model_module_version": "1.5.0",
            "_model_name": "DescriptionStyleModel",
            "_view_count": null,
            "_view_module": "@jupyter-widgets/base",
            "_view_module_version": "1.2.0",
            "_view_name": "StyleView",
            "description_width": ""
          }
        },
        "f5f8dcb07b6244f8a442922038a42a11": {
          "model_module": "@jupyter-widgets/base",
          "model_name": "LayoutModel",
          "model_module_version": "1.2.0",
          "state": {
            "_model_module": "@jupyter-widgets/base",
            "_model_module_version": "1.2.0",
            "_model_name": "LayoutModel",
            "_view_count": null,
            "_view_module": "@jupyter-widgets/base",
            "_view_module_version": "1.2.0",
            "_view_name": "LayoutView",
            "align_content": null,
            "align_items": null,
            "align_self": null,
            "border": null,
            "bottom": null,
            "display": null,
            "flex": null,
            "flex_flow": null,
            "grid_area": null,
            "grid_auto_columns": null,
            "grid_auto_flow": null,
            "grid_auto_rows": null,
            "grid_column": null,
            "grid_gap": null,
            "grid_row": null,
            "grid_template_areas": null,
            "grid_template_columns": null,
            "grid_template_rows": null,
            "height": null,
            "justify_content": null,
            "justify_items": null,
            "left": null,
            "margin": null,
            "max_height": null,
            "max_width": null,
            "min_height": null,
            "min_width": null,
            "object_fit": null,
            "object_position": null,
            "order": null,
            "overflow": null,
            "overflow_x": null,
            "overflow_y": null,
            "padding": null,
            "right": null,
            "top": null,
            "visibility": null,
            "width": null
          }
        },
        "a5c8e969b3ed45978dee635b975d5812": {
          "model_module": "@jupyter-widgets/controls",
          "model_name": "ProgressStyleModel",
          "model_module_version": "1.5.0",
          "state": {
            "_model_module": "@jupyter-widgets/controls",
            "_model_module_version": "1.5.0",
            "_model_name": "ProgressStyleModel",
            "_view_count": null,
            "_view_module": "@jupyter-widgets/base",
            "_view_module_version": "1.2.0",
            "_view_name": "StyleView",
            "bar_color": null,
            "description_width": ""
          }
        },
        "423484621dfa46a2a2919da8763233b8": {
          "model_module": "@jupyter-widgets/base",
          "model_name": "LayoutModel",
          "model_module_version": "1.2.0",
          "state": {
            "_model_module": "@jupyter-widgets/base",
            "_model_module_version": "1.2.0",
            "_model_name": "LayoutModel",
            "_view_count": null,
            "_view_module": "@jupyter-widgets/base",
            "_view_module_version": "1.2.0",
            "_view_name": "LayoutView",
            "align_content": null,
            "align_items": null,
            "align_self": null,
            "border": null,
            "bottom": null,
            "display": null,
            "flex": null,
            "flex_flow": null,
            "grid_area": null,
            "grid_auto_columns": null,
            "grid_auto_flow": null,
            "grid_auto_rows": null,
            "grid_column": null,
            "grid_gap": null,
            "grid_row": null,
            "grid_template_areas": null,
            "grid_template_columns": null,
            "grid_template_rows": null,
            "height": null,
            "justify_content": null,
            "justify_items": null,
            "left": null,
            "margin": null,
            "max_height": null,
            "max_width": null,
            "min_height": null,
            "min_width": null,
            "object_fit": null,
            "object_position": null,
            "order": null,
            "overflow": null,
            "overflow_x": null,
            "overflow_y": null,
            "padding": null,
            "right": null,
            "top": null,
            "visibility": null,
            "width": null
          }
        },
        "894a126819504af7960b664c1873777b": {
          "model_module": "@jupyter-widgets/controls",
          "model_name": "DescriptionStyleModel",
          "model_module_version": "1.5.0",
          "state": {
            "_model_module": "@jupyter-widgets/controls",
            "_model_module_version": "1.5.0",
            "_model_name": "DescriptionStyleModel",
            "_view_count": null,
            "_view_module": "@jupyter-widgets/base",
            "_view_module_version": "1.2.0",
            "_view_name": "StyleView",
            "description_width": ""
          }
        },
        "0db3eff5db95445e93b2ac136231cc0b": {
          "model_module": "@jupyter-widgets/controls",
          "model_name": "HBoxModel",
          "model_module_version": "1.5.0",
          "state": {
            "_dom_classes": [],
            "_model_module": "@jupyter-widgets/controls",
            "_model_module_version": "1.5.0",
            "_model_name": "HBoxModel",
            "_view_count": null,
            "_view_module": "@jupyter-widgets/controls",
            "_view_module_version": "1.5.0",
            "_view_name": "HBoxView",
            "box_style": "",
            "children": [
              "IPY_MODEL_d1eab2ca68cc487ab5d3035104f8362a",
              "IPY_MODEL_8efb34cdda094978b422514515bd8b26",
              "IPY_MODEL_2914a45c1e9647d1ae87da07766459bd"
            ],
            "layout": "IPY_MODEL_7fd83e3bfa0540b5893f539cb703feac"
          }
        },
        "d1eab2ca68cc487ab5d3035104f8362a": {
          "model_module": "@jupyter-widgets/controls",
          "model_name": "HTMLModel",
          "model_module_version": "1.5.0",
          "state": {
            "_dom_classes": [],
            "_model_module": "@jupyter-widgets/controls",
            "_model_module_version": "1.5.0",
            "_model_name": "HTMLModel",
            "_view_count": null,
            "_view_module": "@jupyter-widgets/controls",
            "_view_module_version": "1.5.0",
            "_view_name": "HTMLView",
            "description": "",
            "description_tooltip": null,
            "layout": "IPY_MODEL_9de81ddb6ce9400c8e5f525785a9b47f",
            "placeholder": "​",
            "style": "IPY_MODEL_bd54a7c4bff24d55ac5930ac3d0bece4",
            "value": "Downloading: 100%"
          }
        },
        "8efb34cdda094978b422514515bd8b26": {
          "model_module": "@jupyter-widgets/controls",
          "model_name": "FloatProgressModel",
          "model_module_version": "1.5.0",
          "state": {
            "_dom_classes": [],
            "_model_module": "@jupyter-widgets/controls",
            "_model_module_version": "1.5.0",
            "_model_name": "FloatProgressModel",
            "_view_count": null,
            "_view_module": "@jupyter-widgets/controls",
            "_view_module_version": "1.5.0",
            "_view_name": "ProgressView",
            "bar_style": "success",
            "description": "",
            "description_tooltip": null,
            "layout": "IPY_MODEL_6e8f51a2c690427cb1e0a795fd0c919c",
            "max": 231508,
            "min": 0,
            "orientation": "horizontal",
            "style": "IPY_MODEL_e6b424dfce984ed1a2cf025ecabf988d",
            "value": 231508
          }
        },
        "2914a45c1e9647d1ae87da07766459bd": {
          "model_module": "@jupyter-widgets/controls",
          "model_name": "HTMLModel",
          "model_module_version": "1.5.0",
          "state": {
            "_dom_classes": [],
            "_model_module": "@jupyter-widgets/controls",
            "_model_module_version": "1.5.0",
            "_model_name": "HTMLModel",
            "_view_count": null,
            "_view_module": "@jupyter-widgets/controls",
            "_view_module_version": "1.5.0",
            "_view_name": "HTMLView",
            "description": "",
            "description_tooltip": null,
            "layout": "IPY_MODEL_18a038163bb8459395ebab7697994801",
            "placeholder": "​",
            "style": "IPY_MODEL_58a3f10ccf124dc2b8715b8a561714a4",
            "value": " 232k/232k [00:00&lt;00:00, 321kB/s]"
          }
        },
        "7fd83e3bfa0540b5893f539cb703feac": {
          "model_module": "@jupyter-widgets/base",
          "model_name": "LayoutModel",
          "model_module_version": "1.2.0",
          "state": {
            "_model_module": "@jupyter-widgets/base",
            "_model_module_version": "1.2.0",
            "_model_name": "LayoutModel",
            "_view_count": null,
            "_view_module": "@jupyter-widgets/base",
            "_view_module_version": "1.2.0",
            "_view_name": "LayoutView",
            "align_content": null,
            "align_items": null,
            "align_self": null,
            "border": null,
            "bottom": null,
            "display": null,
            "flex": null,
            "flex_flow": null,
            "grid_area": null,
            "grid_auto_columns": null,
            "grid_auto_flow": null,
            "grid_auto_rows": null,
            "grid_column": null,
            "grid_gap": null,
            "grid_row": null,
            "grid_template_areas": null,
            "grid_template_columns": null,
            "grid_template_rows": null,
            "height": null,
            "justify_content": null,
            "justify_items": null,
            "left": null,
            "margin": null,
            "max_height": null,
            "max_width": null,
            "min_height": null,
            "min_width": null,
            "object_fit": null,
            "object_position": null,
            "order": null,
            "overflow": null,
            "overflow_x": null,
            "overflow_y": null,
            "padding": null,
            "right": null,
            "top": null,
            "visibility": null,
            "width": null
          }
        },
        "9de81ddb6ce9400c8e5f525785a9b47f": {
          "model_module": "@jupyter-widgets/base",
          "model_name": "LayoutModel",
          "model_module_version": "1.2.0",
          "state": {
            "_model_module": "@jupyter-widgets/base",
            "_model_module_version": "1.2.0",
            "_model_name": "LayoutModel",
            "_view_count": null,
            "_view_module": "@jupyter-widgets/base",
            "_view_module_version": "1.2.0",
            "_view_name": "LayoutView",
            "align_content": null,
            "align_items": null,
            "align_self": null,
            "border": null,
            "bottom": null,
            "display": null,
            "flex": null,
            "flex_flow": null,
            "grid_area": null,
            "grid_auto_columns": null,
            "grid_auto_flow": null,
            "grid_auto_rows": null,
            "grid_column": null,
            "grid_gap": null,
            "grid_row": null,
            "grid_template_areas": null,
            "grid_template_columns": null,
            "grid_template_rows": null,
            "height": null,
            "justify_content": null,
            "justify_items": null,
            "left": null,
            "margin": null,
            "max_height": null,
            "max_width": null,
            "min_height": null,
            "min_width": null,
            "object_fit": null,
            "object_position": null,
            "order": null,
            "overflow": null,
            "overflow_x": null,
            "overflow_y": null,
            "padding": null,
            "right": null,
            "top": null,
            "visibility": null,
            "width": null
          }
        },
        "bd54a7c4bff24d55ac5930ac3d0bece4": {
          "model_module": "@jupyter-widgets/controls",
          "model_name": "DescriptionStyleModel",
          "model_module_version": "1.5.0",
          "state": {
            "_model_module": "@jupyter-widgets/controls",
            "_model_module_version": "1.5.0",
            "_model_name": "DescriptionStyleModel",
            "_view_count": null,
            "_view_module": "@jupyter-widgets/base",
            "_view_module_version": "1.2.0",
            "_view_name": "StyleView",
            "description_width": ""
          }
        },
        "6e8f51a2c690427cb1e0a795fd0c919c": {
          "model_module": "@jupyter-widgets/base",
          "model_name": "LayoutModel",
          "model_module_version": "1.2.0",
          "state": {
            "_model_module": "@jupyter-widgets/base",
            "_model_module_version": "1.2.0",
            "_model_name": "LayoutModel",
            "_view_count": null,
            "_view_module": "@jupyter-widgets/base",
            "_view_module_version": "1.2.0",
            "_view_name": "LayoutView",
            "align_content": null,
            "align_items": null,
            "align_self": null,
            "border": null,
            "bottom": null,
            "display": null,
            "flex": null,
            "flex_flow": null,
            "grid_area": null,
            "grid_auto_columns": null,
            "grid_auto_flow": null,
            "grid_auto_rows": null,
            "grid_column": null,
            "grid_gap": null,
            "grid_row": null,
            "grid_template_areas": null,
            "grid_template_columns": null,
            "grid_template_rows": null,
            "height": null,
            "justify_content": null,
            "justify_items": null,
            "left": null,
            "margin": null,
            "max_height": null,
            "max_width": null,
            "min_height": null,
            "min_width": null,
            "object_fit": null,
            "object_position": null,
            "order": null,
            "overflow": null,
            "overflow_x": null,
            "overflow_y": null,
            "padding": null,
            "right": null,
            "top": null,
            "visibility": null,
            "width": null
          }
        },
        "e6b424dfce984ed1a2cf025ecabf988d": {
          "model_module": "@jupyter-widgets/controls",
          "model_name": "ProgressStyleModel",
          "model_module_version": "1.5.0",
          "state": {
            "_model_module": "@jupyter-widgets/controls",
            "_model_module_version": "1.5.0",
            "_model_name": "ProgressStyleModel",
            "_view_count": null,
            "_view_module": "@jupyter-widgets/base",
            "_view_module_version": "1.2.0",
            "_view_name": "StyleView",
            "bar_color": null,
            "description_width": ""
          }
        },
        "18a038163bb8459395ebab7697994801": {
          "model_module": "@jupyter-widgets/base",
          "model_name": "LayoutModel",
          "model_module_version": "1.2.0",
          "state": {
            "_model_module": "@jupyter-widgets/base",
            "_model_module_version": "1.2.0",
            "_model_name": "LayoutModel",
            "_view_count": null,
            "_view_module": "@jupyter-widgets/base",
            "_view_module_version": "1.2.0",
            "_view_name": "LayoutView",
            "align_content": null,
            "align_items": null,
            "align_self": null,
            "border": null,
            "bottom": null,
            "display": null,
            "flex": null,
            "flex_flow": null,
            "grid_area": null,
            "grid_auto_columns": null,
            "grid_auto_flow": null,
            "grid_auto_rows": null,
            "grid_column": null,
            "grid_gap": null,
            "grid_row": null,
            "grid_template_areas": null,
            "grid_template_columns": null,
            "grid_template_rows": null,
            "height": null,
            "justify_content": null,
            "justify_items": null,
            "left": null,
            "margin": null,
            "max_height": null,
            "max_width": null,
            "min_height": null,
            "min_width": null,
            "object_fit": null,
            "object_position": null,
            "order": null,
            "overflow": null,
            "overflow_x": null,
            "overflow_y": null,
            "padding": null,
            "right": null,
            "top": null,
            "visibility": null,
            "width": null
          }
        },
        "58a3f10ccf124dc2b8715b8a561714a4": {
          "model_module": "@jupyter-widgets/controls",
          "model_name": "DescriptionStyleModel",
          "model_module_version": "1.5.0",
          "state": {
            "_model_module": "@jupyter-widgets/controls",
            "_model_module_version": "1.5.0",
            "_model_name": "DescriptionStyleModel",
            "_view_count": null,
            "_view_module": "@jupyter-widgets/base",
            "_view_module_version": "1.2.0",
            "_view_name": "StyleView",
            "description_width": ""
          }
        }
      }
    }
  },
  "nbformat": 4,
  "nbformat_minor": 0
}